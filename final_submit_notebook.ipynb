{
 "cells": [
  {
   "cell_type": "markdown",
   "metadata": {},
   "source": [
    "# Sentiment based product recommendation system"
   ]
  },
  {
   "cell_type": "markdown",
   "metadata": {},
   "source": [
    "## STEP 1: Trained NLP model for sentiment analysis"
   ]
  },
  {
   "cell_type": "markdown",
   "metadata": {},
   "source": [
    "### Data understanding\n",
    "\n",
    "#### Import the libraries"
   ]
  },
  {
   "cell_type": "code",
   "execution_count": 1,
   "metadata": {
    "_cell_guid": "b1076dfc-b9ad-4769-8c92-a6c4dae69d19",
    "_uuid": "8f2839f25d086af736a60e9eeb907d3b93b6e0e5",
    "execution": {
     "iopub.execute_input": "2025-04-27T13:49:08.076451Z",
     "iopub.status.busy": "2025-04-27T13:49:08.075715Z",
     "iopub.status.idle": "2025-04-27T13:49:09.940441Z",
     "shell.execute_reply": "2025-04-27T13:49:09.939702Z",
     "shell.execute_reply.started": "2025-04-27T13:49:08.076424Z"
    },
    "trusted": true
   },
   "outputs": [],
   "source": [
    "import random\n",
    "import string\n",
    "import nltk\n",
    "import pandas as pd\n",
    "import numpy as np\n",
    "from nltk.tokenize import word_tokenize\n",
    "from nltk.corpus import stopwords\n",
    "from nltk.stem.porter import PorterStemmer\n",
    "from nltk.stem import WordNetLemmatizer\n",
    "import seaborn as sns\n",
    "import matplotlib.pyplot as plt"
   ]
  },
  {
   "cell_type": "code",
   "execution_count": 2,
   "metadata": {
    "execution": {
     "iopub.execute_input": "2025-04-27T13:49:09.942190Z",
     "iopub.status.busy": "2025-04-27T13:49:09.941597Z",
     "iopub.status.idle": "2025-04-27T13:49:10.290518Z",
     "shell.execute_reply": "2025-04-27T13:49:10.289941Z",
     "shell.execute_reply.started": "2025-04-27T13:49:09.942170Z"
    },
    "trusted": true
   },
   "outputs": [
    {
     "data": {
      "text/html": [
       "<div>\n",
       "<style scoped>\n",
       "    .dataframe tbody tr th:only-of-type {\n",
       "        vertical-align: middle;\n",
       "    }\n",
       "\n",
       "    .dataframe tbody tr th {\n",
       "        vertical-align: top;\n",
       "    }\n",
       "\n",
       "    .dataframe thead th {\n",
       "        text-align: right;\n",
       "    }\n",
       "</style>\n",
       "<table border=\"1\" class=\"dataframe\">\n",
       "  <thead>\n",
       "    <tr style=\"text-align: right;\">\n",
       "      <th></th>\n",
       "      <th>id</th>\n",
       "      <th>brand</th>\n",
       "      <th>categories</th>\n",
       "      <th>manufacturer</th>\n",
       "      <th>name</th>\n",
       "      <th>reviews_date</th>\n",
       "      <th>reviews_didPurchase</th>\n",
       "      <th>reviews_doRecommend</th>\n",
       "      <th>reviews_rating</th>\n",
       "      <th>reviews_text</th>\n",
       "      <th>reviews_title</th>\n",
       "      <th>reviews_userCity</th>\n",
       "      <th>reviews_userProvince</th>\n",
       "      <th>reviews_username</th>\n",
       "      <th>user_sentiment</th>\n",
       "    </tr>\n",
       "  </thead>\n",
       "  <tbody>\n",
       "    <tr>\n",
       "      <th>0</th>\n",
       "      <td>AV13O1A8GV-KLJ3akUyj</td>\n",
       "      <td>Universal Music</td>\n",
       "      <td>Movies, Music &amp; Books,Music,R&amp;b,Movies &amp; TV,Mo...</td>\n",
       "      <td>Universal Music Group / Cash Money</td>\n",
       "      <td>Pink Friday: Roman Reloaded Re-Up (w/dvd)</td>\n",
       "      <td>2012-11-30T06:21:45.000Z</td>\n",
       "      <td>NaN</td>\n",
       "      <td>NaN</td>\n",
       "      <td>5</td>\n",
       "      <td>i love this album. it's very good. more to the...</td>\n",
       "      <td>Just Awesome</td>\n",
       "      <td>Los Angeles</td>\n",
       "      <td>NaN</td>\n",
       "      <td>joshua</td>\n",
       "      <td>Positive</td>\n",
       "    </tr>\n",
       "    <tr>\n",
       "      <th>1</th>\n",
       "      <td>AV14LG0R-jtxr-f38QfS</td>\n",
       "      <td>Lundberg</td>\n",
       "      <td>Food,Packaged Foods,Snacks,Crackers,Snacks, Co...</td>\n",
       "      <td>Lundberg</td>\n",
       "      <td>Lundberg Organic Cinnamon Toast Rice Cakes</td>\n",
       "      <td>2017-07-09T00:00:00.000Z</td>\n",
       "      <td>True</td>\n",
       "      <td>NaN</td>\n",
       "      <td>5</td>\n",
       "      <td>Good flavor. This review was collected as part...</td>\n",
       "      <td>Good</td>\n",
       "      <td>NaN</td>\n",
       "      <td>NaN</td>\n",
       "      <td>dorothy w</td>\n",
       "      <td>Positive</td>\n",
       "    </tr>\n",
       "    <tr>\n",
       "      <th>2</th>\n",
       "      <td>AV14LG0R-jtxr-f38QfS</td>\n",
       "      <td>Lundberg</td>\n",
       "      <td>Food,Packaged Foods,Snacks,Crackers,Snacks, Co...</td>\n",
       "      <td>Lundberg</td>\n",
       "      <td>Lundberg Organic Cinnamon Toast Rice Cakes</td>\n",
       "      <td>2017-07-09T00:00:00.000Z</td>\n",
       "      <td>True</td>\n",
       "      <td>NaN</td>\n",
       "      <td>5</td>\n",
       "      <td>Good flavor.</td>\n",
       "      <td>Good</td>\n",
       "      <td>NaN</td>\n",
       "      <td>NaN</td>\n",
       "      <td>dorothy w</td>\n",
       "      <td>Positive</td>\n",
       "    </tr>\n",
       "    <tr>\n",
       "      <th>3</th>\n",
       "      <td>AV16khLE-jtxr-f38VFn</td>\n",
       "      <td>K-Y</td>\n",
       "      <td>Personal Care,Medicine Cabinet,Lubricant/Sperm...</td>\n",
       "      <td>K-Y</td>\n",
       "      <td>K-Y Love Sensuality Pleasure Gel</td>\n",
       "      <td>2016-01-06T00:00:00.000Z</td>\n",
       "      <td>False</td>\n",
       "      <td>False</td>\n",
       "      <td>1</td>\n",
       "      <td>I read through the reviews on here before look...</td>\n",
       "      <td>Disappointed</td>\n",
       "      <td>NaN</td>\n",
       "      <td>NaN</td>\n",
       "      <td>rebecca</td>\n",
       "      <td>Negative</td>\n",
       "    </tr>\n",
       "    <tr>\n",
       "      <th>4</th>\n",
       "      <td>AV16khLE-jtxr-f38VFn</td>\n",
       "      <td>K-Y</td>\n",
       "      <td>Personal Care,Medicine Cabinet,Lubricant/Sperm...</td>\n",
       "      <td>K-Y</td>\n",
       "      <td>K-Y Love Sensuality Pleasure Gel</td>\n",
       "      <td>2016-12-21T00:00:00.000Z</td>\n",
       "      <td>False</td>\n",
       "      <td>False</td>\n",
       "      <td>1</td>\n",
       "      <td>My husband bought this gel for us. The gel cau...</td>\n",
       "      <td>Irritation</td>\n",
       "      <td>NaN</td>\n",
       "      <td>NaN</td>\n",
       "      <td>walker557</td>\n",
       "      <td>Negative</td>\n",
       "    </tr>\n",
       "  </tbody>\n",
       "</table>\n",
       "</div>"
      ],
      "text/plain": [
       "                     id            brand  \\\n",
       "0  AV13O1A8GV-KLJ3akUyj  Universal Music   \n",
       "1  AV14LG0R-jtxr-f38QfS         Lundberg   \n",
       "2  AV14LG0R-jtxr-f38QfS         Lundberg   \n",
       "3  AV16khLE-jtxr-f38VFn              K-Y   \n",
       "4  AV16khLE-jtxr-f38VFn              K-Y   \n",
       "\n",
       "                                          categories  \\\n",
       "0  Movies, Music & Books,Music,R&b,Movies & TV,Mo...   \n",
       "1  Food,Packaged Foods,Snacks,Crackers,Snacks, Co...   \n",
       "2  Food,Packaged Foods,Snacks,Crackers,Snacks, Co...   \n",
       "3  Personal Care,Medicine Cabinet,Lubricant/Sperm...   \n",
       "4  Personal Care,Medicine Cabinet,Lubricant/Sperm...   \n",
       "\n",
       "                         manufacturer  \\\n",
       "0  Universal Music Group / Cash Money   \n",
       "1                            Lundberg   \n",
       "2                            Lundberg   \n",
       "3                                 K-Y   \n",
       "4                                 K-Y   \n",
       "\n",
       "                                         name              reviews_date  \\\n",
       "0   Pink Friday: Roman Reloaded Re-Up (w/dvd)  2012-11-30T06:21:45.000Z   \n",
       "1  Lundberg Organic Cinnamon Toast Rice Cakes  2017-07-09T00:00:00.000Z   \n",
       "2  Lundberg Organic Cinnamon Toast Rice Cakes  2017-07-09T00:00:00.000Z   \n",
       "3            K-Y Love Sensuality Pleasure Gel  2016-01-06T00:00:00.000Z   \n",
       "4            K-Y Love Sensuality Pleasure Gel  2016-12-21T00:00:00.000Z   \n",
       "\n",
       "  reviews_didPurchase reviews_doRecommend  reviews_rating  \\\n",
       "0                 NaN                 NaN               5   \n",
       "1                True                 NaN               5   \n",
       "2                True                 NaN               5   \n",
       "3               False               False               1   \n",
       "4               False               False               1   \n",
       "\n",
       "                                        reviews_text reviews_title  \\\n",
       "0  i love this album. it's very good. more to the...  Just Awesome   \n",
       "1  Good flavor. This review was collected as part...          Good   \n",
       "2                                       Good flavor.          Good   \n",
       "3  I read through the reviews on here before look...  Disappointed   \n",
       "4  My husband bought this gel for us. The gel cau...    Irritation   \n",
       "\n",
       "  reviews_userCity reviews_userProvince reviews_username user_sentiment  \n",
       "0      Los Angeles                  NaN           joshua       Positive  \n",
       "1              NaN                  NaN        dorothy w       Positive  \n",
       "2              NaN                  NaN        dorothy w       Positive  \n",
       "3              NaN                  NaN          rebecca       Negative  \n",
       "4              NaN                  NaN        walker557       Negative  "
      ]
     },
     "execution_count": 2,
     "metadata": {},
     "output_type": "execute_result"
    }
   ],
   "source": [
    "review_df = pd.read_csv(\"/kaggle/input/product-reviews/Product review dataset.csv\", encoding='utf-8')\n",
    "review_df.head()"
   ]
  },
  {
   "cell_type": "code",
   "execution_count": 3,
   "metadata": {
    "execution": {
     "iopub.execute_input": "2025-04-27T13:49:10.291439Z",
     "iopub.status.busy": "2025-04-27T13:49:10.291182Z",
     "iopub.status.idle": "2025-04-27T13:49:10.330885Z",
     "shell.execute_reply": "2025-04-27T13:49:10.330115Z",
     "shell.execute_reply.started": "2025-04-27T13:49:10.291413Z"
    },
    "trusted": true
   },
   "outputs": [
    {
     "name": "stdout",
     "output_type": "stream",
     "text": [
      "<class 'pandas.core.frame.DataFrame'>\n",
      "RangeIndex: 30000 entries, 0 to 29999\n",
      "Data columns (total 15 columns):\n",
      " #   Column                Non-Null Count  Dtype \n",
      "---  ------                --------------  ----- \n",
      " 0   id                    30000 non-null  object\n",
      " 1   brand                 30000 non-null  object\n",
      " 2   categories            30000 non-null  object\n",
      " 3   manufacturer          29859 non-null  object\n",
      " 4   name                  30000 non-null  object\n",
      " 5   reviews_date          29954 non-null  object\n",
      " 6   reviews_didPurchase   15932 non-null  object\n",
      " 7   reviews_doRecommend   27430 non-null  object\n",
      " 8   reviews_rating        30000 non-null  int64 \n",
      " 9   reviews_text          30000 non-null  object\n",
      " 10  reviews_title         29810 non-null  object\n",
      " 11  reviews_userCity      1929 non-null   object\n",
      " 12  reviews_userProvince  170 non-null    object\n",
      " 13  reviews_username      29937 non-null  object\n",
      " 14  user_sentiment        29999 non-null  object\n",
      "dtypes: int64(1), object(14)\n",
      "memory usage: 3.4+ MB\n"
     ]
    }
   ],
   "source": [
    "review_df.info()"
   ]
  },
  {
   "cell_type": "code",
   "execution_count": 4,
   "metadata": {
    "execution": {
     "iopub.execute_input": "2025-04-27T13:49:10.333059Z",
     "iopub.status.busy": "2025-04-27T13:49:10.332629Z",
     "iopub.status.idle": "2025-04-27T13:49:10.337178Z",
     "shell.execute_reply": "2025-04-27T13:49:10.336283Z",
     "shell.execute_reply.started": "2025-04-27T13:49:10.333040Z"
    },
    "trusted": true
   },
   "outputs": [
    {
     "name": "stdout",
     "output_type": "stream",
     "text": [
      "Number of rows:  30000\n",
      "Number of columns:  15\n"
     ]
    }
   ],
   "source": [
    "print(\"Number of rows: \" ,len(review_df))\n",
    "print(\"Number of columns: \" ,len(review_df.columns))"
   ]
  },
  {
   "cell_type": "markdown",
   "metadata": {},
   "source": [
    "Totally there are 3000 rows, 15 columns in the dataset.\n",
    "\n",
    "#### Let's see if there are any null values in the dataset"
   ]
  },
  {
   "cell_type": "code",
   "execution_count": 5,
   "metadata": {
    "execution": {
     "iopub.execute_input": "2025-04-27T13:49:10.338169Z",
     "iopub.status.busy": "2025-04-27T13:49:10.337930Z",
     "iopub.status.idle": "2025-04-27T13:49:10.368927Z",
     "shell.execute_reply": "2025-04-27T13:49:10.368291Z",
     "shell.execute_reply.started": "2025-04-27T13:49:10.338151Z"
    },
    "trusted": true
   },
   "outputs": [
    {
     "data": {
      "text/plain": [
       "id                       0.000000\n",
       "brand                    0.000000\n",
       "categories               0.000000\n",
       "manufacturer             0.470000\n",
       "name                     0.000000\n",
       "reviews_date             0.153333\n",
       "reviews_didPurchase     46.893333\n",
       "reviews_doRecommend      8.566667\n",
       "reviews_rating           0.000000\n",
       "reviews_text             0.000000\n",
       "reviews_title            0.633333\n",
       "reviews_userCity        93.570000\n",
       "reviews_userProvince    99.433333\n",
       "reviews_username         0.210000\n",
       "user_sentiment           0.003333\n",
       "dtype: float64"
      ]
     },
     "execution_count": 5,
     "metadata": {},
     "output_type": "execute_result"
    }
   ],
   "source": [
    "100*review_df.isnull().mean()"
   ]
  },
  {
   "cell_type": "markdown",
   "metadata": {},
   "source": [
    "##### These columns have high percentage of null values, better to drop them -> 'reviews_didPurchase','reviews_userCity','reviews_userProvince'"
   ]
  },
  {
   "cell_type": "code",
   "execution_count": 6,
   "metadata": {
    "execution": {
     "iopub.execute_input": "2025-04-27T13:49:10.369914Z",
     "iopub.status.busy": "2025-04-27T13:49:10.369620Z",
     "iopub.status.idle": "2025-04-27T13:49:10.382653Z",
     "shell.execute_reply": "2025-04-27T13:49:10.381919Z",
     "shell.execute_reply.started": "2025-04-27T13:49:10.369888Z"
    },
    "trusted": true
   },
   "outputs": [],
   "source": [
    "columns_to_drop=['reviews_didPurchase','reviews_userCity','reviews_userProvince']\n",
    "review_df.drop(columns_to_drop, inplace=True, axis=1)"
   ]
  },
  {
   "cell_type": "code",
   "execution_count": 7,
   "metadata": {
    "execution": {
     "iopub.execute_input": "2025-04-27T13:49:10.383901Z",
     "iopub.status.busy": "2025-04-27T13:49:10.383573Z",
     "iopub.status.idle": "2025-04-27T13:49:10.436318Z",
     "shell.execute_reply": "2025-04-27T13:49:10.435799Z",
     "shell.execute_reply.started": "2025-04-27T13:49:10.383880Z"
    },
    "trusted": true
   },
   "outputs": [
    {
     "data": {
      "text/plain": [
       "id                       271\n",
       "brand                    214\n",
       "categories               270\n",
       "manufacturer             227\n",
       "name                     271\n",
       "reviews_date            6857\n",
       "reviews_doRecommend        2\n",
       "reviews_rating             5\n",
       "reviews_text           27282\n",
       "reviews_title          18535\n",
       "reviews_username       24914\n",
       "user_sentiment             2\n",
       "dtype: int64"
      ]
     },
     "execution_count": 7,
     "metadata": {},
     "output_type": "execute_result"
    }
   ],
   "source": [
    "review_df.nunique()"
   ]
  },
  {
   "cell_type": "markdown",
   "metadata": {},
   "source": [
    "##### As we can see above, there are no columns with single value."
   ]
  },
  {
   "cell_type": "code",
   "execution_count": 8,
   "metadata": {
    "execution": {
     "iopub.execute_input": "2025-04-27T13:49:10.437376Z",
     "iopub.status.busy": "2025-04-27T13:49:10.437198Z",
     "iopub.status.idle": "2025-04-27T13:49:10.447310Z",
     "shell.execute_reply": "2025-04-27T13:49:10.446746Z",
     "shell.execute_reply.started": "2025-04-27T13:49:10.437361Z"
    },
    "trusted": true
   },
   "outputs": [
    {
     "data": {
      "text/html": [
       "<div>\n",
       "<style scoped>\n",
       "    .dataframe tbody tr th:only-of-type {\n",
       "        vertical-align: middle;\n",
       "    }\n",
       "\n",
       "    .dataframe tbody tr th {\n",
       "        vertical-align: top;\n",
       "    }\n",
       "\n",
       "    .dataframe thead th {\n",
       "        text-align: right;\n",
       "    }\n",
       "</style>\n",
       "<table border=\"1\" class=\"dataframe\">\n",
       "  <thead>\n",
       "    <tr style=\"text-align: right;\">\n",
       "      <th></th>\n",
       "      <th>id</th>\n",
       "      <th>brand</th>\n",
       "      <th>categories</th>\n",
       "      <th>manufacturer</th>\n",
       "      <th>name</th>\n",
       "      <th>reviews_date</th>\n",
       "      <th>reviews_doRecommend</th>\n",
       "      <th>reviews_rating</th>\n",
       "      <th>reviews_text</th>\n",
       "      <th>reviews_title</th>\n",
       "      <th>reviews_username</th>\n",
       "      <th>user_sentiment</th>\n",
       "    </tr>\n",
       "  </thead>\n",
       "  <tbody>\n",
       "    <tr>\n",
       "      <th>0</th>\n",
       "      <td>AV13O1A8GV-KLJ3akUyj</td>\n",
       "      <td>Universal Music</td>\n",
       "      <td>Movies, Music &amp; Books,Music,R&amp;b,Movies &amp; TV,Mo...</td>\n",
       "      <td>Universal Music Group / Cash Money</td>\n",
       "      <td>Pink Friday: Roman Reloaded Re-Up (w/dvd)</td>\n",
       "      <td>2012-11-30T06:21:45.000Z</td>\n",
       "      <td>NaN</td>\n",
       "      <td>5</td>\n",
       "      <td>i love this album. it's very good. more to the...</td>\n",
       "      <td>Just Awesome</td>\n",
       "      <td>joshua</td>\n",
       "      <td>Positive</td>\n",
       "    </tr>\n",
       "    <tr>\n",
       "      <th>1</th>\n",
       "      <td>AV14LG0R-jtxr-f38QfS</td>\n",
       "      <td>Lundberg</td>\n",
       "      <td>Food,Packaged Foods,Snacks,Crackers,Snacks, Co...</td>\n",
       "      <td>Lundberg</td>\n",
       "      <td>Lundberg Organic Cinnamon Toast Rice Cakes</td>\n",
       "      <td>2017-07-09T00:00:00.000Z</td>\n",
       "      <td>NaN</td>\n",
       "      <td>5</td>\n",
       "      <td>Good flavor. This review was collected as part...</td>\n",
       "      <td>Good</td>\n",
       "      <td>dorothy w</td>\n",
       "      <td>Positive</td>\n",
       "    </tr>\n",
       "    <tr>\n",
       "      <th>2</th>\n",
       "      <td>AV14LG0R-jtxr-f38QfS</td>\n",
       "      <td>Lundberg</td>\n",
       "      <td>Food,Packaged Foods,Snacks,Crackers,Snacks, Co...</td>\n",
       "      <td>Lundberg</td>\n",
       "      <td>Lundberg Organic Cinnamon Toast Rice Cakes</td>\n",
       "      <td>2017-07-09T00:00:00.000Z</td>\n",
       "      <td>NaN</td>\n",
       "      <td>5</td>\n",
       "      <td>Good flavor.</td>\n",
       "      <td>Good</td>\n",
       "      <td>dorothy w</td>\n",
       "      <td>Positive</td>\n",
       "    </tr>\n",
       "    <tr>\n",
       "      <th>3</th>\n",
       "      <td>AV16khLE-jtxr-f38VFn</td>\n",
       "      <td>K-Y</td>\n",
       "      <td>Personal Care,Medicine Cabinet,Lubricant/Sperm...</td>\n",
       "      <td>K-Y</td>\n",
       "      <td>K-Y Love Sensuality Pleasure Gel</td>\n",
       "      <td>2016-01-06T00:00:00.000Z</td>\n",
       "      <td>False</td>\n",
       "      <td>1</td>\n",
       "      <td>I read through the reviews on here before look...</td>\n",
       "      <td>Disappointed</td>\n",
       "      <td>rebecca</td>\n",
       "      <td>Negative</td>\n",
       "    </tr>\n",
       "    <tr>\n",
       "      <th>4</th>\n",
       "      <td>AV16khLE-jtxr-f38VFn</td>\n",
       "      <td>K-Y</td>\n",
       "      <td>Personal Care,Medicine Cabinet,Lubricant/Sperm...</td>\n",
       "      <td>K-Y</td>\n",
       "      <td>K-Y Love Sensuality Pleasure Gel</td>\n",
       "      <td>2016-12-21T00:00:00.000Z</td>\n",
       "      <td>False</td>\n",
       "      <td>1</td>\n",
       "      <td>My husband bought this gel for us. The gel cau...</td>\n",
       "      <td>Irritation</td>\n",
       "      <td>walker557</td>\n",
       "      <td>Negative</td>\n",
       "    </tr>\n",
       "  </tbody>\n",
       "</table>\n",
       "</div>"
      ],
      "text/plain": [
       "                     id            brand  \\\n",
       "0  AV13O1A8GV-KLJ3akUyj  Universal Music   \n",
       "1  AV14LG0R-jtxr-f38QfS         Lundberg   \n",
       "2  AV14LG0R-jtxr-f38QfS         Lundberg   \n",
       "3  AV16khLE-jtxr-f38VFn              K-Y   \n",
       "4  AV16khLE-jtxr-f38VFn              K-Y   \n",
       "\n",
       "                                          categories  \\\n",
       "0  Movies, Music & Books,Music,R&b,Movies & TV,Mo...   \n",
       "1  Food,Packaged Foods,Snacks,Crackers,Snacks, Co...   \n",
       "2  Food,Packaged Foods,Snacks,Crackers,Snacks, Co...   \n",
       "3  Personal Care,Medicine Cabinet,Lubricant/Sperm...   \n",
       "4  Personal Care,Medicine Cabinet,Lubricant/Sperm...   \n",
       "\n",
       "                         manufacturer  \\\n",
       "0  Universal Music Group / Cash Money   \n",
       "1                            Lundberg   \n",
       "2                            Lundberg   \n",
       "3                                 K-Y   \n",
       "4                                 K-Y   \n",
       "\n",
       "                                         name              reviews_date  \\\n",
       "0   Pink Friday: Roman Reloaded Re-Up (w/dvd)  2012-11-30T06:21:45.000Z   \n",
       "1  Lundberg Organic Cinnamon Toast Rice Cakes  2017-07-09T00:00:00.000Z   \n",
       "2  Lundberg Organic Cinnamon Toast Rice Cakes  2017-07-09T00:00:00.000Z   \n",
       "3            K-Y Love Sensuality Pleasure Gel  2016-01-06T00:00:00.000Z   \n",
       "4            K-Y Love Sensuality Pleasure Gel  2016-12-21T00:00:00.000Z   \n",
       "\n",
       "  reviews_doRecommend  reviews_rating  \\\n",
       "0                 NaN               5   \n",
       "1                 NaN               5   \n",
       "2                 NaN               5   \n",
       "3               False               1   \n",
       "4               False               1   \n",
       "\n",
       "                                        reviews_text reviews_title  \\\n",
       "0  i love this album. it's very good. more to the...  Just Awesome   \n",
       "1  Good flavor. This review was collected as part...          Good   \n",
       "2                                       Good flavor.          Good   \n",
       "3  I read through the reviews on here before look...  Disappointed   \n",
       "4  My husband bought this gel for us. The gel cau...    Irritation   \n",
       "\n",
       "  reviews_username user_sentiment  \n",
       "0           joshua       Positive  \n",
       "1        dorothy w       Positive  \n",
       "2        dorothy w       Positive  \n",
       "3          rebecca       Negative  \n",
       "4        walker557       Negative  "
      ]
     },
     "execution_count": 8,
     "metadata": {},
     "output_type": "execute_result"
    }
   ],
   "source": [
    "review_df.head(5)"
   ]
  },
  {
   "cell_type": "markdown",
   "metadata": {},
   "source": [
    "#### Handling the null values in the dataset review_df"
   ]
  },
  {
   "cell_type": "code",
   "execution_count": 9,
   "metadata": {
    "execution": {
     "iopub.execute_input": "2025-04-27T13:49:10.448489Z",
     "iopub.status.busy": "2025-04-27T13:49:10.448235Z",
     "iopub.status.idle": "2025-04-27T13:49:10.458881Z",
     "shell.execute_reply": "2025-04-27T13:49:10.458196Z",
     "shell.execute_reply.started": "2025-04-27T13:49:10.448473Z"
    },
    "trusted": true
   },
   "outputs": [],
   "source": [
    "# A function to check for the null values in the columns\n",
    "\n",
    "def null_value_check(data_set):\n",
    "    null_value = 100*data_set.isnull().mean()\n",
    "    unique_value=data_set.nunique()\n",
    "    summary_df=pd.DataFrame({'Null values': null_value, 'Unique values': unique_value})\n",
    "    return summary_df.sort_values('Null values', ascending=False)"
   ]
  },
  {
   "cell_type": "code",
   "execution_count": 10,
   "metadata": {
    "execution": {
     "iopub.execute_input": "2025-04-27T13:49:10.461776Z",
     "iopub.status.busy": "2025-04-27T13:49:10.461408Z",
     "iopub.status.idle": "2025-04-27T13:49:10.534156Z",
     "shell.execute_reply": "2025-04-27T13:49:10.533500Z",
     "shell.execute_reply.started": "2025-04-27T13:49:10.461758Z"
    },
    "trusted": true
   },
   "outputs": [
    {
     "data": {
      "text/html": [
       "<div>\n",
       "<style scoped>\n",
       "    .dataframe tbody tr th:only-of-type {\n",
       "        vertical-align: middle;\n",
       "    }\n",
       "\n",
       "    .dataframe tbody tr th {\n",
       "        vertical-align: top;\n",
       "    }\n",
       "\n",
       "    .dataframe thead th {\n",
       "        text-align: right;\n",
       "    }\n",
       "</style>\n",
       "<table border=\"1\" class=\"dataframe\">\n",
       "  <thead>\n",
       "    <tr style=\"text-align: right;\">\n",
       "      <th></th>\n",
       "      <th>Null values</th>\n",
       "      <th>Unique values</th>\n",
       "    </tr>\n",
       "  </thead>\n",
       "  <tbody>\n",
       "    <tr>\n",
       "      <th>reviews_doRecommend</th>\n",
       "      <td>8.566667</td>\n",
       "      <td>2</td>\n",
       "    </tr>\n",
       "    <tr>\n",
       "      <th>reviews_title</th>\n",
       "      <td>0.633333</td>\n",
       "      <td>18535</td>\n",
       "    </tr>\n",
       "    <tr>\n",
       "      <th>manufacturer</th>\n",
       "      <td>0.470000</td>\n",
       "      <td>227</td>\n",
       "    </tr>\n",
       "    <tr>\n",
       "      <th>reviews_username</th>\n",
       "      <td>0.210000</td>\n",
       "      <td>24914</td>\n",
       "    </tr>\n",
       "    <tr>\n",
       "      <th>reviews_date</th>\n",
       "      <td>0.153333</td>\n",
       "      <td>6857</td>\n",
       "    </tr>\n",
       "    <tr>\n",
       "      <th>user_sentiment</th>\n",
       "      <td>0.003333</td>\n",
       "      <td>2</td>\n",
       "    </tr>\n",
       "    <tr>\n",
       "      <th>id</th>\n",
       "      <td>0.000000</td>\n",
       "      <td>271</td>\n",
       "    </tr>\n",
       "    <tr>\n",
       "      <th>brand</th>\n",
       "      <td>0.000000</td>\n",
       "      <td>214</td>\n",
       "    </tr>\n",
       "    <tr>\n",
       "      <th>categories</th>\n",
       "      <td>0.000000</td>\n",
       "      <td>270</td>\n",
       "    </tr>\n",
       "    <tr>\n",
       "      <th>name</th>\n",
       "      <td>0.000000</td>\n",
       "      <td>271</td>\n",
       "    </tr>\n",
       "    <tr>\n",
       "      <th>reviews_rating</th>\n",
       "      <td>0.000000</td>\n",
       "      <td>5</td>\n",
       "    </tr>\n",
       "    <tr>\n",
       "      <th>reviews_text</th>\n",
       "      <td>0.000000</td>\n",
       "      <td>27282</td>\n",
       "    </tr>\n",
       "  </tbody>\n",
       "</table>\n",
       "</div>"
      ],
      "text/plain": [
       "                     Null values  Unique values\n",
       "reviews_doRecommend     8.566667              2\n",
       "reviews_title           0.633333          18535\n",
       "manufacturer            0.470000            227\n",
       "reviews_username        0.210000          24914\n",
       "reviews_date            0.153333           6857\n",
       "user_sentiment          0.003333              2\n",
       "id                      0.000000            271\n",
       "brand                   0.000000            214\n",
       "categories              0.000000            270\n",
       "name                    0.000000            271\n",
       "reviews_rating          0.000000              5\n",
       "reviews_text            0.000000          27282"
      ]
     },
     "execution_count": 10,
     "metadata": {},
     "output_type": "execute_result"
    }
   ],
   "source": [
    "null_value_check(review_df)"
   ]
  },
  {
   "cell_type": "markdown",
   "metadata": {},
   "source": [
    "##### Lets check each of these columns and handle the values"
   ]
  },
  {
   "cell_type": "markdown",
   "metadata": {},
   "source": [
    "**COLUMN: reviews_doRecommend**"
   ]
  },
  {
   "cell_type": "code",
   "execution_count": 11,
   "metadata": {
    "execution": {
     "iopub.execute_input": "2025-04-27T13:49:10.535408Z",
     "iopub.status.busy": "2025-04-27T13:49:10.535108Z",
     "iopub.status.idle": "2025-04-27T13:49:10.541728Z",
     "shell.execute_reply": "2025-04-27T13:49:10.540996Z",
     "shell.execute_reply.started": "2025-04-27T13:49:10.535385Z"
    },
    "trusted": true
   },
   "outputs": [
    {
     "name": "stdout",
     "output_type": "stream",
     "text": [
      "reviews_doRecommend\n",
      "True     0.943493\n",
      "False    0.056507\n",
      "Name: proportion, dtype: float64\n"
     ]
    }
   ],
   "source": [
    "print(review_df['reviews_doRecommend'].value_counts(1))"
   ]
  },
  {
   "cell_type": "code",
   "execution_count": 12,
   "metadata": {
    "execution": {
     "iopub.execute_input": "2025-04-27T13:49:10.542874Z",
     "iopub.status.busy": "2025-04-27T13:49:10.542605Z",
     "iopub.status.idle": "2025-04-27T13:49:10.780336Z",
     "shell.execute_reply": "2025-04-27T13:49:10.779595Z",
     "shell.execute_reply.started": "2025-04-27T13:49:10.542855Z"
    },
    "trusted": true
   },
   "outputs": [
    {
     "data": {
      "image/png": "[encoded data removed]",
      "text/plain": [
       "<Figure size 640x480 with 1 Axes>"
      ]
     },
     "metadata": {},
     "output_type": "display_data"
    }
   ],
   "source": [
    "sns.countplot(x= review_df['reviews_doRecommend'])\n",
    "plt.show()"
   ]
  },
  {
   "cell_type": "markdown",
   "metadata": {},
   "source": [
    "##### Since the column has 94% True value, it won't be a very useful column for our training, so we can **drop it**"
   ]
  },
  {
   "cell_type": "code",
   "execution_count": 13,
   "metadata": {
    "execution": {
     "iopub.execute_input": "2025-04-27T13:49:10.781838Z",
     "iopub.status.busy": "2025-04-27T13:49:10.781123Z",
     "iopub.status.idle": "2025-04-27T13:49:10.787688Z",
     "shell.execute_reply": "2025-04-27T13:49:10.787210Z",
     "shell.execute_reply.started": "2025-04-27T13:49:10.781811Z"
    },
    "trusted": true
   },
   "outputs": [],
   "source": [
    "review_df.drop(columns='reviews_doRecommend', inplace=True)"
   ]
  },
  {
   "cell_type": "code",
   "execution_count": 14,
   "metadata": {
    "execution": {
     "iopub.execute_input": "2025-04-27T13:49:10.788487Z",
     "iopub.status.busy": "2025-04-27T13:49:10.788310Z",
     "iopub.status.idle": "2025-04-27T13:49:10.861055Z",
     "shell.execute_reply": "2025-04-27T13:49:10.860555Z",
     "shell.execute_reply.started": "2025-04-27T13:49:10.788474Z"
    },
    "trusted": true
   },
   "outputs": [
    {
     "data": {
      "text/html": [
       "<div>\n",
       "<style scoped>\n",
       "    .dataframe tbody tr th:only-of-type {\n",
       "        vertical-align: middle;\n",
       "    }\n",
       "\n",
       "    .dataframe tbody tr th {\n",
       "        vertical-align: top;\n",
       "    }\n",
       "\n",
       "    .dataframe thead th {\n",
       "        text-align: right;\n",
       "    }\n",
       "</style>\n",
       "<table border=\"1\" class=\"dataframe\">\n",
       "  <thead>\n",
       "    <tr style=\"text-align: right;\">\n",
       "      <th></th>\n",
       "      <th>Null values</th>\n",
       "      <th>Unique values</th>\n",
       "    </tr>\n",
       "  </thead>\n",
       "  <tbody>\n",
       "    <tr>\n",
       "      <th>reviews_title</th>\n",
       "      <td>0.633333</td>\n",
       "      <td>18535</td>\n",
       "    </tr>\n",
       "    <tr>\n",
       "      <th>manufacturer</th>\n",
       "      <td>0.470000</td>\n",
       "      <td>227</td>\n",
       "    </tr>\n",
       "    <tr>\n",
       "      <th>reviews_username</th>\n",
       "      <td>0.210000</td>\n",
       "      <td>24914</td>\n",
       "    </tr>\n",
       "    <tr>\n",
       "      <th>reviews_date</th>\n",
       "      <td>0.153333</td>\n",
       "      <td>6857</td>\n",
       "    </tr>\n",
       "    <tr>\n",
       "      <th>user_sentiment</th>\n",
       "      <td>0.003333</td>\n",
       "      <td>2</td>\n",
       "    </tr>\n",
       "    <tr>\n",
       "      <th>id</th>\n",
       "      <td>0.000000</td>\n",
       "      <td>271</td>\n",
       "    </tr>\n",
       "    <tr>\n",
       "      <th>brand</th>\n",
       "      <td>0.000000</td>\n",
       "      <td>214</td>\n",
       "    </tr>\n",
       "    <tr>\n",
       "      <th>categories</th>\n",
       "      <td>0.000000</td>\n",
       "      <td>270</td>\n",
       "    </tr>\n",
       "    <tr>\n",
       "      <th>name</th>\n",
       "      <td>0.000000</td>\n",
       "      <td>271</td>\n",
       "    </tr>\n",
       "    <tr>\n",
       "      <th>reviews_rating</th>\n",
       "      <td>0.000000</td>\n",
       "      <td>5</td>\n",
       "    </tr>\n",
       "    <tr>\n",
       "      <th>reviews_text</th>\n",
       "      <td>0.000000</td>\n",
       "      <td>27282</td>\n",
       "    </tr>\n",
       "  </tbody>\n",
       "</table>\n",
       "</div>"
      ],
      "text/plain": [
       "                  Null values  Unique values\n",
       "reviews_title        0.633333          18535\n",
       "manufacturer         0.470000            227\n",
       "reviews_username     0.210000          24914\n",
       "reviews_date         0.153333           6857\n",
       "user_sentiment       0.003333              2\n",
       "id                   0.000000            271\n",
       "brand                0.000000            214\n",
       "categories           0.000000            270\n",
       "name                 0.000000            271\n",
       "reviews_rating       0.000000              5\n",
       "reviews_text         0.000000          27282"
      ]
     },
     "execution_count": 14,
     "metadata": {},
     "output_type": "execute_result"
    }
   ],
   "source": [
    "null_value_check(review_df)"
   ]
  },
  {
   "cell_type": "markdown",
   "metadata": {},
   "source": [
    "**COLUMN: reviews_title**\n",
    "\n",
    "##### Since it an important column for analysis and the null value percentage is quite less- 0.63%, we can remove the rows containing the null values"
   ]
  },
  {
   "cell_type": "code",
   "execution_count": 15,
   "metadata": {
    "execution": {
     "iopub.execute_input": "2025-04-27T13:49:10.861937Z",
     "iopub.status.busy": "2025-04-27T13:49:10.861658Z",
     "iopub.status.idle": "2025-04-27T13:49:10.866628Z",
     "shell.execute_reply": "2025-04-27T13:49:10.865921Z",
     "shell.execute_reply.started": "2025-04-27T13:49:10.861914Z"
    },
    "trusted": true
   },
   "outputs": [
    {
     "data": {
      "text/plain": [
       "(30000, 11)"
      ]
     },
     "execution_count": 15,
     "metadata": {},
     "output_type": "execute_result"
    }
   ],
   "source": [
    "review_df.shape"
   ]
  },
  {
   "cell_type": "code",
   "execution_count": 16,
   "metadata": {
    "execution": {
     "iopub.execute_input": "2025-04-27T13:49:10.867497Z",
     "iopub.status.busy": "2025-04-27T13:49:10.867316Z",
     "iopub.status.idle": "2025-04-27T13:49:10.882375Z",
     "shell.execute_reply": "2025-04-27T13:49:10.881753Z",
     "shell.execute_reply.started": "2025-04-27T13:49:10.867475Z"
    },
    "trusted": true
   },
   "outputs": [
    {
     "data": {
      "text/plain": [
       "(29810, 11)"
      ]
     },
     "execution_count": 16,
     "metadata": {},
     "output_type": "execute_result"
    }
   ],
   "source": [
    "clean_df=review_df[~review_df.reviews_title.isna()]\n",
    "clean_df.shape"
   ]
  },
  {
   "cell_type": "code",
   "execution_count": 17,
   "metadata": {
    "execution": {
     "iopub.execute_input": "2025-04-27T13:49:10.883235Z",
     "iopub.status.busy": "2025-04-27T13:49:10.883054Z",
     "iopub.status.idle": "2025-04-27T13:49:10.945879Z",
     "shell.execute_reply": "2025-04-27T13:49:10.945310Z",
     "shell.execute_reply.started": "2025-04-27T13:49:10.883221Z"
    },
    "trusted": true
   },
   "outputs": [
    {
     "data": {
      "text/html": [
       "<div>\n",
       "<style scoped>\n",
       "    .dataframe tbody tr th:only-of-type {\n",
       "        vertical-align: middle;\n",
       "    }\n",
       "\n",
       "    .dataframe tbody tr th {\n",
       "        vertical-align: top;\n",
       "    }\n",
       "\n",
       "    .dataframe thead th {\n",
       "        text-align: right;\n",
       "    }\n",
       "</style>\n",
       "<table border=\"1\" class=\"dataframe\">\n",
       "  <thead>\n",
       "    <tr style=\"text-align: right;\">\n",
       "      <th></th>\n",
       "      <th>Null values</th>\n",
       "      <th>Unique values</th>\n",
       "    </tr>\n",
       "  </thead>\n",
       "  <tbody>\n",
       "    <tr>\n",
       "      <th>manufacturer</th>\n",
       "      <td>0.472996</td>\n",
       "      <td>213</td>\n",
       "    </tr>\n",
       "    <tr>\n",
       "      <th>reviews_username</th>\n",
       "      <td>0.207984</td>\n",
       "      <td>24788</td>\n",
       "    </tr>\n",
       "    <tr>\n",
       "      <th>reviews_date</th>\n",
       "      <td>0.154311</td>\n",
       "      <td>6711</td>\n",
       "    </tr>\n",
       "    <tr>\n",
       "      <th>user_sentiment</th>\n",
       "      <td>0.003355</td>\n",
       "      <td>2</td>\n",
       "    </tr>\n",
       "    <tr>\n",
       "      <th>categories</th>\n",
       "      <td>0.000000</td>\n",
       "      <td>252</td>\n",
       "    </tr>\n",
       "    <tr>\n",
       "      <th>id</th>\n",
       "      <td>0.000000</td>\n",
       "      <td>252</td>\n",
       "    </tr>\n",
       "    <tr>\n",
       "      <th>brand</th>\n",
       "      <td>0.000000</td>\n",
       "      <td>199</td>\n",
       "    </tr>\n",
       "    <tr>\n",
       "      <th>reviews_rating</th>\n",
       "      <td>0.000000</td>\n",
       "      <td>5</td>\n",
       "    </tr>\n",
       "    <tr>\n",
       "      <th>name</th>\n",
       "      <td>0.000000</td>\n",
       "      <td>252</td>\n",
       "    </tr>\n",
       "    <tr>\n",
       "      <th>reviews_title</th>\n",
       "      <td>0.000000</td>\n",
       "      <td>18535</td>\n",
       "    </tr>\n",
       "    <tr>\n",
       "      <th>reviews_text</th>\n",
       "      <td>0.000000</td>\n",
       "      <td>27097</td>\n",
       "    </tr>\n",
       "  </tbody>\n",
       "</table>\n",
       "</div>"
      ],
      "text/plain": [
       "                  Null values  Unique values\n",
       "manufacturer         0.472996            213\n",
       "reviews_username     0.207984          24788\n",
       "reviews_date         0.154311           6711\n",
       "user_sentiment       0.003355              2\n",
       "categories           0.000000            252\n",
       "id                   0.000000            252\n",
       "brand                0.000000            199\n",
       "reviews_rating       0.000000              5\n",
       "name                 0.000000            252\n",
       "reviews_title        0.000000          18535\n",
       "reviews_text         0.000000          27097"
      ]
     },
     "execution_count": 17,
     "metadata": {},
     "output_type": "execute_result"
    }
   ],
   "source": [
    "null_value_check(clean_df)"
   ]
  },
  {
   "cell_type": "markdown",
   "metadata": {},
   "source": [
    "**COLUMN: manufacturer**\n"
   ]
  },
  {
   "cell_type": "code",
   "execution_count": 18,
   "metadata": {
    "execution": {
     "iopub.execute_input": "2025-04-27T13:49:10.946979Z",
     "iopub.status.busy": "2025-04-27T13:49:10.946629Z",
     "iopub.status.idle": "2025-04-27T13:49:10.957643Z",
     "shell.execute_reply": "2025-04-27T13:49:10.956933Z",
     "shell.execute_reply.started": "2025-04-27T13:49:10.946919Z"
    },
    "trusted": true
   },
   "outputs": [
    {
     "data": {
      "text/plain": [
       "manufacturer\n",
       "120                          3\n",
       "Dr Pepper/Seven Up, Inc      2\n",
       "Frito-Lay                    3\n",
       "GENERAL MILLS SALES, INC.    3\n",
       "Generic                      4\n",
       "L'oreal Paris                2\n",
       "Lions Gate                   2\n",
       "P&G                          2\n",
       "Reckitt Benckiser            3\n",
       "UNILEVER                     2\n",
       "Unilever                     2\n",
       "Warner Home Video            2\n",
       "Name: brand, dtype: int64"
      ]
     },
     "execution_count": 18,
     "metadata": {},
     "output_type": "execute_result"
    }
   ],
   "source": [
    "# Checking if a single manufacturer supplies to multiple brands\n",
    "\n",
    "manufacturer_brand_counts = clean_df.groupby('manufacturer')['brand'].nunique()\n",
    "\n",
    "manufacturers_multiple_brands = manufacturer_brand_counts[manufacturer_brand_counts > 1]\n",
    "manufacturers_multiple_brands"
   ]
  },
  {
   "cell_type": "code",
   "execution_count": 19,
   "metadata": {
    "execution": {
     "iopub.execute_input": "2025-04-27T13:49:10.958576Z",
     "iopub.status.busy": "2025-04-27T13:49:10.958413Z",
     "iopub.status.idle": "2025-04-27T13:49:10.967198Z",
     "shell.execute_reply": "2025-04-27T13:49:10.966421Z",
     "shell.execute_reply.started": "2025-04-27T13:49:10.958562Z"
    },
    "trusted": true
   },
   "outputs": [
    {
     "data": {
      "text/plain": [
       "141"
      ]
     },
     "execution_count": 19,
     "metadata": {},
     "output_type": "execute_result"
    }
   ],
   "source": [
    "# Checking the number of null values in the manufacturer column\n",
    "len(clean_df[clean_df['manufacturer'].isna()])"
   ]
  },
  {
   "cell_type": "markdown",
   "metadata": {},
   "source": [
    "##### As we can see from above that there are manufacturers that supply to multiple brands. There could be scenarios wherin for one brand the sentiment is positive and for another it could be negative. Hence to avoid confusion during the model training, it is best to **drop this column**"
   ]
  },
  {
   "cell_type": "code",
   "execution_count": 20,
   "metadata": {
    "execution": {
     "iopub.execute_input": "2025-04-27T13:49:10.968377Z",
     "iopub.status.busy": "2025-04-27T13:49:10.967995Z",
     "iopub.status.idle": "2025-04-27T13:49:10.978739Z",
     "shell.execute_reply": "2025-04-27T13:49:10.978194Z",
     "shell.execute_reply.started": "2025-04-27T13:49:10.968352Z"
    },
    "trusted": true
   },
   "outputs": [],
   "source": [
    "clean_df= clean_df.drop(columns='manufacturer')"
   ]
  },
  {
   "cell_type": "code",
   "execution_count": 21,
   "metadata": {
    "execution": {
     "iopub.execute_input": "2025-04-27T13:49:10.980379Z",
     "iopub.status.busy": "2025-04-27T13:49:10.979549Z",
     "iopub.status.idle": "2025-04-27T13:49:11.041349Z",
     "shell.execute_reply": "2025-04-27T13:49:11.040818Z",
     "shell.execute_reply.started": "2025-04-27T13:49:10.980356Z"
    },
    "trusted": true
   },
   "outputs": [
    {
     "data": {
      "text/html": [
       "<div>\n",
       "<style scoped>\n",
       "    .dataframe tbody tr th:only-of-type {\n",
       "        vertical-align: middle;\n",
       "    }\n",
       "\n",
       "    .dataframe tbody tr th {\n",
       "        vertical-align: top;\n",
       "    }\n",
       "\n",
       "    .dataframe thead th {\n",
       "        text-align: right;\n",
       "    }\n",
       "</style>\n",
       "<table border=\"1\" class=\"dataframe\">\n",
       "  <thead>\n",
       "    <tr style=\"text-align: right;\">\n",
       "      <th></th>\n",
       "      <th>Null values</th>\n",
       "      <th>Unique values</th>\n",
       "    </tr>\n",
       "  </thead>\n",
       "  <tbody>\n",
       "    <tr>\n",
       "      <th>reviews_username</th>\n",
       "      <td>0.207984</td>\n",
       "      <td>24788</td>\n",
       "    </tr>\n",
       "    <tr>\n",
       "      <th>reviews_date</th>\n",
       "      <td>0.154311</td>\n",
       "      <td>6711</td>\n",
       "    </tr>\n",
       "    <tr>\n",
       "      <th>user_sentiment</th>\n",
       "      <td>0.003355</td>\n",
       "      <td>2</td>\n",
       "    </tr>\n",
       "    <tr>\n",
       "      <th>id</th>\n",
       "      <td>0.000000</td>\n",
       "      <td>252</td>\n",
       "    </tr>\n",
       "    <tr>\n",
       "      <th>brand</th>\n",
       "      <td>0.000000</td>\n",
       "      <td>199</td>\n",
       "    </tr>\n",
       "    <tr>\n",
       "      <th>categories</th>\n",
       "      <td>0.000000</td>\n",
       "      <td>252</td>\n",
       "    </tr>\n",
       "    <tr>\n",
       "      <th>reviews_rating</th>\n",
       "      <td>0.000000</td>\n",
       "      <td>5</td>\n",
       "    </tr>\n",
       "    <tr>\n",
       "      <th>name</th>\n",
       "      <td>0.000000</td>\n",
       "      <td>252</td>\n",
       "    </tr>\n",
       "    <tr>\n",
       "      <th>reviews_title</th>\n",
       "      <td>0.000000</td>\n",
       "      <td>18535</td>\n",
       "    </tr>\n",
       "    <tr>\n",
       "      <th>reviews_text</th>\n",
       "      <td>0.000000</td>\n",
       "      <td>27097</td>\n",
       "    </tr>\n",
       "  </tbody>\n",
       "</table>\n",
       "</div>"
      ],
      "text/plain": [
       "                  Null values  Unique values\n",
       "reviews_username     0.207984          24788\n",
       "reviews_date         0.154311           6711\n",
       "user_sentiment       0.003355              2\n",
       "id                   0.000000            252\n",
       "brand                0.000000            199\n",
       "categories           0.000000            252\n",
       "reviews_rating       0.000000              5\n",
       "name                 0.000000            252\n",
       "reviews_title        0.000000          18535\n",
       "reviews_text         0.000000          27097"
      ]
     },
     "execution_count": 21,
     "metadata": {},
     "output_type": "execute_result"
    }
   ],
   "source": [
    "null_value_check(clean_df)"
   ]
  },
  {
   "cell_type": "markdown",
   "metadata": {},
   "source": [
    "**COLUMN: reviews_username** column\n",
    "\n",
    "##### It is important to know the users who have given the ratings to keep in mind that they have already purchased/ rated the item. So since the null value percentage is about- 0.20%  we can remove the null value rows."
   ]
  },
  {
   "cell_type": "code",
   "execution_count": 22,
   "metadata": {
    "execution": {
     "iopub.execute_input": "2025-04-27T13:49:11.042142Z",
     "iopub.status.busy": "2025-04-27T13:49:11.041953Z",
     "iopub.status.idle": "2025-04-27T13:49:11.049529Z",
     "shell.execute_reply": "2025-04-27T13:49:11.048991Z",
     "shell.execute_reply.started": "2025-04-27T13:49:11.042128Z"
    },
    "trusted": true
   },
   "outputs": [],
   "source": [
    "clean_df=clean_df[~clean_df.reviews_username.isna()]"
   ]
  },
  {
   "cell_type": "code",
   "execution_count": 23,
   "metadata": {
    "execution": {
     "iopub.execute_input": "2025-04-27T13:49:11.051057Z",
     "iopub.status.busy": "2025-04-27T13:49:11.050307Z",
     "iopub.status.idle": "2025-04-27T13:49:11.055823Z",
     "shell.execute_reply": "2025-04-27T13:49:11.055162Z",
     "shell.execute_reply.started": "2025-04-27T13:49:11.051036Z"
    },
    "trusted": true
   },
   "outputs": [
    {
     "data": {
      "text/plain": [
       "(29748, 10)"
      ]
     },
     "execution_count": 23,
     "metadata": {},
     "output_type": "execute_result"
    }
   ],
   "source": [
    "clean_df.shape"
   ]
  },
  {
   "cell_type": "markdown",
   "metadata": {},
   "source": [
    "##### **COLUMN:reviews_date** won't provide much useful information hence we can drop it"
   ]
  },
  {
   "cell_type": "code",
   "execution_count": 24,
   "metadata": {
    "execution": {
     "iopub.execute_input": "2025-04-27T13:49:11.056724Z",
     "iopub.status.busy": "2025-04-27T13:49:11.056544Z",
     "iopub.status.idle": "2025-04-27T13:49:11.070254Z",
     "shell.execute_reply": "2025-04-27T13:49:11.069490Z",
     "shell.execute_reply.started": "2025-04-27T13:49:11.056711Z"
    },
    "trusted": true
   },
   "outputs": [
    {
     "data": {
      "text/plain": [
       "(29748, 9)"
      ]
     },
     "execution_count": 24,
     "metadata": {},
     "output_type": "execute_result"
    }
   ],
   "source": [
    "clean_df.drop(columns=\"reviews_date\", inplace=True)\n",
    "clean_df.shape"
   ]
  },
  {
   "cell_type": "code",
   "execution_count": 25,
   "metadata": {
    "execution": {
     "iopub.execute_input": "2025-04-27T13:49:11.071403Z",
     "iopub.status.busy": "2025-04-27T13:49:11.071169Z",
     "iopub.status.idle": "2025-04-27T13:49:11.136956Z",
     "shell.execute_reply": "2025-04-27T13:49:11.136204Z",
     "shell.execute_reply.started": "2025-04-27T13:49:11.071379Z"
    },
    "trusted": true
   },
   "outputs": [
    {
     "data": {
      "text/html": [
       "<div>\n",
       "<style scoped>\n",
       "    .dataframe tbody tr th:only-of-type {\n",
       "        vertical-align: middle;\n",
       "    }\n",
       "\n",
       "    .dataframe tbody tr th {\n",
       "        vertical-align: top;\n",
       "    }\n",
       "\n",
       "    .dataframe thead th {\n",
       "        text-align: right;\n",
       "    }\n",
       "</style>\n",
       "<table border=\"1\" class=\"dataframe\">\n",
       "  <thead>\n",
       "    <tr style=\"text-align: right;\">\n",
       "      <th></th>\n",
       "      <th>Null values</th>\n",
       "      <th>Unique values</th>\n",
       "    </tr>\n",
       "  </thead>\n",
       "  <tbody>\n",
       "    <tr>\n",
       "      <th>user_sentiment</th>\n",
       "      <td>0.003362</td>\n",
       "      <td>2</td>\n",
       "    </tr>\n",
       "    <tr>\n",
       "      <th>id</th>\n",
       "      <td>0.000000</td>\n",
       "      <td>252</td>\n",
       "    </tr>\n",
       "    <tr>\n",
       "      <th>brand</th>\n",
       "      <td>0.000000</td>\n",
       "      <td>199</td>\n",
       "    </tr>\n",
       "    <tr>\n",
       "      <th>name</th>\n",
       "      <td>0.000000</td>\n",
       "      <td>252</td>\n",
       "    </tr>\n",
       "    <tr>\n",
       "      <th>categories</th>\n",
       "      <td>0.000000</td>\n",
       "      <td>252</td>\n",
       "    </tr>\n",
       "    <tr>\n",
       "      <th>reviews_rating</th>\n",
       "      <td>0.000000</td>\n",
       "      <td>5</td>\n",
       "    </tr>\n",
       "    <tr>\n",
       "      <th>reviews_text</th>\n",
       "      <td>0.000000</td>\n",
       "      <td>27042</td>\n",
       "    </tr>\n",
       "    <tr>\n",
       "      <th>reviews_title</th>\n",
       "      <td>0.000000</td>\n",
       "      <td>18490</td>\n",
       "    </tr>\n",
       "    <tr>\n",
       "      <th>reviews_username</th>\n",
       "      <td>0.000000</td>\n",
       "      <td>24788</td>\n",
       "    </tr>\n",
       "  </tbody>\n",
       "</table>\n",
       "</div>"
      ],
      "text/plain": [
       "                  Null values  Unique values\n",
       "user_sentiment       0.003362              2\n",
       "id                   0.000000            252\n",
       "brand                0.000000            199\n",
       "name                 0.000000            252\n",
       "categories           0.000000            252\n",
       "reviews_rating       0.000000              5\n",
       "reviews_text         0.000000          27042\n",
       "reviews_title        0.000000          18490\n",
       "reviews_username     0.000000          24788"
      ]
     },
     "execution_count": 25,
     "metadata": {},
     "output_type": "execute_result"
    }
   ],
   "source": [
    "null_value_check(clean_df)"
   ]
  },
  {
   "cell_type": "markdown",
   "metadata": {},
   "source": [
    "##### **COLUMN: user_sentiment**"
   ]
  },
  {
   "cell_type": "code",
   "execution_count": 26,
   "metadata": {
    "execution": {
     "iopub.execute_input": "2025-04-27T13:49:11.137971Z",
     "iopub.status.busy": "2025-04-27T13:49:11.137712Z",
     "iopub.status.idle": "2025-04-27T13:49:11.145302Z",
     "shell.execute_reply": "2025-04-27T13:49:11.144609Z",
     "shell.execute_reply.started": "2025-04-27T13:49:11.137955Z"
    },
    "trusted": true
   },
   "outputs": [
    {
     "data": {
      "text/plain": [
       "user_sentiment\n",
       "Positive    0.887888\n",
       "Negative    0.112112\n",
       "Name: proportion, dtype: float64"
      ]
     },
     "execution_count": 26,
     "metadata": {},
     "output_type": "execute_result"
    }
   ],
   "source": [
    "clean_df['user_sentiment'].value_counts(1)"
   ]
  },
  {
   "cell_type": "code",
   "execution_count": 27,
   "metadata": {
    "execution": {
     "iopub.execute_input": "2025-04-27T13:49:11.146272Z",
     "iopub.status.busy": "2025-04-27T13:49:11.146003Z",
     "iopub.status.idle": "2025-04-27T13:49:11.162357Z",
     "shell.execute_reply": "2025-04-27T13:49:11.161797Z",
     "shell.execute_reply.started": "2025-04-27T13:49:11.146254Z"
    },
    "trusted": true
   },
   "outputs": [
    {
     "data": {
      "text/html": [
       "<div>\n",
       "<style scoped>\n",
       "    .dataframe tbody tr th:only-of-type {\n",
       "        vertical-align: middle;\n",
       "    }\n",
       "\n",
       "    .dataframe tbody tr th {\n",
       "        vertical-align: top;\n",
       "    }\n",
       "\n",
       "    .dataframe thead th {\n",
       "        text-align: right;\n",
       "    }\n",
       "</style>\n",
       "<table border=\"1\" class=\"dataframe\">\n",
       "  <thead>\n",
       "    <tr style=\"text-align: right;\">\n",
       "      <th></th>\n",
       "      <th>id</th>\n",
       "      <th>brand</th>\n",
       "      <th>categories</th>\n",
       "      <th>name</th>\n",
       "      <th>reviews_rating</th>\n",
       "      <th>reviews_text</th>\n",
       "      <th>reviews_title</th>\n",
       "      <th>reviews_username</th>\n",
       "      <th>user_sentiment</th>\n",
       "    </tr>\n",
       "  </thead>\n",
       "  <tbody>\n",
       "    <tr>\n",
       "      <th>28354</th>\n",
       "      <td>AVpfRTh1ilAPnD_xYic2</td>\n",
       "      <td>Disney</td>\n",
       "      <td>Movies, Music &amp; Books,Movies,Kids' &amp; Family,Wa...</td>\n",
       "      <td>Planes: Fire Rescue (2 Discs) (includes Digita...</td>\n",
       "      <td>5</td>\n",
       "      <td>my kids absolutely loved this film so much tha...</td>\n",
       "      <td>a super hit with my children. they loved it!!??</td>\n",
       "      <td>7.87E+11</td>\n",
       "      <td>NaN</td>\n",
       "    </tr>\n",
       "  </tbody>\n",
       "</table>\n",
       "</div>"
      ],
      "text/plain": [
       "                         id   brand  \\\n",
       "28354  AVpfRTh1ilAPnD_xYic2  Disney   \n",
       "\n",
       "                                              categories  \\\n",
       "28354  Movies, Music & Books,Movies,Kids' & Family,Wa...   \n",
       "\n",
       "                                                    name  reviews_rating  \\\n",
       "28354  Planes: Fire Rescue (2 Discs) (includes Digita...               5   \n",
       "\n",
       "                                            reviews_text  \\\n",
       "28354  my kids absolutely loved this film so much tha...   \n",
       "\n",
       "                                         reviews_title reviews_username  \\\n",
       "28354  a super hit with my children. they loved it!!??         7.87E+11   \n",
       "\n",
       "      user_sentiment  \n",
       "28354            NaN  "
      ]
     },
     "execution_count": 27,
     "metadata": {},
     "output_type": "execute_result"
    }
   ],
   "source": [
    "clean_df[clean_df['user_sentiment'].isna()]"
   ]
  },
  {
   "cell_type": "markdown",
   "metadata": {},
   "source": [
    "##### Since there is only one value of null user sentiment, and the majority of the reviews are of positive sentiment. Also from the reviews_text we can see that it is a positive sentiment hence, we can fill this null value as positive"
   ]
  },
  {
   "cell_type": "code",
   "execution_count": 28,
   "metadata": {
    "execution": {
     "iopub.execute_input": "2025-04-27T13:49:11.168038Z",
     "iopub.status.busy": "2025-04-27T13:49:11.167846Z",
     "iopub.status.idle": "2025-04-27T13:49:11.181606Z",
     "shell.execute_reply": "2025-04-27T13:49:11.180977Z",
     "shell.execute_reply.started": "2025-04-27T13:49:11.168024Z"
    },
    "trusted": true
   },
   "outputs": [],
   "source": [
    "clean_df['user_sentiment'] = clean_df['user_sentiment'].fillna('Positive')"
   ]
  },
  {
   "cell_type": "code",
   "execution_count": 29,
   "metadata": {
    "execution": {
     "iopub.execute_input": "2025-04-27T13:49:11.182492Z",
     "iopub.status.busy": "2025-04-27T13:49:11.182291Z",
     "iopub.status.idle": "2025-04-27T13:49:11.248483Z",
     "shell.execute_reply": "2025-04-27T13:49:11.247960Z",
     "shell.execute_reply.started": "2025-04-27T13:49:11.182478Z"
    },
    "trusted": true
   },
   "outputs": [
    {
     "data": {
      "text/html": [
       "<div>\n",
       "<style scoped>\n",
       "    .dataframe tbody tr th:only-of-type {\n",
       "        vertical-align: middle;\n",
       "    }\n",
       "\n",
       "    .dataframe tbody tr th {\n",
       "        vertical-align: top;\n",
       "    }\n",
       "\n",
       "    .dataframe thead th {\n",
       "        text-align: right;\n",
       "    }\n",
       "</style>\n",
       "<table border=\"1\" class=\"dataframe\">\n",
       "  <thead>\n",
       "    <tr style=\"text-align: right;\">\n",
       "      <th></th>\n",
       "      <th>Null values</th>\n",
       "      <th>Unique values</th>\n",
       "    </tr>\n",
       "  </thead>\n",
       "  <tbody>\n",
       "    <tr>\n",
       "      <th>id</th>\n",
       "      <td>0.0</td>\n",
       "      <td>252</td>\n",
       "    </tr>\n",
       "    <tr>\n",
       "      <th>brand</th>\n",
       "      <td>0.0</td>\n",
       "      <td>199</td>\n",
       "    </tr>\n",
       "    <tr>\n",
       "      <th>categories</th>\n",
       "      <td>0.0</td>\n",
       "      <td>252</td>\n",
       "    </tr>\n",
       "    <tr>\n",
       "      <th>name</th>\n",
       "      <td>0.0</td>\n",
       "      <td>252</td>\n",
       "    </tr>\n",
       "    <tr>\n",
       "      <th>reviews_rating</th>\n",
       "      <td>0.0</td>\n",
       "      <td>5</td>\n",
       "    </tr>\n",
       "    <tr>\n",
       "      <th>reviews_text</th>\n",
       "      <td>0.0</td>\n",
       "      <td>27042</td>\n",
       "    </tr>\n",
       "    <tr>\n",
       "      <th>reviews_title</th>\n",
       "      <td>0.0</td>\n",
       "      <td>18490</td>\n",
       "    </tr>\n",
       "    <tr>\n",
       "      <th>reviews_username</th>\n",
       "      <td>0.0</td>\n",
       "      <td>24788</td>\n",
       "    </tr>\n",
       "    <tr>\n",
       "      <th>user_sentiment</th>\n",
       "      <td>0.0</td>\n",
       "      <td>2</td>\n",
       "    </tr>\n",
       "  </tbody>\n",
       "</table>\n",
       "</div>"
      ],
      "text/plain": [
       "                  Null values  Unique values\n",
       "id                        0.0            252\n",
       "brand                     0.0            199\n",
       "categories                0.0            252\n",
       "name                      0.0            252\n",
       "reviews_rating            0.0              5\n",
       "reviews_text              0.0          27042\n",
       "reviews_title             0.0          18490\n",
       "reviews_username          0.0          24788\n",
       "user_sentiment            0.0              2"
      ]
     },
     "execution_count": 29,
     "metadata": {},
     "output_type": "execute_result"
    }
   ],
   "source": [
    "null_value_check(clean_df)"
   ]
  },
  {
   "cell_type": "code",
   "execution_count": 30,
   "metadata": {
    "execution": {
     "iopub.execute_input": "2025-04-27T13:49:11.249398Z",
     "iopub.status.busy": "2025-04-27T13:49:11.249152Z",
     "iopub.status.idle": "2025-04-27T13:49:11.253867Z",
     "shell.execute_reply": "2025-04-27T13:49:11.253243Z",
     "shell.execute_reply.started": "2025-04-27T13:49:11.249374Z"
    },
    "trusted": true
   },
   "outputs": [
    {
     "data": {
      "text/plain": [
       "(29748, 9)"
      ]
     },
     "execution_count": 30,
     "metadata": {},
     "output_type": "execute_result"
    }
   ],
   "source": [
    "clean_df.shape"
   ]
  },
  {
   "cell_type": "markdown",
   "metadata": {},
   "source": [
    "##### As seen above we have handled the null values for all the essential columns."
   ]
  },
  {
   "cell_type": "markdown",
   "metadata": {},
   "source": [
    "#### Exploratory data analysis"
   ]
  },
  {
   "cell_type": "code",
   "execution_count": 31,
   "metadata": {
    "execution": {
     "iopub.execute_input": "2025-04-27T13:49:11.254628Z",
     "iopub.status.busy": "2025-04-27T13:49:11.254450Z",
     "iopub.status.idle": "2025-04-27T13:49:11.270380Z",
     "shell.execute_reply": "2025-04-27T13:49:11.269669Z",
     "shell.execute_reply.started": "2025-04-27T13:49:11.254614Z"
    },
    "trusted": true
   },
   "outputs": [],
   "source": [
    "EDA_copy_df=clean_df.copy()"
   ]
  },
  {
   "cell_type": "code",
   "execution_count": 32,
   "metadata": {
    "execution": {
     "iopub.execute_input": "2025-04-27T13:49:11.271322Z",
     "iopub.status.busy": "2025-04-27T13:49:11.271076Z",
     "iopub.status.idle": "2025-04-27T13:49:11.276018Z",
     "shell.execute_reply": "2025-04-27T13:49:11.275416Z",
     "shell.execute_reply.started": "2025-04-27T13:49:11.271302Z"
    },
    "trusted": true
   },
   "outputs": [
    {
     "data": {
      "text/plain": [
       "(29748, 9)"
      ]
     },
     "execution_count": 32,
     "metadata": {},
     "output_type": "execute_result"
    }
   ],
   "source": [
    "EDA_copy_df.shape"
   ]
  },
  {
   "cell_type": "code",
   "execution_count": 33,
   "metadata": {
    "execution": {
     "iopub.execute_input": "2025-04-27T13:49:11.277045Z",
     "iopub.status.busy": "2025-04-27T13:49:11.276727Z",
     "iopub.status.idle": "2025-04-27T13:49:11.288479Z",
     "shell.execute_reply": "2025-04-27T13:49:11.287952Z",
     "shell.execute_reply.started": "2025-04-27T13:49:11.277020Z"
    },
    "trusted": true
   },
   "outputs": [
    {
     "data": {
      "text/plain": [
       "Index(['id', 'brand', 'categories', 'name', 'reviews_rating', 'reviews_text',\n",
       "       'reviews_title', 'reviews_username', 'user_sentiment'],\n",
       "      dtype='object')"
      ]
     },
     "execution_count": 33,
     "metadata": {},
     "output_type": "execute_result"
    }
   ],
   "source": [
    "EDA_copy_df.columns"
   ]
  },
  {
   "cell_type": "code",
   "execution_count": 34,
   "metadata": {
    "execution": {
     "iopub.execute_input": "2025-04-27T13:49:11.289316Z",
     "iopub.status.busy": "2025-04-27T13:49:11.289124Z",
     "iopub.status.idle": "2025-04-27T13:49:11.312778Z",
     "shell.execute_reply": "2025-04-27T13:49:11.312274Z",
     "shell.execute_reply.started": "2025-04-27T13:49:11.289301Z"
    },
    "trusted": true
   },
   "outputs": [
    {
     "name": "stderr",
     "output_type": "stream",
     "text": [
      "/tmp/ipykernel_31/249438789.py:3: FutureWarning: Downcasting behavior in `replace` is deprecated and will be removed in a future version. To retain the old behavior, explicitly call `result.infer_objects(copy=False)`. To opt-in to the future behavior, set `pd.set_option('future.no_silent_downcasting', True)`\n",
      "  EDA_copy_df['user_sentiment_binary'] = EDA_copy_df['user_sentiment'].replace({'Positive': 0, 'Negative': 1})\n"
     ]
    },
    {
     "data": {
      "text/plain": [
       "0    0\n",
       "1    0\n",
       "2    0\n",
       "3    1\n",
       "4    1\n",
       "Name: user_sentiment_binary, dtype: int64"
      ]
     },
     "execution_count": 34,
     "metadata": {},
     "output_type": "execute_result"
    }
   ],
   "source": [
    "#Converting the Positive user sentiment =0; Negative user sentiment = 1\n",
    "\n",
    "EDA_copy_df['user_sentiment_binary'] = EDA_copy_df['user_sentiment'].replace({'Positive': 0, 'Negative': 1})\n",
    "EDA_copy_df['user_sentiment_binary'].head()"
   ]
  },
  {
   "cell_type": "markdown",
   "metadata": {},
   "source": [
    "##### Let's analyse column - **Brand**"
   ]
  },
  {
   "cell_type": "code",
   "execution_count": 35,
   "metadata": {
    "execution": {
     "iopub.execute_input": "2025-04-27T13:49:11.314302Z",
     "iopub.status.busy": "2025-04-27T13:49:11.313520Z",
     "iopub.status.idle": "2025-04-27T13:49:11.466337Z",
     "shell.execute_reply": "2025-04-27T13:49:11.465682Z",
     "shell.execute_reply.started": "2025-04-27T13:49:11.314284Z"
    },
    "trusted": true
   },
   "outputs": [
    {
     "data": {
      "image/png": "[encoded data removed]",
      "text/plain": [
       "<Figure size 1000x600 with 1 Axes>"
      ]
     },
     "metadata": {},
     "output_type": "display_data"
    }
   ],
   "source": [
    "top_5_brands = EDA_copy_df['brand'].value_counts().head(5).index\n",
    "filtered_df = EDA_copy_df[EDA_copy_df['brand'].isin(top_5_brands)]\n",
    "\n",
    "plt.figure(figsize=(10,6))\n",
    "sns.countplot(data=filtered_df, x='brand', order=top_5_brands)\n",
    "plt.title('Top 5 Brands Count')\n",
    "plt.xlabel('Brands')\n",
    "plt.ylabel('Count')\n",
    "plt.show()"
   ]
  },
  {
   "cell_type": "markdown",
   "metadata": {},
   "source": [
    "##### We can see from the above graph that the **brand Clorox has the highest reviews in the dataset**\n",
    "\n",
    "##### Let's now see the **sentiments of the users with the brand clorox**"
   ]
  },
  {
   "cell_type": "code",
   "execution_count": 36,
   "metadata": {
    "execution": {
     "iopub.execute_input": "2025-04-27T13:49:11.467153Z",
     "iopub.status.busy": "2025-04-27T13:49:11.466965Z",
     "iopub.status.idle": "2025-04-27T13:49:11.675593Z",
     "shell.execute_reply": "2025-04-27T13:49:11.674985Z",
     "shell.execute_reply.started": "2025-04-27T13:49:11.467138Z"
    },
    "trusted": true
   },
   "outputs": [
    {
     "data": {
      "text/plain": [
       "<Figure size 1000x600 with 0 Axes>"
      ]
     },
     "metadata": {},
     "output_type": "display_data"
    },
    {
     "data": {
      "image/png": "[encoded data removed]",
      "text/plain": [
       "<Figure size 640x480 with 1 Axes>"
      ]
     },
     "metadata": {},
     "output_type": "display_data"
    }
   ],
   "source": [
    "sentiment_counts = filtered_df.groupby(['brand', 'user_sentiment_binary']).size().unstack(fill_value=0)\n",
    "\n",
    "plt.figure(figsize=(10,6))\n",
    "sentiment_counts.plot(kind='barh', stacked=True, color=['green', 'red'])\n",
    "\n",
    "plt.title('Top 5 Brands Sentiment Distribution')\n",
    "plt.xlabel('Number of Reviews')\n",
    "plt.ylabel('Brands')\n",
    "plt.legend(['Positive (0)', 'Negative (1)'])\n",
    "plt.grid(axis='x')\n",
    "plt.show()"
   ]
  },
  {
   "cell_type": "markdown",
   "metadata": {},
   "source": [
    "##### We can observe that out of the top 5 brands, all of them have almost positive sentiment. But **Clorox has the highest positive reviews** and also approximately 1000 negative sentiments"
   ]
  },
  {
   "cell_type": "markdown",
   "metadata": {},
   "source": [
    "##### Let's analyze the column **Product name**"
   ]
  },
  {
   "cell_type": "code",
   "execution_count": 37,
   "metadata": {
    "execution": {
     "iopub.execute_input": "2025-04-27T13:49:11.676647Z",
     "iopub.status.busy": "2025-04-27T13:49:11.676384Z",
     "iopub.status.idle": "2025-04-27T13:49:11.684045Z",
     "shell.execute_reply": "2025-04-27T13:49:11.683242Z",
     "shell.execute_reply.started": "2025-04-27T13:49:11.676625Z"
    },
    "trusted": true
   },
   "outputs": [
    {
     "data": {
      "text/plain": [
       "name\n",
       "Clorox Disinfecting Wipes Value Pack Scented 150 Ct Total                         8524\n",
       "Godzilla 3d Includes Digital Copy Ultraviolet 3d/2d Blu-Ray/dvd                   3324\n",
       "Clorox Disinfecting Bathroom Cleaner                                              2039\n",
       "L'or233al Paris Elvive Extraordinary Clay Rebalancing Conditioner - 12.6 Fl Oz    1186\n",
       "Planes: Fire Rescue (2 Discs) (includes Digital Copy) (blu-Ray/dvd)               1140\n",
       "Name: count, dtype: int64"
      ]
     },
     "execution_count": 37,
     "metadata": {},
     "output_type": "execute_result"
    }
   ],
   "source": [
    "EDA_copy_df['name'].value_counts().head()"
   ]
  },
  {
   "cell_type": "code",
   "execution_count": 38,
   "metadata": {
    "execution": {
     "iopub.execute_input": "2025-04-27T13:49:11.684927Z",
     "iopub.status.busy": "2025-04-27T13:49:11.684668Z",
     "iopub.status.idle": "2025-04-27T13:49:11.703592Z",
     "shell.execute_reply": "2025-04-27T13:49:11.702830Z",
     "shell.execute_reply.started": "2025-04-27T13:49:11.684910Z"
    },
    "trusted": true
   },
   "outputs": [],
   "source": [
    "short_labels = {\n",
    "    \"Clorox Disinfecting Wipes Value Pack Scented 150 Ct Total\": \"Clorox Wipes\",\n",
    "    \"Godzilla 3d Includes Digital Copy Ultraviolet 3d/2d Blu-Ray/dvd\": \"Godzilla 3D\",\n",
    "    \"Clorox Disinfecting Bathroom Cleaner\": \"Clorox Bathroom Cleaner\",\n",
    "    \"L'or233al Paris Elvive Extraordinary Clay Rebalancing Conditioner - 12.6 Fl Oz\": \"Loreal Conditioner\",\n",
    "    \"Planes: Fire Rescue (2 Discs) (includes Digital Copy) (blu-Ray/dvd)\": \"Planes Fire Rescue\"\n",
    "}\n",
    "\n",
    "EDA_copy_df['short_name'] = EDA_copy_df['name'].replace(short_labels)"
   ]
  },
  {
   "cell_type": "code",
   "execution_count": 39,
   "metadata": {
    "execution": {
     "iopub.execute_input": "2025-04-27T13:49:11.704597Z",
     "iopub.status.busy": "2025-04-27T13:49:11.704389Z",
     "iopub.status.idle": "2025-04-27T13:49:11.859590Z",
     "shell.execute_reply": "2025-04-27T13:49:11.858920Z",
     "shell.execute_reply.started": "2025-04-27T13:49:11.704576Z"
    },
    "trusted": true
   },
   "outputs": [
    {
     "data": {
      "image/png": "[encoded data removed]",
      "text/plain": [
       "<Figure size 1000x600 with 1 Axes>"
      ]
     },
     "metadata": {},
     "output_type": "display_data"
    }
   ],
   "source": [
    "top_5_products = EDA_copy_df['short_name'].value_counts().head(5).index\n",
    "filtered_df_new = EDA_copy_df[EDA_copy_df['short_name'].isin(top_5_products)]\n",
    "\n",
    "plt.figure(figsize=(10,6))\n",
    "sns.countplot(data=filtered_df_new, x='short_name', order=top_5_products)\n",
    "plt.title('Top 5 products Count')\n",
    "plt.xlabel('Products')\n",
    "plt.ylabel('Count')\n",
    "plt.show()"
   ]
  },
  {
   "cell_type": "markdown",
   "metadata": {},
   "source": [
    "##### We can see that out of the top 5 reviewed products, **number 1 reviewed product is Clorox wipes**"
   ]
  },
  {
   "cell_type": "code",
   "execution_count": 40,
   "metadata": {
    "execution": {
     "iopub.execute_input": "2025-04-27T13:49:11.860626Z",
     "iopub.status.busy": "2025-04-27T13:49:11.860378Z",
     "iopub.status.idle": "2025-04-27T13:49:12.025830Z",
     "shell.execute_reply": "2025-04-27T13:49:12.025133Z",
     "shell.execute_reply.started": "2025-04-27T13:49:11.860602Z"
    },
    "trusted": true
   },
   "outputs": [
    {
     "data": {
      "text/plain": [
       "<Figure size 1000x600 with 0 Axes>"
      ]
     },
     "metadata": {},
     "output_type": "display_data"
    },
    {
     "data": {
      "image/png": "[encoded data removed]",
      "text/plain": [
       "<Figure size 640x480 with 1 Axes>"
      ]
     },
     "metadata": {},
     "output_type": "display_data"
    }
   ],
   "source": [
    "sentiment_counts = filtered_df_new.groupby(['short_name', 'user_sentiment_binary']).size().unstack(fill_value=0)\n",
    "\n",
    "plt.figure(figsize=(10,6))\n",
    "sentiment_counts.plot(kind='barh', stacked=True, color=['green', 'red'])\n",
    "\n",
    "plt.title('Top 5 Brands Sentiment Distribution')\n",
    "plt.xlabel('Number of Reviews')\n",
    "plt.ylabel('Products')\n",
    "plt.legend(['Positive (0)', 'Negative (1)'])\n",
    "plt.grid(axis='x')\n",
    "plt.show()"
   ]
  },
  {
   "cell_type": "markdown",
   "metadata": {},
   "source": [
    "##### We can see that the **overall sentiment is positive for the top reviewed products**"
   ]
  },
  {
   "cell_type": "markdown",
   "metadata": {},
   "source": [
    "##### Let's analyze the **reviews_rating**"
   ]
  },
  {
   "cell_type": "code",
   "execution_count": 41,
   "metadata": {
    "execution": {
     "iopub.execute_input": "2025-04-27T13:49:12.026892Z",
     "iopub.status.busy": "2025-04-27T13:49:12.026567Z",
     "iopub.status.idle": "2025-04-27T13:49:12.175428Z",
     "shell.execute_reply": "2025-04-27T13:49:12.174624Z",
     "shell.execute_reply.started": "2025-04-27T13:49:12.026862Z"
    },
    "trusted": true
   },
   "outputs": [
    {
     "data": {
      "image/png": "[encoded data removed]",
      "text/plain": [
       "<Figure size 1000x600 with 1 Axes>"
      ]
     },
     "metadata": {},
     "output_type": "display_data"
    }
   ],
   "source": [
    "plt.figure(figsize=(10,6))\n",
    "sns.countplot(data=EDA_copy_df, x='reviews_rating')\n",
    "plt.title('Review distribution')\n",
    "plt.xlabel('Review')\n",
    "plt.ylabel('Count')\n",
    "plt.show()"
   ]
  },
  {
   "cell_type": "markdown",
   "metadata": {},
   "source": [
    "##### We can see from the above graph that the **majority of reviews are rated 5 stars**"
   ]
  },
  {
   "cell_type": "markdown",
   "metadata": {},
   "source": [
    "##### Let's analyze the **user_sentiment** column"
   ]
  },
  {
   "cell_type": "code",
   "execution_count": 42,
   "metadata": {
    "execution": {
     "iopub.execute_input": "2025-04-27T13:49:12.176523Z",
     "iopub.status.busy": "2025-04-27T13:49:12.176296Z",
     "iopub.status.idle": "2025-04-27T13:49:12.305629Z",
     "shell.execute_reply": "2025-04-27T13:49:12.305078Z",
     "shell.execute_reply.started": "2025-04-27T13:49:12.176507Z"
    },
    "trusted": true
   },
   "outputs": [
    {
     "data": {
      "image/png": "[encoded data removed]",
      "text/plain": [
       "<Figure size 1000x600 with 1 Axes>"
      ]
     },
     "metadata": {},
     "output_type": "display_data"
    }
   ],
   "source": [
    "plt.figure(figsize=(10,6))\n",
    "sns.countplot(data=EDA_copy_df, x='user_sentiment')\n",
    "plt.title('Sentiment distribution')\n",
    "plt.xlabel('Sentiment')\n",
    "plt.ylabel('Count')\n",
    "plt.show()"
   ]
  },
  {
   "cell_type": "markdown",
   "metadata": {},
   "source": [
    "##### We can see from the above graph that **the positive reviews are more than 25,000 whereas negative reviews are less than 5,000**, so there would be a class imbalance which we will be balancing in the training data set"
   ]
  },
  {
   "cell_type": "markdown",
   "metadata": {},
   "source": [
    "##### The other columns:\n",
    "\n",
    "##### * id-> unique product ids for each product\n",
    "##### * reviews_text, reviews_title, reviews_username, categories-> these are text review columns that cannot be analyzed and is self explanatory\n"
   ]
  },
  {
   "cell_type": "markdown",
   "metadata": {},
   "source": [
    "#### Text Pre-processing"
   ]
  },
  {
   "cell_type": "code",
   "execution_count": 43,
   "metadata": {
    "execution": {
     "iopub.execute_input": "2025-04-27T13:49:12.306607Z",
     "iopub.status.busy": "2025-04-27T13:49:12.306363Z",
     "iopub.status.idle": "2025-04-27T13:49:12.315973Z",
     "shell.execute_reply": "2025-04-27T13:49:12.315169Z",
     "shell.execute_reply.started": "2025-04-27T13:49:12.306590Z"
    },
    "trusted": true
   },
   "outputs": [
    {
     "data": {
      "text/html": [
       "<div>\n",
       "<style scoped>\n",
       "    .dataframe tbody tr th:only-of-type {\n",
       "        vertical-align: middle;\n",
       "    }\n",
       "\n",
       "    .dataframe tbody tr th {\n",
       "        vertical-align: top;\n",
       "    }\n",
       "\n",
       "    .dataframe thead th {\n",
       "        text-align: right;\n",
       "    }\n",
       "</style>\n",
       "<table border=\"1\" class=\"dataframe\">\n",
       "  <thead>\n",
       "    <tr style=\"text-align: right;\">\n",
       "      <th></th>\n",
       "      <th>id</th>\n",
       "      <th>brand</th>\n",
       "      <th>categories</th>\n",
       "      <th>name</th>\n",
       "      <th>reviews_rating</th>\n",
       "      <th>reviews_text</th>\n",
       "      <th>reviews_title</th>\n",
       "      <th>reviews_username</th>\n",
       "      <th>user_sentiment</th>\n",
       "    </tr>\n",
       "  </thead>\n",
       "  <tbody>\n",
       "    <tr>\n",
       "      <th>0</th>\n",
       "      <td>AV13O1A8GV-KLJ3akUyj</td>\n",
       "      <td>Universal Music</td>\n",
       "      <td>Movies, Music &amp; Books,Music,R&amp;b,Movies &amp; TV,Mo...</td>\n",
       "      <td>Pink Friday: Roman Reloaded Re-Up (w/dvd)</td>\n",
       "      <td>5</td>\n",
       "      <td>i love this album. it's very good. more to the...</td>\n",
       "      <td>Just Awesome</td>\n",
       "      <td>joshua</td>\n",
       "      <td>Positive</td>\n",
       "    </tr>\n",
       "    <tr>\n",
       "      <th>1</th>\n",
       "      <td>AV14LG0R-jtxr-f38QfS</td>\n",
       "      <td>Lundberg</td>\n",
       "      <td>Food,Packaged Foods,Snacks,Crackers,Snacks, Co...</td>\n",
       "      <td>Lundberg Organic Cinnamon Toast Rice Cakes</td>\n",
       "      <td>5</td>\n",
       "      <td>Good flavor. This review was collected as part...</td>\n",
       "      <td>Good</td>\n",
       "      <td>dorothy w</td>\n",
       "      <td>Positive</td>\n",
       "    </tr>\n",
       "    <tr>\n",
       "      <th>2</th>\n",
       "      <td>AV14LG0R-jtxr-f38QfS</td>\n",
       "      <td>Lundberg</td>\n",
       "      <td>Food,Packaged Foods,Snacks,Crackers,Snacks, Co...</td>\n",
       "      <td>Lundberg Organic Cinnamon Toast Rice Cakes</td>\n",
       "      <td>5</td>\n",
       "      <td>Good flavor.</td>\n",
       "      <td>Good</td>\n",
       "      <td>dorothy w</td>\n",
       "      <td>Positive</td>\n",
       "    </tr>\n",
       "    <tr>\n",
       "      <th>3</th>\n",
       "      <td>AV16khLE-jtxr-f38VFn</td>\n",
       "      <td>K-Y</td>\n",
       "      <td>Personal Care,Medicine Cabinet,Lubricant/Sperm...</td>\n",
       "      <td>K-Y Love Sensuality Pleasure Gel</td>\n",
       "      <td>1</td>\n",
       "      <td>I read through the reviews on here before look...</td>\n",
       "      <td>Disappointed</td>\n",
       "      <td>rebecca</td>\n",
       "      <td>Negative</td>\n",
       "    </tr>\n",
       "    <tr>\n",
       "      <th>4</th>\n",
       "      <td>AV16khLE-jtxr-f38VFn</td>\n",
       "      <td>K-Y</td>\n",
       "      <td>Personal Care,Medicine Cabinet,Lubricant/Sperm...</td>\n",
       "      <td>K-Y Love Sensuality Pleasure Gel</td>\n",
       "      <td>1</td>\n",
       "      <td>My husband bought this gel for us. The gel cau...</td>\n",
       "      <td>Irritation</td>\n",
       "      <td>walker557</td>\n",
       "      <td>Negative</td>\n",
       "    </tr>\n",
       "  </tbody>\n",
       "</table>\n",
       "</div>"
      ],
      "text/plain": [
       "                     id            brand  \\\n",
       "0  AV13O1A8GV-KLJ3akUyj  Universal Music   \n",
       "1  AV14LG0R-jtxr-f38QfS         Lundberg   \n",
       "2  AV14LG0R-jtxr-f38QfS         Lundberg   \n",
       "3  AV16khLE-jtxr-f38VFn              K-Y   \n",
       "4  AV16khLE-jtxr-f38VFn              K-Y   \n",
       "\n",
       "                                          categories  \\\n",
       "0  Movies, Music & Books,Music,R&b,Movies & TV,Mo...   \n",
       "1  Food,Packaged Foods,Snacks,Crackers,Snacks, Co...   \n",
       "2  Food,Packaged Foods,Snacks,Crackers,Snacks, Co...   \n",
       "3  Personal Care,Medicine Cabinet,Lubricant/Sperm...   \n",
       "4  Personal Care,Medicine Cabinet,Lubricant/Sperm...   \n",
       "\n",
       "                                         name  reviews_rating  \\\n",
       "0   Pink Friday: Roman Reloaded Re-Up (w/dvd)               5   \n",
       "1  Lundberg Organic Cinnamon Toast Rice Cakes               5   \n",
       "2  Lundberg Organic Cinnamon Toast Rice Cakes               5   \n",
       "3            K-Y Love Sensuality Pleasure Gel               1   \n",
       "4            K-Y Love Sensuality Pleasure Gel               1   \n",
       "\n",
       "                                        reviews_text reviews_title  \\\n",
       "0  i love this album. it's very good. more to the...  Just Awesome   \n",
       "1  Good flavor. This review was collected as part...          Good   \n",
       "2                                       Good flavor.          Good   \n",
       "3  I read through the reviews on here before look...  Disappointed   \n",
       "4  My husband bought this gel for us. The gel cau...    Irritation   \n",
       "\n",
       "  reviews_username user_sentiment  \n",
       "0           joshua       Positive  \n",
       "1        dorothy w       Positive  \n",
       "2        dorothy w       Positive  \n",
       "3          rebecca       Negative  \n",
       "4        walker557       Negative  "
      ]
     },
     "execution_count": 43,
     "metadata": {},
     "output_type": "execute_result"
    }
   ],
   "source": [
    "clean_df.head()"
   ]
  },
  {
   "cell_type": "code",
   "execution_count": 44,
   "metadata": {
    "execution": {
     "iopub.execute_input": "2025-04-27T13:49:12.317176Z",
     "iopub.status.busy": "2025-04-27T13:49:12.316900Z",
     "iopub.status.idle": "2025-04-27T13:49:12.338654Z",
     "shell.execute_reply": "2025-04-27T13:49:12.337921Z",
     "shell.execute_reply.started": "2025-04-27T13:49:12.317155Z"
    },
    "trusted": true
   },
   "outputs": [
    {
     "data": {
      "text/plain": [
       "(29748, 9)"
      ]
     },
     "execution_count": 44,
     "metadata": {},
     "output_type": "execute_result"
    }
   ],
   "source": [
    "final_df=clean_df.copy()\n",
    "final_df.shape"
   ]
  },
  {
   "cell_type": "code",
   "execution_count": 45,
   "metadata": {
    "execution": {
     "iopub.execute_input": "2025-04-27T13:49:12.339701Z",
     "iopub.status.busy": "2025-04-27T13:49:12.339502Z",
     "iopub.status.idle": "2025-04-27T13:49:12.365751Z",
     "shell.execute_reply": "2025-04-27T13:49:12.365178Z",
     "shell.execute_reply.started": "2025-04-27T13:49:12.339687Z"
    },
    "trusted": true
   },
   "outputs": [
    {
     "data": {
      "text/html": [
       "<div>\n",
       "<style scoped>\n",
       "    .dataframe tbody tr th:only-of-type {\n",
       "        vertical-align: middle;\n",
       "    }\n",
       "\n",
       "    .dataframe tbody tr th {\n",
       "        vertical-align: top;\n",
       "    }\n",
       "\n",
       "    .dataframe thead th {\n",
       "        text-align: right;\n",
       "    }\n",
       "</style>\n",
       "<table border=\"1\" class=\"dataframe\">\n",
       "  <thead>\n",
       "    <tr style=\"text-align: right;\">\n",
       "      <th></th>\n",
       "      <th>id</th>\n",
       "      <th>brand</th>\n",
       "      <th>categories</th>\n",
       "      <th>name</th>\n",
       "      <th>reviews_rating</th>\n",
       "      <th>reviews_text</th>\n",
       "      <th>reviews_title</th>\n",
       "      <th>reviews_username</th>\n",
       "      <th>user_sentiment</th>\n",
       "      <th>full_text</th>\n",
       "    </tr>\n",
       "  </thead>\n",
       "  <tbody>\n",
       "    <tr>\n",
       "      <th>0</th>\n",
       "      <td>AV13O1A8GV-KLJ3akUyj</td>\n",
       "      <td>Universal Music</td>\n",
       "      <td>Movies, Music &amp; Books,Music,R&amp;b,Movies &amp; TV,Mo...</td>\n",
       "      <td>Pink Friday: Roman Reloaded Re-Up (w/dvd)</td>\n",
       "      <td>5</td>\n",
       "      <td>i love this album. it's very good. more to the...</td>\n",
       "      <td>Just Awesome</td>\n",
       "      <td>joshua</td>\n",
       "      <td>Positive</td>\n",
       "      <td>i love this album. it's very good. more to the...</td>\n",
       "    </tr>\n",
       "    <tr>\n",
       "      <th>1</th>\n",
       "      <td>AV14LG0R-jtxr-f38QfS</td>\n",
       "      <td>Lundberg</td>\n",
       "      <td>Food,Packaged Foods,Snacks,Crackers,Snacks, Co...</td>\n",
       "      <td>Lundberg Organic Cinnamon Toast Rice Cakes</td>\n",
       "      <td>5</td>\n",
       "      <td>Good flavor. This review was collected as part...</td>\n",
       "      <td>Good</td>\n",
       "      <td>dorothy w</td>\n",
       "      <td>Positive</td>\n",
       "      <td>Good flavor. This review was collected as part...</td>\n",
       "    </tr>\n",
       "    <tr>\n",
       "      <th>2</th>\n",
       "      <td>AV14LG0R-jtxr-f38QfS</td>\n",
       "      <td>Lundberg</td>\n",
       "      <td>Food,Packaged Foods,Snacks,Crackers,Snacks, Co...</td>\n",
       "      <td>Lundberg Organic Cinnamon Toast Rice Cakes</td>\n",
       "      <td>5</td>\n",
       "      <td>Good flavor.</td>\n",
       "      <td>Good</td>\n",
       "      <td>dorothy w</td>\n",
       "      <td>Positive</td>\n",
       "      <td>Good flavor. Good</td>\n",
       "    </tr>\n",
       "    <tr>\n",
       "      <th>3</th>\n",
       "      <td>AV16khLE-jtxr-f38VFn</td>\n",
       "      <td>K-Y</td>\n",
       "      <td>Personal Care,Medicine Cabinet,Lubricant/Sperm...</td>\n",
       "      <td>K-Y Love Sensuality Pleasure Gel</td>\n",
       "      <td>1</td>\n",
       "      <td>I read through the reviews on here before look...</td>\n",
       "      <td>Disappointed</td>\n",
       "      <td>rebecca</td>\n",
       "      <td>Negative</td>\n",
       "      <td>I read through the reviews on here before look...</td>\n",
       "    </tr>\n",
       "    <tr>\n",
       "      <th>4</th>\n",
       "      <td>AV16khLE-jtxr-f38VFn</td>\n",
       "      <td>K-Y</td>\n",
       "      <td>Personal Care,Medicine Cabinet,Lubricant/Sperm...</td>\n",
       "      <td>K-Y Love Sensuality Pleasure Gel</td>\n",
       "      <td>1</td>\n",
       "      <td>My husband bought this gel for us. The gel cau...</td>\n",
       "      <td>Irritation</td>\n",
       "      <td>walker557</td>\n",
       "      <td>Negative</td>\n",
       "      <td>My husband bought this gel for us. The gel cau...</td>\n",
       "    </tr>\n",
       "  </tbody>\n",
       "</table>\n",
       "</div>"
      ],
      "text/plain": [
       "                     id            brand  \\\n",
       "0  AV13O1A8GV-KLJ3akUyj  Universal Music   \n",
       "1  AV14LG0R-jtxr-f38QfS         Lundberg   \n",
       "2  AV14LG0R-jtxr-f38QfS         Lundberg   \n",
       "3  AV16khLE-jtxr-f38VFn              K-Y   \n",
       "4  AV16khLE-jtxr-f38VFn              K-Y   \n",
       "\n",
       "                                          categories  \\\n",
       "0  Movies, Music & Books,Music,R&b,Movies & TV,Mo...   \n",
       "1  Food,Packaged Foods,Snacks,Crackers,Snacks, Co...   \n",
       "2  Food,Packaged Foods,Snacks,Crackers,Snacks, Co...   \n",
       "3  Personal Care,Medicine Cabinet,Lubricant/Sperm...   \n",
       "4  Personal Care,Medicine Cabinet,Lubricant/Sperm...   \n",
       "\n",
       "                                         name  reviews_rating  \\\n",
       "0   Pink Friday: Roman Reloaded Re-Up (w/dvd)               5   \n",
       "1  Lundberg Organic Cinnamon Toast Rice Cakes               5   \n",
       "2  Lundberg Organic Cinnamon Toast Rice Cakes               5   \n",
       "3            K-Y Love Sensuality Pleasure Gel               1   \n",
       "4            K-Y Love Sensuality Pleasure Gel               1   \n",
       "\n",
       "                                        reviews_text reviews_title  \\\n",
       "0  i love this album. it's very good. more to the...  Just Awesome   \n",
       "1  Good flavor. This review was collected as part...          Good   \n",
       "2                                       Good flavor.          Good   \n",
       "3  I read through the reviews on here before look...  Disappointed   \n",
       "4  My husband bought this gel for us. The gel cau...    Irritation   \n",
       "\n",
       "  reviews_username user_sentiment  \\\n",
       "0           joshua       Positive   \n",
       "1        dorothy w       Positive   \n",
       "2        dorothy w       Positive   \n",
       "3          rebecca       Negative   \n",
       "4        walker557       Negative   \n",
       "\n",
       "                                           full_text  \n",
       "0  i love this album. it's very good. more to the...  \n",
       "1  Good flavor. This review was collected as part...  \n",
       "2                                  Good flavor. Good  \n",
       "3  I read through the reviews on here before look...  \n",
       "4  My husband bought this gel for us. The gel cau...  "
      ]
     },
     "execution_count": 45,
     "metadata": {},
     "output_type": "execute_result"
    }
   ],
   "source": [
    "final_df['full_text']=final_df['reviews_text']+\" \"+final_df['reviews_title']\n",
    "final_df.head()"
   ]
  },
  {
   "cell_type": "code",
   "execution_count": 46,
   "metadata": {
    "execution": {
     "iopub.execute_input": "2025-04-27T13:49:12.367154Z",
     "iopub.status.busy": "2025-04-27T13:49:12.366560Z",
     "iopub.status.idle": "2025-04-27T13:49:12.378776Z",
     "shell.execute_reply": "2025-04-27T13:49:12.378037Z",
     "shell.execute_reply.started": "2025-04-27T13:49:12.367134Z"
    },
    "trusted": true
   },
   "outputs": [
    {
     "name": "stdout",
     "output_type": "stream",
     "text": [
      "i love this album. it's very good. more to the hip hop side than her current pop sound.. SO HYPE! i listen to this everyday at the gym! i give it 5star rating all the way. her metaphors are just crazy. Just Awesome\n"
     ]
    }
   ],
   "source": [
    "print(final_df['full_text'][0])"
   ]
  },
  {
   "cell_type": "code",
   "execution_count": 47,
   "metadata": {
    "execution": {
     "iopub.execute_input": "2025-04-27T13:49:12.379895Z",
     "iopub.status.busy": "2025-04-27T13:49:12.379591Z",
     "iopub.status.idle": "2025-04-27T13:49:12.394524Z",
     "shell.execute_reply": "2025-04-27T13:49:12.394000Z",
     "shell.execute_reply.started": "2025-04-27T13:49:12.379876Z"
    },
    "trusted": true
   },
   "outputs": [
    {
     "data": {
      "text/html": [
       "<div>\n",
       "<style scoped>\n",
       "    .dataframe tbody tr th:only-of-type {\n",
       "        vertical-align: middle;\n",
       "    }\n",
       "\n",
       "    .dataframe tbody tr th {\n",
       "        vertical-align: top;\n",
       "    }\n",
       "\n",
       "    .dataframe thead th {\n",
       "        text-align: right;\n",
       "    }\n",
       "</style>\n",
       "<table border=\"1\" class=\"dataframe\">\n",
       "  <thead>\n",
       "    <tr style=\"text-align: right;\">\n",
       "      <th></th>\n",
       "      <th>full_text</th>\n",
       "      <th>user_sentiment</th>\n",
       "    </tr>\n",
       "  </thead>\n",
       "  <tbody>\n",
       "    <tr>\n",
       "      <th>0</th>\n",
       "      <td>i love this album. it's very good. more to the...</td>\n",
       "      <td>Positive</td>\n",
       "    </tr>\n",
       "    <tr>\n",
       "      <th>1</th>\n",
       "      <td>Good flavor. This review was collected as part...</td>\n",
       "      <td>Positive</td>\n",
       "    </tr>\n",
       "    <tr>\n",
       "      <th>2</th>\n",
       "      <td>Good flavor. Good</td>\n",
       "      <td>Positive</td>\n",
       "    </tr>\n",
       "    <tr>\n",
       "      <th>3</th>\n",
       "      <td>I read through the reviews on here before look...</td>\n",
       "      <td>Negative</td>\n",
       "    </tr>\n",
       "    <tr>\n",
       "      <th>4</th>\n",
       "      <td>My husband bought this gel for us. The gel cau...</td>\n",
       "      <td>Negative</td>\n",
       "    </tr>\n",
       "  </tbody>\n",
       "</table>\n",
       "</div>"
      ],
      "text/plain": [
       "                                           full_text user_sentiment\n",
       "0  i love this album. it's very good. more to the...       Positive\n",
       "1  Good flavor. This review was collected as part...       Positive\n",
       "2                                  Good flavor. Good       Positive\n",
       "3  I read through the reviews on here before look...       Negative\n",
       "4  My husband bought this gel for us. The gel cau...       Negative"
      ]
     },
     "execution_count": 47,
     "metadata": {},
     "output_type": "execute_result"
    }
   ],
   "source": [
    "NLP_data_set=final_df[['full_text','user_sentiment']].copy()\n",
    "NLP_data_set.head()"
   ]
  },
  {
   "cell_type": "markdown",
   "metadata": {},
   "source": [
    "#### Type conversion\n",
    "\n",
    "##### Type conversion of the full_text columns, as there is a possibility that the users could've entered numbers as well while giving the reviews. We have to convert the column to string to treat all the values in the column as a string."
   ]
  },
  {
   "cell_type": "code",
   "execution_count": 48,
   "metadata": {
    "execution": {
     "iopub.execute_input": "2025-04-27T13:49:12.396016Z",
     "iopub.status.busy": "2025-04-27T13:49:12.395296Z",
     "iopub.status.idle": "2025-04-27T13:49:12.400388Z",
     "shell.execute_reply": "2025-04-27T13:49:12.399834Z",
     "shell.execute_reply.started": "2025-04-27T13:49:12.395996Z"
    },
    "trusted": true
   },
   "outputs": [],
   "source": [
    "NLP_data_set['full_text']=NLP_data_set['full_text'].astype(str)"
   ]
  },
  {
   "cell_type": "code",
   "execution_count": 49,
   "metadata": {
    "execution": {
     "iopub.execute_input": "2025-04-27T13:49:12.401329Z",
     "iopub.status.busy": "2025-04-27T13:49:12.401159Z",
     "iopub.status.idle": "2025-04-27T13:49:12.411441Z",
     "shell.execute_reply": "2025-04-27T13:49:12.410820Z",
     "shell.execute_reply.started": "2025-04-27T13:49:12.401316Z"
    },
    "trusted": true
   },
   "outputs": [],
   "source": [
    "#initialize stemmer and lemmatizer\n",
    "stemmer = PorterStemmer()\n",
    "wordnet_lemmatizer = WordNetLemmatizer()"
   ]
  },
  {
   "cell_type": "code",
   "execution_count": 50,
   "metadata": {
    "execution": {
     "iopub.execute_input": "2025-04-27T13:49:12.412458Z",
     "iopub.status.busy": "2025-04-27T13:49:12.412205Z",
     "iopub.status.idle": "2025-04-27T13:49:12.423501Z",
     "shell.execute_reply": "2025-04-27T13:49:12.422924Z",
     "shell.execute_reply.started": "2025-04-27T13:49:12.412441Z"
    },
    "trusted": true
   },
   "outputs": [],
   "source": [
    "#Function to preprocess the texts\n",
    "\n",
    "def preprocess(document, stem=True):\n",
    "\n",
    "    # lower case all the words\n",
    "    document = document.lower()\n",
    "    \n",
    "    # remove punctuation\n",
    "    translator = str.maketrans('', '', string.punctuation)\n",
    "    document = document.translate(translator)\n",
    "    \n",
    "    # tokenize the words\n",
    "    words = word_tokenize(document)\n",
    "    \n",
    "    # remove all the stop words\n",
    "    words = [word for word in words if word not in stopwords.words(\"english\")]\n",
    "    \n",
    "    # bring the word to the root form\n",
    "    if stem:\n",
    "        words = [stemmer.stem(word) for word in words]\n",
    "    else:\n",
    "        words = [wordnet_lemmatizer.lemmatize(word, pos='v') for word in words]\n",
    "    document = \" \".join(words)\n",
    "\n",
    "    return document"
   ]
  },
  {
   "cell_type": "code",
   "execution_count": 51,
   "metadata": {
    "execution": {
     "iopub.execute_input": "2025-04-27T13:49:12.424643Z",
     "iopub.status.busy": "2025-04-27T13:49:12.424399Z",
     "iopub.status.idle": "2025-04-27T13:50:45.309901Z",
     "shell.execute_reply": "2025-04-27T13:50:45.309236Z",
     "shell.execute_reply.started": "2025-04-27T13:49:12.424623Z"
    },
    "trusted": true
   },
   "outputs": [
    {
     "data": {
      "text/html": [
       "<div>\n",
       "<style scoped>\n",
       "    .dataframe tbody tr th:only-of-type {\n",
       "        vertical-align: middle;\n",
       "    }\n",
       "\n",
       "    .dataframe tbody tr th {\n",
       "        vertical-align: top;\n",
       "    }\n",
       "\n",
       "    .dataframe thead th {\n",
       "        text-align: right;\n",
       "    }\n",
       "</style>\n",
       "<table border=\"1\" class=\"dataframe\">\n",
       "  <thead>\n",
       "    <tr style=\"text-align: right;\">\n",
       "      <th></th>\n",
       "      <th>full_text</th>\n",
       "      <th>user_sentiment</th>\n",
       "      <th>cleaned_text</th>\n",
       "    </tr>\n",
       "  </thead>\n",
       "  <tbody>\n",
       "    <tr>\n",
       "      <th>0</th>\n",
       "      <td>i love this album. it's very good. more to the...</td>\n",
       "      <td>Positive</td>\n",
       "      <td>love album good hip hop side current pop sound...</td>\n",
       "    </tr>\n",
       "    <tr>\n",
       "      <th>1</th>\n",
       "      <td>Good flavor. This review was collected as part...</td>\n",
       "      <td>Positive</td>\n",
       "      <td>good flavor review collect part promotion good</td>\n",
       "    </tr>\n",
       "    <tr>\n",
       "      <th>2</th>\n",
       "      <td>Good flavor. Good</td>\n",
       "      <td>Positive</td>\n",
       "      <td>good flavor good</td>\n",
       "    </tr>\n",
       "    <tr>\n",
       "      <th>3</th>\n",
       "      <td>I read through the reviews on here before look...</td>\n",
       "      <td>Negative</td>\n",
       "      <td>read review look buy one couple lubricants ult...</td>\n",
       "    </tr>\n",
       "    <tr>\n",
       "      <th>4</th>\n",
       "      <td>My husband bought this gel for us. The gel cau...</td>\n",
       "      <td>Negative</td>\n",
       "      <td>husband buy gel us gel cause irritation felt l...</td>\n",
       "    </tr>\n",
       "  </tbody>\n",
       "</table>\n",
       "</div>"
      ],
      "text/plain": [
       "                                           full_text user_sentiment  \\\n",
       "0  i love this album. it's very good. more to the...       Positive   \n",
       "1  Good flavor. This review was collected as part...       Positive   \n",
       "2                                  Good flavor. Good       Positive   \n",
       "3  I read through the reviews on here before look...       Negative   \n",
       "4  My husband bought this gel for us. The gel cau...       Negative   \n",
       "\n",
       "                                        cleaned_text  \n",
       "0  love album good hip hop side current pop sound...  \n",
       "1     good flavor review collect part promotion good  \n",
       "2                                   good flavor good  \n",
       "3  read review look buy one couple lubricants ult...  \n",
       "4  husband buy gel us gel cause irritation felt l...  "
      ]
     },
     "execution_count": 51,
     "metadata": {},
     "output_type": "execute_result"
    }
   ],
   "source": [
    "NLP_data_set['cleaned_text'] = NLP_data_set['full_text'].apply(lambda x: preprocess(x, stem=False))\n",
    "NLP_data_set.head()"
   ]
  },
  {
   "cell_type": "markdown",
   "metadata": {},
   "source": [
    "##### Let's check for the top 50 frequent words, in the NLP_data_set['cleaned_text']"
   ]
  },
  {
   "cell_type": "code",
   "execution_count": 52,
   "metadata": {
    "execution": {
     "iopub.execute_input": "2025-04-27T13:50:45.311003Z",
     "iopub.status.busy": "2025-04-27T13:50:45.310686Z",
     "iopub.status.idle": "2025-04-27T13:50:49.518901Z",
     "shell.execute_reply": "2025-04-27T13:50:49.518175Z",
     "shell.execute_reply.started": "2025-04-27T13:50:45.310982Z"
    },
    "trusted": true
   },
   "outputs": [
    {
     "data": {
      "image/png": "[encoded data removed]",
      "text/plain": [
       "<Figure size 1200x800 with 1 Axes>"
      ]
     },
     "metadata": {},
     "output_type": "display_data"
    }
   ],
   "source": [
    "from wordcloud import WordCloud\n",
    "\n",
    "stop_words = set(stopwords.words('english'))\n",
    "\n",
    "wordcloud = WordCloud(\n",
    "    stopwords=stop_words,\n",
    "    background_color='white',\n",
    "    width=2000,\n",
    "    height=1500,\n",
    "    max_words=50\n",
    ").generate(' '.join(NLP_data_set['cleaned_text']))\n",
    "\n",
    "plt.figure(figsize=(12, 8))\n",
    "plt.imshow(wordcloud, interpolation='bilinear')\n",
    "plt.axis(\"off\")\n",
    "plt.title(\"Top 50 Words in reviews dataset\", fontsize=16)\n",
    "plt.show()\n"
   ]
  },
  {
   "cell_type": "markdown",
   "metadata": {},
   "source": [
    "#### Feature extraction\n",
    "\n",
    "Using **TF-IDF vectorizer**"
   ]
  },
  {
   "cell_type": "code",
   "execution_count": 53,
   "metadata": {
    "execution": {
     "iopub.execute_input": "2025-04-27T13:50:49.520151Z",
     "iopub.status.busy": "2025-04-27T13:50:49.519742Z",
     "iopub.status.idle": "2025-04-27T13:50:50.601900Z",
     "shell.execute_reply": "2025-04-27T13:50:50.601189Z",
     "shell.execute_reply.started": "2025-04-27T13:50:49.520132Z"
    },
    "trusted": true
   },
   "outputs": [],
   "source": [
    "from sklearn.feature_extraction.text import TfidfVectorizer\n",
    "\n",
    "vectorizer = TfidfVectorizer(\n",
    "    max_df=0.95,           # ignore terms that appear in >95% of documents\n",
    "    min_df=2,              # only keep terms that appear in at least 2 documents\n",
    "    ngram_range=(1,2)      # unigrams + bigrams\n",
    ")\n",
    "\n",
    "X = vectorizer.fit_transform(NLP_data_set['cleaned_text'])\n",
    "y = NLP_data_set['user_sentiment']"
   ]
  },
  {
   "cell_type": "code",
   "execution_count": 54,
   "metadata": {
    "execution": {
     "iopub.execute_input": "2025-04-27T13:50:50.602754Z",
     "iopub.status.busy": "2025-04-27T13:50:50.602552Z",
     "iopub.status.idle": "2025-04-27T13:50:50.613235Z",
     "shell.execute_reply": "2025-04-27T13:50:50.612408Z",
     "shell.execute_reply.started": "2025-04-27T13:50:50.602736Z"
    },
    "trusted": true
   },
   "outputs": [],
   "source": [
    "from sklearn.model_selection import train_test_split\n",
    "\n",
    "X_train, X_test, y_train, y_test = train_test_split(X, y, random_state=42, test_size=0.2) "
   ]
  },
  {
   "cell_type": "markdown",
   "metadata": {},
   "source": [
    "#### Class imbalance check"
   ]
  },
  {
   "cell_type": "code",
   "execution_count": 55,
   "metadata": {
    "execution": {
     "iopub.execute_input": "2025-04-27T13:50:50.614187Z",
     "iopub.status.busy": "2025-04-27T13:50:50.613941Z",
     "iopub.status.idle": "2025-04-27T13:50:50.622425Z",
     "shell.execute_reply": "2025-04-27T13:50:50.621751Z",
     "shell.execute_reply.started": "2025-04-27T13:50:50.614143Z"
    },
    "trusted": true
   },
   "outputs": [
    {
     "data": {
      "text/plain": [
       "user_sentiment\n",
       "Positive    21098\n",
       "Negative     2700\n",
       "Name: count, dtype: int64"
      ]
     },
     "execution_count": 55,
     "metadata": {},
     "output_type": "execute_result"
    }
   ],
   "source": [
    "y_train.value_counts()"
   ]
  },
  {
   "cell_type": "markdown",
   "metadata": {},
   "source": [
    "##### We can see that there is a huge imbalance with majority in positive sentiment. Let's balance this class by oversampling technique, we will be **oversampling the minority class** by randomly choosing the minority class and duplicating the data to reach the class of highest group. Post this, we would be re-shuffling the data to keep it real."
   ]
  },
  {
   "cell_type": "code",
   "execution_count": 56,
   "metadata": {
    "execution": {
     "iopub.execute_input": "2025-04-27T13:50:50.623616Z",
     "iopub.status.busy": "2025-04-27T13:50:50.623282Z",
     "iopub.status.idle": "2025-04-27T13:53:31.760154Z",
     "shell.execute_reply": "2025-04-27T13:53:31.759540Z",
     "shell.execute_reply.started": "2025-04-27T13:50:50.623599Z"
    },
    "trusted": true
   },
   "outputs": [],
   "source": [
    "from sklearn.utils import resample\n",
    "\n",
    "#Combine X_train and y_train into a single DataFrame\n",
    "train_data = pd.DataFrame.sparse.from_spmatrix(X_train)\n",
    "train_data['label'] = y_train.values          \n",
    "\n",
    "# Separate majority and minority classes\n",
    "positive_sentiment = train_data[train_data['label'] == 'Positive']\n",
    "negative_sentiment = train_data[train_data['label'] == 'Negative']\n",
    "\n",
    "# Oversample minority class (negative)\n",
    "negative_oversampled = resample(\n",
    "    negative_sentiment, \n",
    "    replace=True,          \n",
    "    n_samples=len(positive_sentiment),  \n",
    "    random_state=42       \n",
    ")\n",
    "\n",
    "# Combine back\n",
    "balanced_train_data = pd.concat([positive_sentiment, negative_oversampled])\n",
    "\n",
    "# Shuffle the data\n",
    "balanced_train_data = balanced_train_data.sample(frac=1, random_state=42).reset_index(drop=True)\n",
    "\n",
    "# Separate X and y again\n",
    "X_train_balanced = balanced_train_data.drop('label', axis=1)\n",
    "y_train_balanced = balanced_train_data['label']"
   ]
  },
  {
   "cell_type": "markdown",
   "metadata": {},
   "source": [
    "##### Let's count the labels in the train set to check if the class imbalance still exists"
   ]
  },
  {
   "cell_type": "code",
   "execution_count": 57,
   "metadata": {
    "execution": {
     "iopub.execute_input": "2025-04-27T13:53:31.761075Z",
     "iopub.status.busy": "2025-04-27T13:53:31.760863Z",
     "iopub.status.idle": "2025-04-27T13:53:31.768595Z",
     "shell.execute_reply": "2025-04-27T13:53:31.767995Z",
     "shell.execute_reply.started": "2025-04-27T13:53:31.761059Z"
    },
    "trusted": true
   },
   "outputs": [
    {
     "data": {
      "text/plain": [
       "label\n",
       "Positive    21098\n",
       "Negative    21098\n",
       "Name: count, dtype: int64"
      ]
     },
     "execution_count": 57,
     "metadata": {},
     "output_type": "execute_result"
    }
   ],
   "source": [
    "y_train_balanced.value_counts()"
   ]
  },
  {
   "cell_type": "markdown",
   "metadata": {},
   "source": [
    "##### We can see that the classes are balanced now."
   ]
  },
  {
   "cell_type": "markdown",
   "metadata": {},
   "source": [
    "### Training the model\n",
    "\n",
    "### **Approach 1: Logistic Regression**"
   ]
  },
  {
   "cell_type": "code",
   "execution_count": 58,
   "metadata": {
    "execution": {
     "iopub.execute_input": "2025-04-27T13:53:31.769552Z",
     "iopub.status.busy": "2025-04-27T13:53:31.769303Z",
     "iopub.status.idle": "2025-04-27T13:53:36.733661Z",
     "shell.execute_reply": "2025-04-27T13:53:36.732390Z",
     "shell.execute_reply.started": "2025-04-27T13:53:31.769530Z"
    },
    "trusted": true
   },
   "outputs": [
    {
     "data": {
      "text/html": [
       "<style>#sk-container-id-1 {color: black;background-color: white;}#sk-container-id-1 pre{padding: 0;}#sk-container-id-1 div.sk-toggleable {background-color: white;}#sk-container-id-1 label.sk-toggleable__label {cursor: pointer;display: block;width: 100%;margin-bottom: 0;padding: 0.3em;box-sizing: border-box;text-align: center;}#sk-container-id-1 label.sk-toggleable__label-arrow:before {content: \"▸\";float: left;margin-right: 0.25em;color: #696969;}#sk-container-id-1 label.sk-toggleable__label-arrow:hover:before {color: black;}#sk-container-id-1 div.sk-estimator:hover label.sk-toggleable__label-arrow:before {color: black;}#sk-container-id-1 div.sk-toggleable__content {max-height: 0;max-width: 0;overflow: hidden;text-align: left;background-color: #f0f8ff;}#sk-container-id-1 div.sk-toggleable__content pre {margin: 0.2em;color: black;border-radius: 0.25em;background-color: #f0f8ff;}#sk-container-id-1 input.sk-toggleable__control:checked~div.sk-toggleable__content {max-height: 200px;max-width: 100%;overflow: auto;}#sk-container-id-1 input.sk-toggleable__control:checked~label.sk-toggleable__label-arrow:before {content: \"▾\";}#sk-container-id-1 div.sk-estimator input.sk-toggleable__control:checked~label.sk-toggleable__label {background-color: #d4ebff;}#sk-container-id-1 div.sk-label input.sk-toggleable__control:checked~label.sk-toggleable__label {background-color: #d4ebff;}#sk-container-id-1 input.sk-hidden--visually {border: 0;clip: rect(1px 1px 1px 1px);clip: rect(1px, 1px, 1px, 1px);height: 1px;margin: -1px;overflow: hidden;padding: 0;position: absolute;width: 1px;}#sk-container-id-1 div.sk-estimator {font-family: monospace;background-color: #f0f8ff;border: 1px dotted black;border-radius: 0.25em;box-sizing: border-box;margin-bottom: 0.5em;}#sk-container-id-1 div.sk-estimator:hover {background-color: #d4ebff;}#sk-container-id-1 div.sk-parallel-item::after {content: \"\";width: 100%;border-bottom: 1px solid gray;flex-grow: 1;}#sk-container-id-1 div.sk-label:hover label.sk-toggleable__label {background-color: #d4ebff;}#sk-container-id-1 div.sk-serial::before {content: \"\";position: absolute;border-left: 1px solid gray;box-sizing: border-box;top: 0;bottom: 0;left: 50%;z-index: 0;}#sk-container-id-1 div.sk-serial {display: flex;flex-direction: column;align-items: center;background-color: white;padding-right: 0.2em;padding-left: 0.2em;position: relative;}#sk-container-id-1 div.sk-item {position: relative;z-index: 1;}#sk-container-id-1 div.sk-parallel {display: flex;align-items: stretch;justify-content: center;background-color: white;position: relative;}#sk-container-id-1 div.sk-item::before, #sk-container-id-1 div.sk-parallel-item::before {content: \"\";position: absolute;border-left: 1px solid gray;box-sizing: border-box;top: 0;bottom: 0;left: 50%;z-index: -1;}#sk-container-id-1 div.sk-parallel-item {display: flex;flex-direction: column;z-index: 1;position: relative;background-color: white;}#sk-container-id-1 div.sk-parallel-item:first-child::after {align-self: flex-end;width: 50%;}#sk-container-id-1 div.sk-parallel-item:last-child::after {align-self: flex-start;width: 50%;}#sk-container-id-1 div.sk-parallel-item:only-child::after {width: 0;}#sk-container-id-1 div.sk-dashed-wrapped {border: 1px dashed gray;margin: 0 0.4em 0.5em 0.4em;box-sizing: border-box;padding-bottom: 0.4em;background-color: white;}#sk-container-id-1 div.sk-label label {font-family: monospace;font-weight: bold;display: inline-block;line-height: 1.2em;}#sk-container-id-1 div.sk-label-container {text-align: center;}#sk-container-id-1 div.sk-container {/* jupyter's `normalize.less` sets `[hidden] { display: none; }` but bootstrap.min.css set `[hidden] { display: none !important; }` so we also need the `!important` here to be able to override the default hidden behavior on the sphinx rendered scikit-learn.org. See: https://github.com/scikit-learn/scikit-learn/issues/21755 */display: inline-block !important;position: relative;}#sk-container-id-1 div.sk-text-repr-fallback {display: none;}</style><div id=\"sk-container-id-1\" class=\"sk-top-container\"><div class=\"sk-text-repr-fallback\"><pre>LogisticRegression(class_weight=&#x27;balanced&#x27;, random_state=42, solver=&#x27;liblinear&#x27;)</pre><b>In a Jupyter environment, please rerun this cell to show the HTML representation or trust the notebook. <br />On GitHub, the HTML representation is unable to render, please try loading this page with nbviewer.org.</b></div><div class=\"sk-container\" hidden><div class=\"sk-item\"><div class=\"sk-estimator sk-toggleable\"><input class=\"sk-toggleable__control sk-hidden--visually\" id=\"sk-estimator-id-1\" type=\"checkbox\" checked><label for=\"sk-estimator-id-1\" class=\"sk-toggleable__label sk-toggleable__label-arrow\">LogisticRegression</label><div class=\"sk-toggleable__content\"><pre>LogisticRegression(class_weight=&#x27;balanced&#x27;, random_state=42, solver=&#x27;liblinear&#x27;)</pre></div></div></div></div></div>"
      ],
      "text/plain": [
       "LogisticRegression(class_weight='balanced', random_state=42, solver='liblinear')"
      ]
     },
     "execution_count": 58,
     "metadata": {},
     "output_type": "execute_result"
    }
   ],
   "source": [
    "from sklearn.linear_model import LogisticRegression\n",
    "\n",
    "Logistic_regression_model = LogisticRegression(random_state=42, solver='liblinear', class_weight='balanced')\n",
    "Logistic_regression_model.fit(X_train_balanced, y_train_balanced)"
   ]
  },
  {
   "cell_type": "code",
   "execution_count": 59,
   "metadata": {
    "execution": {
     "iopub.execute_input": "2025-04-27T13:53:36.734637Z",
     "iopub.status.busy": "2025-04-27T13:53:36.734434Z",
     "iopub.status.idle": "2025-04-27T13:53:36.742061Z",
     "shell.execute_reply": "2025-04-27T13:53:36.741558Z",
     "shell.execute_reply.started": "2025-04-27T13:53:36.734620Z"
    },
    "trusted": true
   },
   "outputs": [],
   "source": [
    "y_pred = Logistic_regression_model.predict(X_test)"
   ]
  },
  {
   "cell_type": "markdown",
   "metadata": {},
   "source": [
    "### Evaluation of the model- Logistic regression"
   ]
  },
  {
   "cell_type": "code",
   "execution_count": 60,
   "metadata": {
    "execution": {
     "iopub.execute_input": "2025-04-27T13:53:36.744390Z",
     "iopub.status.busy": "2025-04-27T13:53:36.744158Z",
     "iopub.status.idle": "2025-04-27T13:53:36.759453Z",
     "shell.execute_reply": "2025-04-27T13:53:36.758706Z",
     "shell.execute_reply.started": "2025-04-27T13:53:36.744373Z"
    },
    "trusted": true
   },
   "outputs": [],
   "source": [
    "# Function to evaluate the model\n",
    "from sklearn.metrics import accuracy_score, precision_score, recall_score, f1_score, confusion_matrix, classification_report\n",
    "\n",
    "def model_results(model_name,y_test, y_pred):\n",
    "   accuracy = accuracy_score(y_test, y_pred)\n",
    "   precision = precision_score(y_test, y_pred, average='weighted', zero_division=0)\n",
    "   recall = recall_score(y_test, y_pred, average='weighted', zero_division=0)\n",
    "   f1 = f1_score(y_test, y_pred, average='weighted', zero_division=0)\n",
    "   \n",
    "   results = {\n",
    "        'Model Name': model_name,\n",
    "        'Accuracy': round(accuracy,2),\n",
    "        'Precision': round(precision,2),\n",
    "        'Recall': round(recall,2),\n",
    "        'F1 Score': round(f1,2)\n",
    "        }\n",
    "   return results"
   ]
  },
  {
   "cell_type": "code",
   "execution_count": 61,
   "metadata": {
    "execution": {
     "iopub.execute_input": "2025-04-27T13:53:36.761765Z",
     "iopub.status.busy": "2025-04-27T13:53:36.761190Z",
     "iopub.status.idle": "2025-04-27T13:53:36.938098Z",
     "shell.execute_reply": "2025-04-27T13:53:36.937482Z",
     "shell.execute_reply.started": "2025-04-27T13:53:36.761729Z"
    },
    "trusted": true
   },
   "outputs": [
    {
     "data": {
      "text/plain": [
       "{'Model Name': 'Logistic regression model',\n",
       " 'Accuracy': 0.89,\n",
       " 'Precision': 0.92,\n",
       " 'Recall': 0.89,\n",
       " 'F1 Score': 0.9}"
      ]
     },
     "execution_count": 61,
     "metadata": {},
     "output_type": "execute_result"
    }
   ],
   "source": [
    "log_reg_results= model_results('Logistic regression model', y_test, y_pred)\n",
    "log_reg_results"
   ]
  },
  {
   "cell_type": "markdown",
   "metadata": {},
   "source": [
    "#### Observations:\n",
    "\n",
    "We can see that the model is having a good accuracy."
   ]
  },
  {
   "cell_type": "code",
   "execution_count": 62,
   "metadata": {
    "execution": {
     "iopub.execute_input": "2025-04-27T13:53:36.939186Z",
     "iopub.status.busy": "2025-04-27T13:53:36.938933Z",
     "iopub.status.idle": "2025-04-27T13:53:36.943330Z",
     "shell.execute_reply": "2025-04-27T13:53:36.942765Z",
     "shell.execute_reply.started": "2025-04-27T13:53:36.939161Z"
    },
    "trusted": true
   },
   "outputs": [],
   "source": [
    "# Function to check the prediction of the sentiment\n",
    "def logistic_regression_check(input_sentence):\n",
    "    # Step 1: Preprocess\n",
    "    cleaned_sentence = preprocess(input_sentence, stem=False)\n",
    "    \n",
    "    # Step 2: Vectorize\n",
    "    X_input = vectorizer.transform([cleaned_sentence])\n",
    "    \n",
    "    # Step 3: Predict\n",
    "    predicted_sentiment = Logistic_regression_model.predict(X_input)\n",
    "    \n",
    "    return (\"Predicted Sentiment:\", predicted_sentiment[0])\n"
   ]
  },
  {
   "cell_type": "code",
   "execution_count": 63,
   "metadata": {
    "execution": {
     "iopub.execute_input": "2025-04-27T13:53:36.944463Z",
     "iopub.status.busy": "2025-04-27T13:53:36.944197Z",
     "iopub.status.idle": "2025-04-27T13:53:36.960149Z",
     "shell.execute_reply": "2025-04-27T13:53:36.959564Z",
     "shell.execute_reply.started": "2025-04-27T13:53:36.944440Z"
    },
    "trusted": true
   },
   "outputs": [
    {
     "data": {
      "text/plain": [
       "('Predicted Sentiment:', 'Positive')"
      ]
     },
     "execution_count": 63,
     "metadata": {},
     "output_type": "execute_result"
    }
   ],
   "source": [
    "input_sentence = \"I really loved the product! It was amazing.\"\n",
    "logistic_regression_check(input_sentence)"
   ]
  },
  {
   "cell_type": "code",
   "execution_count": 64,
   "metadata": {
    "execution": {
     "iopub.execute_input": "2025-04-27T13:53:36.969222Z",
     "iopub.status.busy": "2025-04-27T13:53:36.968965Z",
     "iopub.status.idle": "2025-04-27T13:53:36.977649Z",
     "shell.execute_reply": "2025-04-27T13:53:36.977002Z",
     "shell.execute_reply.started": "2025-04-27T13:53:36.969200Z"
    },
    "trusted": true
   },
   "outputs": [
    {
     "data": {
      "text/plain": [
       "('Predicted Sentiment:', 'Negative')"
      ]
     },
     "execution_count": 64,
     "metadata": {},
     "output_type": "execute_result"
    }
   ],
   "source": [
    "input_sentence=\"the product i received was wonderful in the beginning, but as days went by it was failing to functions as expected\"\n",
    "logistic_regression_check(input_sentence)"
   ]
  },
  {
   "cell_type": "markdown",
   "metadata": {},
   "source": [
    "### **Approach 2: XGBOOST Classifier**"
   ]
  },
  {
   "cell_type": "code",
   "execution_count": 65,
   "metadata": {
    "execution": {
     "iopub.execute_input": "2025-04-27T13:53:36.979196Z",
     "iopub.status.busy": "2025-04-27T13:53:36.978461Z",
     "iopub.status.idle": "2025-04-27T13:53:36.991801Z",
     "shell.execute_reply": "2025-04-27T13:53:36.991090Z",
     "shell.execute_reply.started": "2025-04-27T13:53:36.979176Z"
    },
    "trusted": true
   },
   "outputs": [],
   "source": [
    "# We must label encode the values in the y column, i.e Positive, Negative\n",
    "from sklearn.preprocessing import LabelEncoder\n",
    "\n",
    "le = LabelEncoder()\n",
    "\n",
    "# Fit and transform the y columns\n",
    "y_train_balanced_encoded = le.fit_transform(y_train_balanced)\n",
    "y_test_encoded = le.transform(y_test)"
   ]
  },
  {
   "cell_type": "code",
   "execution_count": 66,
   "metadata": {
    "execution": {
     "iopub.execute_input": "2025-04-27T13:53:36.992670Z",
     "iopub.status.busy": "2025-04-27T13:53:36.992512Z",
     "iopub.status.idle": "2025-04-27T13:53:59.976000Z",
     "shell.execute_reply": "2025-04-27T13:53:59.975166Z",
     "shell.execute_reply.started": "2025-04-27T13:53:36.992657Z"
    },
    "trusted": true
   },
   "outputs": [],
   "source": [
    "from xgboost import XGBClassifier\n",
    "from scipy.sparse import csr_matrix\n",
    "\n",
    "X_train_balanced_sparse = csr_matrix(X_train_balanced.sparse.to_coo())\n",
    "\n",
    "xgb_model = XGBClassifier(\n",
    "    random_state=42,\n",
    "    use_label_encoder=True,\n",
    "    eval_metric='logloss'\n",
    ")\n",
    "\n",
    "XGB_classifier_model= xgb_model.fit(X_train_balanced_sparse, y_train_balanced_encoded)"
   ]
  },
  {
   "cell_type": "code",
   "execution_count": 67,
   "metadata": {
    "execution": {
     "iopub.execute_input": "2025-04-27T13:53:59.977327Z",
     "iopub.status.busy": "2025-04-27T13:53:59.976982Z",
     "iopub.status.idle": "2025-04-27T13:54:00.010213Z",
     "shell.execute_reply": "2025-04-27T13:54:00.009742Z",
     "shell.execute_reply.started": "2025-04-27T13:53:59.977300Z"
    },
    "trusted": true
   },
   "outputs": [],
   "source": [
    "y_pred = XGB_classifier_model.predict(X_test)\n"
   ]
  },
  {
   "cell_type": "markdown",
   "metadata": {},
   "source": [
    "### Evaluation of the model- XGBOOST CLASSIFIER"
   ]
  },
  {
   "cell_type": "code",
   "execution_count": 68,
   "metadata": {
    "execution": {
     "iopub.execute_input": "2025-04-27T13:54:00.010821Z",
     "iopub.status.busy": "2025-04-27T13:54:00.010608Z",
     "iopub.status.idle": "2025-04-27T13:54:00.025213Z",
     "shell.execute_reply": "2025-04-27T13:54:00.024612Z",
     "shell.execute_reply.started": "2025-04-27T13:54:00.010803Z"
    },
    "trusted": true
   },
   "outputs": [
    {
     "data": {
      "text/plain": [
       "{'Model Name': 'XGB_classifier_model',\n",
       " 'Accuracy': 0.87,\n",
       " 'Precision': 0.92,\n",
       " 'Recall': 0.87,\n",
       " 'F1 Score': 0.89}"
      ]
     },
     "execution_count": 68,
     "metadata": {},
     "output_type": "execute_result"
    }
   ],
   "source": [
    "xg_boost= model_results(\"XGB_classifier_model\", y_test_encoded, y_pred)\n",
    "xg_boost"
   ]
  },
  {
   "cell_type": "markdown",
   "metadata": {},
   "source": [
    "#### Almost same as linear regression model"
   ]
  },
  {
   "cell_type": "markdown",
   "metadata": {},
   "source": [
    "### **Approach 3: Decision Tree**"
   ]
  },
  {
   "cell_type": "code",
   "execution_count": 69,
   "metadata": {
    "execution": {
     "iopub.execute_input": "2025-04-27T13:54:00.026110Z",
     "iopub.status.busy": "2025-04-27T13:54:00.025931Z",
     "iopub.status.idle": "2025-04-27T13:54:03.550224Z",
     "shell.execute_reply": "2025-04-27T13:54:03.549418Z",
     "shell.execute_reply.started": "2025-04-27T13:54:00.026096Z"
    },
    "trusted": true
   },
   "outputs": [],
   "source": [
    "from sklearn.tree import DecisionTreeClassifier\n",
    "from scipy.sparse import csr_matrix\n",
    "\n",
    "dt_model = DecisionTreeClassifier(\n",
    "    random_state=42, \n",
    "    criterion='gini',\n",
    "    max_depth=10, \n",
    "    min_samples_leaf=6, \n",
    "    max_features=None\n",
    ")\n",
    "\n",
    "X_train_balanced_sparse = csr_matrix(X_train_balanced.sparse.to_coo())\n",
    "\n",
    "Decision_Tree_classifier_model= dt_model.fit(X_train_balanced_sparse, y_train_balanced_encoded)"
   ]
  },
  {
   "cell_type": "code",
   "execution_count": 70,
   "metadata": {
    "execution": {
     "iopub.execute_input": "2025-04-27T13:54:03.551301Z",
     "iopub.status.busy": "2025-04-27T13:54:03.551090Z",
     "iopub.status.idle": "2025-04-27T13:54:03.562163Z",
     "shell.execute_reply": "2025-04-27T13:54:03.561562Z",
     "shell.execute_reply.started": "2025-04-27T13:54:03.551285Z"
    },
    "trusted": true
   },
   "outputs": [],
   "source": [
    "y_pred = dt_model.predict(X_test)"
   ]
  },
  {
   "cell_type": "markdown",
   "metadata": {},
   "source": [
    "### Evaluation of the model- DECISION TREE CLASSIFIER"
   ]
  },
  {
   "cell_type": "code",
   "execution_count": 71,
   "metadata": {
    "execution": {
     "iopub.execute_input": "2025-04-27T13:54:03.563073Z",
     "iopub.status.busy": "2025-04-27T13:54:03.562847Z",
     "iopub.status.idle": "2025-04-27T13:54:03.574417Z",
     "shell.execute_reply": "2025-04-27T13:54:03.573811Z",
     "shell.execute_reply.started": "2025-04-27T13:54:03.563056Z"
    },
    "trusted": true
   },
   "outputs": [
    {
     "data": {
      "text/plain": [
       "{'Model Name': 'Decision tree model',\n",
       " 'Accuracy': 0.81,\n",
       " 'Precision': 0.88,\n",
       " 'Recall': 0.81,\n",
       " 'F1 Score': 0.83}"
      ]
     },
     "execution_count": 71,
     "metadata": {},
     "output_type": "execute_result"
    }
   ],
   "source": [
    "dt_model= model_results(\"Decision tree model\", y_test_encoded, y_pred)\n",
    "dt_model"
   ]
  },
  {
   "cell_type": "markdown",
   "metadata": {},
   "source": [
    "### Choosing the best model "
   ]
  },
  {
   "cell_type": "code",
   "execution_count": 72,
   "metadata": {
    "execution": {
     "iopub.execute_input": "2025-04-27T13:54:03.575484Z",
     "iopub.status.busy": "2025-04-27T13:54:03.575258Z",
     "iopub.status.idle": "2025-04-27T13:54:03.587837Z",
     "shell.execute_reply": "2025-04-27T13:54:03.587149Z",
     "shell.execute_reply.started": "2025-04-27T13:54:03.575467Z"
    },
    "trusted": true
   },
   "outputs": [
    {
     "name": "stdout",
     "output_type": "stream",
     "text": [
      "                  Model Name  Accuracy  Precision  Recall  F1 Score\n",
      "0  Logistic regression model      0.89       0.92    0.89      0.90\n",
      "1       XGB_classifier_model      0.87       0.92    0.87      0.89\n",
      "2        Decision tree model      0.81       0.88    0.81      0.83\n"
     ]
    }
   ],
   "source": [
    "results_list = [log_reg_results, xg_boost, dt_model]\n",
    "\n",
    "result_df = pd.DataFrame(results_list)\n",
    "\n",
    "print(result_df)"
   ]
  },
  {
   "cell_type": "markdown",
   "metadata": {},
   "source": [
    "##### In comparison to the 3 models, we can see that the **Logistic regression model is the best performing model**. We can go ahead and use the same trained logistic regression model for sentiment classification."
   ]
  },
  {
   "cell_type": "markdown",
   "metadata": {},
   "source": [
    "#### Saving the Model 1- Logistic regression model"
   ]
  },
  {
   "cell_type": "code",
   "execution_count": 73,
   "metadata": {
    "execution": {
     "iopub.execute_input": "2025-04-27T13:54:03.588703Z",
     "iopub.status.busy": "2025-04-27T13:54:03.588482Z",
     "iopub.status.idle": "2025-04-27T13:54:03.598909Z",
     "shell.execute_reply": "2025-04-27T13:54:03.598226Z",
     "shell.execute_reply.started": "2025-04-27T13:54:03.588688Z"
    },
    "trusted": true
   },
   "outputs": [],
   "source": [
    "# import pickle\n",
    "\n",
    "# f = open('sentiment_classifier.pickle','wb')\n",
    "# pickle.dump(Logistic_regression_model,f)\n",
    "# print('Classifier stored at', f.name)\n",
    "# f.close()"
   ]
  },
  {
   "cell_type": "code",
   "execution_count": 74,
   "metadata": {
    "execution": {
     "iopub.execute_input": "2025-04-27T13:54:03.599885Z",
     "iopub.status.busy": "2025-04-27T13:54:03.599617Z",
     "iopub.status.idle": "2025-04-27T13:54:03.609450Z",
     "shell.execute_reply": "2025-04-27T13:54:03.608920Z",
     "shell.execute_reply.started": "2025-04-27T13:54:03.599862Z"
    },
    "trusted": true
   },
   "outputs": [],
   "source": [
    "# if we want to load the classifier:\n",
    "\n",
    "# f=open(\"sentiment_classifier.pickle\",'rb')\n",
    "# loaded_classifier = pickle.load(f)\n",
    "# f.close()\n"
   ]
  },
  {
   "cell_type": "markdown",
   "metadata": {},
   "source": [
    "# Product recommendation system"
   ]
  },
  {
   "cell_type": "markdown",
   "metadata": {},
   "source": [
    "#### Data preparation"
   ]
  },
  {
   "cell_type": "code",
   "execution_count": 75,
   "metadata": {
    "execution": {
     "iopub.execute_input": "2025-04-27T13:54:03.610698Z",
     "iopub.status.busy": "2025-04-27T13:54:03.610200Z",
     "iopub.status.idle": "2025-04-27T13:54:03.835563Z",
     "shell.execute_reply": "2025-04-27T13:54:03.834843Z",
     "shell.execute_reply.started": "2025-04-27T13:54:03.610681Z"
    },
    "trusted": true
   },
   "outputs": [
    {
     "data": {
      "text/html": [
       "<div>\n",
       "<style scoped>\n",
       "    .dataframe tbody tr th:only-of-type {\n",
       "        vertical-align: middle;\n",
       "    }\n",
       "\n",
       "    .dataframe tbody tr th {\n",
       "        vertical-align: top;\n",
       "    }\n",
       "\n",
       "    .dataframe thead th {\n",
       "        text-align: right;\n",
       "    }\n",
       "</style>\n",
       "<table border=\"1\" class=\"dataframe\">\n",
       "  <thead>\n",
       "    <tr style=\"text-align: right;\">\n",
       "      <th></th>\n",
       "      <th>id</th>\n",
       "      <th>brand</th>\n",
       "      <th>categories</th>\n",
       "      <th>manufacturer</th>\n",
       "      <th>name</th>\n",
       "      <th>reviews_date</th>\n",
       "      <th>reviews_didPurchase</th>\n",
       "      <th>reviews_doRecommend</th>\n",
       "      <th>reviews_rating</th>\n",
       "      <th>reviews_text</th>\n",
       "      <th>reviews_title</th>\n",
       "      <th>reviews_userCity</th>\n",
       "      <th>reviews_userProvince</th>\n",
       "      <th>reviews_username</th>\n",
       "      <th>user_sentiment</th>\n",
       "    </tr>\n",
       "  </thead>\n",
       "  <tbody>\n",
       "    <tr>\n",
       "      <th>0</th>\n",
       "      <td>AV13O1A8GV-KLJ3akUyj</td>\n",
       "      <td>Universal Music</td>\n",
       "      <td>Movies, Music &amp; Books,Music,R&amp;b,Movies &amp; TV,Mo...</td>\n",
       "      <td>Universal Music Group / Cash Money</td>\n",
       "      <td>Pink Friday: Roman Reloaded Re-Up (w/dvd)</td>\n",
       "      <td>2012-11-30T06:21:45.000Z</td>\n",
       "      <td>NaN</td>\n",
       "      <td>NaN</td>\n",
       "      <td>5</td>\n",
       "      <td>i love this album. it's very good. more to the...</td>\n",
       "      <td>Just Awesome</td>\n",
       "      <td>Los Angeles</td>\n",
       "      <td>NaN</td>\n",
       "      <td>joshua</td>\n",
       "      <td>Positive</td>\n",
       "    </tr>\n",
       "    <tr>\n",
       "      <th>1</th>\n",
       "      <td>AV14LG0R-jtxr-f38QfS</td>\n",
       "      <td>Lundberg</td>\n",
       "      <td>Food,Packaged Foods,Snacks,Crackers,Snacks, Co...</td>\n",
       "      <td>Lundberg</td>\n",
       "      <td>Lundberg Organic Cinnamon Toast Rice Cakes</td>\n",
       "      <td>2017-07-09T00:00:00.000Z</td>\n",
       "      <td>True</td>\n",
       "      <td>NaN</td>\n",
       "      <td>5</td>\n",
       "      <td>Good flavor. This review was collected as part...</td>\n",
       "      <td>Good</td>\n",
       "      <td>NaN</td>\n",
       "      <td>NaN</td>\n",
       "      <td>dorothy w</td>\n",
       "      <td>Positive</td>\n",
       "    </tr>\n",
       "    <tr>\n",
       "      <th>2</th>\n",
       "      <td>AV14LG0R-jtxr-f38QfS</td>\n",
       "      <td>Lundberg</td>\n",
       "      <td>Food,Packaged Foods,Snacks,Crackers,Snacks, Co...</td>\n",
       "      <td>Lundberg</td>\n",
       "      <td>Lundberg Organic Cinnamon Toast Rice Cakes</td>\n",
       "      <td>2017-07-09T00:00:00.000Z</td>\n",
       "      <td>True</td>\n",
       "      <td>NaN</td>\n",
       "      <td>5</td>\n",
       "      <td>Good flavor.</td>\n",
       "      <td>Good</td>\n",
       "      <td>NaN</td>\n",
       "      <td>NaN</td>\n",
       "      <td>dorothy w</td>\n",
       "      <td>Positive</td>\n",
       "    </tr>\n",
       "    <tr>\n",
       "      <th>3</th>\n",
       "      <td>AV16khLE-jtxr-f38VFn</td>\n",
       "      <td>K-Y</td>\n",
       "      <td>Personal Care,Medicine Cabinet,Lubricant/Sperm...</td>\n",
       "      <td>K-Y</td>\n",
       "      <td>K-Y Love Sensuality Pleasure Gel</td>\n",
       "      <td>2016-01-06T00:00:00.000Z</td>\n",
       "      <td>False</td>\n",
       "      <td>False</td>\n",
       "      <td>1</td>\n",
       "      <td>I read through the reviews on here before look...</td>\n",
       "      <td>Disappointed</td>\n",
       "      <td>NaN</td>\n",
       "      <td>NaN</td>\n",
       "      <td>rebecca</td>\n",
       "      <td>Negative</td>\n",
       "    </tr>\n",
       "    <tr>\n",
       "      <th>4</th>\n",
       "      <td>AV16khLE-jtxr-f38VFn</td>\n",
       "      <td>K-Y</td>\n",
       "      <td>Personal Care,Medicine Cabinet,Lubricant/Sperm...</td>\n",
       "      <td>K-Y</td>\n",
       "      <td>K-Y Love Sensuality Pleasure Gel</td>\n",
       "      <td>2016-12-21T00:00:00.000Z</td>\n",
       "      <td>False</td>\n",
       "      <td>False</td>\n",
       "      <td>1</td>\n",
       "      <td>My husband bought this gel for us. The gel cau...</td>\n",
       "      <td>Irritation</td>\n",
       "      <td>NaN</td>\n",
       "      <td>NaN</td>\n",
       "      <td>walker557</td>\n",
       "      <td>Negative</td>\n",
       "    </tr>\n",
       "  </tbody>\n",
       "</table>\n",
       "</div>"
      ],
      "text/plain": [
       "                     id            brand  \\\n",
       "0  AV13O1A8GV-KLJ3akUyj  Universal Music   \n",
       "1  AV14LG0R-jtxr-f38QfS         Lundberg   \n",
       "2  AV14LG0R-jtxr-f38QfS         Lundberg   \n",
       "3  AV16khLE-jtxr-f38VFn              K-Y   \n",
       "4  AV16khLE-jtxr-f38VFn              K-Y   \n",
       "\n",
       "                                          categories  \\\n",
       "0  Movies, Music & Books,Music,R&b,Movies & TV,Mo...   \n",
       "1  Food,Packaged Foods,Snacks,Crackers,Snacks, Co...   \n",
       "2  Food,Packaged Foods,Snacks,Crackers,Snacks, Co...   \n",
       "3  Personal Care,Medicine Cabinet,Lubricant/Sperm...   \n",
       "4  Personal Care,Medicine Cabinet,Lubricant/Sperm...   \n",
       "\n",
       "                         manufacturer  \\\n",
       "0  Universal Music Group / Cash Money   \n",
       "1                            Lundberg   \n",
       "2                            Lundberg   \n",
       "3                                 K-Y   \n",
       "4                                 K-Y   \n",
       "\n",
       "                                         name              reviews_date  \\\n",
       "0   Pink Friday: Roman Reloaded Re-Up (w/dvd)  2012-11-30T06:21:45.000Z   \n",
       "1  Lundberg Organic Cinnamon Toast Rice Cakes  2017-07-09T00:00:00.000Z   \n",
       "2  Lundberg Organic Cinnamon Toast Rice Cakes  2017-07-09T00:00:00.000Z   \n",
       "3            K-Y Love Sensuality Pleasure Gel  2016-01-06T00:00:00.000Z   \n",
       "4            K-Y Love Sensuality Pleasure Gel  2016-12-21T00:00:00.000Z   \n",
       "\n",
       "  reviews_didPurchase reviews_doRecommend  reviews_rating  \\\n",
       "0                 NaN                 NaN               5   \n",
       "1                True                 NaN               5   \n",
       "2                True                 NaN               5   \n",
       "3               False               False               1   \n",
       "4               False               False               1   \n",
       "\n",
       "                                        reviews_text reviews_title  \\\n",
       "0  i love this album. it's very good. more to the...  Just Awesome   \n",
       "1  Good flavor. This review was collected as part...          Good   \n",
       "2                                       Good flavor.          Good   \n",
       "3  I read through the reviews on here before look...  Disappointed   \n",
       "4  My husband bought this gel for us. The gel cau...    Irritation   \n",
       "\n",
       "  reviews_userCity reviews_userProvince reviews_username user_sentiment  \n",
       "0      Los Angeles                  NaN           joshua       Positive  \n",
       "1              NaN                  NaN        dorothy w       Positive  \n",
       "2              NaN                  NaN        dorothy w       Positive  \n",
       "3              NaN                  NaN          rebecca       Negative  \n",
       "4              NaN                  NaN        walker557       Negative  "
      ]
     },
     "execution_count": 75,
     "metadata": {},
     "output_type": "execute_result"
    }
   ],
   "source": [
    "df_recommendation = pd.read_csv(\"/kaggle/input/product-reviews/Product review dataset.csv\", encoding='utf-8')\n",
    "df_recommendation.head()"
   ]
  },
  {
   "cell_type": "code",
   "execution_count": 76,
   "metadata": {
    "execution": {
     "iopub.execute_input": "2025-04-27T13:54:03.836634Z",
     "iopub.status.busy": "2025-04-27T13:54:03.836333Z",
     "iopub.status.idle": "2025-04-27T13:54:03.841466Z",
     "shell.execute_reply": "2025-04-27T13:54:03.840838Z",
     "shell.execute_reply.started": "2025-04-27T13:54:03.836613Z"
    },
    "trusted": true
   },
   "outputs": [
    {
     "data": {
      "text/plain": [
       "(30000, 15)"
      ]
     },
     "execution_count": 76,
     "metadata": {},
     "output_type": "execute_result"
    }
   ],
   "source": [
    "df_recommendation.shape"
   ]
  },
  {
   "cell_type": "markdown",
   "metadata": {},
   "source": [
    "##### What are the necessary columns required to build the model?\n",
    "* id\n",
    "* name\n",
    "* reviews_rating\n",
    "* reviews_username"
   ]
  },
  {
   "cell_type": "code",
   "execution_count": 77,
   "metadata": {
    "execution": {
     "iopub.execute_input": "2025-04-27T13:54:03.842508Z",
     "iopub.status.busy": "2025-04-27T13:54:03.842260Z",
     "iopub.status.idle": "2025-04-27T13:54:03.855511Z",
     "shell.execute_reply": "2025-04-27T13:54:03.854510Z",
     "shell.execute_reply.started": "2025-04-27T13:54:03.842482Z"
    },
    "trusted": true
   },
   "outputs": [
    {
     "data": {
      "text/plain": [
       "(30000, 5)"
      ]
     },
     "execution_count": 77,
     "metadata": {},
     "output_type": "execute_result"
    }
   ],
   "source": [
    "reco_df = df_recommendation[['id', 'name', 'reviews_rating', 'reviews_username','reviews_text']]\n",
    "reco_df.shape"
   ]
  },
  {
   "cell_type": "code",
   "execution_count": 78,
   "metadata": {
    "execution": {
     "iopub.execute_input": "2025-04-27T13:54:03.856662Z",
     "iopub.status.busy": "2025-04-27T13:54:03.856392Z",
     "iopub.status.idle": "2025-04-27T13:54:03.867746Z",
     "shell.execute_reply": "2025-04-27T13:54:03.867057Z",
     "shell.execute_reply.started": "2025-04-27T13:54:03.856635Z"
    },
    "trusted": true
   },
   "outputs": [
    {
     "data": {
      "text/html": [
       "<div>\n",
       "<style scoped>\n",
       "    .dataframe tbody tr th:only-of-type {\n",
       "        vertical-align: middle;\n",
       "    }\n",
       "\n",
       "    .dataframe tbody tr th {\n",
       "        vertical-align: top;\n",
       "    }\n",
       "\n",
       "    .dataframe thead th {\n",
       "        text-align: right;\n",
       "    }\n",
       "</style>\n",
       "<table border=\"1\" class=\"dataframe\">\n",
       "  <thead>\n",
       "    <tr style=\"text-align: right;\">\n",
       "      <th></th>\n",
       "      <th>id</th>\n",
       "      <th>name</th>\n",
       "      <th>reviews_rating</th>\n",
       "      <th>reviews_username</th>\n",
       "      <th>reviews_text</th>\n",
       "    </tr>\n",
       "  </thead>\n",
       "  <tbody>\n",
       "    <tr>\n",
       "      <th>0</th>\n",
       "      <td>AV13O1A8GV-KLJ3akUyj</td>\n",
       "      <td>Pink Friday: Roman Reloaded Re-Up (w/dvd)</td>\n",
       "      <td>5</td>\n",
       "      <td>joshua</td>\n",
       "      <td>i love this album. it's very good. more to the...</td>\n",
       "    </tr>\n",
       "    <tr>\n",
       "      <th>1</th>\n",
       "      <td>AV14LG0R-jtxr-f38QfS</td>\n",
       "      <td>Lundberg Organic Cinnamon Toast Rice Cakes</td>\n",
       "      <td>5</td>\n",
       "      <td>dorothy w</td>\n",
       "      <td>Good flavor. This review was collected as part...</td>\n",
       "    </tr>\n",
       "    <tr>\n",
       "      <th>2</th>\n",
       "      <td>AV14LG0R-jtxr-f38QfS</td>\n",
       "      <td>Lundberg Organic Cinnamon Toast Rice Cakes</td>\n",
       "      <td>5</td>\n",
       "      <td>dorothy w</td>\n",
       "      <td>Good flavor.</td>\n",
       "    </tr>\n",
       "    <tr>\n",
       "      <th>3</th>\n",
       "      <td>AV16khLE-jtxr-f38VFn</td>\n",
       "      <td>K-Y Love Sensuality Pleasure Gel</td>\n",
       "      <td>1</td>\n",
       "      <td>rebecca</td>\n",
       "      <td>I read through the reviews on here before look...</td>\n",
       "    </tr>\n",
       "    <tr>\n",
       "      <th>4</th>\n",
       "      <td>AV16khLE-jtxr-f38VFn</td>\n",
       "      <td>K-Y Love Sensuality Pleasure Gel</td>\n",
       "      <td>1</td>\n",
       "      <td>walker557</td>\n",
       "      <td>My husband bought this gel for us. The gel cau...</td>\n",
       "    </tr>\n",
       "  </tbody>\n",
       "</table>\n",
       "</div>"
      ],
      "text/plain": [
       "                     id                                        name  \\\n",
       "0  AV13O1A8GV-KLJ3akUyj   Pink Friday: Roman Reloaded Re-Up (w/dvd)   \n",
       "1  AV14LG0R-jtxr-f38QfS  Lundberg Organic Cinnamon Toast Rice Cakes   \n",
       "2  AV14LG0R-jtxr-f38QfS  Lundberg Organic Cinnamon Toast Rice Cakes   \n",
       "3  AV16khLE-jtxr-f38VFn            K-Y Love Sensuality Pleasure Gel   \n",
       "4  AV16khLE-jtxr-f38VFn            K-Y Love Sensuality Pleasure Gel   \n",
       "\n",
       "   reviews_rating reviews_username  \\\n",
       "0               5           joshua   \n",
       "1               5        dorothy w   \n",
       "2               5        dorothy w   \n",
       "3               1          rebecca   \n",
       "4               1        walker557   \n",
       "\n",
       "                                        reviews_text  \n",
       "0  i love this album. it's very good. more to the...  \n",
       "1  Good flavor. This review was collected as part...  \n",
       "2                                       Good flavor.  \n",
       "3  I read through the reviews on here before look...  \n",
       "4  My husband bought this gel for us. The gel cau...  "
      ]
     },
     "execution_count": 78,
     "metadata": {},
     "output_type": "execute_result"
    }
   ],
   "source": [
    "reco_df.head()"
   ]
  },
  {
   "cell_type": "code",
   "execution_count": 79,
   "metadata": {
    "execution": {
     "iopub.execute_input": "2025-04-27T13:54:03.869135Z",
     "iopub.status.busy": "2025-04-27T13:54:03.868518Z",
     "iopub.status.idle": "2025-04-27T13:54:03.911535Z",
     "shell.execute_reply": "2025-04-27T13:54:03.910831Z",
     "shell.execute_reply.started": "2025-04-27T13:54:03.869117Z"
    },
    "trusted": true
   },
   "outputs": [
    {
     "data": {
      "text/html": [
       "<div>\n",
       "<style scoped>\n",
       "    .dataframe tbody tr th:only-of-type {\n",
       "        vertical-align: middle;\n",
       "    }\n",
       "\n",
       "    .dataframe tbody tr th {\n",
       "        vertical-align: top;\n",
       "    }\n",
       "\n",
       "    .dataframe thead th {\n",
       "        text-align: right;\n",
       "    }\n",
       "</style>\n",
       "<table border=\"1\" class=\"dataframe\">\n",
       "  <thead>\n",
       "    <tr style=\"text-align: right;\">\n",
       "      <th></th>\n",
       "      <th>Null values</th>\n",
       "      <th>Unique values</th>\n",
       "    </tr>\n",
       "  </thead>\n",
       "  <tbody>\n",
       "    <tr>\n",
       "      <th>reviews_username</th>\n",
       "      <td>0.21</td>\n",
       "      <td>24914</td>\n",
       "    </tr>\n",
       "    <tr>\n",
       "      <th>id</th>\n",
       "      <td>0.00</td>\n",
       "      <td>271</td>\n",
       "    </tr>\n",
       "    <tr>\n",
       "      <th>name</th>\n",
       "      <td>0.00</td>\n",
       "      <td>271</td>\n",
       "    </tr>\n",
       "    <tr>\n",
       "      <th>reviews_rating</th>\n",
       "      <td>0.00</td>\n",
       "      <td>5</td>\n",
       "    </tr>\n",
       "    <tr>\n",
       "      <th>reviews_text</th>\n",
       "      <td>0.00</td>\n",
       "      <td>27282</td>\n",
       "    </tr>\n",
       "  </tbody>\n",
       "</table>\n",
       "</div>"
      ],
      "text/plain": [
       "                  Null values  Unique values\n",
       "reviews_username         0.21          24914\n",
       "id                       0.00            271\n",
       "name                     0.00            271\n",
       "reviews_rating           0.00              5\n",
       "reviews_text             0.00          27282"
      ]
     },
     "execution_count": 79,
     "metadata": {},
     "output_type": "execute_result"
    }
   ],
   "source": [
    "null_value_check(reco_df)"
   ]
  },
  {
   "cell_type": "code",
   "execution_count": 80,
   "metadata": {
    "execution": {
     "iopub.execute_input": "2025-04-27T13:54:03.912581Z",
     "iopub.status.busy": "2025-04-27T13:54:03.912345Z",
     "iopub.status.idle": "2025-04-27T13:54:03.917629Z",
     "shell.execute_reply": "2025-04-27T13:54:03.916956Z",
     "shell.execute_reply.started": "2025-04-27T13:54:03.912565Z"
    },
    "trusted": true
   },
   "outputs": [
    {
     "name": "stdout",
     "output_type": "stream",
     "text": [
      "Number of null values in Column - reviews_username is:  63\n"
     ]
    }
   ],
   "source": [
    "print(\"Number of null values in Column - reviews_username is: \",reco_df['reviews_username'].isna().sum())"
   ]
  },
  {
   "cell_type": "code",
   "execution_count": 81,
   "metadata": {
    "execution": {
     "iopub.execute_input": "2025-04-27T13:54:03.918904Z",
     "iopub.status.busy": "2025-04-27T13:54:03.918602Z",
     "iopub.status.idle": "2025-04-27T13:54:03.931826Z",
     "shell.execute_reply": "2025-04-27T13:54:03.931254Z",
     "shell.execute_reply.started": "2025-04-27T13:54:03.918884Z"
    },
    "trusted": true
   },
   "outputs": [],
   "source": [
    "reco_df = reco_df [~reco_df.reviews_username.isna()]"
   ]
  },
  {
   "cell_type": "code",
   "execution_count": 82,
   "metadata": {
    "execution": {
     "iopub.execute_input": "2025-04-27T13:54:03.933011Z",
     "iopub.status.busy": "2025-04-27T13:54:03.932737Z",
     "iopub.status.idle": "2025-04-27T13:54:03.943253Z",
     "shell.execute_reply": "2025-04-27T13:54:03.942613Z",
     "shell.execute_reply.started": "2025-04-27T13:54:03.932989Z"
    },
    "trusted": true
   },
   "outputs": [
    {
     "data": {
      "text/plain": [
       "(29937, 5)"
      ]
     },
     "execution_count": 82,
     "metadata": {},
     "output_type": "execute_result"
    }
   ],
   "source": [
    "reco_df.shape"
   ]
  },
  {
   "cell_type": "code",
   "execution_count": 83,
   "metadata": {
    "execution": {
     "iopub.execute_input": "2025-04-27T13:54:03.943979Z",
     "iopub.status.busy": "2025-04-27T13:54:03.943772Z",
     "iopub.status.idle": "2025-04-27T13:54:03.987362Z",
     "shell.execute_reply": "2025-04-27T13:54:03.986843Z",
     "shell.execute_reply.started": "2025-04-27T13:54:03.943965Z"
    },
    "trusted": true
   },
   "outputs": [
    {
     "data": {
      "text/html": [
       "<div>\n",
       "<style scoped>\n",
       "    .dataframe tbody tr th:only-of-type {\n",
       "        vertical-align: middle;\n",
       "    }\n",
       "\n",
       "    .dataframe tbody tr th {\n",
       "        vertical-align: top;\n",
       "    }\n",
       "\n",
       "    .dataframe thead th {\n",
       "        text-align: right;\n",
       "    }\n",
       "</style>\n",
       "<table border=\"1\" class=\"dataframe\">\n",
       "  <thead>\n",
       "    <tr style=\"text-align: right;\">\n",
       "      <th></th>\n",
       "      <th>Null values</th>\n",
       "      <th>Unique values</th>\n",
       "    </tr>\n",
       "  </thead>\n",
       "  <tbody>\n",
       "    <tr>\n",
       "      <th>id</th>\n",
       "      <td>0.0</td>\n",
       "      <td>271</td>\n",
       "    </tr>\n",
       "    <tr>\n",
       "      <th>name</th>\n",
       "      <td>0.0</td>\n",
       "      <td>271</td>\n",
       "    </tr>\n",
       "    <tr>\n",
       "      <th>reviews_rating</th>\n",
       "      <td>0.0</td>\n",
       "      <td>5</td>\n",
       "    </tr>\n",
       "    <tr>\n",
       "      <th>reviews_username</th>\n",
       "      <td>0.0</td>\n",
       "      <td>24914</td>\n",
       "    </tr>\n",
       "    <tr>\n",
       "      <th>reviews_text</th>\n",
       "      <td>0.0</td>\n",
       "      <td>27227</td>\n",
       "    </tr>\n",
       "  </tbody>\n",
       "</table>\n",
       "</div>"
      ],
      "text/plain": [
       "                  Null values  Unique values\n",
       "id                        0.0            271\n",
       "name                      0.0            271\n",
       "reviews_rating            0.0              5\n",
       "reviews_username          0.0          24914\n",
       "reviews_text              0.0          27227"
      ]
     },
     "execution_count": 83,
     "metadata": {},
     "output_type": "execute_result"
    }
   ],
   "source": [
    "null_value_check(reco_df)"
   ]
  },
  {
   "cell_type": "code",
   "execution_count": 84,
   "metadata": {
    "execution": {
     "iopub.execute_input": "2025-04-27T13:54:03.988087Z",
     "iopub.status.busy": "2025-04-27T13:54:03.987929Z",
     "iopub.status.idle": "2025-04-27T13:54:03.995086Z",
     "shell.execute_reply": "2025-04-27T13:54:03.994518Z",
     "shell.execute_reply.started": "2025-04-27T13:54:03.988074Z"
    },
    "trusted": true
   },
   "outputs": [],
   "source": [
    "from sklearn.model_selection import train_test_split\n",
    "\n",
    "train, test = train_test_split(reco_df, test_size=0.30, random_state=31)"
   ]
  },
  {
   "cell_type": "code",
   "execution_count": 85,
   "metadata": {
    "execution": {
     "iopub.execute_input": "2025-04-27T13:54:03.996408Z",
     "iopub.status.busy": "2025-04-27T13:54:03.995859Z",
     "iopub.status.idle": "2025-04-27T13:54:04.004921Z",
     "shell.execute_reply": "2025-04-27T13:54:04.004350Z",
     "shell.execute_reply.started": "2025-04-27T13:54:03.996392Z"
    },
    "trusted": true
   },
   "outputs": [
    {
     "name": "stdout",
     "output_type": "stream",
     "text": [
      "(20955, 5)\n",
      "(8982, 5)\n"
     ]
    }
   ],
   "source": [
    "print(train.shape)\n",
    "print(test.shape)"
   ]
  },
  {
   "cell_type": "code",
   "execution_count": 86,
   "metadata": {
    "execution": {
     "iopub.execute_input": "2025-04-27T13:54:04.005864Z",
     "iopub.status.busy": "2025-04-27T13:54:04.005597Z",
     "iopub.status.idle": "2025-04-27T13:54:04.019800Z",
     "shell.execute_reply": "2025-04-27T13:54:04.019014Z",
     "shell.execute_reply.started": "2025-04-27T13:54:04.005841Z"
    },
    "trusted": true
   },
   "outputs": [
    {
     "data": {
      "text/html": [
       "<div>\n",
       "<style scoped>\n",
       "    .dataframe tbody tr th:only-of-type {\n",
       "        vertical-align: middle;\n",
       "    }\n",
       "\n",
       "    .dataframe tbody tr th {\n",
       "        vertical-align: top;\n",
       "    }\n",
       "\n",
       "    .dataframe thead th {\n",
       "        text-align: right;\n",
       "    }\n",
       "</style>\n",
       "<table border=\"1\" class=\"dataframe\">\n",
       "  <thead>\n",
       "    <tr style=\"text-align: right;\">\n",
       "      <th></th>\n",
       "      <th>id</th>\n",
       "      <th>name</th>\n",
       "      <th>reviews_rating</th>\n",
       "      <th>reviews_username</th>\n",
       "      <th>reviews_text</th>\n",
       "    </tr>\n",
       "  </thead>\n",
       "  <tbody>\n",
       "    <tr>\n",
       "      <th>5704</th>\n",
       "      <td>AVpf2tw1ilAPnD_xjflC</td>\n",
       "      <td>Red (special Edition) (dvdvideo)</td>\n",
       "      <td>4</td>\n",
       "      <td>dwof</td>\n",
       "      <td>Loved this movie, and the cast is great. Seein...</td>\n",
       "    </tr>\n",
       "    <tr>\n",
       "      <th>12549</th>\n",
       "      <td>AVpf3VOfilAPnD_xjpun</td>\n",
       "      <td>Clorox Disinfecting Wipes Value Pack Scented 1...</td>\n",
       "      <td>5</td>\n",
       "      <td>josie225</td>\n",
       "      <td>I always use clorox wipes, they clean like no ...</td>\n",
       "    </tr>\n",
       "    <tr>\n",
       "      <th>8534</th>\n",
       "      <td>AVpf3VOfilAPnD_xjpun</td>\n",
       "      <td>Clorox Disinfecting Wipes Value Pack Scented 1...</td>\n",
       "      <td>5</td>\n",
       "      <td>mellin1</td>\n",
       "      <td>I luv Clorox wipes..I keep these behind our to...</td>\n",
       "    </tr>\n",
       "    <tr>\n",
       "      <th>5671</th>\n",
       "      <td>AVpf2tw1ilAPnD_xjflC</td>\n",
       "      <td>Red (special Edition) (dvdvideo)</td>\n",
       "      <td>4</td>\n",
       "      <td>jerry64gd</td>\n",
       "      <td>Funny movie with decent action. Love the Marvi...</td>\n",
       "    </tr>\n",
       "    <tr>\n",
       "      <th>21698</th>\n",
       "      <td>AVpfm8yiLJeJML43AYyu</td>\n",
       "      <td>Nexxus Exxtra Gel Style Creation Sculptor</td>\n",
       "      <td>1</td>\n",
       "      <td>augale</td>\n",
       "      <td>Why did you change this product I am now looki...</td>\n",
       "    </tr>\n",
       "  </tbody>\n",
       "</table>\n",
       "</div>"
      ],
      "text/plain": [
       "                         id  \\\n",
       "5704   AVpf2tw1ilAPnD_xjflC   \n",
       "12549  AVpf3VOfilAPnD_xjpun   \n",
       "8534   AVpf3VOfilAPnD_xjpun   \n",
       "5671   AVpf2tw1ilAPnD_xjflC   \n",
       "21698  AVpfm8yiLJeJML43AYyu   \n",
       "\n",
       "                                                    name  reviews_rating  \\\n",
       "5704                    Red (special Edition) (dvdvideo)               4   \n",
       "12549  Clorox Disinfecting Wipes Value Pack Scented 1...               5   \n",
       "8534   Clorox Disinfecting Wipes Value Pack Scented 1...               5   \n",
       "5671                    Red (special Edition) (dvdvideo)               4   \n",
       "21698          Nexxus Exxtra Gel Style Creation Sculptor               1   \n",
       "\n",
       "      reviews_username                                       reviews_text  \n",
       "5704              dwof  Loved this movie, and the cast is great. Seein...  \n",
       "12549         josie225  I always use clorox wipes, they clean like no ...  \n",
       "8534           mellin1  I luv Clorox wipes..I keep these behind our to...  \n",
       "5671         jerry64gd  Funny movie with decent action. Love the Marvi...  \n",
       "21698           augale  Why did you change this product I am now looki...  "
      ]
     },
     "execution_count": 86,
     "metadata": {},
     "output_type": "execute_result"
    }
   ],
   "source": [
    "train.head()"
   ]
  },
  {
   "cell_type": "code",
   "execution_count": 87,
   "metadata": {
    "execution": {
     "iopub.execute_input": "2025-04-27T13:54:04.021011Z",
     "iopub.status.busy": "2025-04-27T13:54:04.020733Z",
     "iopub.status.idle": "2025-04-27T13:54:04.156628Z",
     "shell.execute_reply": "2025-04-27T13:54:04.155834Z",
     "shell.execute_reply.started": "2025-04-27T13:54:04.020990Z"
    },
    "trusted": true
   },
   "outputs": [
    {
     "data": {
      "text/html": [
       "<div>\n",
       "<style scoped>\n",
       "    .dataframe tbody tr th:only-of-type {\n",
       "        vertical-align: middle;\n",
       "    }\n",
       "\n",
       "    .dataframe tbody tr th {\n",
       "        vertical-align: top;\n",
       "    }\n",
       "\n",
       "    .dataframe thead th {\n",
       "        text-align: right;\n",
       "    }\n",
       "</style>\n",
       "<table border=\"1\" class=\"dataframe\">\n",
       "  <thead>\n",
       "    <tr style=\"text-align: right;\">\n",
       "      <th>id</th>\n",
       "      <th>AV13O1A8GV-KLJ3akUyj</th>\n",
       "      <th>AV14LG0R-jtxr-f38QfS</th>\n",
       "      <th>AV16khLE-jtxr-f38VFn</th>\n",
       "      <th>AV1YGDqsGV-KLJ3adc-O</th>\n",
       "      <th>AV1YIch7GV-KLJ3addeG</th>\n",
       "      <th>AV1YlENIglJLPUi8IHsX</th>\n",
       "      <th>AV1YmBrdGV-KLJ3adewb</th>\n",
       "      <th>AV1YmDL9vKc47QAVgr7_</th>\n",
       "      <th>AV1Ymf_rglJLPUi8II2v</th>\n",
       "      <th>AV1Yn94nvKc47QAVgtst</th>\n",
       "      <th>...</th>\n",
       "      <th>AVpfr5cb1cnluZ0-pZFp</th>\n",
       "      <th>AVpfrFDZLJeJML43Bmv0</th>\n",
       "      <th>AVpfrTyiLJeJML43BrSI</th>\n",
       "      <th>AVpfrfHF1cnluZ0-pRai</th>\n",
       "      <th>AVpfrgjFLJeJML43BvCc</th>\n",
       "      <th>AVpfshNsLJeJML43CB8q</th>\n",
       "      <th>AVpfthSailAPnD_xg3ON</th>\n",
       "      <th>AVpftikC1cnluZ0-p31V</th>\n",
       "      <th>AVpfv4TlilAPnD_xhjNS</th>\n",
       "      <th>AVpfvieo1cnluZ0-qdnu</th>\n",
       "    </tr>\n",
       "    <tr>\n",
       "      <th>reviews_username</th>\n",
       "      <th></th>\n",
       "      <th></th>\n",
       "      <th></th>\n",
       "      <th></th>\n",
       "      <th></th>\n",
       "      <th></th>\n",
       "      <th></th>\n",
       "      <th></th>\n",
       "      <th></th>\n",
       "      <th></th>\n",
       "      <th></th>\n",
       "      <th></th>\n",
       "      <th></th>\n",
       "      <th></th>\n",
       "      <th></th>\n",
       "      <th></th>\n",
       "      <th></th>\n",
       "      <th></th>\n",
       "      <th></th>\n",
       "      <th></th>\n",
       "      <th></th>\n",
       "    </tr>\n",
       "  </thead>\n",
       "  <tbody>\n",
       "    <tr>\n",
       "      <th>00sab00</th>\n",
       "      <td>0.0</td>\n",
       "      <td>0.0</td>\n",
       "      <td>0.0</td>\n",
       "      <td>0.0</td>\n",
       "      <td>0.0</td>\n",
       "      <td>0.0</td>\n",
       "      <td>0.0</td>\n",
       "      <td>0.0</td>\n",
       "      <td>0.0</td>\n",
       "      <td>0.0</td>\n",
       "      <td>...</td>\n",
       "      <td>0.0</td>\n",
       "      <td>0.0</td>\n",
       "      <td>0.0</td>\n",
       "      <td>0.0</td>\n",
       "      <td>0.0</td>\n",
       "      <td>0.0</td>\n",
       "      <td>0.0</td>\n",
       "      <td>0.0</td>\n",
       "      <td>0.0</td>\n",
       "      <td>0.0</td>\n",
       "    </tr>\n",
       "    <tr>\n",
       "      <th>01impala</th>\n",
       "      <td>0.0</td>\n",
       "      <td>0.0</td>\n",
       "      <td>0.0</td>\n",
       "      <td>0.0</td>\n",
       "      <td>0.0</td>\n",
       "      <td>0.0</td>\n",
       "      <td>0.0</td>\n",
       "      <td>0.0</td>\n",
       "      <td>0.0</td>\n",
       "      <td>0.0</td>\n",
       "      <td>...</td>\n",
       "      <td>0.0</td>\n",
       "      <td>0.0</td>\n",
       "      <td>0.0</td>\n",
       "      <td>0.0</td>\n",
       "      <td>0.0</td>\n",
       "      <td>0.0</td>\n",
       "      <td>0.0</td>\n",
       "      <td>0.0</td>\n",
       "      <td>0.0</td>\n",
       "      <td>0.0</td>\n",
       "    </tr>\n",
       "    <tr>\n",
       "      <th>02dakota</th>\n",
       "      <td>0.0</td>\n",
       "      <td>0.0</td>\n",
       "      <td>0.0</td>\n",
       "      <td>0.0</td>\n",
       "      <td>0.0</td>\n",
       "      <td>0.0</td>\n",
       "      <td>0.0</td>\n",
       "      <td>0.0</td>\n",
       "      <td>0.0</td>\n",
       "      <td>0.0</td>\n",
       "      <td>...</td>\n",
       "      <td>0.0</td>\n",
       "      <td>0.0</td>\n",
       "      <td>0.0</td>\n",
       "      <td>0.0</td>\n",
       "      <td>0.0</td>\n",
       "      <td>0.0</td>\n",
       "      <td>0.0</td>\n",
       "      <td>0.0</td>\n",
       "      <td>0.0</td>\n",
       "      <td>0.0</td>\n",
       "    </tr>\n",
       "  </tbody>\n",
       "</table>\n",
       "<p>3 rows × 255 columns</p>\n",
       "</div>"
      ],
      "text/plain": [
       "id                AV13O1A8GV-KLJ3akUyj  AV14LG0R-jtxr-f38QfS  \\\n",
       "reviews_username                                               \n",
       "00sab00                            0.0                   0.0   \n",
       "01impala                           0.0                   0.0   \n",
       "02dakota                           0.0                   0.0   \n",
       "\n",
       "id                AV16khLE-jtxr-f38VFn  AV1YGDqsGV-KLJ3adc-O  \\\n",
       "reviews_username                                               \n",
       "00sab00                            0.0                   0.0   \n",
       "01impala                           0.0                   0.0   \n",
       "02dakota                           0.0                   0.0   \n",
       "\n",
       "id                AV1YIch7GV-KLJ3addeG  AV1YlENIglJLPUi8IHsX  \\\n",
       "reviews_username                                               \n",
       "00sab00                            0.0                   0.0   \n",
       "01impala                           0.0                   0.0   \n",
       "02dakota                           0.0                   0.0   \n",
       "\n",
       "id                AV1YmBrdGV-KLJ3adewb  AV1YmDL9vKc47QAVgr7_  \\\n",
       "reviews_username                                               \n",
       "00sab00                            0.0                   0.0   \n",
       "01impala                           0.0                   0.0   \n",
       "02dakota                           0.0                   0.0   \n",
       "\n",
       "id                AV1Ymf_rglJLPUi8II2v  AV1Yn94nvKc47QAVgtst  ...  \\\n",
       "reviews_username                                              ...   \n",
       "00sab00                            0.0                   0.0  ...   \n",
       "01impala                           0.0                   0.0  ...   \n",
       "02dakota                           0.0                   0.0  ...   \n",
       "\n",
       "id                AVpfr5cb1cnluZ0-pZFp  AVpfrFDZLJeJML43Bmv0  \\\n",
       "reviews_username                                               \n",
       "00sab00                            0.0                   0.0   \n",
       "01impala                           0.0                   0.0   \n",
       "02dakota                           0.0                   0.0   \n",
       "\n",
       "id                AVpfrTyiLJeJML43BrSI  AVpfrfHF1cnluZ0-pRai  \\\n",
       "reviews_username                                               \n",
       "00sab00                            0.0                   0.0   \n",
       "01impala                           0.0                   0.0   \n",
       "02dakota                           0.0                   0.0   \n",
       "\n",
       "id                AVpfrgjFLJeJML43BvCc  AVpfshNsLJeJML43CB8q  \\\n",
       "reviews_username                                               \n",
       "00sab00                            0.0                   0.0   \n",
       "01impala                           0.0                   0.0   \n",
       "02dakota                           0.0                   0.0   \n",
       "\n",
       "id                AVpfthSailAPnD_xg3ON  AVpftikC1cnluZ0-p31V  \\\n",
       "reviews_username                                               \n",
       "00sab00                            0.0                   0.0   \n",
       "01impala                           0.0                   0.0   \n",
       "02dakota                           0.0                   0.0   \n",
       "\n",
       "id                AVpfv4TlilAPnD_xhjNS  AVpfvieo1cnluZ0-qdnu  \n",
       "reviews_username                                              \n",
       "00sab00                            0.0                   0.0  \n",
       "01impala                           0.0                   0.0  \n",
       "02dakota                           0.0                   0.0  \n",
       "\n",
       "[3 rows x 255 columns]"
      ]
     },
     "execution_count": 87,
     "metadata": {},
     "output_type": "execute_result"
    }
   ],
   "source": [
    "# Let's create a pivot table\n",
    "\n",
    "df_pivot = train.pivot_table(\n",
    "    index='reviews_username',\n",
    "    columns='id',\n",
    "    values='reviews_rating'\n",
    ").fillna(0)\n",
    "\n",
    "df_pivot.head(3)"
   ]
  },
  {
   "cell_type": "markdown",
   "metadata": {},
   "source": [
    "### Creating dummy train & dummy test dataset\n",
    "These dataset will be used for prediction \n",
    "- Dummy train will be used later for prediction of the products which has not been rated by the user. To ignore the products rated by the user, we will mark it as 0 during prediction. The products not rated by user is marked as 1 for prediction in dummy train dataset. \n",
    "\n",
    "- Dummy test will be used for evaluation. To evaluate, we will only make prediction on the products rated by the user. So, this is marked as 1. This is just opposite of dummy_train."
   ]
  },
  {
   "cell_type": "code",
   "execution_count": 88,
   "metadata": {
    "execution": {
     "iopub.execute_input": "2025-04-27T13:54:04.157687Z",
     "iopub.status.busy": "2025-04-27T13:54:04.157473Z",
     "iopub.status.idle": "2025-04-27T13:54:04.162481Z",
     "shell.execute_reply": "2025-04-27T13:54:04.161834Z",
     "shell.execute_reply.started": "2025-04-27T13:54:04.157671Z"
    },
    "trusted": true
   },
   "outputs": [],
   "source": [
    "dummy_train = train.copy()"
   ]
  },
  {
   "cell_type": "code",
   "execution_count": 89,
   "metadata": {
    "execution": {
     "iopub.execute_input": "2025-04-27T13:54:04.163245Z",
     "iopub.status.busy": "2025-04-27T13:54:04.163087Z",
     "iopub.status.idle": "2025-04-27T13:54:04.181812Z",
     "shell.execute_reply": "2025-04-27T13:54:04.181226Z",
     "shell.execute_reply.started": "2025-04-27T13:54:04.163232Z"
    },
    "trusted": true
   },
   "outputs": [],
   "source": [
    "# The products not rated by user is marked as 1 for prediction. \n",
    "\n",
    "dummy_train['reviews_rating'] = dummy_train['reviews_rating'].apply(lambda x: 0 if x>=1 else 1)"
   ]
  },
  {
   "cell_type": "code",
   "execution_count": 90,
   "metadata": {
    "execution": {
     "iopub.execute_input": "2025-04-27T13:54:04.182975Z",
     "iopub.status.busy": "2025-04-27T13:54:04.182658Z",
     "iopub.status.idle": "2025-04-27T13:54:04.301510Z",
     "shell.execute_reply": "2025-04-27T13:54:04.300714Z",
     "shell.execute_reply.started": "2025-04-27T13:54:04.182951Z"
    },
    "trusted": true
   },
   "outputs": [],
   "source": [
    "# Converting the dummy_train into a pivot table\n",
    "\n",
    "dummy_train = dummy_train.pivot_table(\n",
    "    index='reviews_username',\n",
    "    columns='id',\n",
    "    values='reviews_rating'\n",
    ").fillna(1)"
   ]
  },
  {
   "cell_type": "code",
   "execution_count": 91,
   "metadata": {
    "execution": {
     "iopub.execute_input": "2025-04-27T13:54:04.302592Z",
     "iopub.status.busy": "2025-04-27T13:54:04.302386Z",
     "iopub.status.idle": "2025-04-27T13:54:04.321189Z",
     "shell.execute_reply": "2025-04-27T13:54:04.320514Z",
     "shell.execute_reply.started": "2025-04-27T13:54:04.302576Z"
    },
    "trusted": true
   },
   "outputs": [
    {
     "data": {
      "text/html": [
       "<div>\n",
       "<style scoped>\n",
       "    .dataframe tbody tr th:only-of-type {\n",
       "        vertical-align: middle;\n",
       "    }\n",
       "\n",
       "    .dataframe tbody tr th {\n",
       "        vertical-align: top;\n",
       "    }\n",
       "\n",
       "    .dataframe thead th {\n",
       "        text-align: right;\n",
       "    }\n",
       "</style>\n",
       "<table border=\"1\" class=\"dataframe\">\n",
       "  <thead>\n",
       "    <tr style=\"text-align: right;\">\n",
       "      <th>id</th>\n",
       "      <th>AV13O1A8GV-KLJ3akUyj</th>\n",
       "      <th>AV14LG0R-jtxr-f38QfS</th>\n",
       "      <th>AV16khLE-jtxr-f38VFn</th>\n",
       "      <th>AV1YGDqsGV-KLJ3adc-O</th>\n",
       "      <th>AV1YIch7GV-KLJ3addeG</th>\n",
       "      <th>AV1YlENIglJLPUi8IHsX</th>\n",
       "      <th>AV1YmBrdGV-KLJ3adewb</th>\n",
       "      <th>AV1YmDL9vKc47QAVgr7_</th>\n",
       "      <th>AV1Ymf_rglJLPUi8II2v</th>\n",
       "      <th>AV1Yn94nvKc47QAVgtst</th>\n",
       "      <th>...</th>\n",
       "      <th>AVpfr5cb1cnluZ0-pZFp</th>\n",
       "      <th>AVpfrFDZLJeJML43Bmv0</th>\n",
       "      <th>AVpfrTyiLJeJML43BrSI</th>\n",
       "      <th>AVpfrfHF1cnluZ0-pRai</th>\n",
       "      <th>AVpfrgjFLJeJML43BvCc</th>\n",
       "      <th>AVpfshNsLJeJML43CB8q</th>\n",
       "      <th>AVpfthSailAPnD_xg3ON</th>\n",
       "      <th>AVpftikC1cnluZ0-p31V</th>\n",
       "      <th>AVpfv4TlilAPnD_xhjNS</th>\n",
       "      <th>AVpfvieo1cnluZ0-qdnu</th>\n",
       "    </tr>\n",
       "    <tr>\n",
       "      <th>reviews_username</th>\n",
       "      <th></th>\n",
       "      <th></th>\n",
       "      <th></th>\n",
       "      <th></th>\n",
       "      <th></th>\n",
       "      <th></th>\n",
       "      <th></th>\n",
       "      <th></th>\n",
       "      <th></th>\n",
       "      <th></th>\n",
       "      <th></th>\n",
       "      <th></th>\n",
       "      <th></th>\n",
       "      <th></th>\n",
       "      <th></th>\n",
       "      <th></th>\n",
       "      <th></th>\n",
       "      <th></th>\n",
       "      <th></th>\n",
       "      <th></th>\n",
       "      <th></th>\n",
       "    </tr>\n",
       "  </thead>\n",
       "  <tbody>\n",
       "    <tr>\n",
       "      <th>00sab00</th>\n",
       "      <td>1.0</td>\n",
       "      <td>1.0</td>\n",
       "      <td>1.0</td>\n",
       "      <td>1.0</td>\n",
       "      <td>1.0</td>\n",
       "      <td>1.0</td>\n",
       "      <td>1.0</td>\n",
       "      <td>1.0</td>\n",
       "      <td>1.0</td>\n",
       "      <td>1.0</td>\n",
       "      <td>...</td>\n",
       "      <td>1.0</td>\n",
       "      <td>1.0</td>\n",
       "      <td>1.0</td>\n",
       "      <td>1.0</td>\n",
       "      <td>1.0</td>\n",
       "      <td>1.0</td>\n",
       "      <td>1.0</td>\n",
       "      <td>1.0</td>\n",
       "      <td>1.0</td>\n",
       "      <td>1.0</td>\n",
       "    </tr>\n",
       "    <tr>\n",
       "      <th>01impala</th>\n",
       "      <td>1.0</td>\n",
       "      <td>1.0</td>\n",
       "      <td>1.0</td>\n",
       "      <td>1.0</td>\n",
       "      <td>1.0</td>\n",
       "      <td>1.0</td>\n",
       "      <td>1.0</td>\n",
       "      <td>1.0</td>\n",
       "      <td>1.0</td>\n",
       "      <td>1.0</td>\n",
       "      <td>...</td>\n",
       "      <td>1.0</td>\n",
       "      <td>1.0</td>\n",
       "      <td>1.0</td>\n",
       "      <td>1.0</td>\n",
       "      <td>1.0</td>\n",
       "      <td>1.0</td>\n",
       "      <td>1.0</td>\n",
       "      <td>1.0</td>\n",
       "      <td>1.0</td>\n",
       "      <td>1.0</td>\n",
       "    </tr>\n",
       "    <tr>\n",
       "      <th>02dakota</th>\n",
       "      <td>1.0</td>\n",
       "      <td>1.0</td>\n",
       "      <td>1.0</td>\n",
       "      <td>1.0</td>\n",
       "      <td>1.0</td>\n",
       "      <td>1.0</td>\n",
       "      <td>1.0</td>\n",
       "      <td>1.0</td>\n",
       "      <td>1.0</td>\n",
       "      <td>1.0</td>\n",
       "      <td>...</td>\n",
       "      <td>1.0</td>\n",
       "      <td>1.0</td>\n",
       "      <td>1.0</td>\n",
       "      <td>1.0</td>\n",
       "      <td>1.0</td>\n",
       "      <td>1.0</td>\n",
       "      <td>1.0</td>\n",
       "      <td>1.0</td>\n",
       "      <td>1.0</td>\n",
       "      <td>1.0</td>\n",
       "    </tr>\n",
       "  </tbody>\n",
       "</table>\n",
       "<p>3 rows × 255 columns</p>\n",
       "</div>"
      ],
      "text/plain": [
       "id                AV13O1A8GV-KLJ3akUyj  AV14LG0R-jtxr-f38QfS  \\\n",
       "reviews_username                                               \n",
       "00sab00                            1.0                   1.0   \n",
       "01impala                           1.0                   1.0   \n",
       "02dakota                           1.0                   1.0   \n",
       "\n",
       "id                AV16khLE-jtxr-f38VFn  AV1YGDqsGV-KLJ3adc-O  \\\n",
       "reviews_username                                               \n",
       "00sab00                            1.0                   1.0   \n",
       "01impala                           1.0                   1.0   \n",
       "02dakota                           1.0                   1.0   \n",
       "\n",
       "id                AV1YIch7GV-KLJ3addeG  AV1YlENIglJLPUi8IHsX  \\\n",
       "reviews_username                                               \n",
       "00sab00                            1.0                   1.0   \n",
       "01impala                           1.0                   1.0   \n",
       "02dakota                           1.0                   1.0   \n",
       "\n",
       "id                AV1YmBrdGV-KLJ3adewb  AV1YmDL9vKc47QAVgr7_  \\\n",
       "reviews_username                                               \n",
       "00sab00                            1.0                   1.0   \n",
       "01impala                           1.0                   1.0   \n",
       "02dakota                           1.0                   1.0   \n",
       "\n",
       "id                AV1Ymf_rglJLPUi8II2v  AV1Yn94nvKc47QAVgtst  ...  \\\n",
       "reviews_username                                              ...   \n",
       "00sab00                            1.0                   1.0  ...   \n",
       "01impala                           1.0                   1.0  ...   \n",
       "02dakota                           1.0                   1.0  ...   \n",
       "\n",
       "id                AVpfr5cb1cnluZ0-pZFp  AVpfrFDZLJeJML43Bmv0  \\\n",
       "reviews_username                                               \n",
       "00sab00                            1.0                   1.0   \n",
       "01impala                           1.0                   1.0   \n",
       "02dakota                           1.0                   1.0   \n",
       "\n",
       "id                AVpfrTyiLJeJML43BrSI  AVpfrfHF1cnluZ0-pRai  \\\n",
       "reviews_username                                               \n",
       "00sab00                            1.0                   1.0   \n",
       "01impala                           1.0                   1.0   \n",
       "02dakota                           1.0                   1.0   \n",
       "\n",
       "id                AVpfrgjFLJeJML43BvCc  AVpfshNsLJeJML43CB8q  \\\n",
       "reviews_username                                               \n",
       "00sab00                            1.0                   1.0   \n",
       "01impala                           1.0                   1.0   \n",
       "02dakota                           1.0                   1.0   \n",
       "\n",
       "id                AVpfthSailAPnD_xg3ON  AVpftikC1cnluZ0-p31V  \\\n",
       "reviews_username                                               \n",
       "00sab00                            1.0                   1.0   \n",
       "01impala                           1.0                   1.0   \n",
       "02dakota                           1.0                   1.0   \n",
       "\n",
       "id                AVpfv4TlilAPnD_xhjNS  AVpfvieo1cnluZ0-qdnu  \n",
       "reviews_username                                              \n",
       "00sab00                            1.0                   1.0  \n",
       "01impala                           1.0                   1.0  \n",
       "02dakota                           1.0                   1.0  \n",
       "\n",
       "[3 rows x 255 columns]"
      ]
     },
     "execution_count": 91,
     "metadata": {},
     "output_type": "execute_result"
    }
   ],
   "source": [
    "dummy_train.head(3)"
   ]
  },
  {
   "cell_type": "markdown",
   "metadata": {},
   "source": [
    "### MODEL 1: User based recommendation system "
   ]
  },
  {
   "cell_type": "markdown",
   "metadata": {},
   "source": [
    "##### Let's calculate adjusted cosine similarity\n",
    "\n",
    "**Adjusted Cosine Similarity removes user bias by:**\n",
    "\n",
    "\n",
    "**Subtracting each user’s average rating before calculating cosine similarity.So we only compare the relative preference for items, not the absolute ratings.**\n",
    "\n"
   ]
  },
  {
   "cell_type": "code",
   "execution_count": 92,
   "metadata": {
    "execution": {
     "iopub.execute_input": "2025-04-27T13:54:04.322245Z",
     "iopub.status.busy": "2025-04-27T13:54:04.322027Z",
     "iopub.status.idle": "2025-04-27T13:54:04.377927Z",
     "shell.execute_reply": "2025-04-27T13:54:04.377402Z",
     "shell.execute_reply.started": "2025-04-27T13:54:04.322219Z"
    },
    "trusted": true
   },
   "outputs": [],
   "source": [
    "mean = np.nanmean(df_pivot, axis=1)\n",
    "df_subtracted = (df_pivot.T-mean).T"
   ]
  },
  {
   "cell_type": "code",
   "execution_count": 93,
   "metadata": {
    "execution": {
     "iopub.execute_input": "2025-04-27T13:54:04.378804Z",
     "iopub.status.busy": "2025-04-27T13:54:04.378596Z",
     "iopub.status.idle": "2025-04-27T13:54:04.394527Z",
     "shell.execute_reply": "2025-04-27T13:54:04.393912Z",
     "shell.execute_reply.started": "2025-04-27T13:54:04.378777Z"
    },
    "trusted": true
   },
   "outputs": [
    {
     "data": {
      "text/html": [
       "<div>\n",
       "<style scoped>\n",
       "    .dataframe tbody tr th:only-of-type {\n",
       "        vertical-align: middle;\n",
       "    }\n",
       "\n",
       "    .dataframe tbody tr th {\n",
       "        vertical-align: top;\n",
       "    }\n",
       "\n",
       "    .dataframe thead th {\n",
       "        text-align: right;\n",
       "    }\n",
       "</style>\n",
       "<table border=\"1\" class=\"dataframe\">\n",
       "  <thead>\n",
       "    <tr style=\"text-align: right;\">\n",
       "      <th>id</th>\n",
       "      <th>AV13O1A8GV-KLJ3akUyj</th>\n",
       "      <th>AV14LG0R-jtxr-f38QfS</th>\n",
       "      <th>AV16khLE-jtxr-f38VFn</th>\n",
       "      <th>AV1YGDqsGV-KLJ3adc-O</th>\n",
       "      <th>AV1YIch7GV-KLJ3addeG</th>\n",
       "      <th>AV1YlENIglJLPUi8IHsX</th>\n",
       "      <th>AV1YmBrdGV-KLJ3adewb</th>\n",
       "      <th>AV1YmDL9vKc47QAVgr7_</th>\n",
       "      <th>AV1Ymf_rglJLPUi8II2v</th>\n",
       "      <th>AV1Yn94nvKc47QAVgtst</th>\n",
       "      <th>...</th>\n",
       "      <th>AVpfr5cb1cnluZ0-pZFp</th>\n",
       "      <th>AVpfrFDZLJeJML43Bmv0</th>\n",
       "      <th>AVpfrTyiLJeJML43BrSI</th>\n",
       "      <th>AVpfrfHF1cnluZ0-pRai</th>\n",
       "      <th>AVpfrgjFLJeJML43BvCc</th>\n",
       "      <th>AVpfshNsLJeJML43CB8q</th>\n",
       "      <th>AVpfthSailAPnD_xg3ON</th>\n",
       "      <th>AVpftikC1cnluZ0-p31V</th>\n",
       "      <th>AVpfv4TlilAPnD_xhjNS</th>\n",
       "      <th>AVpfvieo1cnluZ0-qdnu</th>\n",
       "    </tr>\n",
       "    <tr>\n",
       "      <th>reviews_username</th>\n",
       "      <th></th>\n",
       "      <th></th>\n",
       "      <th></th>\n",
       "      <th></th>\n",
       "      <th></th>\n",
       "      <th></th>\n",
       "      <th></th>\n",
       "      <th></th>\n",
       "      <th></th>\n",
       "      <th></th>\n",
       "      <th></th>\n",
       "      <th></th>\n",
       "      <th></th>\n",
       "      <th></th>\n",
       "      <th></th>\n",
       "      <th></th>\n",
       "      <th></th>\n",
       "      <th></th>\n",
       "      <th></th>\n",
       "      <th></th>\n",
       "      <th></th>\n",
       "    </tr>\n",
       "  </thead>\n",
       "  <tbody>\n",
       "    <tr>\n",
       "      <th>00sab00</th>\n",
       "      <td>-0.015686</td>\n",
       "      <td>-0.015686</td>\n",
       "      <td>-0.015686</td>\n",
       "      <td>-0.015686</td>\n",
       "      <td>-0.015686</td>\n",
       "      <td>-0.015686</td>\n",
       "      <td>-0.015686</td>\n",
       "      <td>-0.015686</td>\n",
       "      <td>-0.015686</td>\n",
       "      <td>-0.015686</td>\n",
       "      <td>...</td>\n",
       "      <td>-0.015686</td>\n",
       "      <td>-0.015686</td>\n",
       "      <td>-0.015686</td>\n",
       "      <td>-0.015686</td>\n",
       "      <td>-0.015686</td>\n",
       "      <td>-0.015686</td>\n",
       "      <td>-0.015686</td>\n",
       "      <td>-0.015686</td>\n",
       "      <td>-0.015686</td>\n",
       "      <td>-0.015686</td>\n",
       "    </tr>\n",
       "    <tr>\n",
       "      <th>01impala</th>\n",
       "      <td>-0.011765</td>\n",
       "      <td>-0.011765</td>\n",
       "      <td>-0.011765</td>\n",
       "      <td>-0.011765</td>\n",
       "      <td>-0.011765</td>\n",
       "      <td>-0.011765</td>\n",
       "      <td>-0.011765</td>\n",
       "      <td>-0.011765</td>\n",
       "      <td>-0.011765</td>\n",
       "      <td>-0.011765</td>\n",
       "      <td>...</td>\n",
       "      <td>-0.011765</td>\n",
       "      <td>-0.011765</td>\n",
       "      <td>-0.011765</td>\n",
       "      <td>-0.011765</td>\n",
       "      <td>-0.011765</td>\n",
       "      <td>-0.011765</td>\n",
       "      <td>-0.011765</td>\n",
       "      <td>-0.011765</td>\n",
       "      <td>-0.011765</td>\n",
       "      <td>-0.011765</td>\n",
       "    </tr>\n",
       "    <tr>\n",
       "      <th>02dakota</th>\n",
       "      <td>-0.019608</td>\n",
       "      <td>-0.019608</td>\n",
       "      <td>-0.019608</td>\n",
       "      <td>-0.019608</td>\n",
       "      <td>-0.019608</td>\n",
       "      <td>-0.019608</td>\n",
       "      <td>-0.019608</td>\n",
       "      <td>-0.019608</td>\n",
       "      <td>-0.019608</td>\n",
       "      <td>-0.019608</td>\n",
       "      <td>...</td>\n",
       "      <td>-0.019608</td>\n",
       "      <td>-0.019608</td>\n",
       "      <td>-0.019608</td>\n",
       "      <td>-0.019608</td>\n",
       "      <td>-0.019608</td>\n",
       "      <td>-0.019608</td>\n",
       "      <td>-0.019608</td>\n",
       "      <td>-0.019608</td>\n",
       "      <td>-0.019608</td>\n",
       "      <td>-0.019608</td>\n",
       "    </tr>\n",
       "    <tr>\n",
       "      <th>02deuce</th>\n",
       "      <td>-0.015686</td>\n",
       "      <td>-0.015686</td>\n",
       "      <td>-0.015686</td>\n",
       "      <td>-0.015686</td>\n",
       "      <td>-0.015686</td>\n",
       "      <td>-0.015686</td>\n",
       "      <td>-0.015686</td>\n",
       "      <td>-0.015686</td>\n",
       "      <td>-0.015686</td>\n",
       "      <td>-0.015686</td>\n",
       "      <td>...</td>\n",
       "      <td>-0.015686</td>\n",
       "      <td>-0.015686</td>\n",
       "      <td>-0.015686</td>\n",
       "      <td>-0.015686</td>\n",
       "      <td>-0.015686</td>\n",
       "      <td>-0.015686</td>\n",
       "      <td>-0.015686</td>\n",
       "      <td>-0.015686</td>\n",
       "      <td>-0.015686</td>\n",
       "      <td>-0.015686</td>\n",
       "    </tr>\n",
       "    <tr>\n",
       "      <th>06stidriver</th>\n",
       "      <td>-0.019608</td>\n",
       "      <td>-0.019608</td>\n",
       "      <td>-0.019608</td>\n",
       "      <td>-0.019608</td>\n",
       "      <td>-0.019608</td>\n",
       "      <td>-0.019608</td>\n",
       "      <td>-0.019608</td>\n",
       "      <td>-0.019608</td>\n",
       "      <td>-0.019608</td>\n",
       "      <td>-0.019608</td>\n",
       "      <td>...</td>\n",
       "      <td>-0.019608</td>\n",
       "      <td>-0.019608</td>\n",
       "      <td>-0.019608</td>\n",
       "      <td>-0.019608</td>\n",
       "      <td>-0.019608</td>\n",
       "      <td>-0.019608</td>\n",
       "      <td>-0.019608</td>\n",
       "      <td>-0.019608</td>\n",
       "      <td>-0.019608</td>\n",
       "      <td>-0.019608</td>\n",
       "    </tr>\n",
       "  </tbody>\n",
       "</table>\n",
       "<p>5 rows × 255 columns</p>\n",
       "</div>"
      ],
      "text/plain": [
       "id                AV13O1A8GV-KLJ3akUyj  AV14LG0R-jtxr-f38QfS  \\\n",
       "reviews_username                                               \n",
       "00sab00                      -0.015686             -0.015686   \n",
       "01impala                     -0.011765             -0.011765   \n",
       "02dakota                     -0.019608             -0.019608   \n",
       "02deuce                      -0.015686             -0.015686   \n",
       "06stidriver                  -0.019608             -0.019608   \n",
       "\n",
       "id                AV16khLE-jtxr-f38VFn  AV1YGDqsGV-KLJ3adc-O  \\\n",
       "reviews_username                                               \n",
       "00sab00                      -0.015686             -0.015686   \n",
       "01impala                     -0.011765             -0.011765   \n",
       "02dakota                     -0.019608             -0.019608   \n",
       "02deuce                      -0.015686             -0.015686   \n",
       "06stidriver                  -0.019608             -0.019608   \n",
       "\n",
       "id                AV1YIch7GV-KLJ3addeG  AV1YlENIglJLPUi8IHsX  \\\n",
       "reviews_username                                               \n",
       "00sab00                      -0.015686             -0.015686   \n",
       "01impala                     -0.011765             -0.011765   \n",
       "02dakota                     -0.019608             -0.019608   \n",
       "02deuce                      -0.015686             -0.015686   \n",
       "06stidriver                  -0.019608             -0.019608   \n",
       "\n",
       "id                AV1YmBrdGV-KLJ3adewb  AV1YmDL9vKc47QAVgr7_  \\\n",
       "reviews_username                                               \n",
       "00sab00                      -0.015686             -0.015686   \n",
       "01impala                     -0.011765             -0.011765   \n",
       "02dakota                     -0.019608             -0.019608   \n",
       "02deuce                      -0.015686             -0.015686   \n",
       "06stidriver                  -0.019608             -0.019608   \n",
       "\n",
       "id                AV1Ymf_rglJLPUi8II2v  AV1Yn94nvKc47QAVgtst  ...  \\\n",
       "reviews_username                                              ...   \n",
       "00sab00                      -0.015686             -0.015686  ...   \n",
       "01impala                     -0.011765             -0.011765  ...   \n",
       "02dakota                     -0.019608             -0.019608  ...   \n",
       "02deuce                      -0.015686             -0.015686  ...   \n",
       "06stidriver                  -0.019608             -0.019608  ...   \n",
       "\n",
       "id                AVpfr5cb1cnluZ0-pZFp  AVpfrFDZLJeJML43Bmv0  \\\n",
       "reviews_username                                               \n",
       "00sab00                      -0.015686             -0.015686   \n",
       "01impala                     -0.011765             -0.011765   \n",
       "02dakota                     -0.019608             -0.019608   \n",
       "02deuce                      -0.015686             -0.015686   \n",
       "06stidriver                  -0.019608             -0.019608   \n",
       "\n",
       "id                AVpfrTyiLJeJML43BrSI  AVpfrfHF1cnluZ0-pRai  \\\n",
       "reviews_username                                               \n",
       "00sab00                      -0.015686             -0.015686   \n",
       "01impala                     -0.011765             -0.011765   \n",
       "02dakota                     -0.019608             -0.019608   \n",
       "02deuce                      -0.015686             -0.015686   \n",
       "06stidriver                  -0.019608             -0.019608   \n",
       "\n",
       "id                AVpfrgjFLJeJML43BvCc  AVpfshNsLJeJML43CB8q  \\\n",
       "reviews_username                                               \n",
       "00sab00                      -0.015686             -0.015686   \n",
       "01impala                     -0.011765             -0.011765   \n",
       "02dakota                     -0.019608             -0.019608   \n",
       "02deuce                      -0.015686             -0.015686   \n",
       "06stidriver                  -0.019608             -0.019608   \n",
       "\n",
       "id                AVpfthSailAPnD_xg3ON  AVpftikC1cnluZ0-p31V  \\\n",
       "reviews_username                                               \n",
       "00sab00                      -0.015686             -0.015686   \n",
       "01impala                     -0.011765             -0.011765   \n",
       "02dakota                     -0.019608             -0.019608   \n",
       "02deuce                      -0.015686             -0.015686   \n",
       "06stidriver                  -0.019608             -0.019608   \n",
       "\n",
       "id                AVpfv4TlilAPnD_xhjNS  AVpfvieo1cnluZ0-qdnu  \n",
       "reviews_username                                              \n",
       "00sab00                      -0.015686             -0.015686  \n",
       "01impala                     -0.011765             -0.011765  \n",
       "02dakota                     -0.019608             -0.019608  \n",
       "02deuce                      -0.015686             -0.015686  \n",
       "06stidriver                  -0.019608             -0.019608  \n",
       "\n",
       "[5 rows x 255 columns]"
      ]
     },
     "execution_count": 93,
     "metadata": {},
     "output_type": "execute_result"
    }
   ],
   "source": [
    "df_subtracted.head()"
   ]
  },
  {
   "cell_type": "markdown",
   "metadata": {},
   "source": [
    "##### Now let's calculate the **cosine similarities** between the users"
   ]
  },
  {
   "cell_type": "code",
   "execution_count": 94,
   "metadata": {
    "execution": {
     "iopub.execute_input": "2025-04-27T13:54:04.395544Z",
     "iopub.status.busy": "2025-04-27T13:54:04.395291Z",
     "iopub.status.idle": "2025-04-27T13:54:04.406033Z",
     "shell.execute_reply": "2025-04-27T13:54:04.405237Z",
     "shell.execute_reply.started": "2025-04-27T13:54:04.395517Z"
    },
    "trusted": true
   },
   "outputs": [],
   "source": [
    "from sklearn.metrics.pairwise import pairwise_distances"
   ]
  },
  {
   "cell_type": "code",
   "execution_count": 95,
   "metadata": {
    "execution": {
     "iopub.execute_input": "2025-04-27T13:54:04.407706Z",
     "iopub.status.busy": "2025-04-27T13:54:04.406888Z",
     "iopub.status.idle": "2025-04-27T13:54:08.153672Z",
     "shell.execute_reply": "2025-04-27T13:54:08.153060Z",
     "shell.execute_reply.started": "2025-04-27T13:54:04.407683Z"
    },
    "trusted": true
   },
   "outputs": [
    {
     "name": "stdout",
     "output_type": "stream",
     "text": [
      "[[ 1.         -0.00498586 -0.00498586 ... -0.00498586 -0.00498586\n",
      "  -0.00498586]\n",
      " [-0.00498586  1.          1.         ... -0.00393701 -0.00393701\n",
      "  -0.00393701]\n",
      " [-0.00498586  1.          1.         ... -0.00393701 -0.00393701\n",
      "  -0.00393701]\n",
      " ...\n",
      " [-0.00498586 -0.00393701 -0.00393701 ...  1.          1.\n",
      "   1.        ]\n",
      " [-0.00498586 -0.00393701 -0.00393701 ...  1.          1.\n",
      "   1.        ]\n",
      " [-0.00498586 -0.00393701 -0.00393701 ...  1.          1.\n",
      "   1.        ]]\n"
     ]
    }
   ],
   "source": [
    "# Creating the User Similarity Matrix using pairwise_distance function.\n",
    "\n",
    "user_correlation = 1 - pairwise_distances(df_subtracted.fillna(0), metric='cosine')\n",
    "user_correlation[np.isnan(user_correlation)] = 0\n",
    "print(user_correlation)"
   ]
  },
  {
   "cell_type": "markdown",
   "metadata": {},
   "source": [
    "#### Prediction of the user ratings"
   ]
  },
  {
   "cell_type": "code",
   "execution_count": 96,
   "metadata": {
    "execution": {
     "iopub.execute_input": "2025-04-27T13:54:08.154576Z",
     "iopub.status.busy": "2025-04-27T13:54:08.154354Z",
     "iopub.status.idle": "2025-04-27T13:54:09.611400Z",
     "shell.execute_reply": "2025-04-27T13:54:09.610825Z",
     "shell.execute_reply.started": "2025-04-27T13:54:08.154558Z"
    },
    "trusted": true
   },
   "outputs": [
    {
     "data": {
      "text/plain": [
       "array([[1., 0., 0., ..., 0., 0., 0.],\n",
       "       [0., 1., 1., ..., 0., 0., 0.],\n",
       "       [0., 1., 1., ..., 0., 0., 0.],\n",
       "       ...,\n",
       "       [0., 0., 0., ..., 1., 1., 1.],\n",
       "       [0., 0., 0., ..., 1., 1., 1.],\n",
       "       [0., 0., 0., ..., 1., 1., 1.]])"
      ]
     },
     "execution_count": 96,
     "metadata": {},
     "output_type": "execute_result"
    }
   ],
   "source": [
    "# We can see from the above correlations, there are negative correlations as well. \n",
    "#Only the users positive correlations will have more in common, so ignoring correlations below 0\n",
    "\n",
    "user_correlation[user_correlation<0]=0\n",
    "user_correlation"
   ]
  },
  {
   "cell_type": "markdown",
   "metadata": {},
   "source": [
    "##### Rating predicted for the user is the weighted sum of correlation with the product rating"
   ]
  },
  {
   "cell_type": "code",
   "execution_count": 97,
   "metadata": {
    "execution": {
     "iopub.execute_input": "2025-04-27T13:54:09.612210Z",
     "iopub.status.busy": "2025-04-27T13:54:09.612005Z",
     "iopub.status.idle": "2025-04-27T13:54:11.236705Z",
     "shell.execute_reply": "2025-04-27T13:54:11.235949Z",
     "shell.execute_reply.started": "2025-04-27T13:54:09.612194Z"
    },
    "trusted": true
   },
   "outputs": [
    {
     "data": {
      "text/plain": [
       "array([[0.        , 0.        , 0.        , ..., 2.23566464, 2.65323457,\n",
       "        0.        ],\n",
       "       [0.        , 0.        , 5.47511267, ..., 1.59374136, 0.        ,\n",
       "        0.        ],\n",
       "       [0.        , 0.        , 5.47511267, ..., 1.59374136, 0.        ,\n",
       "        0.        ],\n",
       "       ...,\n",
       "       [0.        , 0.        , 0.44188335, ..., 0.        , 0.        ,\n",
       "        2.87536372],\n",
       "       [0.        , 0.        , 0.44188335, ..., 0.        , 0.        ,\n",
       "        2.87536372],\n",
       "       [0.        , 0.        , 0.44188335, ..., 0.        , 0.        ,\n",
       "        2.87536372]])"
      ]
     },
     "execution_count": 97,
     "metadata": {},
     "output_type": "execute_result"
    }
   ],
   "source": [
    "user_predicted_ratings = np.dot(user_correlation, df_pivot.fillna(0))\n",
    "user_predicted_ratings"
   ]
  },
  {
   "cell_type": "code",
   "execution_count": 98,
   "metadata": {
    "execution": {
     "iopub.execute_input": "2025-04-27T13:54:11.237831Z",
     "iopub.status.busy": "2025-04-27T13:54:11.237520Z",
     "iopub.status.idle": "2025-04-27T13:54:11.242466Z",
     "shell.execute_reply": "2025-04-27T13:54:11.241893Z",
     "shell.execute_reply.started": "2025-04-27T13:54:11.237780Z"
    },
    "trusted": true
   },
   "outputs": [
    {
     "data": {
      "text/plain": [
       "(18212, 255)"
      ]
     },
     "execution_count": 98,
     "metadata": {},
     "output_type": "execute_result"
    }
   ],
   "source": [
    "user_predicted_ratings.shape"
   ]
  },
  {
   "cell_type": "markdown",
   "metadata": {},
   "source": [
    "##### Finally, we have the ratings by the users, but it both already rated and not rated datasets. We have to ignore the already rated products by multiplying the user_predicted_ratings with the dummy_train"
   ]
  },
  {
   "cell_type": "code",
   "execution_count": 99,
   "metadata": {
    "execution": {
     "iopub.execute_input": "2025-04-27T13:54:11.243467Z",
     "iopub.status.busy": "2025-04-27T13:54:11.243098Z",
     "iopub.status.idle": "2025-04-27T13:54:11.287282Z",
     "shell.execute_reply": "2025-04-27T13:54:11.286540Z",
     "shell.execute_reply.started": "2025-04-27T13:54:11.243441Z"
    },
    "trusted": true
   },
   "outputs": [
    {
     "data": {
      "text/html": [
       "<div>\n",
       "<style scoped>\n",
       "    .dataframe tbody tr th:only-of-type {\n",
       "        vertical-align: middle;\n",
       "    }\n",
       "\n",
       "    .dataframe tbody tr th {\n",
       "        vertical-align: top;\n",
       "    }\n",
       "\n",
       "    .dataframe thead th {\n",
       "        text-align: right;\n",
       "    }\n",
       "</style>\n",
       "<table border=\"1\" class=\"dataframe\">\n",
       "  <thead>\n",
       "    <tr style=\"text-align: right;\">\n",
       "      <th>id</th>\n",
       "      <th>AV13O1A8GV-KLJ3akUyj</th>\n",
       "      <th>AV14LG0R-jtxr-f38QfS</th>\n",
       "      <th>AV16khLE-jtxr-f38VFn</th>\n",
       "      <th>AV1YGDqsGV-KLJ3adc-O</th>\n",
       "      <th>AV1YIch7GV-KLJ3addeG</th>\n",
       "      <th>AV1YlENIglJLPUi8IHsX</th>\n",
       "      <th>AV1YmBrdGV-KLJ3adewb</th>\n",
       "      <th>AV1YmDL9vKc47QAVgr7_</th>\n",
       "      <th>AV1Ymf_rglJLPUi8II2v</th>\n",
       "      <th>AV1Yn94nvKc47QAVgtst</th>\n",
       "      <th>...</th>\n",
       "      <th>AVpfr5cb1cnluZ0-pZFp</th>\n",
       "      <th>AVpfrFDZLJeJML43Bmv0</th>\n",
       "      <th>AVpfrTyiLJeJML43BrSI</th>\n",
       "      <th>AVpfrfHF1cnluZ0-pRai</th>\n",
       "      <th>AVpfrgjFLJeJML43BvCc</th>\n",
       "      <th>AVpfshNsLJeJML43CB8q</th>\n",
       "      <th>AVpfthSailAPnD_xg3ON</th>\n",
       "      <th>AVpftikC1cnluZ0-p31V</th>\n",
       "      <th>AVpfv4TlilAPnD_xhjNS</th>\n",
       "      <th>AVpfvieo1cnluZ0-qdnu</th>\n",
       "    </tr>\n",
       "    <tr>\n",
       "      <th>reviews_username</th>\n",
       "      <th></th>\n",
       "      <th></th>\n",
       "      <th></th>\n",
       "      <th></th>\n",
       "      <th></th>\n",
       "      <th></th>\n",
       "      <th></th>\n",
       "      <th></th>\n",
       "      <th></th>\n",
       "      <th></th>\n",
       "      <th></th>\n",
       "      <th></th>\n",
       "      <th></th>\n",
       "      <th></th>\n",
       "      <th></th>\n",
       "      <th></th>\n",
       "      <th></th>\n",
       "      <th></th>\n",
       "      <th></th>\n",
       "      <th></th>\n",
       "      <th></th>\n",
       "    </tr>\n",
       "  </thead>\n",
       "  <tbody>\n",
       "    <tr>\n",
       "      <th>00sab00</th>\n",
       "      <td>0.0</td>\n",
       "      <td>0.0</td>\n",
       "      <td>0.000000</td>\n",
       "      <td>12.613258</td>\n",
       "      <td>0.0</td>\n",
       "      <td>0.0</td>\n",
       "      <td>0.0</td>\n",
       "      <td>2.542013</td>\n",
       "      <td>0.000000</td>\n",
       "      <td>0.00000</td>\n",
       "      <td>...</td>\n",
       "      <td>2.253035</td>\n",
       "      <td>0.485434</td>\n",
       "      <td>0.0</td>\n",
       "      <td>2.347911</td>\n",
       "      <td>0.000000</td>\n",
       "      <td>0.0</td>\n",
       "      <td>3.135863</td>\n",
       "      <td>2.235665</td>\n",
       "      <td>2.653235</td>\n",
       "      <td>0.000000</td>\n",
       "    </tr>\n",
       "    <tr>\n",
       "      <th>01impala</th>\n",
       "      <td>0.0</td>\n",
       "      <td>0.0</td>\n",
       "      <td>5.475113</td>\n",
       "      <td>26.105455</td>\n",
       "      <td>0.0</td>\n",
       "      <td>0.0</td>\n",
       "      <td>0.0</td>\n",
       "      <td>0.000000</td>\n",
       "      <td>0.000000</td>\n",
       "      <td>1.75277</td>\n",
       "      <td>...</td>\n",
       "      <td>5.895157</td>\n",
       "      <td>3.805217</td>\n",
       "      <td>0.0</td>\n",
       "      <td>0.000000</td>\n",
       "      <td>1.529997</td>\n",
       "      <td>0.0</td>\n",
       "      <td>0.000000</td>\n",
       "      <td>1.593741</td>\n",
       "      <td>0.000000</td>\n",
       "      <td>0.000000</td>\n",
       "    </tr>\n",
       "    <tr>\n",
       "      <th>02dakota</th>\n",
       "      <td>0.0</td>\n",
       "      <td>0.0</td>\n",
       "      <td>5.475113</td>\n",
       "      <td>26.105455</td>\n",
       "      <td>0.0</td>\n",
       "      <td>0.0</td>\n",
       "      <td>0.0</td>\n",
       "      <td>0.000000</td>\n",
       "      <td>0.000000</td>\n",
       "      <td>1.75277</td>\n",
       "      <td>...</td>\n",
       "      <td>5.895157</td>\n",
       "      <td>3.805217</td>\n",
       "      <td>0.0</td>\n",
       "      <td>0.000000</td>\n",
       "      <td>1.529997</td>\n",
       "      <td>0.0</td>\n",
       "      <td>0.000000</td>\n",
       "      <td>1.593741</td>\n",
       "      <td>0.000000</td>\n",
       "      <td>0.000000</td>\n",
       "    </tr>\n",
       "    <tr>\n",
       "      <th>02deuce</th>\n",
       "      <td>0.0</td>\n",
       "      <td>0.0</td>\n",
       "      <td>5.475113</td>\n",
       "      <td>26.105455</td>\n",
       "      <td>0.0</td>\n",
       "      <td>0.0</td>\n",
       "      <td>0.0</td>\n",
       "      <td>0.000000</td>\n",
       "      <td>0.000000</td>\n",
       "      <td>1.75277</td>\n",
       "      <td>...</td>\n",
       "      <td>5.895157</td>\n",
       "      <td>3.805217</td>\n",
       "      <td>0.0</td>\n",
       "      <td>0.000000</td>\n",
       "      <td>1.529997</td>\n",
       "      <td>0.0</td>\n",
       "      <td>0.000000</td>\n",
       "      <td>1.593741</td>\n",
       "      <td>0.000000</td>\n",
       "      <td>0.000000</td>\n",
       "    </tr>\n",
       "    <tr>\n",
       "      <th>06stidriver</th>\n",
       "      <td>0.0</td>\n",
       "      <td>0.0</td>\n",
       "      <td>0.441883</td>\n",
       "      <td>14.576143</td>\n",
       "      <td>0.0</td>\n",
       "      <td>0.0</td>\n",
       "      <td>0.0</td>\n",
       "      <td>6.648202</td>\n",
       "      <td>3.528567</td>\n",
       "      <td>0.00000</td>\n",
       "      <td>...</td>\n",
       "      <td>0.000000</td>\n",
       "      <td>0.000000</td>\n",
       "      <td>0.0</td>\n",
       "      <td>3.528567</td>\n",
       "      <td>0.000000</td>\n",
       "      <td>0.0</td>\n",
       "      <td>2.077788</td>\n",
       "      <td>0.000000</td>\n",
       "      <td>0.000000</td>\n",
       "      <td>2.875364</td>\n",
       "    </tr>\n",
       "  </tbody>\n",
       "</table>\n",
       "<p>5 rows × 255 columns</p>\n",
       "</div>"
      ],
      "text/plain": [
       "id                AV13O1A8GV-KLJ3akUyj  AV14LG0R-jtxr-f38QfS  \\\n",
       "reviews_username                                               \n",
       "00sab00                            0.0                   0.0   \n",
       "01impala                           0.0                   0.0   \n",
       "02dakota                           0.0                   0.0   \n",
       "02deuce                            0.0                   0.0   \n",
       "06stidriver                        0.0                   0.0   \n",
       "\n",
       "id                AV16khLE-jtxr-f38VFn  AV1YGDqsGV-KLJ3adc-O  \\\n",
       "reviews_username                                               \n",
       "00sab00                       0.000000             12.613258   \n",
       "01impala                      5.475113             26.105455   \n",
       "02dakota                      5.475113             26.105455   \n",
       "02deuce                       5.475113             26.105455   \n",
       "06stidriver                   0.441883             14.576143   \n",
       "\n",
       "id                AV1YIch7GV-KLJ3addeG  AV1YlENIglJLPUi8IHsX  \\\n",
       "reviews_username                                               \n",
       "00sab00                            0.0                   0.0   \n",
       "01impala                           0.0                   0.0   \n",
       "02dakota                           0.0                   0.0   \n",
       "02deuce                            0.0                   0.0   \n",
       "06stidriver                        0.0                   0.0   \n",
       "\n",
       "id                AV1YmBrdGV-KLJ3adewb  AV1YmDL9vKc47QAVgr7_  \\\n",
       "reviews_username                                               \n",
       "00sab00                            0.0              2.542013   \n",
       "01impala                           0.0              0.000000   \n",
       "02dakota                           0.0              0.000000   \n",
       "02deuce                            0.0              0.000000   \n",
       "06stidriver                        0.0              6.648202   \n",
       "\n",
       "id                AV1Ymf_rglJLPUi8II2v  AV1Yn94nvKc47QAVgtst  ...  \\\n",
       "reviews_username                                              ...   \n",
       "00sab00                       0.000000               0.00000  ...   \n",
       "01impala                      0.000000               1.75277  ...   \n",
       "02dakota                      0.000000               1.75277  ...   \n",
       "02deuce                       0.000000               1.75277  ...   \n",
       "06stidriver                   3.528567               0.00000  ...   \n",
       "\n",
       "id                AVpfr5cb1cnluZ0-pZFp  AVpfrFDZLJeJML43Bmv0  \\\n",
       "reviews_username                                               \n",
       "00sab00                       2.253035              0.485434   \n",
       "01impala                      5.895157              3.805217   \n",
       "02dakota                      5.895157              3.805217   \n",
       "02deuce                       5.895157              3.805217   \n",
       "06stidriver                   0.000000              0.000000   \n",
       "\n",
       "id                AVpfrTyiLJeJML43BrSI  AVpfrfHF1cnluZ0-pRai  \\\n",
       "reviews_username                                               \n",
       "00sab00                            0.0              2.347911   \n",
       "01impala                           0.0              0.000000   \n",
       "02dakota                           0.0              0.000000   \n",
       "02deuce                            0.0              0.000000   \n",
       "06stidriver                        0.0              3.528567   \n",
       "\n",
       "id                AVpfrgjFLJeJML43BvCc  AVpfshNsLJeJML43CB8q  \\\n",
       "reviews_username                                               \n",
       "00sab00                       0.000000                   0.0   \n",
       "01impala                      1.529997                   0.0   \n",
       "02dakota                      1.529997                   0.0   \n",
       "02deuce                       1.529997                   0.0   \n",
       "06stidriver                   0.000000                   0.0   \n",
       "\n",
       "id                AVpfthSailAPnD_xg3ON  AVpftikC1cnluZ0-p31V  \\\n",
       "reviews_username                                               \n",
       "00sab00                       3.135863              2.235665   \n",
       "01impala                      0.000000              1.593741   \n",
       "02dakota                      0.000000              1.593741   \n",
       "02deuce                       0.000000              1.593741   \n",
       "06stidriver                   2.077788              0.000000   \n",
       "\n",
       "id                AVpfv4TlilAPnD_xhjNS  AVpfvieo1cnluZ0-qdnu  \n",
       "reviews_username                                              \n",
       "00sab00                       2.653235              0.000000  \n",
       "01impala                      0.000000              0.000000  \n",
       "02dakota                      0.000000              0.000000  \n",
       "02deuce                       0.000000              0.000000  \n",
       "06stidriver                   0.000000              2.875364  \n",
       "\n",
       "[5 rows x 255 columns]"
      ]
     },
     "execution_count": 99,
     "metadata": {},
     "output_type": "execute_result"
    }
   ],
   "source": [
    "user_final_rating = np.multiply(user_predicted_ratings,dummy_train)\n",
    "user_final_rating.head()"
   ]
  },
  {
   "cell_type": "markdown",
   "metadata": {},
   "source": [
    "### Finding the top 5 recommendation for the *user*"
   ]
  },
  {
   "cell_type": "code",
   "execution_count": 100,
   "metadata": {
    "execution": {
     "iopub.execute_input": "2025-04-27T13:54:11.288678Z",
     "iopub.status.busy": "2025-04-27T13:54:11.288184Z",
     "iopub.status.idle": "2025-04-27T13:54:11.292774Z",
     "shell.execute_reply": "2025-04-27T13:54:11.292150Z",
     "shell.execute_reply.started": "2025-04-27T13:54:11.288652Z"
    },
    "trusted": true
   },
   "outputs": [],
   "source": [
    "# function to recommend product to user based on user based recommendation system\n",
    "def recommend_product_user(user_id):\n",
    "    user_input = user_id\n",
    "    search = user_final_rating.loc[user_input].sort_values(ascending=False)[0:10]\n",
    "    search = search.reset_index()\n",
    "    search.columns = ['id', 'Predicted_Score']\n",
    "\n",
    "    main_df_unique = reco_df.drop_duplicates(subset='id')\n",
    "    merged_df = pd.merge(search, main_df_unique[['id', 'name']], on='id', how='left')\n",
    "    return merged_df   "
   ]
  },
  {
   "cell_type": "code",
   "execution_count": 101,
   "metadata": {
    "execution": {
     "iopub.execute_input": "2025-04-27T13:54:11.293757Z",
     "iopub.status.busy": "2025-04-27T13:54:11.293536Z",
     "iopub.status.idle": "2025-04-27T13:54:11.314764Z",
     "shell.execute_reply": "2025-04-27T13:54:11.314183Z",
     "shell.execute_reply.started": "2025-04-27T13:54:11.293741Z"
    },
    "trusted": true
   },
   "outputs": [
    {
     "data": {
      "text/html": [
       "<div>\n",
       "<style scoped>\n",
       "    .dataframe tbody tr th:only-of-type {\n",
       "        vertical-align: middle;\n",
       "    }\n",
       "\n",
       "    .dataframe tbody tr th {\n",
       "        vertical-align: top;\n",
       "    }\n",
       "\n",
       "    .dataframe thead th {\n",
       "        text-align: right;\n",
       "    }\n",
       "</style>\n",
       "<table border=\"1\" class=\"dataframe\">\n",
       "  <thead>\n",
       "    <tr style=\"text-align: right;\">\n",
       "      <th></th>\n",
       "      <th>id</th>\n",
       "      <th>Predicted_Score</th>\n",
       "      <th>name</th>\n",
       "    </tr>\n",
       "  </thead>\n",
       "  <tbody>\n",
       "    <tr>\n",
       "      <th>0</th>\n",
       "      <td>AVpfRTh1ilAPnD_xYic2</td>\n",
       "      <td>115.227509</td>\n",
       "      <td>Planes: Fire Rescue (2 Discs) (includes Digita...</td>\n",
       "    </tr>\n",
       "    <tr>\n",
       "      <th>1</th>\n",
       "      <td>AVpe41TqilAPnD_xQH3d</td>\n",
       "      <td>110.851636</td>\n",
       "      <td>Mike Dave Need Wedding Dates (dvd + Digital)</td>\n",
       "    </tr>\n",
       "    <tr>\n",
       "      <th>2</th>\n",
       "      <td>AVpf0eb2LJeJML43EVSt</td>\n",
       "      <td>107.625309</td>\n",
       "      <td>The Resident Evil Collection 5 Discs (blu-Ray)</td>\n",
       "    </tr>\n",
       "    <tr>\n",
       "      <th>3</th>\n",
       "      <td>AVpe59io1cnluZ0-ZgDU</td>\n",
       "      <td>70.108484</td>\n",
       "      <td>My Big Fat Greek Wedding 2 (blu-Ray + Dvd + Di...</td>\n",
       "    </tr>\n",
       "    <tr>\n",
       "      <th>4</th>\n",
       "      <td>AVpf2tw1ilAPnD_xjflC</td>\n",
       "      <td>67.180254</td>\n",
       "      <td>Red (special Edition) (dvdvideo)</td>\n",
       "    </tr>\n",
       "    <tr>\n",
       "      <th>5</th>\n",
       "      <td>AVpf3VOfilAPnD_xjpun</td>\n",
       "      <td>63.208355</td>\n",
       "      <td>Clorox Disinfecting Wipes Value Pack Scented 1...</td>\n",
       "    </tr>\n",
       "    <tr>\n",
       "      <th>6</th>\n",
       "      <td>AVpfPnrU1cnluZ0-g9rL</td>\n",
       "      <td>30.149708</td>\n",
       "      <td>Stargate (ws) (ultimate Edition) (director's C...</td>\n",
       "    </tr>\n",
       "    <tr>\n",
       "      <th>7</th>\n",
       "      <td>AV1YGDqsGV-KLJ3adc-O</td>\n",
       "      <td>26.105455</td>\n",
       "      <td>Windex Original Glass Cleaner Refill 67.6oz (2...</td>\n",
       "    </tr>\n",
       "    <tr>\n",
       "      <th>8</th>\n",
       "      <td>AVpf0thK1cnluZ0-r8vR</td>\n",
       "      <td>24.782112</td>\n",
       "      <td>100:Complete First Season (blu-Ray)</td>\n",
       "    </tr>\n",
       "    <tr>\n",
       "      <th>9</th>\n",
       "      <td>AVpfD9xTLJeJML431ig2</td>\n",
       "      <td>24.422358</td>\n",
       "      <td>There's Something About Mary (dvd)</td>\n",
       "    </tr>\n",
       "  </tbody>\n",
       "</table>\n",
       "</div>"
      ],
      "text/plain": [
       "                     id  Predicted_Score  \\\n",
       "0  AVpfRTh1ilAPnD_xYic2       115.227509   \n",
       "1  AVpe41TqilAPnD_xQH3d       110.851636   \n",
       "2  AVpf0eb2LJeJML43EVSt       107.625309   \n",
       "3  AVpe59io1cnluZ0-ZgDU        70.108484   \n",
       "4  AVpf2tw1ilAPnD_xjflC        67.180254   \n",
       "5  AVpf3VOfilAPnD_xjpun        63.208355   \n",
       "6  AVpfPnrU1cnluZ0-g9rL        30.149708   \n",
       "7  AV1YGDqsGV-KLJ3adc-O        26.105455   \n",
       "8  AVpf0thK1cnluZ0-r8vR        24.782112   \n",
       "9  AVpfD9xTLJeJML431ig2        24.422358   \n",
       "\n",
       "                                                name  \n",
       "0  Planes: Fire Rescue (2 Discs) (includes Digita...  \n",
       "1       Mike Dave Need Wedding Dates (dvd + Digital)  \n",
       "2     The Resident Evil Collection 5 Discs (blu-Ray)  \n",
       "3  My Big Fat Greek Wedding 2 (blu-Ray + Dvd + Di...  \n",
       "4                   Red (special Edition) (dvdvideo)  \n",
       "5  Clorox Disinfecting Wipes Value Pack Scented 1...  \n",
       "6  Stargate (ws) (ultimate Edition) (director's C...  \n",
       "7  Windex Original Glass Cleaner Refill 67.6oz (2...  \n",
       "8                100:Complete First Season (blu-Ray)  \n",
       "9                 There's Something About Mary (dvd)  "
      ]
     },
     "execution_count": 101,
     "metadata": {},
     "output_type": "execute_result"
    }
   ],
   "source": [
    "recommend_product_user(\"02dakota\")"
   ]
  },
  {
   "cell_type": "markdown",
   "metadata": {},
   "source": [
    "### Evaluation - User based recommendation system"
   ]
  },
  {
   "cell_type": "markdown",
   "metadata": {},
   "source": [
    "##### Evaluation will we same as you have seen above for the prediction. The only difference being, you will evaluate for the products already rated by the user insead of predicting it for the products not rated by the user. "
   ]
  },
  {
   "cell_type": "code",
   "execution_count": 102,
   "metadata": {
    "execution": {
     "iopub.execute_input": "2025-04-27T13:54:11.315628Z",
     "iopub.status.busy": "2025-04-27T13:54:11.315399Z",
     "iopub.status.idle": "2025-04-27T13:54:11.329596Z",
     "shell.execute_reply": "2025-04-27T13:54:11.329034Z",
     "shell.execute_reply.started": "2025-04-27T13:54:11.315608Z"
    },
    "trusted": true
   },
   "outputs": [
    {
     "data": {
      "text/plain": [
       "(1976, 5)"
      ]
     },
     "execution_count": 102,
     "metadata": {},
     "output_type": "execute_result"
    }
   ],
   "source": [
    "# Find out the common users of test and train dataset.\n",
    "common = test[test.reviews_username.isin(train.reviews_username)]\n",
    "common.shape"
   ]
  },
  {
   "cell_type": "code",
   "execution_count": 103,
   "metadata": {
    "execution": {
     "iopub.execute_input": "2025-04-27T13:54:11.330766Z",
     "iopub.status.busy": "2025-04-27T13:54:11.330426Z",
     "iopub.status.idle": "2025-04-27T13:54:11.345161Z",
     "shell.execute_reply": "2025-04-27T13:54:11.344502Z",
     "shell.execute_reply.started": "2025-04-27T13:54:11.330742Z"
    },
    "trusted": true
   },
   "outputs": [
    {
     "data": {
      "text/html": [
       "<div>\n",
       "<style scoped>\n",
       "    .dataframe tbody tr th:only-of-type {\n",
       "        vertical-align: middle;\n",
       "    }\n",
       "\n",
       "    .dataframe tbody tr th {\n",
       "        vertical-align: top;\n",
       "    }\n",
       "\n",
       "    .dataframe thead th {\n",
       "        text-align: right;\n",
       "    }\n",
       "</style>\n",
       "<table border=\"1\" class=\"dataframe\">\n",
       "  <thead>\n",
       "    <tr style=\"text-align: right;\">\n",
       "      <th></th>\n",
       "      <th>id</th>\n",
       "      <th>name</th>\n",
       "      <th>reviews_rating</th>\n",
       "      <th>reviews_username</th>\n",
       "      <th>reviews_text</th>\n",
       "    </tr>\n",
       "  </thead>\n",
       "  <tbody>\n",
       "    <tr>\n",
       "      <th>21169</th>\n",
       "      <td>AVpfm8yiLJeJML43AYyu</td>\n",
       "      <td>Nexxus Exxtra Gel Style Creation Sculptor</td>\n",
       "      <td>1</td>\n",
       "      <td>jjjj</td>\n",
       "      <td>What happened The old formula was one of the b...</td>\n",
       "    </tr>\n",
       "    <tr>\n",
       "      <th>8538</th>\n",
       "      <td>AVpf3VOfilAPnD_xjpun</td>\n",
       "      <td>Clorox Disinfecting Wipes Value Pack Scented 1...</td>\n",
       "      <td>5</td>\n",
       "      <td>jygibri</td>\n",
       "      <td>it works great, i love the smell it keeps my h...</td>\n",
       "    </tr>\n",
       "    <tr>\n",
       "      <th>18735</th>\n",
       "      <td>AVpfJP1C1cnluZ0-e3Xy</td>\n",
       "      <td>Clorox Disinfecting Bathroom Cleaner</td>\n",
       "      <td>4</td>\n",
       "      <td>jel08</td>\n",
       "      <td>I love the smell that you can clean and disinf...</td>\n",
       "    </tr>\n",
       "    <tr>\n",
       "      <th>22417</th>\n",
       "      <td>AVpfOmKwLJeJML435GM7</td>\n",
       "      <td>Clear Scalp &amp; Hair Therapy Total Care Nourishi...</td>\n",
       "      <td>1</td>\n",
       "      <td>elena79</td>\n",
       "      <td>I have been using Clear products for over 3 ye...</td>\n",
       "    </tr>\n",
       "    <tr>\n",
       "      <th>19297</th>\n",
       "      <td>AVpfJP1C1cnluZ0-e3Xy</td>\n",
       "      <td>Clorox Disinfecting Bathroom Cleaner</td>\n",
       "      <td>5</td>\n",
       "      <td>angc</td>\n",
       "      <td>I love using these wipes whether at home or at...</td>\n",
       "    </tr>\n",
       "  </tbody>\n",
       "</table>\n",
       "</div>"
      ],
      "text/plain": [
       "                         id  \\\n",
       "21169  AVpfm8yiLJeJML43AYyu   \n",
       "8538   AVpf3VOfilAPnD_xjpun   \n",
       "18735  AVpfJP1C1cnluZ0-e3Xy   \n",
       "22417  AVpfOmKwLJeJML435GM7   \n",
       "19297  AVpfJP1C1cnluZ0-e3Xy   \n",
       "\n",
       "                                                    name  reviews_rating  \\\n",
       "21169          Nexxus Exxtra Gel Style Creation Sculptor               1   \n",
       "8538   Clorox Disinfecting Wipes Value Pack Scented 1...               5   \n",
       "18735               Clorox Disinfecting Bathroom Cleaner               4   \n",
       "22417  Clear Scalp & Hair Therapy Total Care Nourishi...               1   \n",
       "19297               Clorox Disinfecting Bathroom Cleaner               5   \n",
       "\n",
       "      reviews_username                                       reviews_text  \n",
       "21169             jjjj  What happened The old formula was one of the b...  \n",
       "8538           jygibri  it works great, i love the smell it keeps my h...  \n",
       "18735            jel08  I love the smell that you can clean and disinf...  \n",
       "22417          elena79  I have been using Clear products for over 3 ye...  \n",
       "19297             angc  I love using these wipes whether at home or at...  "
      ]
     },
     "execution_count": 103,
     "metadata": {},
     "output_type": "execute_result"
    }
   ],
   "source": [
    "common.head()"
   ]
  },
  {
   "cell_type": "code",
   "execution_count": 104,
   "metadata": {
    "execution": {
     "iopub.execute_input": "2025-04-27T13:54:11.346114Z",
     "iopub.status.busy": "2025-04-27T13:54:11.345913Z",
     "iopub.status.idle": "2025-04-27T13:54:11.377228Z",
     "shell.execute_reply": "2025-04-27T13:54:11.376654Z",
     "shell.execute_reply.started": "2025-04-27T13:54:11.346100Z"
    },
    "trusted": true
   },
   "outputs": [
    {
     "name": "stderr",
     "output_type": "stream",
     "text": [
      "/usr/local/lib/python3.11/dist-packages/pandas/io/formats/format.py:1458: RuntimeWarning: invalid value encountered in greater\n",
      "  has_large_values = (abs_vals > 1e6).any()\n",
      "/usr/local/lib/python3.11/dist-packages/pandas/io/formats/format.py:1459: RuntimeWarning: invalid value encountered in less\n",
      "  has_small_values = ((abs_vals < 10 ** (-self.digits)) & (abs_vals > 0)).any()\n",
      "/usr/local/lib/python3.11/dist-packages/pandas/io/formats/format.py:1459: RuntimeWarning: invalid value encountered in greater\n",
      "  has_small_values = ((abs_vals < 10 ** (-self.digits)) & (abs_vals > 0)).any()\n",
      "/usr/local/lib/python3.11/dist-packages/pandas/io/formats/format.py:1458: RuntimeWarning: invalid value encountered in greater\n",
      "  has_large_values = (abs_vals > 1e6).any()\n",
      "/usr/local/lib/python3.11/dist-packages/pandas/io/formats/format.py:1459: RuntimeWarning: invalid value encountered in less\n",
      "  has_small_values = ((abs_vals < 10 ** (-self.digits)) & (abs_vals > 0)).any()\n",
      "/usr/local/lib/python3.11/dist-packages/pandas/io/formats/format.py:1459: RuntimeWarning: invalid value encountered in greater\n",
      "  has_small_values = ((abs_vals < 10 ** (-self.digits)) & (abs_vals > 0)).any()\n"
     ]
    },
    {
     "data": {
      "text/html": [
       "<div>\n",
       "<style scoped>\n",
       "    .dataframe tbody tr th:only-of-type {\n",
       "        vertical-align: middle;\n",
       "    }\n",
       "\n",
       "    .dataframe tbody tr th {\n",
       "        vertical-align: top;\n",
       "    }\n",
       "\n",
       "    .dataframe thead th {\n",
       "        text-align: right;\n",
       "    }\n",
       "</style>\n",
       "<table border=\"1\" class=\"dataframe\">\n",
       "  <thead>\n",
       "    <tr style=\"text-align: right;\">\n",
       "      <th>id</th>\n",
       "      <th>AV16khLE-jtxr-f38VFn</th>\n",
       "      <th>AV1YGDqsGV-KLJ3adc-O</th>\n",
       "      <th>AV1YlENIglJLPUi8IHsX</th>\n",
       "      <th>AV1YmDL9vKc47QAVgr7_</th>\n",
       "      <th>AV1Ymf_rglJLPUi8II2v</th>\n",
       "      <th>AV1Yn94nvKc47QAVgtst</th>\n",
       "      <th>AV1YneDPglJLPUi8IJyQ</th>\n",
       "      <th>AV1YqAaMGV-KLJ3adiDj</th>\n",
       "      <th>AV1Ys0kTvKc47QAVgx1C</th>\n",
       "      <th>AV1h6Gu0glJLPUi8IjA_</th>\n",
       "      <th>...</th>\n",
       "      <th>AVpfoSS51cnluZ0-oVH9</th>\n",
       "      <th>AVpfov9TLJeJML43A7B0</th>\n",
       "      <th>AVpfpM2yilAPnD_xfmDG</th>\n",
       "      <th>AVpfr5cb1cnluZ0-pZFp</th>\n",
       "      <th>AVpfrFDZLJeJML43Bmv0</th>\n",
       "      <th>AVpfrTyiLJeJML43BrSI</th>\n",
       "      <th>AVpfs0tUilAPnD_xgqN2</th>\n",
       "      <th>AVpftikC1cnluZ0-p31V</th>\n",
       "      <th>AVpfv4TlilAPnD_xhjNS</th>\n",
       "      <th>AVpfvieo1cnluZ0-qdnu</th>\n",
       "    </tr>\n",
       "    <tr>\n",
       "      <th>reviews_username</th>\n",
       "      <th></th>\n",
       "      <th></th>\n",
       "      <th></th>\n",
       "      <th></th>\n",
       "      <th></th>\n",
       "      <th></th>\n",
       "      <th></th>\n",
       "      <th></th>\n",
       "      <th></th>\n",
       "      <th></th>\n",
       "      <th></th>\n",
       "      <th></th>\n",
       "      <th></th>\n",
       "      <th></th>\n",
       "      <th></th>\n",
       "      <th></th>\n",
       "      <th></th>\n",
       "      <th></th>\n",
       "      <th></th>\n",
       "      <th></th>\n",
       "      <th></th>\n",
       "    </tr>\n",
       "  </thead>\n",
       "  <tbody>\n",
       "    <tr>\n",
       "      <th>1234</th>\n",
       "      <td>NaN</td>\n",
       "      <td>NaN</td>\n",
       "      <td>NaN</td>\n",
       "      <td>NaN</td>\n",
       "      <td>NaN</td>\n",
       "      <td>NaN</td>\n",
       "      <td>NaN</td>\n",
       "      <td>NaN</td>\n",
       "      <td>NaN</td>\n",
       "      <td>NaN</td>\n",
       "      <td>...</td>\n",
       "      <td>NaN</td>\n",
       "      <td>NaN</td>\n",
       "      <td>NaN</td>\n",
       "      <td>NaN</td>\n",
       "      <td>NaN</td>\n",
       "      <td>NaN</td>\n",
       "      <td>NaN</td>\n",
       "      <td>NaN</td>\n",
       "      <td>NaN</td>\n",
       "      <td>NaN</td>\n",
       "    </tr>\n",
       "    <tr>\n",
       "      <th>123charlie</th>\n",
       "      <td>NaN</td>\n",
       "      <td>NaN</td>\n",
       "      <td>NaN</td>\n",
       "      <td>NaN</td>\n",
       "      <td>NaN</td>\n",
       "      <td>NaN</td>\n",
       "      <td>NaN</td>\n",
       "      <td>NaN</td>\n",
       "      <td>NaN</td>\n",
       "      <td>NaN</td>\n",
       "      <td>...</td>\n",
       "      <td>NaN</td>\n",
       "      <td>NaN</td>\n",
       "      <td>NaN</td>\n",
       "      <td>NaN</td>\n",
       "      <td>NaN</td>\n",
       "      <td>NaN</td>\n",
       "      <td>NaN</td>\n",
       "      <td>NaN</td>\n",
       "      <td>NaN</td>\n",
       "      <td>NaN</td>\n",
       "    </tr>\n",
       "  </tbody>\n",
       "</table>\n",
       "<p>2 rows × 127 columns</p>\n",
       "</div>"
      ],
      "text/plain": [
       "id                AV16khLE-jtxr-f38VFn  AV1YGDqsGV-KLJ3adc-O  \\\n",
       "reviews_username                                               \n",
       "1234                               NaN                   NaN   \n",
       "123charlie                         NaN                   NaN   \n",
       "\n",
       "id                AV1YlENIglJLPUi8IHsX  AV1YmDL9vKc47QAVgr7_  \\\n",
       "reviews_username                                               \n",
       "1234                               NaN                   NaN   \n",
       "123charlie                         NaN                   NaN   \n",
       "\n",
       "id                AV1Ymf_rglJLPUi8II2v  AV1Yn94nvKc47QAVgtst  \\\n",
       "reviews_username                                               \n",
       "1234                               NaN                   NaN   \n",
       "123charlie                         NaN                   NaN   \n",
       "\n",
       "id                AV1YneDPglJLPUi8IJyQ  AV1YqAaMGV-KLJ3adiDj  \\\n",
       "reviews_username                                               \n",
       "1234                               NaN                   NaN   \n",
       "123charlie                         NaN                   NaN   \n",
       "\n",
       "id                AV1Ys0kTvKc47QAVgx1C  AV1h6Gu0glJLPUi8IjA_  ...  \\\n",
       "reviews_username                                              ...   \n",
       "1234                               NaN                   NaN  ...   \n",
       "123charlie                         NaN                   NaN  ...   \n",
       "\n",
       "id                AVpfoSS51cnluZ0-oVH9  AVpfov9TLJeJML43A7B0  \\\n",
       "reviews_username                                               \n",
       "1234                               NaN                   NaN   \n",
       "123charlie                         NaN                   NaN   \n",
       "\n",
       "id                AVpfpM2yilAPnD_xfmDG  AVpfr5cb1cnluZ0-pZFp  \\\n",
       "reviews_username                                               \n",
       "1234                               NaN                   NaN   \n",
       "123charlie                         NaN                   NaN   \n",
       "\n",
       "id                AVpfrFDZLJeJML43Bmv0  AVpfrTyiLJeJML43BrSI  \\\n",
       "reviews_username                                               \n",
       "1234                               NaN                   NaN   \n",
       "123charlie                         NaN                   NaN   \n",
       "\n",
       "id                AVpfs0tUilAPnD_xgqN2  AVpftikC1cnluZ0-p31V  \\\n",
       "reviews_username                                               \n",
       "1234                               NaN                   NaN   \n",
       "123charlie                         NaN                   NaN   \n",
       "\n",
       "id                AVpfv4TlilAPnD_xhjNS  AVpfvieo1cnluZ0-qdnu  \n",
       "reviews_username                                              \n",
       "1234                               NaN                   NaN  \n",
       "123charlie                         NaN                   NaN  \n",
       "\n",
       "[2 rows x 127 columns]"
      ]
     },
     "execution_count": 104,
     "metadata": {},
     "output_type": "execute_result"
    }
   ],
   "source": [
    "# convert common into the user-product matrix.\n",
    "common_user_based_matrix = common.pivot_table(\n",
    "    index='reviews_username', \n",
    "    columns='id', \n",
    "    values='reviews_rating'\n",
    ")\n",
    "\n",
    "common_user_based_matrix.head(2)"
   ]
  },
  {
   "cell_type": "code",
   "execution_count": 105,
   "metadata": {
    "execution": {
     "iopub.execute_input": "2025-04-27T13:54:11.378149Z",
     "iopub.status.busy": "2025-04-27T13:54:11.377908Z",
     "iopub.status.idle": "2025-04-27T13:54:11.382164Z",
     "shell.execute_reply": "2025-04-27T13:54:11.381251Z",
     "shell.execute_reply.started": "2025-04-27T13:54:11.378125Z"
    },
    "trusted": true
   },
   "outputs": [],
   "source": [
    "# Convert the user_correlation matrix into dataframe.\n",
    "\n",
    "user_correlation_df = pd.DataFrame(user_correlation)"
   ]
  },
  {
   "cell_type": "code",
   "execution_count": 106,
   "metadata": {
    "execution": {
     "iopub.execute_input": "2025-04-27T13:54:11.383119Z",
     "iopub.status.busy": "2025-04-27T13:54:11.382925Z",
     "iopub.status.idle": "2025-04-27T13:54:11.407512Z",
     "shell.execute_reply": "2025-04-27T13:54:11.406823Z",
     "shell.execute_reply.started": "2025-04-27T13:54:11.383102Z"
    },
    "trusted": true
   },
   "outputs": [
    {
     "data": {
      "text/html": [
       "<div>\n",
       "<style scoped>\n",
       "    .dataframe tbody tr th:only-of-type {\n",
       "        vertical-align: middle;\n",
       "    }\n",
       "\n",
       "    .dataframe tbody tr th {\n",
       "        vertical-align: top;\n",
       "    }\n",
       "\n",
       "    .dataframe thead th {\n",
       "        text-align: right;\n",
       "    }\n",
       "</style>\n",
       "<table border=\"1\" class=\"dataframe\">\n",
       "  <thead>\n",
       "    <tr style=\"text-align: right;\">\n",
       "      <th></th>\n",
       "      <th>0</th>\n",
       "      <th>1</th>\n",
       "      <th>2</th>\n",
       "      <th>3</th>\n",
       "      <th>4</th>\n",
       "      <th>5</th>\n",
       "      <th>6</th>\n",
       "      <th>7</th>\n",
       "      <th>8</th>\n",
       "      <th>9</th>\n",
       "      <th>...</th>\n",
       "      <th>18202</th>\n",
       "      <th>18203</th>\n",
       "      <th>18204</th>\n",
       "      <th>18205</th>\n",
       "      <th>18206</th>\n",
       "      <th>18207</th>\n",
       "      <th>18208</th>\n",
       "      <th>18209</th>\n",
       "      <th>18210</th>\n",
       "      <th>18211</th>\n",
       "    </tr>\n",
       "  </thead>\n",
       "  <tbody>\n",
       "    <tr>\n",
       "      <th>0</th>\n",
       "      <td>1.0</td>\n",
       "      <td>0.0</td>\n",
       "      <td>0.0</td>\n",
       "      <td>0.0</td>\n",
       "      <td>0.0</td>\n",
       "      <td>0.0</td>\n",
       "      <td>0.0</td>\n",
       "      <td>0.0</td>\n",
       "      <td>0.948559</td>\n",
       "      <td>0.0</td>\n",
       "      <td>...</td>\n",
       "      <td>0.0</td>\n",
       "      <td>0.0</td>\n",
       "      <td>0.312863</td>\n",
       "      <td>0.0</td>\n",
       "      <td>0.0</td>\n",
       "      <td>0.0</td>\n",
       "      <td>0.0</td>\n",
       "      <td>0.0</td>\n",
       "      <td>0.0</td>\n",
       "      <td>0.0</td>\n",
       "    </tr>\n",
       "    <tr>\n",
       "      <th>1</th>\n",
       "      <td>0.0</td>\n",
       "      <td>1.0</td>\n",
       "      <td>1.0</td>\n",
       "      <td>1.0</td>\n",
       "      <td>0.0</td>\n",
       "      <td>0.0</td>\n",
       "      <td>0.0</td>\n",
       "      <td>0.0</td>\n",
       "      <td>0.000000</td>\n",
       "      <td>0.0</td>\n",
       "      <td>...</td>\n",
       "      <td>0.0</td>\n",
       "      <td>0.0</td>\n",
       "      <td>0.000000</td>\n",
       "      <td>0.0</td>\n",
       "      <td>1.0</td>\n",
       "      <td>0.0</td>\n",
       "      <td>0.0</td>\n",
       "      <td>0.0</td>\n",
       "      <td>0.0</td>\n",
       "      <td>0.0</td>\n",
       "    </tr>\n",
       "    <tr>\n",
       "      <th>2</th>\n",
       "      <td>0.0</td>\n",
       "      <td>1.0</td>\n",
       "      <td>1.0</td>\n",
       "      <td>1.0</td>\n",
       "      <td>0.0</td>\n",
       "      <td>0.0</td>\n",
       "      <td>0.0</td>\n",
       "      <td>0.0</td>\n",
       "      <td>0.000000</td>\n",
       "      <td>0.0</td>\n",
       "      <td>...</td>\n",
       "      <td>0.0</td>\n",
       "      <td>0.0</td>\n",
       "      <td>0.000000</td>\n",
       "      <td>0.0</td>\n",
       "      <td>1.0</td>\n",
       "      <td>0.0</td>\n",
       "      <td>0.0</td>\n",
       "      <td>0.0</td>\n",
       "      <td>0.0</td>\n",
       "      <td>0.0</td>\n",
       "    </tr>\n",
       "    <tr>\n",
       "      <th>3</th>\n",
       "      <td>0.0</td>\n",
       "      <td>1.0</td>\n",
       "      <td>1.0</td>\n",
       "      <td>1.0</td>\n",
       "      <td>0.0</td>\n",
       "      <td>0.0</td>\n",
       "      <td>0.0</td>\n",
       "      <td>0.0</td>\n",
       "      <td>0.000000</td>\n",
       "      <td>0.0</td>\n",
       "      <td>...</td>\n",
       "      <td>0.0</td>\n",
       "      <td>0.0</td>\n",
       "      <td>0.000000</td>\n",
       "      <td>0.0</td>\n",
       "      <td>1.0</td>\n",
       "      <td>0.0</td>\n",
       "      <td>0.0</td>\n",
       "      <td>0.0</td>\n",
       "      <td>0.0</td>\n",
       "      <td>0.0</td>\n",
       "    </tr>\n",
       "    <tr>\n",
       "      <th>4</th>\n",
       "      <td>0.0</td>\n",
       "      <td>0.0</td>\n",
       "      <td>0.0</td>\n",
       "      <td>0.0</td>\n",
       "      <td>1.0</td>\n",
       "      <td>0.0</td>\n",
       "      <td>0.0</td>\n",
       "      <td>1.0</td>\n",
       "      <td>0.000000</td>\n",
       "      <td>0.0</td>\n",
       "      <td>...</td>\n",
       "      <td>0.0</td>\n",
       "      <td>0.0</td>\n",
       "      <td>0.000000</td>\n",
       "      <td>0.0</td>\n",
       "      <td>0.0</td>\n",
       "      <td>0.0</td>\n",
       "      <td>1.0</td>\n",
       "      <td>1.0</td>\n",
       "      <td>1.0</td>\n",
       "      <td>1.0</td>\n",
       "    </tr>\n",
       "  </tbody>\n",
       "</table>\n",
       "<p>5 rows × 18212 columns</p>\n",
       "</div>"
      ],
      "text/plain": [
       "   0      1      2      3      4      5      6      7         8      9      \\\n",
       "0    1.0    0.0    0.0    0.0    0.0    0.0    0.0    0.0  0.948559    0.0   \n",
       "1    0.0    1.0    1.0    1.0    0.0    0.0    0.0    0.0  0.000000    0.0   \n",
       "2    0.0    1.0    1.0    1.0    0.0    0.0    0.0    0.0  0.000000    0.0   \n",
       "3    0.0    1.0    1.0    1.0    0.0    0.0    0.0    0.0  0.000000    0.0   \n",
       "4    0.0    0.0    0.0    0.0    1.0    0.0    0.0    1.0  0.000000    0.0   \n",
       "\n",
       "   ...  18202  18203     18204  18205  18206  18207  18208  18209  18210  \\\n",
       "0  ...    0.0    0.0  0.312863    0.0    0.0    0.0    0.0    0.0    0.0   \n",
       "1  ...    0.0    0.0  0.000000    0.0    1.0    0.0    0.0    0.0    0.0   \n",
       "2  ...    0.0    0.0  0.000000    0.0    1.0    0.0    0.0    0.0    0.0   \n",
       "3  ...    0.0    0.0  0.000000    0.0    1.0    0.0    0.0    0.0    0.0   \n",
       "4  ...    0.0    0.0  0.000000    0.0    0.0    0.0    1.0    1.0    1.0   \n",
       "\n",
       "   18211  \n",
       "0    0.0  \n",
       "1    0.0  \n",
       "2    0.0  \n",
       "3    0.0  \n",
       "4    1.0  \n",
       "\n",
       "[5 rows x 18212 columns]"
      ]
     },
     "execution_count": 106,
     "metadata": {},
     "output_type": "execute_result"
    }
   ],
   "source": [
    "user_correlation_df.head()"
   ]
  },
  {
   "cell_type": "markdown",
   "metadata": {},
   "source": [
    "##### We have to add indexes to the user_correlation_df from df_subtracted dataframe"
   ]
  },
  {
   "cell_type": "code",
   "execution_count": 107,
   "metadata": {
    "execution": {
     "iopub.execute_input": "2025-04-27T13:54:11.408454Z",
     "iopub.status.busy": "2025-04-27T13:54:11.408253Z",
     "iopub.status.idle": "2025-04-27T13:54:11.441502Z",
     "shell.execute_reply": "2025-04-27T13:54:11.440997Z",
     "shell.execute_reply.started": "2025-04-27T13:54:11.408431Z"
    },
    "trusted": true
   },
   "outputs": [
    {
     "data": {
      "text/html": [
       "<div>\n",
       "<style scoped>\n",
       "    .dataframe tbody tr th:only-of-type {\n",
       "        vertical-align: middle;\n",
       "    }\n",
       "\n",
       "    .dataframe tbody tr th {\n",
       "        vertical-align: top;\n",
       "    }\n",
       "\n",
       "    .dataframe thead th {\n",
       "        text-align: right;\n",
       "    }\n",
       "</style>\n",
       "<table border=\"1\" class=\"dataframe\">\n",
       "  <thead>\n",
       "    <tr style=\"text-align: right;\">\n",
       "      <th></th>\n",
       "      <th>0</th>\n",
       "      <th>1</th>\n",
       "      <th>2</th>\n",
       "      <th>3</th>\n",
       "      <th>4</th>\n",
       "      <th>5</th>\n",
       "      <th>6</th>\n",
       "      <th>7</th>\n",
       "      <th>8</th>\n",
       "      <th>9</th>\n",
       "      <th>...</th>\n",
       "      <th>18202</th>\n",
       "      <th>18203</th>\n",
       "      <th>18204</th>\n",
       "      <th>18205</th>\n",
       "      <th>18206</th>\n",
       "      <th>18207</th>\n",
       "      <th>18208</th>\n",
       "      <th>18209</th>\n",
       "      <th>18210</th>\n",
       "      <th>18211</th>\n",
       "    </tr>\n",
       "    <tr>\n",
       "      <th>userId</th>\n",
       "      <th></th>\n",
       "      <th></th>\n",
       "      <th></th>\n",
       "      <th></th>\n",
       "      <th></th>\n",
       "      <th></th>\n",
       "      <th></th>\n",
       "      <th></th>\n",
       "      <th></th>\n",
       "      <th></th>\n",
       "      <th></th>\n",
       "      <th></th>\n",
       "      <th></th>\n",
       "      <th></th>\n",
       "      <th></th>\n",
       "      <th></th>\n",
       "      <th></th>\n",
       "      <th></th>\n",
       "      <th></th>\n",
       "      <th></th>\n",
       "      <th></th>\n",
       "    </tr>\n",
       "  </thead>\n",
       "  <tbody>\n",
       "    <tr>\n",
       "      <th>00sab00</th>\n",
       "      <td>1.0</td>\n",
       "      <td>0.0</td>\n",
       "      <td>0.0</td>\n",
       "      <td>0.0</td>\n",
       "      <td>0.0</td>\n",
       "      <td>0.0</td>\n",
       "      <td>0.0</td>\n",
       "      <td>0.0</td>\n",
       "      <td>0.948559</td>\n",
       "      <td>0.0</td>\n",
       "      <td>...</td>\n",
       "      <td>0.0</td>\n",
       "      <td>0.0</td>\n",
       "      <td>0.312863</td>\n",
       "      <td>0.0</td>\n",
       "      <td>0.0</td>\n",
       "      <td>0.0</td>\n",
       "      <td>0.0</td>\n",
       "      <td>0.0</td>\n",
       "      <td>0.0</td>\n",
       "      <td>0.0</td>\n",
       "    </tr>\n",
       "    <tr>\n",
       "      <th>01impala</th>\n",
       "      <td>0.0</td>\n",
       "      <td>1.0</td>\n",
       "      <td>1.0</td>\n",
       "      <td>1.0</td>\n",
       "      <td>0.0</td>\n",
       "      <td>0.0</td>\n",
       "      <td>0.0</td>\n",
       "      <td>0.0</td>\n",
       "      <td>0.000000</td>\n",
       "      <td>0.0</td>\n",
       "      <td>...</td>\n",
       "      <td>0.0</td>\n",
       "      <td>0.0</td>\n",
       "      <td>0.000000</td>\n",
       "      <td>0.0</td>\n",
       "      <td>1.0</td>\n",
       "      <td>0.0</td>\n",
       "      <td>0.0</td>\n",
       "      <td>0.0</td>\n",
       "      <td>0.0</td>\n",
       "      <td>0.0</td>\n",
       "    </tr>\n",
       "    <tr>\n",
       "      <th>02dakota</th>\n",
       "      <td>0.0</td>\n",
       "      <td>1.0</td>\n",
       "      <td>1.0</td>\n",
       "      <td>1.0</td>\n",
       "      <td>0.0</td>\n",
       "      <td>0.0</td>\n",
       "      <td>0.0</td>\n",
       "      <td>0.0</td>\n",
       "      <td>0.000000</td>\n",
       "      <td>0.0</td>\n",
       "      <td>...</td>\n",
       "      <td>0.0</td>\n",
       "      <td>0.0</td>\n",
       "      <td>0.000000</td>\n",
       "      <td>0.0</td>\n",
       "      <td>1.0</td>\n",
       "      <td>0.0</td>\n",
       "      <td>0.0</td>\n",
       "      <td>0.0</td>\n",
       "      <td>0.0</td>\n",
       "      <td>0.0</td>\n",
       "    </tr>\n",
       "    <tr>\n",
       "      <th>02deuce</th>\n",
       "      <td>0.0</td>\n",
       "      <td>1.0</td>\n",
       "      <td>1.0</td>\n",
       "      <td>1.0</td>\n",
       "      <td>0.0</td>\n",
       "      <td>0.0</td>\n",
       "      <td>0.0</td>\n",
       "      <td>0.0</td>\n",
       "      <td>0.000000</td>\n",
       "      <td>0.0</td>\n",
       "      <td>...</td>\n",
       "      <td>0.0</td>\n",
       "      <td>0.0</td>\n",
       "      <td>0.000000</td>\n",
       "      <td>0.0</td>\n",
       "      <td>1.0</td>\n",
       "      <td>0.0</td>\n",
       "      <td>0.0</td>\n",
       "      <td>0.0</td>\n",
       "      <td>0.0</td>\n",
       "      <td>0.0</td>\n",
       "    </tr>\n",
       "    <tr>\n",
       "      <th>06stidriver</th>\n",
       "      <td>0.0</td>\n",
       "      <td>0.0</td>\n",
       "      <td>0.0</td>\n",
       "      <td>0.0</td>\n",
       "      <td>1.0</td>\n",
       "      <td>0.0</td>\n",
       "      <td>0.0</td>\n",
       "      <td>1.0</td>\n",
       "      <td>0.000000</td>\n",
       "      <td>0.0</td>\n",
       "      <td>...</td>\n",
       "      <td>0.0</td>\n",
       "      <td>0.0</td>\n",
       "      <td>0.000000</td>\n",
       "      <td>0.0</td>\n",
       "      <td>0.0</td>\n",
       "      <td>0.0</td>\n",
       "      <td>1.0</td>\n",
       "      <td>1.0</td>\n",
       "      <td>1.0</td>\n",
       "      <td>1.0</td>\n",
       "    </tr>\n",
       "  </tbody>\n",
       "</table>\n",
       "<p>5 rows × 18212 columns</p>\n",
       "</div>"
      ],
      "text/plain": [
       "             0      1      2      3      4      5      6      7         8      \\\n",
       "userId                                                                          \n",
       "00sab00        1.0    0.0    0.0    0.0    0.0    0.0    0.0    0.0  0.948559   \n",
       "01impala       0.0    1.0    1.0    1.0    0.0    0.0    0.0    0.0  0.000000   \n",
       "02dakota       0.0    1.0    1.0    1.0    0.0    0.0    0.0    0.0  0.000000   \n",
       "02deuce        0.0    1.0    1.0    1.0    0.0    0.0    0.0    0.0  0.000000   \n",
       "06stidriver    0.0    0.0    0.0    0.0    1.0    0.0    0.0    1.0  0.000000   \n",
       "\n",
       "             9      ...  18202  18203     18204  18205  18206  18207  18208  \\\n",
       "userId              ...                                                       \n",
       "00sab00        0.0  ...    0.0    0.0  0.312863    0.0    0.0    0.0    0.0   \n",
       "01impala       0.0  ...    0.0    0.0  0.000000    0.0    1.0    0.0    0.0   \n",
       "02dakota       0.0  ...    0.0    0.0  0.000000    0.0    1.0    0.0    0.0   \n",
       "02deuce        0.0  ...    0.0    0.0  0.000000    0.0    1.0    0.0    0.0   \n",
       "06stidriver    0.0  ...    0.0    0.0  0.000000    0.0    0.0    0.0    1.0   \n",
       "\n",
       "             18209  18210  18211  \n",
       "userId                            \n",
       "00sab00        0.0    0.0    0.0  \n",
       "01impala       0.0    0.0    0.0  \n",
       "02dakota       0.0    0.0    0.0  \n",
       "02deuce        0.0    0.0    0.0  \n",
       "06stidriver    1.0    1.0    1.0  \n",
       "\n",
       "[5 rows x 18212 columns]"
      ]
     },
     "execution_count": 107,
     "metadata": {},
     "output_type": "execute_result"
    }
   ],
   "source": [
    "user_correlation_df['userId'] = df_subtracted.index\n",
    "user_correlation_df.set_index('userId',inplace=True)\n",
    "user_correlation_df.head()"
   ]
  },
  {
   "cell_type": "markdown",
   "metadata": {},
   "source": [
    "##### Have to perform 3 actions on the correlation dataframe, create new dataframes such that they have:\n",
    "- a. Only rows same as the train data.\n",
    "- b. Only columns same as train data.\n",
    "- c. Rows and columns as train data."
   ]
  },
  {
   "cell_type": "code",
   "execution_count": 108,
   "metadata": {
    "execution": {
     "iopub.execute_input": "2025-04-27T13:54:11.442552Z",
     "iopub.status.busy": "2025-04-27T13:54:11.442347Z",
     "iopub.status.idle": "2025-04-27T13:54:11.523770Z",
     "shell.execute_reply": "2025-04-27T13:54:11.523248Z",
     "shell.execute_reply.started": "2025-04-27T13:54:11.442537Z"
    },
    "trusted": true
   },
   "outputs": [],
   "source": [
    "list_name = common.reviews_username.tolist()\n",
    "user_correlation_df.columns = df_subtracted.index.tolist()\n",
    "\n",
    "user_correlation_df_1 =  user_correlation_df[user_correlation_df.index.isin(list_name)]"
   ]
  },
  {
   "cell_type": "code",
   "execution_count": 109,
   "metadata": {
    "execution": {
     "iopub.execute_input": "2025-04-27T13:54:11.524904Z",
     "iopub.status.busy": "2025-04-27T13:54:11.524658Z",
     "iopub.status.idle": "2025-04-27T13:54:11.530489Z",
     "shell.execute_reply": "2025-04-27T13:54:11.529827Z",
     "shell.execute_reply.started": "2025-04-27T13:54:11.524886Z"
    },
    "trusted": true
   },
   "outputs": [
    {
     "data": {
      "text/plain": [
       "(1660, 18212)"
      ]
     },
     "execution_count": 109,
     "metadata": {},
     "output_type": "execute_result"
    }
   ],
   "source": [
    "user_correlation_df_1.shape"
   ]
  },
  {
   "cell_type": "code",
   "execution_count": 110,
   "metadata": {
    "execution": {
     "iopub.execute_input": "2025-04-27T13:54:11.531324Z",
     "iopub.status.busy": "2025-04-27T13:54:11.531151Z",
     "iopub.status.idle": "2025-04-27T13:54:11.573871Z",
     "shell.execute_reply": "2025-04-27T13:54:11.573153Z",
     "shell.execute_reply.started": "2025-04-27T13:54:11.531310Z"
    },
    "trusted": true
   },
   "outputs": [],
   "source": [
    "user_correlation_df_2 = user_correlation_df_1.T[user_correlation_df_1.T.index.isin(list_name)]"
   ]
  },
  {
   "cell_type": "code",
   "execution_count": 111,
   "metadata": {
    "execution": {
     "iopub.execute_input": "2025-04-27T13:54:11.574875Z",
     "iopub.status.busy": "2025-04-27T13:54:11.574605Z",
     "iopub.status.idle": "2025-04-27T13:54:11.578457Z",
     "shell.execute_reply": "2025-04-27T13:54:11.577942Z",
     "shell.execute_reply.started": "2025-04-27T13:54:11.574850Z"
    },
    "trusted": true
   },
   "outputs": [],
   "source": [
    "user_correlation_df_3 = user_correlation_df_2.T"
   ]
  },
  {
   "cell_type": "code",
   "execution_count": 112,
   "metadata": {
    "execution": {
     "iopub.execute_input": "2025-04-27T13:54:11.579390Z",
     "iopub.status.busy": "2025-04-27T13:54:11.579193Z",
     "iopub.status.idle": "2025-04-27T13:54:11.605396Z",
     "shell.execute_reply": "2025-04-27T13:54:11.604766Z",
     "shell.execute_reply.started": "2025-04-27T13:54:11.579376Z"
    },
    "trusted": true
   },
   "outputs": [
    {
     "data": {
      "text/html": [
       "<div>\n",
       "<style scoped>\n",
       "    .dataframe tbody tr th:only-of-type {\n",
       "        vertical-align: middle;\n",
       "    }\n",
       "\n",
       "    .dataframe tbody tr th {\n",
       "        vertical-align: top;\n",
       "    }\n",
       "\n",
       "    .dataframe thead th {\n",
       "        text-align: right;\n",
       "    }\n",
       "</style>\n",
       "<table border=\"1\" class=\"dataframe\">\n",
       "  <thead>\n",
       "    <tr style=\"text-align: right;\">\n",
       "      <th></th>\n",
       "      <th>1234</th>\n",
       "      <th>123charlie</th>\n",
       "      <th>37f5p</th>\n",
       "      <th>4cloroxl</th>\n",
       "      <th>50cal</th>\n",
       "      <th>7.87E+11</th>\n",
       "      <th>aac06002</th>\n",
       "      <th>abbey</th>\n",
       "      <th>abbi</th>\n",
       "      <th>abby</th>\n",
       "      <th>...</th>\n",
       "      <th>yesseniaw22</th>\n",
       "      <th>yeya</th>\n",
       "      <th>ygtz</th>\n",
       "      <th>yummy</th>\n",
       "      <th>zapman</th>\n",
       "      <th>zburt5</th>\n",
       "      <th>zebras</th>\n",
       "      <th>zippy</th>\n",
       "      <th>zitro</th>\n",
       "      <th>zxcsdfd</th>\n",
       "    </tr>\n",
       "    <tr>\n",
       "      <th>userId</th>\n",
       "      <th></th>\n",
       "      <th></th>\n",
       "      <th></th>\n",
       "      <th></th>\n",
       "      <th></th>\n",
       "      <th></th>\n",
       "      <th></th>\n",
       "      <th></th>\n",
       "      <th></th>\n",
       "      <th></th>\n",
       "      <th></th>\n",
       "      <th></th>\n",
       "      <th></th>\n",
       "      <th></th>\n",
       "      <th></th>\n",
       "      <th></th>\n",
       "      <th></th>\n",
       "      <th></th>\n",
       "      <th></th>\n",
       "      <th></th>\n",
       "      <th></th>\n",
       "    </tr>\n",
       "  </thead>\n",
       "  <tbody>\n",
       "    <tr>\n",
       "      <th>1234</th>\n",
       "      <td>1.000000</td>\n",
       "      <td>0.527163</td>\n",
       "      <td>0.0</td>\n",
       "      <td>0.0</td>\n",
       "      <td>0.527163</td>\n",
       "      <td>0.0</td>\n",
       "      <td>0.0</td>\n",
       "      <td>0.0</td>\n",
       "      <td>0.0</td>\n",
       "      <td>0.0</td>\n",
       "      <td>...</td>\n",
       "      <td>0.0</td>\n",
       "      <td>0.0</td>\n",
       "      <td>0.0</td>\n",
       "      <td>0.0</td>\n",
       "      <td>0.0</td>\n",
       "      <td>0.0</td>\n",
       "      <td>0.0</td>\n",
       "      <td>0.368675</td>\n",
       "      <td>0.660655</td>\n",
       "      <td>0.0</td>\n",
       "    </tr>\n",
       "    <tr>\n",
       "      <th>123charlie</th>\n",
       "      <td>0.527163</td>\n",
       "      <td>1.000000</td>\n",
       "      <td>0.0</td>\n",
       "      <td>0.0</td>\n",
       "      <td>1.000000</td>\n",
       "      <td>0.0</td>\n",
       "      <td>0.0</td>\n",
       "      <td>0.0</td>\n",
       "      <td>0.0</td>\n",
       "      <td>0.0</td>\n",
       "      <td>...</td>\n",
       "      <td>0.0</td>\n",
       "      <td>0.0</td>\n",
       "      <td>0.0</td>\n",
       "      <td>0.0</td>\n",
       "      <td>0.0</td>\n",
       "      <td>0.0</td>\n",
       "      <td>0.0</td>\n",
       "      <td>0.000000</td>\n",
       "      <td>0.000000</td>\n",
       "      <td>0.0</td>\n",
       "    </tr>\n",
       "    <tr>\n",
       "      <th>37f5p</th>\n",
       "      <td>0.000000</td>\n",
       "      <td>0.000000</td>\n",
       "      <td>1.0</td>\n",
       "      <td>0.0</td>\n",
       "      <td>0.000000</td>\n",
       "      <td>1.0</td>\n",
       "      <td>0.0</td>\n",
       "      <td>0.0</td>\n",
       "      <td>0.0</td>\n",
       "      <td>0.0</td>\n",
       "      <td>...</td>\n",
       "      <td>0.0</td>\n",
       "      <td>0.0</td>\n",
       "      <td>0.0</td>\n",
       "      <td>0.0</td>\n",
       "      <td>0.0</td>\n",
       "      <td>0.0</td>\n",
       "      <td>0.0</td>\n",
       "      <td>0.000000</td>\n",
       "      <td>0.000000</td>\n",
       "      <td>0.0</td>\n",
       "    </tr>\n",
       "    <tr>\n",
       "      <th>4cloroxl</th>\n",
       "      <td>0.000000</td>\n",
       "      <td>0.000000</td>\n",
       "      <td>0.0</td>\n",
       "      <td>1.0</td>\n",
       "      <td>0.000000</td>\n",
       "      <td>0.0</td>\n",
       "      <td>0.0</td>\n",
       "      <td>0.0</td>\n",
       "      <td>0.0</td>\n",
       "      <td>0.0</td>\n",
       "      <td>...</td>\n",
       "      <td>0.0</td>\n",
       "      <td>1.0</td>\n",
       "      <td>1.0</td>\n",
       "      <td>0.0</td>\n",
       "      <td>0.0</td>\n",
       "      <td>0.0</td>\n",
       "      <td>1.0</td>\n",
       "      <td>0.000000</td>\n",
       "      <td>0.000000</td>\n",
       "      <td>1.0</td>\n",
       "    </tr>\n",
       "    <tr>\n",
       "      <th>50cal</th>\n",
       "      <td>0.527163</td>\n",
       "      <td>1.000000</td>\n",
       "      <td>0.0</td>\n",
       "      <td>0.0</td>\n",
       "      <td>1.000000</td>\n",
       "      <td>0.0</td>\n",
       "      <td>0.0</td>\n",
       "      <td>0.0</td>\n",
       "      <td>0.0</td>\n",
       "      <td>0.0</td>\n",
       "      <td>...</td>\n",
       "      <td>0.0</td>\n",
       "      <td>0.0</td>\n",
       "      <td>0.0</td>\n",
       "      <td>0.0</td>\n",
       "      <td>0.0</td>\n",
       "      <td>0.0</td>\n",
       "      <td>0.0</td>\n",
       "      <td>0.000000</td>\n",
       "      <td>0.000000</td>\n",
       "      <td>0.0</td>\n",
       "    </tr>\n",
       "  </tbody>\n",
       "</table>\n",
       "<p>5 rows × 1660 columns</p>\n",
       "</div>"
      ],
      "text/plain": [
       "                1234  123charlie  37f5p  4cloroxl     50cal  7.87E+11  \\\n",
       "userId                                                                  \n",
       "1234        1.000000    0.527163    0.0       0.0  0.527163       0.0   \n",
       "123charlie  0.527163    1.000000    0.0       0.0  1.000000       0.0   \n",
       "37f5p       0.000000    0.000000    1.0       0.0  0.000000       1.0   \n",
       "4cloroxl    0.000000    0.000000    0.0       1.0  0.000000       0.0   \n",
       "50cal       0.527163    1.000000    0.0       0.0  1.000000       0.0   \n",
       "\n",
       "            aac06002  abbey  abbi  abby  ...  yesseniaw22  yeya  ygtz  yummy  \\\n",
       "userId                                   ...                                   \n",
       "1234             0.0    0.0   0.0   0.0  ...          0.0   0.0   0.0    0.0   \n",
       "123charlie       0.0    0.0   0.0   0.0  ...          0.0   0.0   0.0    0.0   \n",
       "37f5p            0.0    0.0   0.0   0.0  ...          0.0   0.0   0.0    0.0   \n",
       "4cloroxl         0.0    0.0   0.0   0.0  ...          0.0   1.0   1.0    0.0   \n",
       "50cal            0.0    0.0   0.0   0.0  ...          0.0   0.0   0.0    0.0   \n",
       "\n",
       "            zapman  zburt5  zebras     zippy     zitro  zxcsdfd  \n",
       "userId                                                           \n",
       "1234           0.0     0.0     0.0  0.368675  0.660655      0.0  \n",
       "123charlie     0.0     0.0     0.0  0.000000  0.000000      0.0  \n",
       "37f5p          0.0     0.0     0.0  0.000000  0.000000      0.0  \n",
       "4cloroxl       0.0     0.0     1.0  0.000000  0.000000      1.0  \n",
       "50cal          0.0     0.0     0.0  0.000000  0.000000      0.0  \n",
       "\n",
       "[5 rows x 1660 columns]"
      ]
     },
     "execution_count": 112,
     "metadata": {},
     "output_type": "execute_result"
    }
   ],
   "source": [
    "user_correlation_df_3.head()"
   ]
  },
  {
   "cell_type": "code",
   "execution_count": 113,
   "metadata": {
    "execution": {
     "iopub.execute_input": "2025-04-27T13:54:11.606317Z",
     "iopub.status.busy": "2025-04-27T13:54:11.606104Z",
     "iopub.status.idle": "2025-04-27T13:54:11.625152Z",
     "shell.execute_reply": "2025-04-27T13:54:11.624628Z",
     "shell.execute_reply.started": "2025-04-27T13:54:11.606295Z"
    },
    "trusted": true
   },
   "outputs": [],
   "source": [
    "user_correlation_df_3[user_correlation_df_3<0]=0"
   ]
  },
  {
   "cell_type": "code",
   "execution_count": 114,
   "metadata": {
    "execution": {
     "iopub.execute_input": "2025-04-27T13:54:11.626068Z",
     "iopub.status.busy": "2025-04-27T13:54:11.625846Z",
     "iopub.status.idle": "2025-04-27T13:54:11.642308Z",
     "shell.execute_reply": "2025-04-27T13:54:11.641750Z",
     "shell.execute_reply.started": "2025-04-27T13:54:11.626047Z"
    },
    "trusted": true
   },
   "outputs": [
    {
     "data": {
      "text/plain": [
       "array([[3.62789957, 3.95656969, 0.        , ..., 2.42589056, 1.62312895,\n",
       "        0.        ],\n",
       "       [0.        , 3.96533622, 0.        , ..., 0.74621081, 0.        ,\n",
       "        0.        ],\n",
       "       [0.        , 0.        , 0.        , ..., 0.        , 0.        ,\n",
       "        0.        ],\n",
       "       ...,\n",
       "       [0.43734014, 1.19793458, 0.91465036, ..., 0.        , 2.18670071,\n",
       "        0.        ],\n",
       "       [5.        , 2.82285386, 0.        , ..., 3.07621601, 0.        ,\n",
       "        0.        ],\n",
       "       [0.        , 0.        , 0.        , ..., 5.        , 0.        ,\n",
       "        0.        ]])"
      ]
     },
     "execution_count": 114,
     "metadata": {},
     "output_type": "execute_result"
    }
   ],
   "source": [
    "common_user_predicted_ratings = np.dot(user_correlation_df_3, common_user_based_matrix.fillna(0))\n",
    "common_user_predicted_ratings"
   ]
  },
  {
   "cell_type": "code",
   "execution_count": 115,
   "metadata": {
    "execution": {
     "iopub.execute_input": "2025-04-27T13:54:11.643323Z",
     "iopub.status.busy": "2025-04-27T13:54:11.642970Z",
     "iopub.status.idle": "2025-04-27T13:54:11.659276Z",
     "shell.execute_reply": "2025-04-27T13:54:11.658737Z",
     "shell.execute_reply.started": "2025-04-27T13:54:11.643297Z"
    },
    "trusted": true
   },
   "outputs": [],
   "source": [
    "# Creating a dummy_test dataframe, with rating mappingss opposite to dummy_train\n",
    "\n",
    "dummy_test = common.copy()\n",
    "dummy_test['reviews_rating'] = dummy_test['reviews_rating'].apply(lambda x: 1 if x>=1 else 0)\n",
    "\n",
    "dummy_test = dummy_test.pivot_table(\n",
    "    index='reviews_username', \n",
    "    columns='id', \n",
    "    values='reviews_rating').fillna(0)"
   ]
  },
  {
   "cell_type": "code",
   "execution_count": 116,
   "metadata": {
    "execution": {
     "iopub.execute_input": "2025-04-27T13:54:11.660263Z",
     "iopub.status.busy": "2025-04-27T13:54:11.660083Z",
     "iopub.status.idle": "2025-04-27T13:54:11.664703Z",
     "shell.execute_reply": "2025-04-27T13:54:11.664078Z",
     "shell.execute_reply.started": "2025-04-27T13:54:11.660249Z"
    },
    "trusted": true
   },
   "outputs": [
    {
     "data": {
      "text/plain": [
       "(1660, 127)"
      ]
     },
     "execution_count": 116,
     "metadata": {},
     "output_type": "execute_result"
    }
   ],
   "source": [
    "dummy_test.shape"
   ]
  },
  {
   "cell_type": "markdown",
   "metadata": {},
   "source": [
    "#### Predicting the ratings for test data"
   ]
  },
  {
   "cell_type": "code",
   "execution_count": 117,
   "metadata": {
    "execution": {
     "iopub.execute_input": "2025-04-27T13:54:11.665535Z",
     "iopub.status.busy": "2025-04-27T13:54:11.665326Z",
     "iopub.status.idle": "2025-04-27T13:54:11.675559Z",
     "shell.execute_reply": "2025-04-27T13:54:11.675008Z",
     "shell.execute_reply.started": "2025-04-27T13:54:11.665511Z"
    },
    "trusted": true
   },
   "outputs": [],
   "source": [
    "common_user_predicted_ratings = np.multiply(common_user_predicted_ratings,dummy_test)"
   ]
  },
  {
   "cell_type": "code",
   "execution_count": 118,
   "metadata": {
    "execution": {
     "iopub.execute_input": "2025-04-27T13:54:11.676491Z",
     "iopub.status.busy": "2025-04-27T13:54:11.676268Z",
     "iopub.status.idle": "2025-04-27T13:54:11.699294Z",
     "shell.execute_reply": "2025-04-27T13:54:11.698646Z",
     "shell.execute_reply.started": "2025-04-27T13:54:11.676471Z"
    },
    "trusted": true
   },
   "outputs": [
    {
     "data": {
      "text/html": [
       "<div>\n",
       "<style scoped>\n",
       "    .dataframe tbody tr th:only-of-type {\n",
       "        vertical-align: middle;\n",
       "    }\n",
       "\n",
       "    .dataframe tbody tr th {\n",
       "        vertical-align: top;\n",
       "    }\n",
       "\n",
       "    .dataframe thead th {\n",
       "        text-align: right;\n",
       "    }\n",
       "</style>\n",
       "<table border=\"1\" class=\"dataframe\">\n",
       "  <thead>\n",
       "    <tr style=\"text-align: right;\">\n",
       "      <th>id</th>\n",
       "      <th>AV16khLE-jtxr-f38VFn</th>\n",
       "      <th>AV1YGDqsGV-KLJ3adc-O</th>\n",
       "      <th>AV1YlENIglJLPUi8IHsX</th>\n",
       "      <th>AV1YmDL9vKc47QAVgr7_</th>\n",
       "      <th>AV1Ymf_rglJLPUi8II2v</th>\n",
       "      <th>AV1Yn94nvKc47QAVgtst</th>\n",
       "      <th>AV1YneDPglJLPUi8IJyQ</th>\n",
       "      <th>AV1YqAaMGV-KLJ3adiDj</th>\n",
       "      <th>AV1Ys0kTvKc47QAVgx1C</th>\n",
       "      <th>AV1h6Gu0glJLPUi8IjA_</th>\n",
       "      <th>...</th>\n",
       "      <th>AVpfoSS51cnluZ0-oVH9</th>\n",
       "      <th>AVpfov9TLJeJML43A7B0</th>\n",
       "      <th>AVpfpM2yilAPnD_xfmDG</th>\n",
       "      <th>AVpfr5cb1cnluZ0-pZFp</th>\n",
       "      <th>AVpfrFDZLJeJML43Bmv0</th>\n",
       "      <th>AVpfrTyiLJeJML43BrSI</th>\n",
       "      <th>AVpfs0tUilAPnD_xgqN2</th>\n",
       "      <th>AVpftikC1cnluZ0-p31V</th>\n",
       "      <th>AVpfv4TlilAPnD_xhjNS</th>\n",
       "      <th>AVpfvieo1cnluZ0-qdnu</th>\n",
       "    </tr>\n",
       "    <tr>\n",
       "      <th>reviews_username</th>\n",
       "      <th></th>\n",
       "      <th></th>\n",
       "      <th></th>\n",
       "      <th></th>\n",
       "      <th></th>\n",
       "      <th></th>\n",
       "      <th></th>\n",
       "      <th></th>\n",
       "      <th></th>\n",
       "      <th></th>\n",
       "      <th></th>\n",
       "      <th></th>\n",
       "      <th></th>\n",
       "      <th></th>\n",
       "      <th></th>\n",
       "      <th></th>\n",
       "      <th></th>\n",
       "      <th></th>\n",
       "      <th></th>\n",
       "      <th></th>\n",
       "      <th></th>\n",
       "    </tr>\n",
       "  </thead>\n",
       "  <tbody>\n",
       "    <tr>\n",
       "      <th>1234</th>\n",
       "      <td>0.0</td>\n",
       "      <td>0.0</td>\n",
       "      <td>0.0</td>\n",
       "      <td>0.0</td>\n",
       "      <td>0.0</td>\n",
       "      <td>0.0</td>\n",
       "      <td>0.0</td>\n",
       "      <td>0.0</td>\n",
       "      <td>0.0</td>\n",
       "      <td>0.0</td>\n",
       "      <td>...</td>\n",
       "      <td>0.0</td>\n",
       "      <td>0.0</td>\n",
       "      <td>0.0</td>\n",
       "      <td>0.0</td>\n",
       "      <td>0.0</td>\n",
       "      <td>0.0</td>\n",
       "      <td>0.0</td>\n",
       "      <td>0.0</td>\n",
       "      <td>0.0</td>\n",
       "      <td>0.0</td>\n",
       "    </tr>\n",
       "    <tr>\n",
       "      <th>123charlie</th>\n",
       "      <td>0.0</td>\n",
       "      <td>0.0</td>\n",
       "      <td>0.0</td>\n",
       "      <td>0.0</td>\n",
       "      <td>0.0</td>\n",
       "      <td>0.0</td>\n",
       "      <td>0.0</td>\n",
       "      <td>0.0</td>\n",
       "      <td>0.0</td>\n",
       "      <td>0.0</td>\n",
       "      <td>...</td>\n",
       "      <td>0.0</td>\n",
       "      <td>0.0</td>\n",
       "      <td>0.0</td>\n",
       "      <td>0.0</td>\n",
       "      <td>0.0</td>\n",
       "      <td>0.0</td>\n",
       "      <td>0.0</td>\n",
       "      <td>0.0</td>\n",
       "      <td>0.0</td>\n",
       "      <td>0.0</td>\n",
       "    </tr>\n",
       "    <tr>\n",
       "      <th>37f5p</th>\n",
       "      <td>0.0</td>\n",
       "      <td>0.0</td>\n",
       "      <td>0.0</td>\n",
       "      <td>0.0</td>\n",
       "      <td>0.0</td>\n",
       "      <td>0.0</td>\n",
       "      <td>0.0</td>\n",
       "      <td>0.0</td>\n",
       "      <td>0.0</td>\n",
       "      <td>0.0</td>\n",
       "      <td>...</td>\n",
       "      <td>0.0</td>\n",
       "      <td>0.0</td>\n",
       "      <td>0.0</td>\n",
       "      <td>0.0</td>\n",
       "      <td>0.0</td>\n",
       "      <td>0.0</td>\n",
       "      <td>0.0</td>\n",
       "      <td>0.0</td>\n",
       "      <td>0.0</td>\n",
       "      <td>0.0</td>\n",
       "    </tr>\n",
       "    <tr>\n",
       "      <th>4cloroxl</th>\n",
       "      <td>0.0</td>\n",
       "      <td>0.0</td>\n",
       "      <td>0.0</td>\n",
       "      <td>0.0</td>\n",
       "      <td>0.0</td>\n",
       "      <td>0.0</td>\n",
       "      <td>0.0</td>\n",
       "      <td>0.0</td>\n",
       "      <td>0.0</td>\n",
       "      <td>0.0</td>\n",
       "      <td>...</td>\n",
       "      <td>0.0</td>\n",
       "      <td>0.0</td>\n",
       "      <td>0.0</td>\n",
       "      <td>0.0</td>\n",
       "      <td>0.0</td>\n",
       "      <td>0.0</td>\n",
       "      <td>0.0</td>\n",
       "      <td>0.0</td>\n",
       "      <td>0.0</td>\n",
       "      <td>0.0</td>\n",
       "    </tr>\n",
       "    <tr>\n",
       "      <th>50cal</th>\n",
       "      <td>0.0</td>\n",
       "      <td>0.0</td>\n",
       "      <td>0.0</td>\n",
       "      <td>0.0</td>\n",
       "      <td>0.0</td>\n",
       "      <td>0.0</td>\n",
       "      <td>0.0</td>\n",
       "      <td>0.0</td>\n",
       "      <td>0.0</td>\n",
       "      <td>0.0</td>\n",
       "      <td>...</td>\n",
       "      <td>0.0</td>\n",
       "      <td>0.0</td>\n",
       "      <td>0.0</td>\n",
       "      <td>0.0</td>\n",
       "      <td>0.0</td>\n",
       "      <td>0.0</td>\n",
       "      <td>0.0</td>\n",
       "      <td>0.0</td>\n",
       "      <td>0.0</td>\n",
       "      <td>0.0</td>\n",
       "    </tr>\n",
       "  </tbody>\n",
       "</table>\n",
       "<p>5 rows × 127 columns</p>\n",
       "</div>"
      ],
      "text/plain": [
       "id                AV16khLE-jtxr-f38VFn  AV1YGDqsGV-KLJ3adc-O  \\\n",
       "reviews_username                                               \n",
       "1234                               0.0                   0.0   \n",
       "123charlie                         0.0                   0.0   \n",
       "37f5p                              0.0                   0.0   \n",
       "4cloroxl                           0.0                   0.0   \n",
       "50cal                              0.0                   0.0   \n",
       "\n",
       "id                AV1YlENIglJLPUi8IHsX  AV1YmDL9vKc47QAVgr7_  \\\n",
       "reviews_username                                               \n",
       "1234                               0.0                   0.0   \n",
       "123charlie                         0.0                   0.0   \n",
       "37f5p                              0.0                   0.0   \n",
       "4cloroxl                           0.0                   0.0   \n",
       "50cal                              0.0                   0.0   \n",
       "\n",
       "id                AV1Ymf_rglJLPUi8II2v  AV1Yn94nvKc47QAVgtst  \\\n",
       "reviews_username                                               \n",
       "1234                               0.0                   0.0   \n",
       "123charlie                         0.0                   0.0   \n",
       "37f5p                              0.0                   0.0   \n",
       "4cloroxl                           0.0                   0.0   \n",
       "50cal                              0.0                   0.0   \n",
       "\n",
       "id                AV1YneDPglJLPUi8IJyQ  AV1YqAaMGV-KLJ3adiDj  \\\n",
       "reviews_username                                               \n",
       "1234                               0.0                   0.0   \n",
       "123charlie                         0.0                   0.0   \n",
       "37f5p                              0.0                   0.0   \n",
       "4cloroxl                           0.0                   0.0   \n",
       "50cal                              0.0                   0.0   \n",
       "\n",
       "id                AV1Ys0kTvKc47QAVgx1C  AV1h6Gu0glJLPUi8IjA_  ...  \\\n",
       "reviews_username                                              ...   \n",
       "1234                               0.0                   0.0  ...   \n",
       "123charlie                         0.0                   0.0  ...   \n",
       "37f5p                              0.0                   0.0  ...   \n",
       "4cloroxl                           0.0                   0.0  ...   \n",
       "50cal                              0.0                   0.0  ...   \n",
       "\n",
       "id                AVpfoSS51cnluZ0-oVH9  AVpfov9TLJeJML43A7B0  \\\n",
       "reviews_username                                               \n",
       "1234                               0.0                   0.0   \n",
       "123charlie                         0.0                   0.0   \n",
       "37f5p                              0.0                   0.0   \n",
       "4cloroxl                           0.0                   0.0   \n",
       "50cal                              0.0                   0.0   \n",
       "\n",
       "id                AVpfpM2yilAPnD_xfmDG  AVpfr5cb1cnluZ0-pZFp  \\\n",
       "reviews_username                                               \n",
       "1234                               0.0                   0.0   \n",
       "123charlie                         0.0                   0.0   \n",
       "37f5p                              0.0                   0.0   \n",
       "4cloroxl                           0.0                   0.0   \n",
       "50cal                              0.0                   0.0   \n",
       "\n",
       "id                AVpfrFDZLJeJML43Bmv0  AVpfrTyiLJeJML43BrSI  \\\n",
       "reviews_username                                               \n",
       "1234                               0.0                   0.0   \n",
       "123charlie                         0.0                   0.0   \n",
       "37f5p                              0.0                   0.0   \n",
       "4cloroxl                           0.0                   0.0   \n",
       "50cal                              0.0                   0.0   \n",
       "\n",
       "id                AVpfs0tUilAPnD_xgqN2  AVpftikC1cnluZ0-p31V  \\\n",
       "reviews_username                                               \n",
       "1234                               0.0                   0.0   \n",
       "123charlie                         0.0                   0.0   \n",
       "37f5p                              0.0                   0.0   \n",
       "4cloroxl                           0.0                   0.0   \n",
       "50cal                              0.0                   0.0   \n",
       "\n",
       "id                AVpfv4TlilAPnD_xhjNS  AVpfvieo1cnluZ0-qdnu  \n",
       "reviews_username                                              \n",
       "1234                               0.0                   0.0  \n",
       "123charlie                         0.0                   0.0  \n",
       "37f5p                              0.0                   0.0  \n",
       "4cloroxl                           0.0                   0.0  \n",
       "50cal                              0.0                   0.0  \n",
       "\n",
       "[5 rows x 127 columns]"
      ]
     },
     "execution_count": 118,
     "metadata": {},
     "output_type": "execute_result"
    }
   ],
   "source": [
    "common_user_predicted_ratings.head()"
   ]
  },
  {
   "cell_type": "markdown",
   "metadata": {},
   "source": [
    "### Evaluating the User based recommendation system\n",
    "##### Calculating the RMSE for only the products rated by user. For RMSE, normalising the rating to (1,5) range."
   ]
  },
  {
   "cell_type": "code",
   "execution_count": 119,
   "metadata": {
    "execution": {
     "iopub.execute_input": "2025-04-27T13:54:11.700232Z",
     "iopub.status.busy": "2025-04-27T13:54:11.699976Z",
     "iopub.status.idle": "2025-04-27T13:54:11.720885Z",
     "shell.execute_reply": "2025-04-27T13:54:11.720343Z",
     "shell.execute_reply.started": "2025-04-27T13:54:11.700209Z"
    },
    "trusted": true
   },
   "outputs": [
    {
     "name": "stdout",
     "output_type": "stream",
     "text": [
      "MinMaxScaler(feature_range=(1, 5))\n",
      "[[nan nan nan ... nan nan nan]\n",
      " [nan nan nan ... nan nan nan]\n",
      " [nan nan nan ... nan nan nan]\n",
      " ...\n",
      " [nan nan nan ... nan nan nan]\n",
      " [nan nan nan ... nan nan nan]\n",
      " [nan nan nan ... nan nan nan]]\n"
     ]
    }
   ],
   "source": [
    "from sklearn.preprocessing import MinMaxScaler\n",
    "from numpy import *\n",
    "\n",
    "X  = common_user_predicted_ratings.copy() \n",
    "X = X[X>0]\n",
    "\n",
    "scaler = MinMaxScaler(feature_range=(1, 5))\n",
    "print(scaler.fit(X))\n",
    "y = (scaler.transform(X))\n",
    "\n",
    "print(y)"
   ]
  },
  {
   "cell_type": "code",
   "execution_count": 120,
   "metadata": {
    "execution": {
     "iopub.execute_input": "2025-04-27T13:54:11.721760Z",
     "iopub.status.busy": "2025-04-27T13:54:11.721520Z",
     "iopub.status.idle": "2025-04-27T13:54:11.733157Z",
     "shell.execute_reply": "2025-04-27T13:54:11.732506Z",
     "shell.execute_reply.started": "2025-04-27T13:54:11.721739Z"
    },
    "trusted": true
   },
   "outputs": [],
   "source": [
    "common_ = common.pivot_table(\n",
    "    index='reviews_username', \n",
    "    columns='id', \n",
    "    values='reviews_rating'\n",
    ")"
   ]
  },
  {
   "cell_type": "code",
   "execution_count": 121,
   "metadata": {
    "execution": {
     "iopub.execute_input": "2025-04-27T13:54:11.734173Z",
     "iopub.status.busy": "2025-04-27T13:54:11.733958Z",
     "iopub.status.idle": "2025-04-27T13:54:11.747424Z",
     "shell.execute_reply": "2025-04-27T13:54:11.746734Z",
     "shell.execute_reply.started": "2025-04-27T13:54:11.734159Z"
    },
    "trusted": true
   },
   "outputs": [
    {
     "name": "stdout",
     "output_type": "stream",
     "text": [
      "2.1234843875601426\n"
     ]
    },
    {
     "name": "stderr",
     "output_type": "stream",
     "text": [
      "/usr/local/lib/python3.11/dist-packages/numpy/core/fromnumeric.py:86: FutureWarning: The behavior of DataFrame.sum with axis=None is deprecated, in a future version this will reduce over both axes and return a scalar. To retain the old behavior, pass axis=0 (or do not pass axis)\n",
      "  return reduction(axis=axis, out=out, **passkwargs)\n"
     ]
    }
   ],
   "source": [
    "# Finding total non-NaN value\n",
    "total_non_nan = np.count_nonzero(~np.isnan(y))\n",
    "\n",
    "rmse = (sum(sum((common_ - y )**2))/total_non_nan)**0.5\n",
    "print(rmse)"
   ]
  },
  {
   "cell_type": "markdown",
   "metadata": {},
   "source": [
    "##### The **RMSE score** for User based product recommendation system is - **2.123**"
   ]
  },
  {
   "cell_type": "markdown",
   "metadata": {},
   "source": [
    "### MODEL 2: Item based recommendation system "
   ]
  },
  {
   "cell_type": "markdown",
   "metadata": {},
   "source": [
    "##### Taking the transpose of the rating matrix to normalize the rating around the mean for different Product ID. In the user based similarity, we had taken mean for each user instead of each product. "
   ]
  },
  {
   "cell_type": "code",
   "execution_count": 122,
   "metadata": {
    "execution": {
     "iopub.execute_input": "2025-04-27T13:54:11.748474Z",
     "iopub.status.busy": "2025-04-27T13:54:11.748311Z",
     "iopub.status.idle": "2025-04-27T13:54:11.860430Z",
     "shell.execute_reply": "2025-04-27T13:54:11.859738Z",
     "shell.execute_reply.started": "2025-04-27T13:54:11.748462Z"
    },
    "trusted": true
   },
   "outputs": [
    {
     "name": "stderr",
     "output_type": "stream",
     "text": [
      "/usr/local/lib/python3.11/dist-packages/pandas/io/formats/format.py:1458: RuntimeWarning: invalid value encountered in greater\n",
      "  has_large_values = (abs_vals > 1e6).any()\n",
      "/usr/local/lib/python3.11/dist-packages/pandas/io/formats/format.py:1459: RuntimeWarning: invalid value encountered in less\n",
      "  has_small_values = ((abs_vals < 10 ** (-self.digits)) & (abs_vals > 0)).any()\n",
      "/usr/local/lib/python3.11/dist-packages/pandas/io/formats/format.py:1459: RuntimeWarning: invalid value encountered in greater\n",
      "  has_small_values = ((abs_vals < 10 ** (-self.digits)) & (abs_vals > 0)).any()\n",
      "/usr/local/lib/python3.11/dist-packages/pandas/io/formats/format.py:1458: RuntimeWarning: invalid value encountered in greater\n",
      "  has_large_values = (abs_vals > 1e6).any()\n",
      "/usr/local/lib/python3.11/dist-packages/pandas/io/formats/format.py:1459: RuntimeWarning: invalid value encountered in less\n",
      "  has_small_values = ((abs_vals < 10 ** (-self.digits)) & (abs_vals > 0)).any()\n",
      "/usr/local/lib/python3.11/dist-packages/pandas/io/formats/format.py:1459: RuntimeWarning: invalid value encountered in greater\n",
      "  has_small_values = ((abs_vals < 10 ** (-self.digits)) & (abs_vals > 0)).any()\n"
     ]
    },
    {
     "data": {
      "text/html": [
       "<div>\n",
       "<style scoped>\n",
       "    .dataframe tbody tr th:only-of-type {\n",
       "        vertical-align: middle;\n",
       "    }\n",
       "\n",
       "    .dataframe tbody tr th {\n",
       "        vertical-align: top;\n",
       "    }\n",
       "\n",
       "    .dataframe thead th {\n",
       "        text-align: right;\n",
       "    }\n",
       "</style>\n",
       "<table border=\"1\" class=\"dataframe\">\n",
       "  <thead>\n",
       "    <tr style=\"text-align: right;\">\n",
       "      <th>reviews_username</th>\n",
       "      <th>00sab00</th>\n",
       "      <th>01impala</th>\n",
       "      <th>02dakota</th>\n",
       "      <th>02deuce</th>\n",
       "      <th>06stidriver</th>\n",
       "      <th>08dallas</th>\n",
       "      <th>09mommy11</th>\n",
       "      <th>1.11E+24</th>\n",
       "      <th>1085</th>\n",
       "      <th>10ten</th>\n",
       "      <th>...</th>\n",
       "      <th>zowie</th>\n",
       "      <th>zozo0o</th>\n",
       "      <th>zpalma</th>\n",
       "      <th>zsazsa</th>\n",
       "      <th>zt313</th>\n",
       "      <th>zuttle</th>\n",
       "      <th>zwithanx</th>\n",
       "      <th>zxcsdfd</th>\n",
       "      <th>zyiah4</th>\n",
       "      <th>zzz1127</th>\n",
       "    </tr>\n",
       "    <tr>\n",
       "      <th>id</th>\n",
       "      <th></th>\n",
       "      <th></th>\n",
       "      <th></th>\n",
       "      <th></th>\n",
       "      <th></th>\n",
       "      <th></th>\n",
       "      <th></th>\n",
       "      <th></th>\n",
       "      <th></th>\n",
       "      <th></th>\n",
       "      <th></th>\n",
       "      <th></th>\n",
       "      <th></th>\n",
       "      <th></th>\n",
       "      <th></th>\n",
       "      <th></th>\n",
       "      <th></th>\n",
       "      <th></th>\n",
       "      <th></th>\n",
       "      <th></th>\n",
       "      <th></th>\n",
       "    </tr>\n",
       "  </thead>\n",
       "  <tbody>\n",
       "    <tr>\n",
       "      <th>AV13O1A8GV-KLJ3akUyj</th>\n",
       "      <td>NaN</td>\n",
       "      <td>NaN</td>\n",
       "      <td>NaN</td>\n",
       "      <td>NaN</td>\n",
       "      <td>NaN</td>\n",
       "      <td>NaN</td>\n",
       "      <td>NaN</td>\n",
       "      <td>NaN</td>\n",
       "      <td>NaN</td>\n",
       "      <td>NaN</td>\n",
       "      <td>...</td>\n",
       "      <td>NaN</td>\n",
       "      <td>NaN</td>\n",
       "      <td>NaN</td>\n",
       "      <td>NaN</td>\n",
       "      <td>NaN</td>\n",
       "      <td>NaN</td>\n",
       "      <td>NaN</td>\n",
       "      <td>NaN</td>\n",
       "      <td>NaN</td>\n",
       "      <td>NaN</td>\n",
       "    </tr>\n",
       "    <tr>\n",
       "      <th>AV14LG0R-jtxr-f38QfS</th>\n",
       "      <td>NaN</td>\n",
       "      <td>NaN</td>\n",
       "      <td>NaN</td>\n",
       "      <td>NaN</td>\n",
       "      <td>NaN</td>\n",
       "      <td>NaN</td>\n",
       "      <td>NaN</td>\n",
       "      <td>NaN</td>\n",
       "      <td>NaN</td>\n",
       "      <td>NaN</td>\n",
       "      <td>...</td>\n",
       "      <td>NaN</td>\n",
       "      <td>NaN</td>\n",
       "      <td>NaN</td>\n",
       "      <td>NaN</td>\n",
       "      <td>NaN</td>\n",
       "      <td>NaN</td>\n",
       "      <td>NaN</td>\n",
       "      <td>NaN</td>\n",
       "      <td>NaN</td>\n",
       "      <td>NaN</td>\n",
       "    </tr>\n",
       "    <tr>\n",
       "      <th>AV16khLE-jtxr-f38VFn</th>\n",
       "      <td>NaN</td>\n",
       "      <td>NaN</td>\n",
       "      <td>NaN</td>\n",
       "      <td>NaN</td>\n",
       "      <td>NaN</td>\n",
       "      <td>NaN</td>\n",
       "      <td>NaN</td>\n",
       "      <td>NaN</td>\n",
       "      <td>NaN</td>\n",
       "      <td>NaN</td>\n",
       "      <td>...</td>\n",
       "      <td>NaN</td>\n",
       "      <td>NaN</td>\n",
       "      <td>NaN</td>\n",
       "      <td>NaN</td>\n",
       "      <td>NaN</td>\n",
       "      <td>NaN</td>\n",
       "      <td>NaN</td>\n",
       "      <td>NaN</td>\n",
       "      <td>NaN</td>\n",
       "      <td>NaN</td>\n",
       "    </tr>\n",
       "    <tr>\n",
       "      <th>AV1YGDqsGV-KLJ3adc-O</th>\n",
       "      <td>NaN</td>\n",
       "      <td>NaN</td>\n",
       "      <td>NaN</td>\n",
       "      <td>NaN</td>\n",
       "      <td>NaN</td>\n",
       "      <td>NaN</td>\n",
       "      <td>NaN</td>\n",
       "      <td>NaN</td>\n",
       "      <td>NaN</td>\n",
       "      <td>NaN</td>\n",
       "      <td>...</td>\n",
       "      <td>NaN</td>\n",
       "      <td>NaN</td>\n",
       "      <td>NaN</td>\n",
       "      <td>NaN</td>\n",
       "      <td>NaN</td>\n",
       "      <td>NaN</td>\n",
       "      <td>NaN</td>\n",
       "      <td>NaN</td>\n",
       "      <td>NaN</td>\n",
       "      <td>NaN</td>\n",
       "    </tr>\n",
       "    <tr>\n",
       "      <th>AV1YIch7GV-KLJ3addeG</th>\n",
       "      <td>NaN</td>\n",
       "      <td>NaN</td>\n",
       "      <td>NaN</td>\n",
       "      <td>NaN</td>\n",
       "      <td>NaN</td>\n",
       "      <td>NaN</td>\n",
       "      <td>NaN</td>\n",
       "      <td>NaN</td>\n",
       "      <td>NaN</td>\n",
       "      <td>NaN</td>\n",
       "      <td>...</td>\n",
       "      <td>NaN</td>\n",
       "      <td>NaN</td>\n",
       "      <td>NaN</td>\n",
       "      <td>NaN</td>\n",
       "      <td>NaN</td>\n",
       "      <td>NaN</td>\n",
       "      <td>NaN</td>\n",
       "      <td>NaN</td>\n",
       "      <td>NaN</td>\n",
       "      <td>NaN</td>\n",
       "    </tr>\n",
       "  </tbody>\n",
       "</table>\n",
       "<p>5 rows × 18212 columns</p>\n",
       "</div>"
      ],
      "text/plain": [
       "reviews_username      00sab00  01impala  02dakota  02deuce  06stidriver  \\\n",
       "id                                                                        \n",
       "AV13O1A8GV-KLJ3akUyj      NaN       NaN       NaN      NaN          NaN   \n",
       "AV14LG0R-jtxr-f38QfS      NaN       NaN       NaN      NaN          NaN   \n",
       "AV16khLE-jtxr-f38VFn      NaN       NaN       NaN      NaN          NaN   \n",
       "AV1YGDqsGV-KLJ3adc-O      NaN       NaN       NaN      NaN          NaN   \n",
       "AV1YIch7GV-KLJ3addeG      NaN       NaN       NaN      NaN          NaN   \n",
       "\n",
       "reviews_username      08dallas  09mommy11  1.11E+24  1085  10ten  ...  zowie  \\\n",
       "id                                                                ...          \n",
       "AV13O1A8GV-KLJ3akUyj       NaN        NaN       NaN   NaN    NaN  ...    NaN   \n",
       "AV14LG0R-jtxr-f38QfS       NaN        NaN       NaN   NaN    NaN  ...    NaN   \n",
       "AV16khLE-jtxr-f38VFn       NaN        NaN       NaN   NaN    NaN  ...    NaN   \n",
       "AV1YGDqsGV-KLJ3adc-O       NaN        NaN       NaN   NaN    NaN  ...    NaN   \n",
       "AV1YIch7GV-KLJ3addeG       NaN        NaN       NaN   NaN    NaN  ...    NaN   \n",
       "\n",
       "reviews_username      zozo0o  zpalma  zsazsa  zt313  zuttle  zwithanx  \\\n",
       "id                                                                      \n",
       "AV13O1A8GV-KLJ3akUyj     NaN     NaN     NaN    NaN     NaN       NaN   \n",
       "AV14LG0R-jtxr-f38QfS     NaN     NaN     NaN    NaN     NaN       NaN   \n",
       "AV16khLE-jtxr-f38VFn     NaN     NaN     NaN    NaN     NaN       NaN   \n",
       "AV1YGDqsGV-KLJ3adc-O     NaN     NaN     NaN    NaN     NaN       NaN   \n",
       "AV1YIch7GV-KLJ3addeG     NaN     NaN     NaN    NaN     NaN       NaN   \n",
       "\n",
       "reviews_username      zxcsdfd  zyiah4  zzz1127  \n",
       "id                                              \n",
       "AV13O1A8GV-KLJ3akUyj      NaN     NaN      NaN  \n",
       "AV14LG0R-jtxr-f38QfS      NaN     NaN      NaN  \n",
       "AV16khLE-jtxr-f38VFn      NaN     NaN      NaN  \n",
       "AV1YGDqsGV-KLJ3adc-O      NaN     NaN      NaN  \n",
       "AV1YIch7GV-KLJ3addeG      NaN     NaN      NaN  \n",
       "\n",
       "[5 rows x 18212 columns]"
      ]
     },
     "execution_count": 122,
     "metadata": {},
     "output_type": "execute_result"
    }
   ],
   "source": [
    "df_pivot_item = train.pivot_table(\n",
    "    index='reviews_username', \n",
    "    columns='id', \n",
    "    values='reviews_rating'\n",
    ").T\n",
    "\n",
    "df_pivot_item.head()"
   ]
  },
  {
   "cell_type": "markdown",
   "metadata": {},
   "source": [
    "##### Normalising the product rating for each product using the Adujsted Cosine"
   ]
  },
  {
   "cell_type": "code",
   "execution_count": 123,
   "metadata": {
    "execution": {
     "iopub.execute_input": "2025-04-27T13:54:11.861831Z",
     "iopub.status.busy": "2025-04-27T13:54:11.861219Z",
     "iopub.status.idle": "2025-04-27T13:54:11.918496Z",
     "shell.execute_reply": "2025-04-27T13:54:11.917924Z",
     "shell.execute_reply.started": "2025-04-27T13:54:11.861802Z"
    },
    "trusted": true
   },
   "outputs": [],
   "source": [
    "mean_item = np.nanmean(df_pivot_item, axis=1)\n",
    "df_subtracted_item = (df_pivot_item.T-mean_item).T"
   ]
  },
  {
   "cell_type": "code",
   "execution_count": 124,
   "metadata": {
    "execution": {
     "iopub.execute_input": "2025-04-27T13:54:11.919437Z",
     "iopub.status.busy": "2025-04-27T13:54:11.919251Z",
     "iopub.status.idle": "2025-04-27T13:54:11.936304Z",
     "shell.execute_reply": "2025-04-27T13:54:11.935621Z",
     "shell.execute_reply.started": "2025-04-27T13:54:11.919423Z"
    },
    "trusted": true
   },
   "outputs": [
    {
     "name": "stderr",
     "output_type": "stream",
     "text": [
      "/usr/local/lib/python3.11/dist-packages/pandas/io/formats/format.py:1458: RuntimeWarning: invalid value encountered in greater\n",
      "  has_large_values = (abs_vals > 1e6).any()\n",
      "/usr/local/lib/python3.11/dist-packages/pandas/io/formats/format.py:1459: RuntimeWarning: invalid value encountered in less\n",
      "  has_small_values = ((abs_vals < 10 ** (-self.digits)) & (abs_vals > 0)).any()\n",
      "/usr/local/lib/python3.11/dist-packages/pandas/io/formats/format.py:1459: RuntimeWarning: invalid value encountered in greater\n",
      "  has_small_values = ((abs_vals < 10 ** (-self.digits)) & (abs_vals > 0)).any()\n",
      "/usr/local/lib/python3.11/dist-packages/pandas/io/formats/format.py:1458: RuntimeWarning: invalid value encountered in greater\n",
      "  has_large_values = (abs_vals > 1e6).any()\n",
      "/usr/local/lib/python3.11/dist-packages/pandas/io/formats/format.py:1459: RuntimeWarning: invalid value encountered in less\n",
      "  has_small_values = ((abs_vals < 10 ** (-self.digits)) & (abs_vals > 0)).any()\n",
      "/usr/local/lib/python3.11/dist-packages/pandas/io/formats/format.py:1459: RuntimeWarning: invalid value encountered in greater\n",
      "  has_small_values = ((abs_vals < 10 ** (-self.digits)) & (abs_vals > 0)).any()\n"
     ]
    },
    {
     "data": {
      "text/html": [
       "<div>\n",
       "<style scoped>\n",
       "    .dataframe tbody tr th:only-of-type {\n",
       "        vertical-align: middle;\n",
       "    }\n",
       "\n",
       "    .dataframe tbody tr th {\n",
       "        vertical-align: top;\n",
       "    }\n",
       "\n",
       "    .dataframe thead th {\n",
       "        text-align: right;\n",
       "    }\n",
       "</style>\n",
       "<table border=\"1\" class=\"dataframe\">\n",
       "  <thead>\n",
       "    <tr style=\"text-align: right;\">\n",
       "      <th>reviews_username</th>\n",
       "      <th>00sab00</th>\n",
       "      <th>01impala</th>\n",
       "      <th>02dakota</th>\n",
       "      <th>02deuce</th>\n",
       "      <th>06stidriver</th>\n",
       "      <th>08dallas</th>\n",
       "      <th>09mommy11</th>\n",
       "      <th>1.11E+24</th>\n",
       "      <th>1085</th>\n",
       "      <th>10ten</th>\n",
       "      <th>...</th>\n",
       "      <th>zowie</th>\n",
       "      <th>zozo0o</th>\n",
       "      <th>zpalma</th>\n",
       "      <th>zsazsa</th>\n",
       "      <th>zt313</th>\n",
       "      <th>zuttle</th>\n",
       "      <th>zwithanx</th>\n",
       "      <th>zxcsdfd</th>\n",
       "      <th>zyiah4</th>\n",
       "      <th>zzz1127</th>\n",
       "    </tr>\n",
       "    <tr>\n",
       "      <th>id</th>\n",
       "      <th></th>\n",
       "      <th></th>\n",
       "      <th></th>\n",
       "      <th></th>\n",
       "      <th></th>\n",
       "      <th></th>\n",
       "      <th></th>\n",
       "      <th></th>\n",
       "      <th></th>\n",
       "      <th></th>\n",
       "      <th></th>\n",
       "      <th></th>\n",
       "      <th></th>\n",
       "      <th></th>\n",
       "      <th></th>\n",
       "      <th></th>\n",
       "      <th></th>\n",
       "      <th></th>\n",
       "      <th></th>\n",
       "      <th></th>\n",
       "      <th></th>\n",
       "    </tr>\n",
       "  </thead>\n",
       "  <tbody>\n",
       "    <tr>\n",
       "      <th>AV13O1A8GV-KLJ3akUyj</th>\n",
       "      <td>NaN</td>\n",
       "      <td>NaN</td>\n",
       "      <td>NaN</td>\n",
       "      <td>NaN</td>\n",
       "      <td>NaN</td>\n",
       "      <td>NaN</td>\n",
       "      <td>NaN</td>\n",
       "      <td>NaN</td>\n",
       "      <td>NaN</td>\n",
       "      <td>NaN</td>\n",
       "      <td>...</td>\n",
       "      <td>NaN</td>\n",
       "      <td>NaN</td>\n",
       "      <td>NaN</td>\n",
       "      <td>NaN</td>\n",
       "      <td>NaN</td>\n",
       "      <td>NaN</td>\n",
       "      <td>NaN</td>\n",
       "      <td>NaN</td>\n",
       "      <td>NaN</td>\n",
       "      <td>NaN</td>\n",
       "    </tr>\n",
       "    <tr>\n",
       "      <th>AV14LG0R-jtxr-f38QfS</th>\n",
       "      <td>NaN</td>\n",
       "      <td>NaN</td>\n",
       "      <td>NaN</td>\n",
       "      <td>NaN</td>\n",
       "      <td>NaN</td>\n",
       "      <td>NaN</td>\n",
       "      <td>NaN</td>\n",
       "      <td>NaN</td>\n",
       "      <td>NaN</td>\n",
       "      <td>NaN</td>\n",
       "      <td>...</td>\n",
       "      <td>NaN</td>\n",
       "      <td>NaN</td>\n",
       "      <td>NaN</td>\n",
       "      <td>NaN</td>\n",
       "      <td>NaN</td>\n",
       "      <td>NaN</td>\n",
       "      <td>NaN</td>\n",
       "      <td>NaN</td>\n",
       "      <td>NaN</td>\n",
       "      <td>NaN</td>\n",
       "    </tr>\n",
       "    <tr>\n",
       "      <th>AV16khLE-jtxr-f38VFn</th>\n",
       "      <td>NaN</td>\n",
       "      <td>NaN</td>\n",
       "      <td>NaN</td>\n",
       "      <td>NaN</td>\n",
       "      <td>NaN</td>\n",
       "      <td>NaN</td>\n",
       "      <td>NaN</td>\n",
       "      <td>NaN</td>\n",
       "      <td>NaN</td>\n",
       "      <td>NaN</td>\n",
       "      <td>...</td>\n",
       "      <td>NaN</td>\n",
       "      <td>NaN</td>\n",
       "      <td>NaN</td>\n",
       "      <td>NaN</td>\n",
       "      <td>NaN</td>\n",
       "      <td>NaN</td>\n",
       "      <td>NaN</td>\n",
       "      <td>NaN</td>\n",
       "      <td>NaN</td>\n",
       "      <td>NaN</td>\n",
       "    </tr>\n",
       "    <tr>\n",
       "      <th>AV1YGDqsGV-KLJ3adc-O</th>\n",
       "      <td>NaN</td>\n",
       "      <td>NaN</td>\n",
       "      <td>NaN</td>\n",
       "      <td>NaN</td>\n",
       "      <td>NaN</td>\n",
       "      <td>NaN</td>\n",
       "      <td>NaN</td>\n",
       "      <td>NaN</td>\n",
       "      <td>NaN</td>\n",
       "      <td>NaN</td>\n",
       "      <td>...</td>\n",
       "      <td>NaN</td>\n",
       "      <td>NaN</td>\n",
       "      <td>NaN</td>\n",
       "      <td>NaN</td>\n",
       "      <td>NaN</td>\n",
       "      <td>NaN</td>\n",
       "      <td>NaN</td>\n",
       "      <td>NaN</td>\n",
       "      <td>NaN</td>\n",
       "      <td>NaN</td>\n",
       "    </tr>\n",
       "    <tr>\n",
       "      <th>AV1YIch7GV-KLJ3addeG</th>\n",
       "      <td>NaN</td>\n",
       "      <td>NaN</td>\n",
       "      <td>NaN</td>\n",
       "      <td>NaN</td>\n",
       "      <td>NaN</td>\n",
       "      <td>NaN</td>\n",
       "      <td>NaN</td>\n",
       "      <td>NaN</td>\n",
       "      <td>NaN</td>\n",
       "      <td>NaN</td>\n",
       "      <td>...</td>\n",
       "      <td>NaN</td>\n",
       "      <td>NaN</td>\n",
       "      <td>NaN</td>\n",
       "      <td>NaN</td>\n",
       "      <td>NaN</td>\n",
       "      <td>NaN</td>\n",
       "      <td>NaN</td>\n",
       "      <td>NaN</td>\n",
       "      <td>NaN</td>\n",
       "      <td>NaN</td>\n",
       "    </tr>\n",
       "  </tbody>\n",
       "</table>\n",
       "<p>5 rows × 18212 columns</p>\n",
       "</div>"
      ],
      "text/plain": [
       "reviews_username      00sab00  01impala  02dakota  02deuce  06stidriver  \\\n",
       "id                                                                        \n",
       "AV13O1A8GV-KLJ3akUyj      NaN       NaN       NaN      NaN          NaN   \n",
       "AV14LG0R-jtxr-f38QfS      NaN       NaN       NaN      NaN          NaN   \n",
       "AV16khLE-jtxr-f38VFn      NaN       NaN       NaN      NaN          NaN   \n",
       "AV1YGDqsGV-KLJ3adc-O      NaN       NaN       NaN      NaN          NaN   \n",
       "AV1YIch7GV-KLJ3addeG      NaN       NaN       NaN      NaN          NaN   \n",
       "\n",
       "reviews_username      08dallas  09mommy11  1.11E+24  1085  10ten  ...  zowie  \\\n",
       "id                                                                ...          \n",
       "AV13O1A8GV-KLJ3akUyj       NaN        NaN       NaN   NaN    NaN  ...    NaN   \n",
       "AV14LG0R-jtxr-f38QfS       NaN        NaN       NaN   NaN    NaN  ...    NaN   \n",
       "AV16khLE-jtxr-f38VFn       NaN        NaN       NaN   NaN    NaN  ...    NaN   \n",
       "AV1YGDqsGV-KLJ3adc-O       NaN        NaN       NaN   NaN    NaN  ...    NaN   \n",
       "AV1YIch7GV-KLJ3addeG       NaN        NaN       NaN   NaN    NaN  ...    NaN   \n",
       "\n",
       "reviews_username      zozo0o  zpalma  zsazsa  zt313  zuttle  zwithanx  \\\n",
       "id                                                                      \n",
       "AV13O1A8GV-KLJ3akUyj     NaN     NaN     NaN    NaN     NaN       NaN   \n",
       "AV14LG0R-jtxr-f38QfS     NaN     NaN     NaN    NaN     NaN       NaN   \n",
       "AV16khLE-jtxr-f38VFn     NaN     NaN     NaN    NaN     NaN       NaN   \n",
       "AV1YGDqsGV-KLJ3adc-O     NaN     NaN     NaN    NaN     NaN       NaN   \n",
       "AV1YIch7GV-KLJ3addeG     NaN     NaN     NaN    NaN     NaN       NaN   \n",
       "\n",
       "reviews_username      zxcsdfd  zyiah4  zzz1127  \n",
       "id                                              \n",
       "AV13O1A8GV-KLJ3akUyj      NaN     NaN      NaN  \n",
       "AV14LG0R-jtxr-f38QfS      NaN     NaN      NaN  \n",
       "AV16khLE-jtxr-f38VFn      NaN     NaN      NaN  \n",
       "AV1YGDqsGV-KLJ3adc-O      NaN     NaN      NaN  \n",
       "AV1YIch7GV-KLJ3addeG      NaN     NaN      NaN  \n",
       "\n",
       "[5 rows x 18212 columns]"
      ]
     },
     "execution_count": 124,
     "metadata": {},
     "output_type": "execute_result"
    }
   ],
   "source": [
    "df_subtracted_item.head()"
   ]
  },
  {
   "cell_type": "markdown",
   "metadata": {},
   "source": [
    "##### Finding the cosine similarity using pairwise distances approach"
   ]
  },
  {
   "cell_type": "code",
   "execution_count": 125,
   "metadata": {
    "execution": {
     "iopub.execute_input": "2025-04-27T13:54:11.937381Z",
     "iopub.status.busy": "2025-04-27T13:54:11.937101Z",
     "iopub.status.idle": "2025-04-27T13:54:12.060286Z",
     "shell.execute_reply": "2025-04-27T13:54:12.059471Z",
     "shell.execute_reply.started": "2025-04-27T13:54:11.937360Z"
    },
    "trusted": true
   },
   "outputs": [
    {
     "name": "stdout",
     "output_type": "stream",
     "text": [
      "[[0. 0. 0. ... 0. 0. 0.]\n",
      " [0. 0. 0. ... 0. 0. 0.]\n",
      " [0. 0. 1. ... 0. 0. 0.]\n",
      " ...\n",
      " [0. 0. 0. ... 1. 0. 0.]\n",
      " [0. 0. 0. ... 0. 1. 0.]\n",
      " [0. 0. 0. ... 0. 0. 1.]]\n"
     ]
    }
   ],
   "source": [
    "# Item Similarity Matrix\n",
    "\n",
    "item_correlation = 1 - pairwise_distances(df_subtracted_item.fillna(0), metric='cosine')\n",
    "item_correlation[np.isnan(item_correlation)] = 0\n",
    "print(item_correlation)"
   ]
  },
  {
   "cell_type": "code",
   "execution_count": 126,
   "metadata": {
    "execution": {
     "iopub.execute_input": "2025-04-27T13:54:12.061556Z",
     "iopub.status.busy": "2025-04-27T13:54:12.061345Z",
     "iopub.status.idle": "2025-04-27T13:54:12.067178Z",
     "shell.execute_reply": "2025-04-27T13:54:12.066529Z",
     "shell.execute_reply.started": "2025-04-27T13:54:12.061540Z"
    },
    "trusted": true
   },
   "outputs": [
    {
     "data": {
      "text/plain": [
       "array([[0., 0., 0., ..., 0., 0., 0.],\n",
       "       [0., 0., 0., ..., 0., 0., 0.],\n",
       "       [0., 0., 1., ..., 0., 0., 0.],\n",
       "       ...,\n",
       "       [0., 0., 0., ..., 1., 0., 0.],\n",
       "       [0., 0., 0., ..., 0., 1., 0.],\n",
       "       [0., 0., 0., ..., 0., 0., 1.]])"
      ]
     },
     "execution_count": 126,
     "metadata": {},
     "output_type": "execute_result"
    }
   ],
   "source": [
    "# Filtering the positive correlations\n",
    "\n",
    "item_correlation[item_correlation<0]=0\n",
    "item_correlation"
   ]
  },
  {
   "cell_type": "markdown",
   "metadata": {},
   "source": [
    "#### Prediction of the item ratings"
   ]
  },
  {
   "cell_type": "code",
   "execution_count": 127,
   "metadata": {
    "execution": {
     "iopub.execute_input": "2025-04-27T13:54:12.068027Z",
     "iopub.status.busy": "2025-04-27T13:54:12.067841Z",
     "iopub.status.idle": "2025-04-27T13:54:12.146550Z",
     "shell.execute_reply": "2025-04-27T13:54:12.145799Z",
     "shell.execute_reply.started": "2025-04-27T13:54:12.068013Z"
    },
    "trusted": true
   },
   "outputs": [
    {
     "data": {
      "text/plain": [
       "array([[0.        , 0.        , 0.        , ..., 0.00600224, 0.06201728,\n",
       "        0.        ],\n",
       "       [0.        , 0.        , 0.01254045, ..., 0.00108461, 0.        ,\n",
       "        0.        ],\n",
       "       [0.        , 0.        , 0.02090075, ..., 0.00180769, 0.        ,\n",
       "        0.        ],\n",
       "       ...,\n",
       "       [0.        , 0.        , 0.        , ..., 0.        , 0.        ,\n",
       "        0.00644332],\n",
       "       [0.        , 0.        , 0.        , ..., 0.        , 0.        ,\n",
       "        0.00644332],\n",
       "       [0.        , 0.        , 0.        , ..., 0.        , 0.        ,\n",
       "        0.00515466]])"
      ]
     },
     "execution_count": 127,
     "metadata": {},
     "output_type": "execute_result"
    }
   ],
   "source": [
    "item_predicted_ratings = np.dot((df_pivot_item.fillna(0).T),item_correlation)\n",
    "item_predicted_ratings"
   ]
  },
  {
   "cell_type": "code",
   "execution_count": 128,
   "metadata": {
    "execution": {
     "iopub.execute_input": "2025-04-27T13:54:12.147909Z",
     "iopub.status.busy": "2025-04-27T13:54:12.147389Z",
     "iopub.status.idle": "2025-04-27T13:54:12.153256Z",
     "shell.execute_reply": "2025-04-27T13:54:12.152435Z",
     "shell.execute_reply.started": "2025-04-27T13:54:12.147885Z"
    },
    "trusted": true
   },
   "outputs": [
    {
     "data": {
      "text/plain": [
       "(18212, 255)"
      ]
     },
     "execution_count": 128,
     "metadata": {},
     "output_type": "execute_result"
    }
   ],
   "source": [
    "item_predicted_ratings.shape"
   ]
  },
  {
   "cell_type": "code",
   "execution_count": 129,
   "metadata": {
    "execution": {
     "iopub.execute_input": "2025-04-27T13:54:12.154407Z",
     "iopub.status.busy": "2025-04-27T13:54:12.154102Z",
     "iopub.status.idle": "2025-04-27T13:54:12.164821Z",
     "shell.execute_reply": "2025-04-27T13:54:12.164181Z",
     "shell.execute_reply.started": "2025-04-27T13:54:12.154390Z"
    },
    "trusted": true
   },
   "outputs": [
    {
     "data": {
      "text/plain": [
       "(18212, 255)"
      ]
     },
     "execution_count": 129,
     "metadata": {},
     "output_type": "execute_result"
    }
   ],
   "source": [
    "dummy_train.shape"
   ]
  },
  {
   "cell_type": "markdown",
   "metadata": {},
   "source": [
    "##### Filtering the rating only for the products not rated by the user for recommendation"
   ]
  },
  {
   "cell_type": "code",
   "execution_count": 130,
   "metadata": {
    "execution": {
     "iopub.execute_input": "2025-04-27T13:54:12.165682Z",
     "iopub.status.busy": "2025-04-27T13:54:12.165494Z",
     "iopub.status.idle": "2025-04-27T13:54:12.209900Z",
     "shell.execute_reply": "2025-04-27T13:54:12.209107Z",
     "shell.execute_reply.started": "2025-04-27T13:54:12.165666Z"
    },
    "trusted": true
   },
   "outputs": [
    {
     "data": {
      "text/html": [
       "<div>\n",
       "<style scoped>\n",
       "    .dataframe tbody tr th:only-of-type {\n",
       "        vertical-align: middle;\n",
       "    }\n",
       "\n",
       "    .dataframe tbody tr th {\n",
       "        vertical-align: top;\n",
       "    }\n",
       "\n",
       "    .dataframe thead th {\n",
       "        text-align: right;\n",
       "    }\n",
       "</style>\n",
       "<table border=\"1\" class=\"dataframe\">\n",
       "  <thead>\n",
       "    <tr style=\"text-align: right;\">\n",
       "      <th>id</th>\n",
       "      <th>AV13O1A8GV-KLJ3akUyj</th>\n",
       "      <th>AV14LG0R-jtxr-f38QfS</th>\n",
       "      <th>AV16khLE-jtxr-f38VFn</th>\n",
       "      <th>AV1YGDqsGV-KLJ3adc-O</th>\n",
       "      <th>AV1YIch7GV-KLJ3addeG</th>\n",
       "      <th>AV1YlENIglJLPUi8IHsX</th>\n",
       "      <th>AV1YmBrdGV-KLJ3adewb</th>\n",
       "      <th>AV1YmDL9vKc47QAVgr7_</th>\n",
       "      <th>AV1Ymf_rglJLPUi8II2v</th>\n",
       "      <th>AV1Yn94nvKc47QAVgtst</th>\n",
       "      <th>...</th>\n",
       "      <th>AVpfr5cb1cnluZ0-pZFp</th>\n",
       "      <th>AVpfrFDZLJeJML43Bmv0</th>\n",
       "      <th>AVpfrTyiLJeJML43BrSI</th>\n",
       "      <th>AVpfrfHF1cnluZ0-pRai</th>\n",
       "      <th>AVpfrgjFLJeJML43BvCc</th>\n",
       "      <th>AVpfshNsLJeJML43CB8q</th>\n",
       "      <th>AVpfthSailAPnD_xg3ON</th>\n",
       "      <th>AVpftikC1cnluZ0-p31V</th>\n",
       "      <th>AVpfv4TlilAPnD_xhjNS</th>\n",
       "      <th>AVpfvieo1cnluZ0-qdnu</th>\n",
       "    </tr>\n",
       "    <tr>\n",
       "      <th>reviews_username</th>\n",
       "      <th></th>\n",
       "      <th></th>\n",
       "      <th></th>\n",
       "      <th></th>\n",
       "      <th></th>\n",
       "      <th></th>\n",
       "      <th></th>\n",
       "      <th></th>\n",
       "      <th></th>\n",
       "      <th></th>\n",
       "      <th></th>\n",
       "      <th></th>\n",
       "      <th></th>\n",
       "      <th></th>\n",
       "      <th></th>\n",
       "      <th></th>\n",
       "      <th></th>\n",
       "      <th></th>\n",
       "      <th></th>\n",
       "      <th></th>\n",
       "      <th></th>\n",
       "    </tr>\n",
       "  </thead>\n",
       "  <tbody>\n",
       "    <tr>\n",
       "      <th>00sab00</th>\n",
       "      <td>0.0</td>\n",
       "      <td>0.0</td>\n",
       "      <td>0.000000</td>\n",
       "      <td>0.000000</td>\n",
       "      <td>0.0</td>\n",
       "      <td>0.0</td>\n",
       "      <td>0.0</td>\n",
       "      <td>0.000000</td>\n",
       "      <td>0.000000</td>\n",
       "      <td>0.000000</td>\n",
       "      <td>...</td>\n",
       "      <td>0.011345</td>\n",
       "      <td>0.001677</td>\n",
       "      <td>0.0</td>\n",
       "      <td>0.010336</td>\n",
       "      <td>0.0</td>\n",
       "      <td>0.0</td>\n",
       "      <td>0.033075</td>\n",
       "      <td>0.006002</td>\n",
       "      <td>0.062017</td>\n",
       "      <td>0.000000</td>\n",
       "    </tr>\n",
       "    <tr>\n",
       "      <th>01impala</th>\n",
       "      <td>0.0</td>\n",
       "      <td>0.0</td>\n",
       "      <td>0.012540</td>\n",
       "      <td>0.000000</td>\n",
       "      <td>0.0</td>\n",
       "      <td>0.0</td>\n",
       "      <td>0.0</td>\n",
       "      <td>0.000000</td>\n",
       "      <td>0.000000</td>\n",
       "      <td>0.004564</td>\n",
       "      <td>...</td>\n",
       "      <td>0.000000</td>\n",
       "      <td>0.000000</td>\n",
       "      <td>0.0</td>\n",
       "      <td>0.000000</td>\n",
       "      <td>0.0</td>\n",
       "      <td>0.0</td>\n",
       "      <td>0.000000</td>\n",
       "      <td>0.001085</td>\n",
       "      <td>0.000000</td>\n",
       "      <td>0.000000</td>\n",
       "    </tr>\n",
       "    <tr>\n",
       "      <th>02dakota</th>\n",
       "      <td>0.0</td>\n",
       "      <td>0.0</td>\n",
       "      <td>0.020901</td>\n",
       "      <td>0.000000</td>\n",
       "      <td>0.0</td>\n",
       "      <td>0.0</td>\n",
       "      <td>0.0</td>\n",
       "      <td>0.000000</td>\n",
       "      <td>0.000000</td>\n",
       "      <td>0.007607</td>\n",
       "      <td>...</td>\n",
       "      <td>0.000000</td>\n",
       "      <td>0.000000</td>\n",
       "      <td>0.0</td>\n",
       "      <td>0.000000</td>\n",
       "      <td>0.0</td>\n",
       "      <td>0.0</td>\n",
       "      <td>0.000000</td>\n",
       "      <td>0.001808</td>\n",
       "      <td>0.000000</td>\n",
       "      <td>0.000000</td>\n",
       "    </tr>\n",
       "    <tr>\n",
       "      <th>02deuce</th>\n",
       "      <td>0.0</td>\n",
       "      <td>0.0</td>\n",
       "      <td>0.016721</td>\n",
       "      <td>0.000000</td>\n",
       "      <td>0.0</td>\n",
       "      <td>0.0</td>\n",
       "      <td>0.0</td>\n",
       "      <td>0.000000</td>\n",
       "      <td>0.000000</td>\n",
       "      <td>0.006085</td>\n",
       "      <td>...</td>\n",
       "      <td>0.000000</td>\n",
       "      <td>0.000000</td>\n",
       "      <td>0.0</td>\n",
       "      <td>0.000000</td>\n",
       "      <td>0.0</td>\n",
       "      <td>0.0</td>\n",
       "      <td>0.000000</td>\n",
       "      <td>0.001446</td>\n",
       "      <td>0.000000</td>\n",
       "      <td>0.000000</td>\n",
       "    </tr>\n",
       "    <tr>\n",
       "      <th>06stidriver</th>\n",
       "      <td>0.0</td>\n",
       "      <td>0.0</td>\n",
       "      <td>0.000000</td>\n",
       "      <td>0.000454</td>\n",
       "      <td>0.0</td>\n",
       "      <td>0.0</td>\n",
       "      <td>0.0</td>\n",
       "      <td>0.001731</td>\n",
       "      <td>0.001915</td>\n",
       "      <td>0.000000</td>\n",
       "      <td>...</td>\n",
       "      <td>0.000000</td>\n",
       "      <td>0.000000</td>\n",
       "      <td>0.0</td>\n",
       "      <td>0.003187</td>\n",
       "      <td>0.0</td>\n",
       "      <td>0.0</td>\n",
       "      <td>0.000000</td>\n",
       "      <td>0.000000</td>\n",
       "      <td>0.000000</td>\n",
       "      <td>0.006443</td>\n",
       "    </tr>\n",
       "  </tbody>\n",
       "</table>\n",
       "<p>5 rows × 255 columns</p>\n",
       "</div>"
      ],
      "text/plain": [
       "id                AV13O1A8GV-KLJ3akUyj  AV14LG0R-jtxr-f38QfS  \\\n",
       "reviews_username                                               \n",
       "00sab00                            0.0                   0.0   \n",
       "01impala                           0.0                   0.0   \n",
       "02dakota                           0.0                   0.0   \n",
       "02deuce                            0.0                   0.0   \n",
       "06stidriver                        0.0                   0.0   \n",
       "\n",
       "id                AV16khLE-jtxr-f38VFn  AV1YGDqsGV-KLJ3adc-O  \\\n",
       "reviews_username                                               \n",
       "00sab00                       0.000000              0.000000   \n",
       "01impala                      0.012540              0.000000   \n",
       "02dakota                      0.020901              0.000000   \n",
       "02deuce                       0.016721              0.000000   \n",
       "06stidriver                   0.000000              0.000454   \n",
       "\n",
       "id                AV1YIch7GV-KLJ3addeG  AV1YlENIglJLPUi8IHsX  \\\n",
       "reviews_username                                               \n",
       "00sab00                            0.0                   0.0   \n",
       "01impala                           0.0                   0.0   \n",
       "02dakota                           0.0                   0.0   \n",
       "02deuce                            0.0                   0.0   \n",
       "06stidriver                        0.0                   0.0   \n",
       "\n",
       "id                AV1YmBrdGV-KLJ3adewb  AV1YmDL9vKc47QAVgr7_  \\\n",
       "reviews_username                                               \n",
       "00sab00                            0.0              0.000000   \n",
       "01impala                           0.0              0.000000   \n",
       "02dakota                           0.0              0.000000   \n",
       "02deuce                            0.0              0.000000   \n",
       "06stidriver                        0.0              0.001731   \n",
       "\n",
       "id                AV1Ymf_rglJLPUi8II2v  AV1Yn94nvKc47QAVgtst  ...  \\\n",
       "reviews_username                                              ...   \n",
       "00sab00                       0.000000              0.000000  ...   \n",
       "01impala                      0.000000              0.004564  ...   \n",
       "02dakota                      0.000000              0.007607  ...   \n",
       "02deuce                       0.000000              0.006085  ...   \n",
       "06stidriver                   0.001915              0.000000  ...   \n",
       "\n",
       "id                AVpfr5cb1cnluZ0-pZFp  AVpfrFDZLJeJML43Bmv0  \\\n",
       "reviews_username                                               \n",
       "00sab00                       0.011345              0.001677   \n",
       "01impala                      0.000000              0.000000   \n",
       "02dakota                      0.000000              0.000000   \n",
       "02deuce                       0.000000              0.000000   \n",
       "06stidriver                   0.000000              0.000000   \n",
       "\n",
       "id                AVpfrTyiLJeJML43BrSI  AVpfrfHF1cnluZ0-pRai  \\\n",
       "reviews_username                                               \n",
       "00sab00                            0.0              0.010336   \n",
       "01impala                           0.0              0.000000   \n",
       "02dakota                           0.0              0.000000   \n",
       "02deuce                            0.0              0.000000   \n",
       "06stidriver                        0.0              0.003187   \n",
       "\n",
       "id                AVpfrgjFLJeJML43BvCc  AVpfshNsLJeJML43CB8q  \\\n",
       "reviews_username                                               \n",
       "00sab00                            0.0                   0.0   \n",
       "01impala                           0.0                   0.0   \n",
       "02dakota                           0.0                   0.0   \n",
       "02deuce                            0.0                   0.0   \n",
       "06stidriver                        0.0                   0.0   \n",
       "\n",
       "id                AVpfthSailAPnD_xg3ON  AVpftikC1cnluZ0-p31V  \\\n",
       "reviews_username                                               \n",
       "00sab00                       0.033075              0.006002   \n",
       "01impala                      0.000000              0.001085   \n",
       "02dakota                      0.000000              0.001808   \n",
       "02deuce                       0.000000              0.001446   \n",
       "06stidriver                   0.000000              0.000000   \n",
       "\n",
       "id                AVpfv4TlilAPnD_xhjNS  AVpfvieo1cnluZ0-qdnu  \n",
       "reviews_username                                              \n",
       "00sab00                       0.062017              0.000000  \n",
       "01impala                      0.000000              0.000000  \n",
       "02dakota                      0.000000              0.000000  \n",
       "02deuce                       0.000000              0.000000  \n",
       "06stidriver                   0.000000              0.006443  \n",
       "\n",
       "[5 rows x 255 columns]"
      ]
     },
     "execution_count": 130,
     "metadata": {},
     "output_type": "execute_result"
    }
   ],
   "source": [
    "item_final_rating = np.multiply(item_predicted_ratings,dummy_train)\n",
    "item_final_rating.head()"
   ]
  },
  {
   "cell_type": "markdown",
   "metadata": {},
   "source": [
    "### Finding the top 5 recommendation for the *user* with item based recommendation"
   ]
  },
  {
   "cell_type": "code",
   "execution_count": 131,
   "metadata": {
    "execution": {
     "iopub.execute_input": "2025-04-27T13:54:12.211056Z",
     "iopub.status.busy": "2025-04-27T13:54:12.210735Z",
     "iopub.status.idle": "2025-04-27T13:54:12.215551Z",
     "shell.execute_reply": "2025-04-27T13:54:12.214879Z",
     "shell.execute_reply.started": "2025-04-27T13:54:12.211032Z"
    },
    "trusted": true
   },
   "outputs": [],
   "source": [
    "# function to recommend product to user based on item based recommendation system\n",
    "def recommend_product_item(user_id):\n",
    "    user_input = user_id\n",
    "    search = item_final_rating.loc[user_input].sort_values(ascending=False)[0:10]\n",
    "    search = search.reset_index()\n",
    "    search.columns = ['id', 'Predicted_Score']\n",
    "\n",
    "    main_df_unique = reco_df.drop_duplicates(subset='id')\n",
    "    merged_df = pd.merge(search, main_df_unique[['id', 'name']], on='id', how='left')\n",
    "    return merged_df   "
   ]
  },
  {
   "cell_type": "code",
   "execution_count": 132,
   "metadata": {
    "execution": {
     "iopub.execute_input": "2025-04-27T13:54:12.216384Z",
     "iopub.status.busy": "2025-04-27T13:54:12.216186Z",
     "iopub.status.idle": "2025-04-27T13:54:12.237301Z",
     "shell.execute_reply": "2025-04-27T13:54:12.236592Z",
     "shell.execute_reply.started": "2025-04-27T13:54:12.216371Z"
    },
    "trusted": true
   },
   "outputs": [
    {
     "data": {
      "text/html": [
       "<div>\n",
       "<style scoped>\n",
       "    .dataframe tbody tr th:only-of-type {\n",
       "        vertical-align: middle;\n",
       "    }\n",
       "\n",
       "    .dataframe tbody tr th {\n",
       "        vertical-align: top;\n",
       "    }\n",
       "\n",
       "    .dataframe thead th {\n",
       "        text-align: right;\n",
       "    }\n",
       "</style>\n",
       "<table border=\"1\" class=\"dataframe\">\n",
       "  <thead>\n",
       "    <tr style=\"text-align: right;\">\n",
       "      <th></th>\n",
       "      <th>id</th>\n",
       "      <th>Predicted_Score</th>\n",
       "      <th>name</th>\n",
       "    </tr>\n",
       "  </thead>\n",
       "  <tbody>\n",
       "    <tr>\n",
       "      <th>0</th>\n",
       "      <td>AVpe8q4T1cnluZ0-afct</td>\n",
       "      <td>0.086113</td>\n",
       "      <td>Newman's Own Organics Licorice Twist, Black 5oz</td>\n",
       "    </tr>\n",
       "    <tr>\n",
       "      <th>1</th>\n",
       "      <td>AVpe_5U_ilAPnD_xSrxG</td>\n",
       "      <td>0.059206</td>\n",
       "      <td>Sea Gull Lighting Six Light Bath Sconce/vanity...</td>\n",
       "    </tr>\n",
       "    <tr>\n",
       "      <th>2</th>\n",
       "      <td>AVpe41TqilAPnD_xQH3d</td>\n",
       "      <td>0.045578</td>\n",
       "      <td>Mike Dave Need Wedding Dates (dvd + Digital)</td>\n",
       "    </tr>\n",
       "    <tr>\n",
       "      <th>3</th>\n",
       "      <td>AV1ZSp2uglJLPUi8IQFy</td>\n",
       "      <td>0.041865</td>\n",
       "      <td>Cetaphil Gentle Skin Cleanser, 2oz</td>\n",
       "    </tr>\n",
       "    <tr>\n",
       "      <th>4</th>\n",
       "      <td>AVpfOmKwLJeJML435GM7</td>\n",
       "      <td>0.036048</td>\n",
       "      <td>Clear Scalp &amp; Hair Therapy Total Care Nourishi...</td>\n",
       "    </tr>\n",
       "    <tr>\n",
       "      <th>5</th>\n",
       "      <td>AVpfJcHuLJeJML433ZrY</td>\n",
       "      <td>0.029837</td>\n",
       "      <td>Equals (blu-Ray)</td>\n",
       "    </tr>\n",
       "    <tr>\n",
       "      <th>6</th>\n",
       "      <td>AVpfRTh1ilAPnD_xYic2</td>\n",
       "      <td>0.027343</td>\n",
       "      <td>Planes: Fire Rescue (2 Discs) (includes Digita...</td>\n",
       "    </tr>\n",
       "    <tr>\n",
       "      <th>7</th>\n",
       "      <td>AVpfQtEm1cnluZ0-hUpe</td>\n",
       "      <td>0.025843</td>\n",
       "      <td>Jolly Time Select Premium Yellow Pop Corn</td>\n",
       "    </tr>\n",
       "    <tr>\n",
       "      <th>8</th>\n",
       "      <td>AVpf7LysilAPnD_xkm9G</td>\n",
       "      <td>0.022634</td>\n",
       "      <td>Cuisinart174 Electric Juicer - Stainless Steel...</td>\n",
       "    </tr>\n",
       "    <tr>\n",
       "      <th>9</th>\n",
       "      <td>AV16khLE-jtxr-f38VFn</td>\n",
       "      <td>0.020901</td>\n",
       "      <td>K-Y Love Sensuality Pleasure Gel</td>\n",
       "    </tr>\n",
       "  </tbody>\n",
       "</table>\n",
       "</div>"
      ],
      "text/plain": [
       "                     id  Predicted_Score  \\\n",
       "0  AVpe8q4T1cnluZ0-afct         0.086113   \n",
       "1  AVpe_5U_ilAPnD_xSrxG         0.059206   \n",
       "2  AVpe41TqilAPnD_xQH3d         0.045578   \n",
       "3  AV1ZSp2uglJLPUi8IQFy         0.041865   \n",
       "4  AVpfOmKwLJeJML435GM7         0.036048   \n",
       "5  AVpfJcHuLJeJML433ZrY         0.029837   \n",
       "6  AVpfRTh1ilAPnD_xYic2         0.027343   \n",
       "7  AVpfQtEm1cnluZ0-hUpe         0.025843   \n",
       "8  AVpf7LysilAPnD_xkm9G         0.022634   \n",
       "9  AV16khLE-jtxr-f38VFn         0.020901   \n",
       "\n",
       "                                                name  \n",
       "0    Newman's Own Organics Licorice Twist, Black 5oz  \n",
       "1  Sea Gull Lighting Six Light Bath Sconce/vanity...  \n",
       "2       Mike Dave Need Wedding Dates (dvd + Digital)  \n",
       "3                 Cetaphil Gentle Skin Cleanser, 2oz  \n",
       "4  Clear Scalp & Hair Therapy Total Care Nourishi...  \n",
       "5                                   Equals (blu-Ray)  \n",
       "6  Planes: Fire Rescue (2 Discs) (includes Digita...  \n",
       "7          Jolly Time Select Premium Yellow Pop Corn  \n",
       "8  Cuisinart174 Electric Juicer - Stainless Steel...  \n",
       "9                   K-Y Love Sensuality Pleasure Gel  "
      ]
     },
     "execution_count": 132,
     "metadata": {},
     "output_type": "execute_result"
    }
   ],
   "source": [
    "recommend_product_item(\"02dakota\")"
   ]
  },
  {
   "cell_type": "markdown",
   "metadata": {},
   "source": [
    "### Evaluation - Item based recommendation system"
   ]
  },
  {
   "cell_type": "markdown",
   "metadata": {},
   "source": [
    "##### Evaluation will we same as you have seen above for the prediction. The only difference being, you will evaluate for the products already rated by the user insead of predicting it for the products not rated by the user. "
   ]
  },
  {
   "cell_type": "code",
   "execution_count": 133,
   "metadata": {
    "execution": {
     "iopub.execute_input": "2025-04-27T13:54:12.238365Z",
     "iopub.status.busy": "2025-04-27T13:54:12.238127Z",
     "iopub.status.idle": "2025-04-27T13:54:12.244938Z",
     "shell.execute_reply": "2025-04-27T13:54:12.244270Z",
     "shell.execute_reply.started": "2025-04-27T13:54:12.238340Z"
    },
    "trusted": true
   },
   "outputs": [
    {
     "data": {
      "text/plain": [
       "(8964, 5)"
      ]
     },
     "execution_count": 133,
     "metadata": {},
     "output_type": "execute_result"
    }
   ],
   "source": [
    "common_item =  test[test.id.isin(train.id)]\n",
    "common_item.shape "
   ]
  },
  {
   "cell_type": "code",
   "execution_count": 134,
   "metadata": {
    "execution": {
     "iopub.execute_input": "2025-04-27T13:54:12.246063Z",
     "iopub.status.busy": "2025-04-27T13:54:12.245752Z",
     "iopub.status.idle": "2025-04-27T13:54:12.260544Z",
     "shell.execute_reply": "2025-04-27T13:54:12.259850Z",
     "shell.execute_reply.started": "2025-04-27T13:54:12.246039Z"
    },
    "trusted": true
   },
   "outputs": [
    {
     "data": {
      "text/html": [
       "<div>\n",
       "<style scoped>\n",
       "    .dataframe tbody tr th:only-of-type {\n",
       "        vertical-align: middle;\n",
       "    }\n",
       "\n",
       "    .dataframe tbody tr th {\n",
       "        vertical-align: top;\n",
       "    }\n",
       "\n",
       "    .dataframe thead th {\n",
       "        text-align: right;\n",
       "    }\n",
       "</style>\n",
       "<table border=\"1\" class=\"dataframe\">\n",
       "  <thead>\n",
       "    <tr style=\"text-align: right;\">\n",
       "      <th></th>\n",
       "      <th>id</th>\n",
       "      <th>name</th>\n",
       "      <th>reviews_rating</th>\n",
       "      <th>reviews_username</th>\n",
       "      <th>reviews_text</th>\n",
       "    </tr>\n",
       "  </thead>\n",
       "  <tbody>\n",
       "    <tr>\n",
       "      <th>21384</th>\n",
       "      <td>AVpfm8yiLJeJML43AYyu</td>\n",
       "      <td>Nexxus Exxtra Gel Style Creation Sculptor</td>\n",
       "      <td>1</td>\n",
       "      <td>curlyd</td>\n",
       "      <td>I bought this gel that I have been using for o...</td>\n",
       "    </tr>\n",
       "    <tr>\n",
       "      <th>14483</th>\n",
       "      <td>AVpf3VOfilAPnD_xjpun</td>\n",
       "      <td>Clorox Disinfecting Wipes Value Pack Scented 1...</td>\n",
       "      <td>5</td>\n",
       "      <td>prip</td>\n",
       "      <td>It's prefect and convenient for a fast clean. ...</td>\n",
       "    </tr>\n",
       "    <tr>\n",
       "      <th>21169</th>\n",
       "      <td>AVpfm8yiLJeJML43AYyu</td>\n",
       "      <td>Nexxus Exxtra Gel Style Creation Sculptor</td>\n",
       "      <td>1</td>\n",
       "      <td>jjjj</td>\n",
       "      <td>What happened The old formula was one of the b...</td>\n",
       "    </tr>\n",
       "    <tr>\n",
       "      <th>25411</th>\n",
       "      <td>AVpfPaoqLJeJML435Xk9</td>\n",
       "      <td>Godzilla 3d Includes Digital Copy Ultraviolet ...</td>\n",
       "      <td>5</td>\n",
       "      <td>internetfreak69</td>\n",
       "      <td>If you`ve are into monster movies, you have to...</td>\n",
       "    </tr>\n",
       "    <tr>\n",
       "      <th>20351</th>\n",
       "      <td>AVpfJP1C1cnluZ0-e3Xy</td>\n",
       "      <td>Clorox Disinfecting Bathroom Cleaner</td>\n",
       "      <td>5</td>\n",
       "      <td>hb6851</td>\n",
       "      <td>Makes cleaning so much easier and smells great...</td>\n",
       "    </tr>\n",
       "  </tbody>\n",
       "</table>\n",
       "</div>"
      ],
      "text/plain": [
       "                         id  \\\n",
       "21384  AVpfm8yiLJeJML43AYyu   \n",
       "14483  AVpf3VOfilAPnD_xjpun   \n",
       "21169  AVpfm8yiLJeJML43AYyu   \n",
       "25411  AVpfPaoqLJeJML435Xk9   \n",
       "20351  AVpfJP1C1cnluZ0-e3Xy   \n",
       "\n",
       "                                                    name  reviews_rating  \\\n",
       "21384          Nexxus Exxtra Gel Style Creation Sculptor               1   \n",
       "14483  Clorox Disinfecting Wipes Value Pack Scented 1...               5   \n",
       "21169          Nexxus Exxtra Gel Style Creation Sculptor               1   \n",
       "25411  Godzilla 3d Includes Digital Copy Ultraviolet ...               5   \n",
       "20351               Clorox Disinfecting Bathroom Cleaner               5   \n",
       "\n",
       "      reviews_username                                       reviews_text  \n",
       "21384           curlyd  I bought this gel that I have been using for o...  \n",
       "14483             prip  It's prefect and convenient for a fast clean. ...  \n",
       "21169             jjjj  What happened The old formula was one of the b...  \n",
       "25411  internetfreak69  If you`ve are into monster movies, you have to...  \n",
       "20351           hb6851  Makes cleaning so much easier and smells great...  "
      ]
     },
     "execution_count": 134,
     "metadata": {},
     "output_type": "execute_result"
    }
   ],
   "source": [
    "common_item.head()"
   ]
  },
  {
   "cell_type": "code",
   "execution_count": 135,
   "metadata": {
    "execution": {
     "iopub.execute_input": "2025-04-27T13:54:12.261630Z",
     "iopub.status.busy": "2025-04-27T13:54:12.261407Z",
     "iopub.status.idle": "2025-04-27T13:54:12.305573Z",
     "shell.execute_reply": "2025-04-27T13:54:12.305093Z",
     "shell.execute_reply.started": "2025-04-27T13:54:12.261607Z"
    },
    "trusted": true
   },
   "outputs": [],
   "source": [
    "common_item_based_matrix = common_item.pivot_table(\n",
    "    index='reviews_username',\n",
    "    columns='id',\n",
    "    values='reviews_rating').T\n"
   ]
  },
  {
   "cell_type": "code",
   "execution_count": 136,
   "metadata": {
    "execution": {
     "iopub.execute_input": "2025-04-27T13:54:12.306543Z",
     "iopub.status.busy": "2025-04-27T13:54:12.306293Z",
     "iopub.status.idle": "2025-04-27T13:54:12.310979Z",
     "shell.execute_reply": "2025-04-27T13:54:12.310333Z",
     "shell.execute_reply.started": "2025-04-27T13:54:12.306520Z"
    },
    "trusted": true
   },
   "outputs": [
    {
     "data": {
      "text/plain": [
       "(203, 8348)"
      ]
     },
     "execution_count": 136,
     "metadata": {},
     "output_type": "execute_result"
    }
   ],
   "source": [
    "common_item_based_matrix.shape"
   ]
  },
  {
   "cell_type": "code",
   "execution_count": 137,
   "metadata": {
    "execution": {
     "iopub.execute_input": "2025-04-27T13:54:12.311721Z",
     "iopub.status.busy": "2025-04-27T13:54:12.311523Z",
     "iopub.status.idle": "2025-04-27T13:54:12.319682Z",
     "shell.execute_reply": "2025-04-27T13:54:12.319049Z",
     "shell.execute_reply.started": "2025-04-27T13:54:12.311707Z"
    },
    "trusted": true
   },
   "outputs": [],
   "source": [
    "item_correlation_df = pd.DataFrame(item_correlation)"
   ]
  },
  {
   "cell_type": "code",
   "execution_count": 138,
   "metadata": {
    "execution": {
     "iopub.execute_input": "2025-04-27T13:54:12.320744Z",
     "iopub.status.busy": "2025-04-27T13:54:12.320485Z",
     "iopub.status.idle": "2025-04-27T13:54:12.346353Z",
     "shell.execute_reply": "2025-04-27T13:54:12.345664Z",
     "shell.execute_reply.started": "2025-04-27T13:54:12.320715Z"
    },
    "trusted": true
   },
   "outputs": [
    {
     "data": {
      "text/html": [
       "<div>\n",
       "<style scoped>\n",
       "    .dataframe tbody tr th:only-of-type {\n",
       "        vertical-align: middle;\n",
       "    }\n",
       "\n",
       "    .dataframe tbody tr th {\n",
       "        vertical-align: top;\n",
       "    }\n",
       "\n",
       "    .dataframe thead th {\n",
       "        text-align: right;\n",
       "    }\n",
       "</style>\n",
       "<table border=\"1\" class=\"dataframe\">\n",
       "  <thead>\n",
       "    <tr style=\"text-align: right;\">\n",
       "      <th></th>\n",
       "      <th>0</th>\n",
       "      <th>1</th>\n",
       "      <th>2</th>\n",
       "      <th>3</th>\n",
       "      <th>4</th>\n",
       "      <th>5</th>\n",
       "      <th>6</th>\n",
       "      <th>7</th>\n",
       "      <th>8</th>\n",
       "      <th>9</th>\n",
       "      <th>...</th>\n",
       "      <th>245</th>\n",
       "      <th>246</th>\n",
       "      <th>247</th>\n",
       "      <th>248</th>\n",
       "      <th>249</th>\n",
       "      <th>250</th>\n",
       "      <th>251</th>\n",
       "      <th>252</th>\n",
       "      <th>253</th>\n",
       "      <th>254</th>\n",
       "    </tr>\n",
       "  </thead>\n",
       "  <tbody>\n",
       "    <tr>\n",
       "      <th>0</th>\n",
       "      <td>0.0</td>\n",
       "      <td>0.0</td>\n",
       "      <td>0.0</td>\n",
       "      <td>0.0</td>\n",
       "      <td>0.0</td>\n",
       "      <td>0.0</td>\n",
       "      <td>0.0</td>\n",
       "      <td>0.0</td>\n",
       "      <td>0.0</td>\n",
       "      <td>0.0</td>\n",
       "      <td>...</td>\n",
       "      <td>0.000000</td>\n",
       "      <td>0.0</td>\n",
       "      <td>0.0</td>\n",
       "      <td>0.0</td>\n",
       "      <td>0.0</td>\n",
       "      <td>0.0</td>\n",
       "      <td>0.0</td>\n",
       "      <td>0.000000</td>\n",
       "      <td>0.0</td>\n",
       "      <td>0.0</td>\n",
       "    </tr>\n",
       "    <tr>\n",
       "      <th>1</th>\n",
       "      <td>0.0</td>\n",
       "      <td>0.0</td>\n",
       "      <td>0.0</td>\n",
       "      <td>0.0</td>\n",
       "      <td>0.0</td>\n",
       "      <td>0.0</td>\n",
       "      <td>0.0</td>\n",
       "      <td>0.0</td>\n",
       "      <td>0.0</td>\n",
       "      <td>0.0</td>\n",
       "      <td>...</td>\n",
       "      <td>0.000000</td>\n",
       "      <td>0.0</td>\n",
       "      <td>0.0</td>\n",
       "      <td>0.0</td>\n",
       "      <td>0.0</td>\n",
       "      <td>0.0</td>\n",
       "      <td>0.0</td>\n",
       "      <td>0.000000</td>\n",
       "      <td>0.0</td>\n",
       "      <td>0.0</td>\n",
       "    </tr>\n",
       "    <tr>\n",
       "      <th>2</th>\n",
       "      <td>0.0</td>\n",
       "      <td>0.0</td>\n",
       "      <td>1.0</td>\n",
       "      <td>0.0</td>\n",
       "      <td>0.0</td>\n",
       "      <td>0.0</td>\n",
       "      <td>0.0</td>\n",
       "      <td>0.0</td>\n",
       "      <td>0.0</td>\n",
       "      <td>0.0</td>\n",
       "      <td>...</td>\n",
       "      <td>0.013954</td>\n",
       "      <td>0.0</td>\n",
       "      <td>0.0</td>\n",
       "      <td>0.0</td>\n",
       "      <td>0.0</td>\n",
       "      <td>0.0</td>\n",
       "      <td>0.0</td>\n",
       "      <td>0.000000</td>\n",
       "      <td>0.0</td>\n",
       "      <td>0.0</td>\n",
       "    </tr>\n",
       "    <tr>\n",
       "      <th>3</th>\n",
       "      <td>0.0</td>\n",
       "      <td>0.0</td>\n",
       "      <td>0.0</td>\n",
       "      <td>1.0</td>\n",
       "      <td>0.0</td>\n",
       "      <td>0.0</td>\n",
       "      <td>0.0</td>\n",
       "      <td>0.0</td>\n",
       "      <td>0.0</td>\n",
       "      <td>0.0</td>\n",
       "      <td>...</td>\n",
       "      <td>0.078102</td>\n",
       "      <td>0.0</td>\n",
       "      <td>0.0</td>\n",
       "      <td>0.0</td>\n",
       "      <td>0.0</td>\n",
       "      <td>0.0</td>\n",
       "      <td>0.0</td>\n",
       "      <td>0.001989</td>\n",
       "      <td>0.0</td>\n",
       "      <td>0.0</td>\n",
       "    </tr>\n",
       "    <tr>\n",
       "      <th>4</th>\n",
       "      <td>0.0</td>\n",
       "      <td>0.0</td>\n",
       "      <td>0.0</td>\n",
       "      <td>0.0</td>\n",
       "      <td>0.0</td>\n",
       "      <td>0.0</td>\n",
       "      <td>0.0</td>\n",
       "      <td>0.0</td>\n",
       "      <td>0.0</td>\n",
       "      <td>0.0</td>\n",
       "      <td>...</td>\n",
       "      <td>0.000000</td>\n",
       "      <td>0.0</td>\n",
       "      <td>0.0</td>\n",
       "      <td>0.0</td>\n",
       "      <td>0.0</td>\n",
       "      <td>0.0</td>\n",
       "      <td>0.0</td>\n",
       "      <td>0.000000</td>\n",
       "      <td>0.0</td>\n",
       "      <td>0.0</td>\n",
       "    </tr>\n",
       "  </tbody>\n",
       "</table>\n",
       "<p>5 rows × 255 columns</p>\n",
       "</div>"
      ],
      "text/plain": [
       "   0    1    2    3    4    5    6    7    8    9    ...       245  246  247  \\\n",
       "0  0.0  0.0  0.0  0.0  0.0  0.0  0.0  0.0  0.0  0.0  ...  0.000000  0.0  0.0   \n",
       "1  0.0  0.0  0.0  0.0  0.0  0.0  0.0  0.0  0.0  0.0  ...  0.000000  0.0  0.0   \n",
       "2  0.0  0.0  1.0  0.0  0.0  0.0  0.0  0.0  0.0  0.0  ...  0.013954  0.0  0.0   \n",
       "3  0.0  0.0  0.0  1.0  0.0  0.0  0.0  0.0  0.0  0.0  ...  0.078102  0.0  0.0   \n",
       "4  0.0  0.0  0.0  0.0  0.0  0.0  0.0  0.0  0.0  0.0  ...  0.000000  0.0  0.0   \n",
       "\n",
       "   248  249  250  251       252  253  254  \n",
       "0  0.0  0.0  0.0  0.0  0.000000  0.0  0.0  \n",
       "1  0.0  0.0  0.0  0.0  0.000000  0.0  0.0  \n",
       "2  0.0  0.0  0.0  0.0  0.000000  0.0  0.0  \n",
       "3  0.0  0.0  0.0  0.0  0.001989  0.0  0.0  \n",
       "4  0.0  0.0  0.0  0.0  0.000000  0.0  0.0  \n",
       "\n",
       "[5 rows x 255 columns]"
      ]
     },
     "execution_count": 138,
     "metadata": {},
     "output_type": "execute_result"
    }
   ],
   "source": [
    "item_correlation_df.head(5)"
   ]
  },
  {
   "cell_type": "code",
   "execution_count": 139,
   "metadata": {
    "execution": {
     "iopub.execute_input": "2025-04-27T13:54:12.347482Z",
     "iopub.status.busy": "2025-04-27T13:54:12.347243Z",
     "iopub.status.idle": "2025-04-27T13:54:12.372831Z",
     "shell.execute_reply": "2025-04-27T13:54:12.372243Z",
     "shell.execute_reply.started": "2025-04-27T13:54:12.347458Z"
    },
    "trusted": true
   },
   "outputs": [
    {
     "data": {
      "text/html": [
       "<div>\n",
       "<style scoped>\n",
       "    .dataframe tbody tr th:only-of-type {\n",
       "        vertical-align: middle;\n",
       "    }\n",
       "\n",
       "    .dataframe tbody tr th {\n",
       "        vertical-align: top;\n",
       "    }\n",
       "\n",
       "    .dataframe thead th {\n",
       "        text-align: right;\n",
       "    }\n",
       "</style>\n",
       "<table border=\"1\" class=\"dataframe\">\n",
       "  <thead>\n",
       "    <tr style=\"text-align: right;\">\n",
       "      <th></th>\n",
       "      <th>0</th>\n",
       "      <th>1</th>\n",
       "      <th>2</th>\n",
       "      <th>3</th>\n",
       "      <th>4</th>\n",
       "      <th>5</th>\n",
       "      <th>6</th>\n",
       "      <th>7</th>\n",
       "      <th>8</th>\n",
       "      <th>9</th>\n",
       "      <th>...</th>\n",
       "      <th>245</th>\n",
       "      <th>246</th>\n",
       "      <th>247</th>\n",
       "      <th>248</th>\n",
       "      <th>249</th>\n",
       "      <th>250</th>\n",
       "      <th>251</th>\n",
       "      <th>252</th>\n",
       "      <th>253</th>\n",
       "      <th>254</th>\n",
       "    </tr>\n",
       "    <tr>\n",
       "      <th>id</th>\n",
       "      <th></th>\n",
       "      <th></th>\n",
       "      <th></th>\n",
       "      <th></th>\n",
       "      <th></th>\n",
       "      <th></th>\n",
       "      <th></th>\n",
       "      <th></th>\n",
       "      <th></th>\n",
       "      <th></th>\n",
       "      <th></th>\n",
       "      <th></th>\n",
       "      <th></th>\n",
       "      <th></th>\n",
       "      <th></th>\n",
       "      <th></th>\n",
       "      <th></th>\n",
       "      <th></th>\n",
       "      <th></th>\n",
       "      <th></th>\n",
       "      <th></th>\n",
       "    </tr>\n",
       "  </thead>\n",
       "  <tbody>\n",
       "    <tr>\n",
       "      <th>AV13O1A8GV-KLJ3akUyj</th>\n",
       "      <td>0.0</td>\n",
       "      <td>0.0</td>\n",
       "      <td>0.0</td>\n",
       "      <td>0.0</td>\n",
       "      <td>0.0</td>\n",
       "      <td>0.0</td>\n",
       "      <td>0.0</td>\n",
       "      <td>0.0</td>\n",
       "      <td>0.0</td>\n",
       "      <td>0.0</td>\n",
       "      <td>...</td>\n",
       "      <td>0.000000</td>\n",
       "      <td>0.0</td>\n",
       "      <td>0.0</td>\n",
       "      <td>0.0</td>\n",
       "      <td>0.0</td>\n",
       "      <td>0.0</td>\n",
       "      <td>0.0</td>\n",
       "      <td>0.000000</td>\n",
       "      <td>0.0</td>\n",
       "      <td>0.0</td>\n",
       "    </tr>\n",
       "    <tr>\n",
       "      <th>AV14LG0R-jtxr-f38QfS</th>\n",
       "      <td>0.0</td>\n",
       "      <td>0.0</td>\n",
       "      <td>0.0</td>\n",
       "      <td>0.0</td>\n",
       "      <td>0.0</td>\n",
       "      <td>0.0</td>\n",
       "      <td>0.0</td>\n",
       "      <td>0.0</td>\n",
       "      <td>0.0</td>\n",
       "      <td>0.0</td>\n",
       "      <td>...</td>\n",
       "      <td>0.000000</td>\n",
       "      <td>0.0</td>\n",
       "      <td>0.0</td>\n",
       "      <td>0.0</td>\n",
       "      <td>0.0</td>\n",
       "      <td>0.0</td>\n",
       "      <td>0.0</td>\n",
       "      <td>0.000000</td>\n",
       "      <td>0.0</td>\n",
       "      <td>0.0</td>\n",
       "    </tr>\n",
       "    <tr>\n",
       "      <th>AV16khLE-jtxr-f38VFn</th>\n",
       "      <td>0.0</td>\n",
       "      <td>0.0</td>\n",
       "      <td>1.0</td>\n",
       "      <td>0.0</td>\n",
       "      <td>0.0</td>\n",
       "      <td>0.0</td>\n",
       "      <td>0.0</td>\n",
       "      <td>0.0</td>\n",
       "      <td>0.0</td>\n",
       "      <td>0.0</td>\n",
       "      <td>...</td>\n",
       "      <td>0.013954</td>\n",
       "      <td>0.0</td>\n",
       "      <td>0.0</td>\n",
       "      <td>0.0</td>\n",
       "      <td>0.0</td>\n",
       "      <td>0.0</td>\n",
       "      <td>0.0</td>\n",
       "      <td>0.000000</td>\n",
       "      <td>0.0</td>\n",
       "      <td>0.0</td>\n",
       "    </tr>\n",
       "    <tr>\n",
       "      <th>AV1YGDqsGV-KLJ3adc-O</th>\n",
       "      <td>0.0</td>\n",
       "      <td>0.0</td>\n",
       "      <td>0.0</td>\n",
       "      <td>1.0</td>\n",
       "      <td>0.0</td>\n",
       "      <td>0.0</td>\n",
       "      <td>0.0</td>\n",
       "      <td>0.0</td>\n",
       "      <td>0.0</td>\n",
       "      <td>0.0</td>\n",
       "      <td>...</td>\n",
       "      <td>0.078102</td>\n",
       "      <td>0.0</td>\n",
       "      <td>0.0</td>\n",
       "      <td>0.0</td>\n",
       "      <td>0.0</td>\n",
       "      <td>0.0</td>\n",
       "      <td>0.0</td>\n",
       "      <td>0.001989</td>\n",
       "      <td>0.0</td>\n",
       "      <td>0.0</td>\n",
       "    </tr>\n",
       "    <tr>\n",
       "      <th>AV1YIch7GV-KLJ3addeG</th>\n",
       "      <td>0.0</td>\n",
       "      <td>0.0</td>\n",
       "      <td>0.0</td>\n",
       "      <td>0.0</td>\n",
       "      <td>0.0</td>\n",
       "      <td>0.0</td>\n",
       "      <td>0.0</td>\n",
       "      <td>0.0</td>\n",
       "      <td>0.0</td>\n",
       "      <td>0.0</td>\n",
       "      <td>...</td>\n",
       "      <td>0.000000</td>\n",
       "      <td>0.0</td>\n",
       "      <td>0.0</td>\n",
       "      <td>0.0</td>\n",
       "      <td>0.0</td>\n",
       "      <td>0.0</td>\n",
       "      <td>0.0</td>\n",
       "      <td>0.000000</td>\n",
       "      <td>0.0</td>\n",
       "      <td>0.0</td>\n",
       "    </tr>\n",
       "  </tbody>\n",
       "</table>\n",
       "<p>5 rows × 255 columns</p>\n",
       "</div>"
      ],
      "text/plain": [
       "                      0    1    2    3    4    5    6    7    8    9    ...  \\\n",
       "id                                                                      ...   \n",
       "AV13O1A8GV-KLJ3akUyj  0.0  0.0  0.0  0.0  0.0  0.0  0.0  0.0  0.0  0.0  ...   \n",
       "AV14LG0R-jtxr-f38QfS  0.0  0.0  0.0  0.0  0.0  0.0  0.0  0.0  0.0  0.0  ...   \n",
       "AV16khLE-jtxr-f38VFn  0.0  0.0  1.0  0.0  0.0  0.0  0.0  0.0  0.0  0.0  ...   \n",
       "AV1YGDqsGV-KLJ3adc-O  0.0  0.0  0.0  1.0  0.0  0.0  0.0  0.0  0.0  0.0  ...   \n",
       "AV1YIch7GV-KLJ3addeG  0.0  0.0  0.0  0.0  0.0  0.0  0.0  0.0  0.0  0.0  ...   \n",
       "\n",
       "                           245  246  247  248  249  250  251       252  253  \\\n",
       "id                                                                            \n",
       "AV13O1A8GV-KLJ3akUyj  0.000000  0.0  0.0  0.0  0.0  0.0  0.0  0.000000  0.0   \n",
       "AV14LG0R-jtxr-f38QfS  0.000000  0.0  0.0  0.0  0.0  0.0  0.0  0.000000  0.0   \n",
       "AV16khLE-jtxr-f38VFn  0.013954  0.0  0.0  0.0  0.0  0.0  0.0  0.000000  0.0   \n",
       "AV1YGDqsGV-KLJ3adc-O  0.078102  0.0  0.0  0.0  0.0  0.0  0.0  0.001989  0.0   \n",
       "AV1YIch7GV-KLJ3addeG  0.000000  0.0  0.0  0.0  0.0  0.0  0.0  0.000000  0.0   \n",
       "\n",
       "                      254  \n",
       "id                         \n",
       "AV13O1A8GV-KLJ3akUyj  0.0  \n",
       "AV14LG0R-jtxr-f38QfS  0.0  \n",
       "AV16khLE-jtxr-f38VFn  0.0  \n",
       "AV1YGDqsGV-KLJ3adc-O  0.0  \n",
       "AV1YIch7GV-KLJ3addeG  0.0  \n",
       "\n",
       "[5 rows x 255 columns]"
      ]
     },
     "execution_count": 139,
     "metadata": {},
     "output_type": "execute_result"
    }
   ],
   "source": [
    "# Adding the index to the correlation df from df_subtracted_item\n",
    "\n",
    "item_correlation_df['id'] = df_subtracted_item.index\n",
    "item_correlation_df.set_index('id',inplace=True)\n",
    "item_correlation_df.head()"
   ]
  },
  {
   "cell_type": "markdown",
   "metadata": {},
   "source": [
    "Have to perform 3 actions on the correlation dataframe, create new dataframes such that they have:\n",
    "- a. Only rows same as the train data.\n",
    "- b. Only columns same as train data.\n",
    "- c. Rows and columns as train data."
   ]
  },
  {
   "cell_type": "code",
   "execution_count": 140,
   "metadata": {
    "execution": {
     "iopub.execute_input": "2025-04-27T13:54:12.373932Z",
     "iopub.status.busy": "2025-04-27T13:54:12.373644Z",
     "iopub.status.idle": "2025-04-27T13:54:12.387577Z",
     "shell.execute_reply": "2025-04-27T13:54:12.386830Z",
     "shell.execute_reply.started": "2025-04-27T13:54:12.373910Z"
    },
    "trusted": true
   },
   "outputs": [],
   "source": [
    "list_name = common_item.id.tolist()\n",
    "\n",
    "item_correlation_df.columns = df_subtracted_item.index.tolist()\n",
    "\n",
    "item_correlation_df_1 =  item_correlation_df[item_correlation_df.index.isin(list_name)]\n",
    "item_correlation_df_2 = item_correlation_df_1.T[item_correlation_df_1.T.index.isin(list_name)]\n",
    "item_correlation_df_3 = item_correlation_df_2.T"
   ]
  },
  {
   "cell_type": "code",
   "execution_count": 141,
   "metadata": {
    "execution": {
     "iopub.execute_input": "2025-04-27T13:54:12.389025Z",
     "iopub.status.busy": "2025-04-27T13:54:12.388332Z",
     "iopub.status.idle": "2025-04-27T13:54:12.411853Z",
     "shell.execute_reply": "2025-04-27T13:54:12.411244Z",
     "shell.execute_reply.started": "2025-04-27T13:54:12.388991Z"
    },
    "trusted": true
   },
   "outputs": [
    {
     "data": {
      "text/html": [
       "<div>\n",
       "<style scoped>\n",
       "    .dataframe tbody tr th:only-of-type {\n",
       "        vertical-align: middle;\n",
       "    }\n",
       "\n",
       "    .dataframe tbody tr th {\n",
       "        vertical-align: top;\n",
       "    }\n",
       "\n",
       "    .dataframe thead th {\n",
       "        text-align: right;\n",
       "    }\n",
       "</style>\n",
       "<table border=\"1\" class=\"dataframe\">\n",
       "  <thead>\n",
       "    <tr style=\"text-align: right;\">\n",
       "      <th></th>\n",
       "      <th>AV16khLE-jtxr-f38VFn</th>\n",
       "      <th>AV1YGDqsGV-KLJ3adc-O</th>\n",
       "      <th>AV1YlENIglJLPUi8IHsX</th>\n",
       "      <th>AV1YmBrdGV-KLJ3adewb</th>\n",
       "      <th>AV1YmDL9vKc47QAVgr7_</th>\n",
       "      <th>AV1Ymf_rglJLPUi8II2v</th>\n",
       "      <th>AV1Yn94nvKc47QAVgtst</th>\n",
       "      <th>AV1Ynb3bglJLPUi8IJxJ</th>\n",
       "      <th>AV1YneDPglJLPUi8IJyQ</th>\n",
       "      <th>AV1YqAaMGV-KLJ3adiDj</th>\n",
       "      <th>...</th>\n",
       "      <th>AVpfqW4WilAPnD_xf7a_</th>\n",
       "      <th>AVpfr5cb1cnluZ0-pZFp</th>\n",
       "      <th>AVpfrFDZLJeJML43Bmv0</th>\n",
       "      <th>AVpfrTyiLJeJML43BrSI</th>\n",
       "      <th>AVpfrfHF1cnluZ0-pRai</th>\n",
       "      <th>AVpfrgjFLJeJML43BvCc</th>\n",
       "      <th>AVpfthSailAPnD_xg3ON</th>\n",
       "      <th>AVpftikC1cnluZ0-p31V</th>\n",
       "      <th>AVpfv4TlilAPnD_xhjNS</th>\n",
       "      <th>AVpfvieo1cnluZ0-qdnu</th>\n",
       "    </tr>\n",
       "    <tr>\n",
       "      <th>id</th>\n",
       "      <th></th>\n",
       "      <th></th>\n",
       "      <th></th>\n",
       "      <th></th>\n",
       "      <th></th>\n",
       "      <th></th>\n",
       "      <th></th>\n",
       "      <th></th>\n",
       "      <th></th>\n",
       "      <th></th>\n",
       "      <th></th>\n",
       "      <th></th>\n",
       "      <th></th>\n",
       "      <th></th>\n",
       "      <th></th>\n",
       "      <th></th>\n",
       "      <th></th>\n",
       "      <th></th>\n",
       "      <th></th>\n",
       "      <th></th>\n",
       "      <th></th>\n",
       "    </tr>\n",
       "  </thead>\n",
       "  <tbody>\n",
       "    <tr>\n",
       "      <th>AV16khLE-jtxr-f38VFn</th>\n",
       "      <td>1.0</td>\n",
       "      <td>0.0</td>\n",
       "      <td>0.0</td>\n",
       "      <td>0.0</td>\n",
       "      <td>0.0</td>\n",
       "      <td>0.0</td>\n",
       "      <td>0.0</td>\n",
       "      <td>0.0</td>\n",
       "      <td>0.000000</td>\n",
       "      <td>0.0</td>\n",
       "      <td>...</td>\n",
       "      <td>0.0</td>\n",
       "      <td>0.013954</td>\n",
       "      <td>0.0</td>\n",
       "      <td>0.0</td>\n",
       "      <td>0.0</td>\n",
       "      <td>0.0</td>\n",
       "      <td>0.0</td>\n",
       "      <td>0.000000</td>\n",
       "      <td>0.0</td>\n",
       "      <td>0.0</td>\n",
       "    </tr>\n",
       "    <tr>\n",
       "      <th>AV1YGDqsGV-KLJ3adc-O</th>\n",
       "      <td>0.0</td>\n",
       "      <td>1.0</td>\n",
       "      <td>0.0</td>\n",
       "      <td>0.0</td>\n",
       "      <td>0.0</td>\n",
       "      <td>0.0</td>\n",
       "      <td>0.0</td>\n",
       "      <td>0.0</td>\n",
       "      <td>0.003657</td>\n",
       "      <td>0.0</td>\n",
       "      <td>...</td>\n",
       "      <td>0.0</td>\n",
       "      <td>0.078102</td>\n",
       "      <td>0.0</td>\n",
       "      <td>0.0</td>\n",
       "      <td>0.0</td>\n",
       "      <td>0.0</td>\n",
       "      <td>0.0</td>\n",
       "      <td>0.001989</td>\n",
       "      <td>0.0</td>\n",
       "      <td>0.0</td>\n",
       "    </tr>\n",
       "    <tr>\n",
       "      <th>AV1YlENIglJLPUi8IHsX</th>\n",
       "      <td>0.0</td>\n",
       "      <td>0.0</td>\n",
       "      <td>1.0</td>\n",
       "      <td>0.0</td>\n",
       "      <td>0.0</td>\n",
       "      <td>0.0</td>\n",
       "      <td>0.0</td>\n",
       "      <td>0.0</td>\n",
       "      <td>0.000000</td>\n",
       "      <td>0.0</td>\n",
       "      <td>...</td>\n",
       "      <td>0.0</td>\n",
       "      <td>0.000000</td>\n",
       "      <td>0.0</td>\n",
       "      <td>0.0</td>\n",
       "      <td>0.0</td>\n",
       "      <td>0.0</td>\n",
       "      <td>0.0</td>\n",
       "      <td>0.000000</td>\n",
       "      <td>0.0</td>\n",
       "      <td>0.0</td>\n",
       "    </tr>\n",
       "    <tr>\n",
       "      <th>AV1YmBrdGV-KLJ3adewb</th>\n",
       "      <td>0.0</td>\n",
       "      <td>0.0</td>\n",
       "      <td>0.0</td>\n",
       "      <td>1.0</td>\n",
       "      <td>0.0</td>\n",
       "      <td>0.0</td>\n",
       "      <td>0.0</td>\n",
       "      <td>0.0</td>\n",
       "      <td>0.000000</td>\n",
       "      <td>0.0</td>\n",
       "      <td>...</td>\n",
       "      <td>0.0</td>\n",
       "      <td>0.000000</td>\n",
       "      <td>0.0</td>\n",
       "      <td>0.0</td>\n",
       "      <td>0.0</td>\n",
       "      <td>0.0</td>\n",
       "      <td>0.0</td>\n",
       "      <td>0.000000</td>\n",
       "      <td>0.0</td>\n",
       "      <td>0.0</td>\n",
       "    </tr>\n",
       "    <tr>\n",
       "      <th>AV1YmDL9vKc47QAVgr7_</th>\n",
       "      <td>0.0</td>\n",
       "      <td>0.0</td>\n",
       "      <td>0.0</td>\n",
       "      <td>0.0</td>\n",
       "      <td>1.0</td>\n",
       "      <td>0.0</td>\n",
       "      <td>0.0</td>\n",
       "      <td>0.0</td>\n",
       "      <td>0.000000</td>\n",
       "      <td>0.0</td>\n",
       "      <td>...</td>\n",
       "      <td>0.0</td>\n",
       "      <td>0.000000</td>\n",
       "      <td>0.0</td>\n",
       "      <td>0.0</td>\n",
       "      <td>0.0</td>\n",
       "      <td>0.0</td>\n",
       "      <td>0.0</td>\n",
       "      <td>0.000000</td>\n",
       "      <td>0.0</td>\n",
       "      <td>0.0</td>\n",
       "    </tr>\n",
       "  </tbody>\n",
       "</table>\n",
       "<p>5 rows × 203 columns</p>\n",
       "</div>"
      ],
      "text/plain": [
       "                      AV16khLE-jtxr-f38VFn  AV1YGDqsGV-KLJ3adc-O  \\\n",
       "id                                                                 \n",
       "AV16khLE-jtxr-f38VFn                   1.0                   0.0   \n",
       "AV1YGDqsGV-KLJ3adc-O                   0.0                   1.0   \n",
       "AV1YlENIglJLPUi8IHsX                   0.0                   0.0   \n",
       "AV1YmBrdGV-KLJ3adewb                   0.0                   0.0   \n",
       "AV1YmDL9vKc47QAVgr7_                   0.0                   0.0   \n",
       "\n",
       "                      AV1YlENIglJLPUi8IHsX  AV1YmBrdGV-KLJ3adewb  \\\n",
       "id                                                                 \n",
       "AV16khLE-jtxr-f38VFn                   0.0                   0.0   \n",
       "AV1YGDqsGV-KLJ3adc-O                   0.0                   0.0   \n",
       "AV1YlENIglJLPUi8IHsX                   1.0                   0.0   \n",
       "AV1YmBrdGV-KLJ3adewb                   0.0                   1.0   \n",
       "AV1YmDL9vKc47QAVgr7_                   0.0                   0.0   \n",
       "\n",
       "                      AV1YmDL9vKc47QAVgr7_  AV1Ymf_rglJLPUi8II2v  \\\n",
       "id                                                                 \n",
       "AV16khLE-jtxr-f38VFn                   0.0                   0.0   \n",
       "AV1YGDqsGV-KLJ3adc-O                   0.0                   0.0   \n",
       "AV1YlENIglJLPUi8IHsX                   0.0                   0.0   \n",
       "AV1YmBrdGV-KLJ3adewb                   0.0                   0.0   \n",
       "AV1YmDL9vKc47QAVgr7_                   1.0                   0.0   \n",
       "\n",
       "                      AV1Yn94nvKc47QAVgtst  AV1Ynb3bglJLPUi8IJxJ  \\\n",
       "id                                                                 \n",
       "AV16khLE-jtxr-f38VFn                   0.0                   0.0   \n",
       "AV1YGDqsGV-KLJ3adc-O                   0.0                   0.0   \n",
       "AV1YlENIglJLPUi8IHsX                   0.0                   0.0   \n",
       "AV1YmBrdGV-KLJ3adewb                   0.0                   0.0   \n",
       "AV1YmDL9vKc47QAVgr7_                   0.0                   0.0   \n",
       "\n",
       "                      AV1YneDPglJLPUi8IJyQ  AV1YqAaMGV-KLJ3adiDj  ...  \\\n",
       "id                                                                ...   \n",
       "AV16khLE-jtxr-f38VFn              0.000000                   0.0  ...   \n",
       "AV1YGDqsGV-KLJ3adc-O              0.003657                   0.0  ...   \n",
       "AV1YlENIglJLPUi8IHsX              0.000000                   0.0  ...   \n",
       "AV1YmBrdGV-KLJ3adewb              0.000000                   0.0  ...   \n",
       "AV1YmDL9vKc47QAVgr7_              0.000000                   0.0  ...   \n",
       "\n",
       "                      AVpfqW4WilAPnD_xf7a_  AVpfr5cb1cnluZ0-pZFp  \\\n",
       "id                                                                 \n",
       "AV16khLE-jtxr-f38VFn                   0.0              0.013954   \n",
       "AV1YGDqsGV-KLJ3adc-O                   0.0              0.078102   \n",
       "AV1YlENIglJLPUi8IHsX                   0.0              0.000000   \n",
       "AV1YmBrdGV-KLJ3adewb                   0.0              0.000000   \n",
       "AV1YmDL9vKc47QAVgr7_                   0.0              0.000000   \n",
       "\n",
       "                      AVpfrFDZLJeJML43Bmv0  AVpfrTyiLJeJML43BrSI  \\\n",
       "id                                                                 \n",
       "AV16khLE-jtxr-f38VFn                   0.0                   0.0   \n",
       "AV1YGDqsGV-KLJ3adc-O                   0.0                   0.0   \n",
       "AV1YlENIglJLPUi8IHsX                   0.0                   0.0   \n",
       "AV1YmBrdGV-KLJ3adewb                   0.0                   0.0   \n",
       "AV1YmDL9vKc47QAVgr7_                   0.0                   0.0   \n",
       "\n",
       "                      AVpfrfHF1cnluZ0-pRai  AVpfrgjFLJeJML43BvCc  \\\n",
       "id                                                                 \n",
       "AV16khLE-jtxr-f38VFn                   0.0                   0.0   \n",
       "AV1YGDqsGV-KLJ3adc-O                   0.0                   0.0   \n",
       "AV1YlENIglJLPUi8IHsX                   0.0                   0.0   \n",
       "AV1YmBrdGV-KLJ3adewb                   0.0                   0.0   \n",
       "AV1YmDL9vKc47QAVgr7_                   0.0                   0.0   \n",
       "\n",
       "                      AVpfthSailAPnD_xg3ON  AVpftikC1cnluZ0-p31V  \\\n",
       "id                                                                 \n",
       "AV16khLE-jtxr-f38VFn                   0.0              0.000000   \n",
       "AV1YGDqsGV-KLJ3adc-O                   0.0              0.001989   \n",
       "AV1YlENIglJLPUi8IHsX                   0.0              0.000000   \n",
       "AV1YmBrdGV-KLJ3adewb                   0.0              0.000000   \n",
       "AV1YmDL9vKc47QAVgr7_                   0.0              0.000000   \n",
       "\n",
       "                      AVpfv4TlilAPnD_xhjNS  AVpfvieo1cnluZ0-qdnu  \n",
       "id                                                                \n",
       "AV16khLE-jtxr-f38VFn                   0.0                   0.0  \n",
       "AV1YGDqsGV-KLJ3adc-O                   0.0                   0.0  \n",
       "AV1YlENIglJLPUi8IHsX                   0.0                   0.0  \n",
       "AV1YmBrdGV-KLJ3adewb                   0.0                   0.0  \n",
       "AV1YmDL9vKc47QAVgr7_                   0.0                   0.0  \n",
       "\n",
       "[5 rows x 203 columns]"
      ]
     },
     "execution_count": 141,
     "metadata": {},
     "output_type": "execute_result"
    }
   ],
   "source": [
    "item_correlation_df_3.head()"
   ]
  },
  {
   "cell_type": "code",
   "execution_count": 142,
   "metadata": {
    "execution": {
     "iopub.execute_input": "2025-04-27T13:54:12.413486Z",
     "iopub.status.busy": "2025-04-27T13:54:12.412775Z",
     "iopub.status.idle": "2025-04-27T13:54:12.451907Z",
     "shell.execute_reply": "2025-04-27T13:54:12.451318Z",
     "shell.execute_reply.started": "2025-04-27T13:54:12.413463Z"
    },
    "trusted": true
   },
   "outputs": [
    {
     "data": {
      "text/plain": [
       "array([[0.        , 0.        , 0.        , ..., 0.        , 0.        ,\n",
       "        0.        ],\n",
       "       [0.02105944, 0.00045358, 0.00036287, ..., 0.00045358, 0.00018143,\n",
       "        0.        ],\n",
       "       [0.        , 0.        , 0.        , ..., 0.        , 0.        ,\n",
       "        0.        ],\n",
       "       ...,\n",
       "       [0.        , 0.        , 0.        , ..., 0.        , 0.        ,\n",
       "        0.00733409],\n",
       "       [0.        , 0.        , 0.        , ..., 0.        , 0.        ,\n",
       "        0.10336214],\n",
       "       [0.        , 0.00644332, 0.00515466, ..., 0.00644332, 0.00257733,\n",
       "        0.        ]])"
      ]
     },
     "execution_count": 142,
     "metadata": {},
     "output_type": "execute_result"
    }
   ],
   "source": [
    "item_correlation_df_3[item_correlation_df_3<0]=0\n",
    "\n",
    "common_item_predicted_ratings = np.dot(item_correlation_df_3, common_item_based_matrix.fillna(0))\n",
    "common_item_predicted_ratings"
   ]
  },
  {
   "cell_type": "code",
   "execution_count": 143,
   "metadata": {
    "execution": {
     "iopub.execute_input": "2025-04-27T13:54:12.453012Z",
     "iopub.status.busy": "2025-04-27T13:54:12.452632Z",
     "iopub.status.idle": "2025-04-27T13:54:12.457645Z",
     "shell.execute_reply": "2025-04-27T13:54:12.457088Z",
     "shell.execute_reply.started": "2025-04-27T13:54:12.452983Z"
    },
    "trusted": true
   },
   "outputs": [
    {
     "data": {
      "text/plain": [
       "(203, 8348)"
      ]
     },
     "execution_count": 143,
     "metadata": {},
     "output_type": "execute_result"
    }
   ],
   "source": [
    "common_item_predicted_ratings.shape"
   ]
  },
  {
   "cell_type": "markdown",
   "metadata": {},
   "source": [
    "##### Dummy test will be used for evaluation. To evaluate, we will only make prediction on the movies rated by the user. So, this is marked as 1. This is just opposite of dummy_train"
   ]
  },
  {
   "cell_type": "code",
   "execution_count": 144,
   "metadata": {
    "execution": {
     "iopub.execute_input": "2025-04-27T13:54:12.458593Z",
     "iopub.status.busy": "2025-04-27T13:54:12.458400Z",
     "iopub.status.idle": "2025-04-27T13:54:12.519236Z",
     "shell.execute_reply": "2025-04-27T13:54:12.518600Z",
     "shell.execute_reply.started": "2025-04-27T13:54:12.458579Z"
    },
    "trusted": true
   },
   "outputs": [],
   "source": [
    "dummy_test = common_item.copy()\n",
    "\n",
    "dummy_test['reviews_rating'] = dummy_test['reviews_rating'].apply(lambda x: 1 if x>=1 else 0)\n",
    "\n",
    "dummy_test = dummy_test.pivot_table(index='reviews_username', columns='id', values='reviews_rating').T.fillna(0)\n",
    "\n",
    "common_item_predicted_ratings = np.multiply(common_item_predicted_ratings,dummy_test)"
   ]
  },
  {
   "cell_type": "code",
   "execution_count": 145,
   "metadata": {
    "execution": {
     "iopub.execute_input": "2025-04-27T13:54:12.520024Z",
     "iopub.status.busy": "2025-04-27T13:54:12.519830Z",
     "iopub.status.idle": "2025-04-27T13:54:12.541545Z",
     "shell.execute_reply": "2025-04-27T13:54:12.540837Z",
     "shell.execute_reply.started": "2025-04-27T13:54:12.520008Z"
    },
    "trusted": true
   },
   "outputs": [
    {
     "data": {
      "text/html": [
       "<div>\n",
       "<style scoped>\n",
       "    .dataframe tbody tr th:only-of-type {\n",
       "        vertical-align: middle;\n",
       "    }\n",
       "\n",
       "    .dataframe tbody tr th {\n",
       "        vertical-align: top;\n",
       "    }\n",
       "\n",
       "    .dataframe thead th {\n",
       "        text-align: right;\n",
       "    }\n",
       "</style>\n",
       "<table border=\"1\" class=\"dataframe\">\n",
       "  <thead>\n",
       "    <tr style=\"text-align: right;\">\n",
       "      <th>reviews_username</th>\n",
       "      <th>00dog3</th>\n",
       "      <th>0325home</th>\n",
       "      <th>1234</th>\n",
       "      <th>1234561</th>\n",
       "      <th>123cat123</th>\n",
       "      <th>123charlie</th>\n",
       "      <th>123numbers</th>\n",
       "      <th>127726</th>\n",
       "      <th>12cass12</th>\n",
       "      <th>1753</th>\n",
       "      <th>...</th>\n",
       "      <th>zombie</th>\n",
       "      <th>zombiedad80</th>\n",
       "      <th>zombiegirl22</th>\n",
       "      <th>zotox</th>\n",
       "      <th>zsarah</th>\n",
       "      <th>zubb</th>\n",
       "      <th>zulaa118</th>\n",
       "      <th>zxcsdfd</th>\n",
       "      <th>zxjki</th>\n",
       "      <th>zzdiane</th>\n",
       "    </tr>\n",
       "    <tr>\n",
       "      <th>id</th>\n",
       "      <th></th>\n",
       "      <th></th>\n",
       "      <th></th>\n",
       "      <th></th>\n",
       "      <th></th>\n",
       "      <th></th>\n",
       "      <th></th>\n",
       "      <th></th>\n",
       "      <th></th>\n",
       "      <th></th>\n",
       "      <th></th>\n",
       "      <th></th>\n",
       "      <th></th>\n",
       "      <th></th>\n",
       "      <th></th>\n",
       "      <th></th>\n",
       "      <th></th>\n",
       "      <th></th>\n",
       "      <th></th>\n",
       "      <th></th>\n",
       "      <th></th>\n",
       "    </tr>\n",
       "  </thead>\n",
       "  <tbody>\n",
       "    <tr>\n",
       "      <th>AV16khLE-jtxr-f38VFn</th>\n",
       "      <td>0.0</td>\n",
       "      <td>0.0</td>\n",
       "      <td>0.0</td>\n",
       "      <td>0.0</td>\n",
       "      <td>0.0</td>\n",
       "      <td>0.0</td>\n",
       "      <td>0.0</td>\n",
       "      <td>0.0</td>\n",
       "      <td>0.0</td>\n",
       "      <td>0.0</td>\n",
       "      <td>...</td>\n",
       "      <td>0.0</td>\n",
       "      <td>0.0</td>\n",
       "      <td>0.0</td>\n",
       "      <td>0.0</td>\n",
       "      <td>0.0</td>\n",
       "      <td>0.0</td>\n",
       "      <td>0.0</td>\n",
       "      <td>0.0</td>\n",
       "      <td>0.0</td>\n",
       "      <td>0.0</td>\n",
       "    </tr>\n",
       "    <tr>\n",
       "      <th>AV1YGDqsGV-KLJ3adc-O</th>\n",
       "      <td>0.0</td>\n",
       "      <td>0.0</td>\n",
       "      <td>0.0</td>\n",
       "      <td>0.0</td>\n",
       "      <td>0.0</td>\n",
       "      <td>0.0</td>\n",
       "      <td>0.0</td>\n",
       "      <td>0.0</td>\n",
       "      <td>0.0</td>\n",
       "      <td>0.0</td>\n",
       "      <td>...</td>\n",
       "      <td>0.0</td>\n",
       "      <td>0.0</td>\n",
       "      <td>0.0</td>\n",
       "      <td>0.0</td>\n",
       "      <td>0.0</td>\n",
       "      <td>0.0</td>\n",
       "      <td>0.0</td>\n",
       "      <td>0.0</td>\n",
       "      <td>0.0</td>\n",
       "      <td>0.0</td>\n",
       "    </tr>\n",
       "    <tr>\n",
       "      <th>AV1YlENIglJLPUi8IHsX</th>\n",
       "      <td>0.0</td>\n",
       "      <td>0.0</td>\n",
       "      <td>0.0</td>\n",
       "      <td>0.0</td>\n",
       "      <td>0.0</td>\n",
       "      <td>0.0</td>\n",
       "      <td>0.0</td>\n",
       "      <td>0.0</td>\n",
       "      <td>0.0</td>\n",
       "      <td>0.0</td>\n",
       "      <td>...</td>\n",
       "      <td>0.0</td>\n",
       "      <td>0.0</td>\n",
       "      <td>0.0</td>\n",
       "      <td>0.0</td>\n",
       "      <td>0.0</td>\n",
       "      <td>0.0</td>\n",
       "      <td>0.0</td>\n",
       "      <td>0.0</td>\n",
       "      <td>0.0</td>\n",
       "      <td>0.0</td>\n",
       "    </tr>\n",
       "    <tr>\n",
       "      <th>AV1YmBrdGV-KLJ3adewb</th>\n",
       "      <td>0.0</td>\n",
       "      <td>0.0</td>\n",
       "      <td>0.0</td>\n",
       "      <td>0.0</td>\n",
       "      <td>0.0</td>\n",
       "      <td>0.0</td>\n",
       "      <td>0.0</td>\n",
       "      <td>0.0</td>\n",
       "      <td>0.0</td>\n",
       "      <td>0.0</td>\n",
       "      <td>...</td>\n",
       "      <td>0.0</td>\n",
       "      <td>0.0</td>\n",
       "      <td>0.0</td>\n",
       "      <td>0.0</td>\n",
       "      <td>0.0</td>\n",
       "      <td>0.0</td>\n",
       "      <td>0.0</td>\n",
       "      <td>0.0</td>\n",
       "      <td>0.0</td>\n",
       "      <td>0.0</td>\n",
       "    </tr>\n",
       "    <tr>\n",
       "      <th>AV1YmDL9vKc47QAVgr7_</th>\n",
       "      <td>0.0</td>\n",
       "      <td>0.0</td>\n",
       "      <td>0.0</td>\n",
       "      <td>0.0</td>\n",
       "      <td>0.0</td>\n",
       "      <td>0.0</td>\n",
       "      <td>0.0</td>\n",
       "      <td>0.0</td>\n",
       "      <td>0.0</td>\n",
       "      <td>0.0</td>\n",
       "      <td>...</td>\n",
       "      <td>0.0</td>\n",
       "      <td>0.0</td>\n",
       "      <td>0.0</td>\n",
       "      <td>0.0</td>\n",
       "      <td>0.0</td>\n",
       "      <td>0.0</td>\n",
       "      <td>0.0</td>\n",
       "      <td>0.0</td>\n",
       "      <td>0.0</td>\n",
       "      <td>0.0</td>\n",
       "    </tr>\n",
       "  </tbody>\n",
       "</table>\n",
       "<p>5 rows × 8348 columns</p>\n",
       "</div>"
      ],
      "text/plain": [
       "reviews_username      00dog3  0325home  1234  1234561  123cat123  123charlie  \\\n",
       "id                                                                             \n",
       "AV16khLE-jtxr-f38VFn     0.0       0.0   0.0      0.0        0.0         0.0   \n",
       "AV1YGDqsGV-KLJ3adc-O     0.0       0.0   0.0      0.0        0.0         0.0   \n",
       "AV1YlENIglJLPUi8IHsX     0.0       0.0   0.0      0.0        0.0         0.0   \n",
       "AV1YmBrdGV-KLJ3adewb     0.0       0.0   0.0      0.0        0.0         0.0   \n",
       "AV1YmDL9vKc47QAVgr7_     0.0       0.0   0.0      0.0        0.0         0.0   \n",
       "\n",
       "reviews_username      123numbers  127726  12cass12  1753  ...  zombie  \\\n",
       "id                                                        ...           \n",
       "AV16khLE-jtxr-f38VFn         0.0     0.0       0.0   0.0  ...     0.0   \n",
       "AV1YGDqsGV-KLJ3adc-O         0.0     0.0       0.0   0.0  ...     0.0   \n",
       "AV1YlENIglJLPUi8IHsX         0.0     0.0       0.0   0.0  ...     0.0   \n",
       "AV1YmBrdGV-KLJ3adewb         0.0     0.0       0.0   0.0  ...     0.0   \n",
       "AV1YmDL9vKc47QAVgr7_         0.0     0.0       0.0   0.0  ...     0.0   \n",
       "\n",
       "reviews_username      zombiedad80  zombiegirl22  zotox  zsarah  zubb  \\\n",
       "id                                                                     \n",
       "AV16khLE-jtxr-f38VFn          0.0           0.0    0.0     0.0   0.0   \n",
       "AV1YGDqsGV-KLJ3adc-O          0.0           0.0    0.0     0.0   0.0   \n",
       "AV1YlENIglJLPUi8IHsX          0.0           0.0    0.0     0.0   0.0   \n",
       "AV1YmBrdGV-KLJ3adewb          0.0           0.0    0.0     0.0   0.0   \n",
       "AV1YmDL9vKc47QAVgr7_          0.0           0.0    0.0     0.0   0.0   \n",
       "\n",
       "reviews_username      zulaa118  zxcsdfd  zxjki  zzdiane  \n",
       "id                                                       \n",
       "AV16khLE-jtxr-f38VFn       0.0      0.0    0.0      0.0  \n",
       "AV1YGDqsGV-KLJ3adc-O       0.0      0.0    0.0      0.0  \n",
       "AV1YlENIglJLPUi8IHsX       0.0      0.0    0.0      0.0  \n",
       "AV1YmBrdGV-KLJ3adewb       0.0      0.0    0.0      0.0  \n",
       "AV1YmDL9vKc47QAVgr7_       0.0      0.0    0.0      0.0  \n",
       "\n",
       "[5 rows x 8348 columns]"
      ]
     },
     "execution_count": 145,
     "metadata": {},
     "output_type": "execute_result"
    }
   ],
   "source": [
    "common_item_predicted_ratings.head()"
   ]
  },
  {
   "cell_type": "code",
   "execution_count": 146,
   "metadata": {
    "execution": {
     "iopub.execute_input": "2025-04-27T13:54:12.542746Z",
     "iopub.status.busy": "2025-04-27T13:54:12.542359Z",
     "iopub.status.idle": "2025-04-27T13:54:12.592378Z",
     "shell.execute_reply": "2025-04-27T13:54:12.591744Z",
     "shell.execute_reply.started": "2025-04-27T13:54:12.542701Z"
    },
    "trusted": true
   },
   "outputs": [],
   "source": [
    "common_ = common_item.pivot_table(index='reviews_username', columns='id', values='reviews_rating').T"
   ]
  },
  {
   "cell_type": "code",
   "execution_count": 147,
   "metadata": {
    "execution": {
     "iopub.execute_input": "2025-04-27T13:54:12.593331Z",
     "iopub.status.busy": "2025-04-27T13:54:12.593135Z",
     "iopub.status.idle": "2025-04-27T13:54:12.813215Z",
     "shell.execute_reply": "2025-04-27T13:54:12.812433Z",
     "shell.execute_reply.started": "2025-04-27T13:54:12.593316Z"
    },
    "trusted": true
   },
   "outputs": [
    {
     "name": "stdout",
     "output_type": "stream",
     "text": [
      "MinMaxScaler(feature_range=(1, 5))\n",
      "[[nan nan nan ... nan nan nan]\n",
      " [nan nan nan ... nan nan nan]\n",
      " [nan nan nan ... nan nan nan]\n",
      " ...\n",
      " [nan nan nan ... nan nan nan]\n",
      " [nan nan nan ... nan nan nan]\n",
      " [nan nan nan ... nan nan nan]]\n"
     ]
    },
    {
     "name": "stderr",
     "output_type": "stream",
     "text": [
      "/usr/local/lib/python3.11/dist-packages/sklearn/preprocessing/_data.py:473: RuntimeWarning: All-NaN slice encountered\n",
      "  data_min = np.nanmin(X, axis=0)\n",
      "/usr/local/lib/python3.11/dist-packages/sklearn/preprocessing/_data.py:474: RuntimeWarning: All-NaN slice encountered\n",
      "  data_max = np.nanmax(X, axis=0)\n",
      "/usr/local/lib/python3.11/dist-packages/sklearn/preprocessing/_data.py:114: RuntimeWarning: invalid value encountered in less\n",
      "  constant_mask = scale < 10 * np.finfo(scale.dtype).eps\n"
     ]
    }
   ],
   "source": [
    "X  = common_item_predicted_ratings.copy() \n",
    "X = X[X>0]\n",
    "\n",
    "scaler = MinMaxScaler(feature_range=(1, 5))\n",
    "print(scaler.fit(X))\n",
    "y = (scaler.transform(X))\n",
    "\n",
    "print(y)"
   ]
  },
  {
   "cell_type": "code",
   "execution_count": 148,
   "metadata": {
    "execution": {
     "iopub.execute_input": "2025-04-27T13:54:12.814308Z",
     "iopub.status.busy": "2025-04-27T13:54:12.814091Z",
     "iopub.status.idle": "2025-04-27T13:54:12.820898Z",
     "shell.execute_reply": "2025-04-27T13:54:12.820311Z",
     "shell.execute_reply.started": "2025-04-27T13:54:12.814292Z"
    },
    "trusted": true
   },
   "outputs": [],
   "source": [
    "# Finding total non-NaN value\n",
    "total_non_nan = np.count_nonzero(~np.isnan(y))"
   ]
  },
  {
   "cell_type": "code",
   "execution_count": 149,
   "metadata": {
    "execution": {
     "iopub.execute_input": "2025-04-27T13:54:12.821509Z",
     "iopub.status.busy": "2025-04-27T13:54:12.821336Z",
     "iopub.status.idle": "2025-04-27T13:54:12.863313Z",
     "shell.execute_reply": "2025-04-27T13:54:12.862503Z",
     "shell.execute_reply.started": "2025-04-27T13:54:12.821495Z"
    },
    "trusted": true
   },
   "outputs": [
    {
     "name": "stdout",
     "output_type": "stream",
     "text": [
      "3.5767040528289376\n"
     ]
    },
    {
     "name": "stderr",
     "output_type": "stream",
     "text": [
      "/usr/local/lib/python3.11/dist-packages/numpy/core/fromnumeric.py:86: FutureWarning: The behavior of DataFrame.sum with axis=None is deprecated, in a future version this will reduce over both axes and return a scalar. To retain the old behavior, pass axis=0 (or do not pass axis)\n",
      "  return reduction(axis=axis, out=out, **passkwargs)\n"
     ]
    }
   ],
   "source": [
    "rmse_item = (sum(sum((common_ - y )**2))/total_non_nan)**0.5\n",
    "print(rmse_item)"
   ]
  },
  {
   "cell_type": "code",
   "execution_count": 150,
   "metadata": {
    "execution": {
     "iopub.execute_input": "2025-04-27T13:54:12.864300Z",
     "iopub.status.busy": "2025-04-27T13:54:12.864063Z",
     "iopub.status.idle": "2025-04-27T13:54:12.868326Z",
     "shell.execute_reply": "2025-04-27T13:54:12.867549Z",
     "shell.execute_reply.started": "2025-04-27T13:54:12.864276Z"
    },
    "trusted": true
   },
   "outputs": [
    {
     "name": "stdout",
     "output_type": "stream",
     "text": [
      "RMSE of User based recommendation system:  2.1234843875601426\n",
      "RMSE of Item based recommendation system:  3.5767040528289376\n"
     ]
    }
   ],
   "source": [
    "print(\"RMSE of User based recommendation system: \", rmse)\n",
    "print(\"RMSE of Item based recommendation system: \", rmse_item)"
   ]
  },
  {
   "cell_type": "markdown",
   "metadata": {},
   "source": [
    "#### Therefore the **best recommendation model** using rmse evaluation is- **User based recommendation system** "
   ]
  },
  {
   "cell_type": "markdown",
   "metadata": {},
   "source": [
    "## Building Sentiment based reccomendation model \n",
    "\n",
    "- With logistic regression model for sentiment analysis\n",
    "- With user-based recommendation system"
   ]
  },
  {
   "cell_type": "code",
   "execution_count": 151,
   "metadata": {
    "execution": {
     "iopub.execute_input": "2025-04-27T13:54:12.869843Z",
     "iopub.status.busy": "2025-04-27T13:54:12.869119Z",
     "iopub.status.idle": "2025-04-27T13:54:12.891875Z",
     "shell.execute_reply": "2025-04-27T13:54:12.891155Z",
     "shell.execute_reply.started": "2025-04-27T13:54:12.869813Z"
    },
    "trusted": true
   },
   "outputs": [
    {
     "data": {
      "text/html": [
       "<div>\n",
       "<style scoped>\n",
       "    .dataframe tbody tr th:only-of-type {\n",
       "        vertical-align: middle;\n",
       "    }\n",
       "\n",
       "    .dataframe tbody tr th {\n",
       "        vertical-align: top;\n",
       "    }\n",
       "\n",
       "    .dataframe thead th {\n",
       "        text-align: right;\n",
       "    }\n",
       "</style>\n",
       "<table border=\"1\" class=\"dataframe\">\n",
       "  <thead>\n",
       "    <tr style=\"text-align: right;\">\n",
       "      <th>id</th>\n",
       "      <th>AV13O1A8GV-KLJ3akUyj</th>\n",
       "      <th>AV14LG0R-jtxr-f38QfS</th>\n",
       "      <th>AV16khLE-jtxr-f38VFn</th>\n",
       "      <th>AV1YGDqsGV-KLJ3adc-O</th>\n",
       "      <th>AV1YIch7GV-KLJ3addeG</th>\n",
       "      <th>AV1YlENIglJLPUi8IHsX</th>\n",
       "      <th>AV1YmBrdGV-KLJ3adewb</th>\n",
       "      <th>AV1YmDL9vKc47QAVgr7_</th>\n",
       "      <th>AV1Ymf_rglJLPUi8II2v</th>\n",
       "      <th>AV1Yn94nvKc47QAVgtst</th>\n",
       "      <th>...</th>\n",
       "      <th>AVpfr5cb1cnluZ0-pZFp</th>\n",
       "      <th>AVpfrFDZLJeJML43Bmv0</th>\n",
       "      <th>AVpfrTyiLJeJML43BrSI</th>\n",
       "      <th>AVpfrfHF1cnluZ0-pRai</th>\n",
       "      <th>AVpfrgjFLJeJML43BvCc</th>\n",
       "      <th>AVpfshNsLJeJML43CB8q</th>\n",
       "      <th>AVpfthSailAPnD_xg3ON</th>\n",
       "      <th>AVpftikC1cnluZ0-p31V</th>\n",
       "      <th>AVpfv4TlilAPnD_xhjNS</th>\n",
       "      <th>AVpfvieo1cnluZ0-qdnu</th>\n",
       "    </tr>\n",
       "    <tr>\n",
       "      <th>reviews_username</th>\n",
       "      <th></th>\n",
       "      <th></th>\n",
       "      <th></th>\n",
       "      <th></th>\n",
       "      <th></th>\n",
       "      <th></th>\n",
       "      <th></th>\n",
       "      <th></th>\n",
       "      <th></th>\n",
       "      <th></th>\n",
       "      <th></th>\n",
       "      <th></th>\n",
       "      <th></th>\n",
       "      <th></th>\n",
       "      <th></th>\n",
       "      <th></th>\n",
       "      <th></th>\n",
       "      <th></th>\n",
       "      <th></th>\n",
       "      <th></th>\n",
       "      <th></th>\n",
       "    </tr>\n",
       "  </thead>\n",
       "  <tbody>\n",
       "    <tr>\n",
       "      <th>00sab00</th>\n",
       "      <td>0.0</td>\n",
       "      <td>0.0</td>\n",
       "      <td>0.000000</td>\n",
       "      <td>12.613258</td>\n",
       "      <td>0.0</td>\n",
       "      <td>0.0</td>\n",
       "      <td>0.0</td>\n",
       "      <td>2.542013</td>\n",
       "      <td>0.000000</td>\n",
       "      <td>0.00000</td>\n",
       "      <td>...</td>\n",
       "      <td>2.253035</td>\n",
       "      <td>0.485434</td>\n",
       "      <td>0.0</td>\n",
       "      <td>2.347911</td>\n",
       "      <td>0.000000</td>\n",
       "      <td>0.0</td>\n",
       "      <td>3.135863</td>\n",
       "      <td>2.235665</td>\n",
       "      <td>2.653235</td>\n",
       "      <td>0.000000</td>\n",
       "    </tr>\n",
       "    <tr>\n",
       "      <th>01impala</th>\n",
       "      <td>0.0</td>\n",
       "      <td>0.0</td>\n",
       "      <td>5.475113</td>\n",
       "      <td>26.105455</td>\n",
       "      <td>0.0</td>\n",
       "      <td>0.0</td>\n",
       "      <td>0.0</td>\n",
       "      <td>0.000000</td>\n",
       "      <td>0.000000</td>\n",
       "      <td>1.75277</td>\n",
       "      <td>...</td>\n",
       "      <td>5.895157</td>\n",
       "      <td>3.805217</td>\n",
       "      <td>0.0</td>\n",
       "      <td>0.000000</td>\n",
       "      <td>1.529997</td>\n",
       "      <td>0.0</td>\n",
       "      <td>0.000000</td>\n",
       "      <td>1.593741</td>\n",
       "      <td>0.000000</td>\n",
       "      <td>0.000000</td>\n",
       "    </tr>\n",
       "    <tr>\n",
       "      <th>02dakota</th>\n",
       "      <td>0.0</td>\n",
       "      <td>0.0</td>\n",
       "      <td>5.475113</td>\n",
       "      <td>26.105455</td>\n",
       "      <td>0.0</td>\n",
       "      <td>0.0</td>\n",
       "      <td>0.0</td>\n",
       "      <td>0.000000</td>\n",
       "      <td>0.000000</td>\n",
       "      <td>1.75277</td>\n",
       "      <td>...</td>\n",
       "      <td>5.895157</td>\n",
       "      <td>3.805217</td>\n",
       "      <td>0.0</td>\n",
       "      <td>0.000000</td>\n",
       "      <td>1.529997</td>\n",
       "      <td>0.0</td>\n",
       "      <td>0.000000</td>\n",
       "      <td>1.593741</td>\n",
       "      <td>0.000000</td>\n",
       "      <td>0.000000</td>\n",
       "    </tr>\n",
       "    <tr>\n",
       "      <th>02deuce</th>\n",
       "      <td>0.0</td>\n",
       "      <td>0.0</td>\n",
       "      <td>5.475113</td>\n",
       "      <td>26.105455</td>\n",
       "      <td>0.0</td>\n",
       "      <td>0.0</td>\n",
       "      <td>0.0</td>\n",
       "      <td>0.000000</td>\n",
       "      <td>0.000000</td>\n",
       "      <td>1.75277</td>\n",
       "      <td>...</td>\n",
       "      <td>5.895157</td>\n",
       "      <td>3.805217</td>\n",
       "      <td>0.0</td>\n",
       "      <td>0.000000</td>\n",
       "      <td>1.529997</td>\n",
       "      <td>0.0</td>\n",
       "      <td>0.000000</td>\n",
       "      <td>1.593741</td>\n",
       "      <td>0.000000</td>\n",
       "      <td>0.000000</td>\n",
       "    </tr>\n",
       "    <tr>\n",
       "      <th>06stidriver</th>\n",
       "      <td>0.0</td>\n",
       "      <td>0.0</td>\n",
       "      <td>0.441883</td>\n",
       "      <td>14.576143</td>\n",
       "      <td>0.0</td>\n",
       "      <td>0.0</td>\n",
       "      <td>0.0</td>\n",
       "      <td>6.648202</td>\n",
       "      <td>3.528567</td>\n",
       "      <td>0.00000</td>\n",
       "      <td>...</td>\n",
       "      <td>0.000000</td>\n",
       "      <td>0.000000</td>\n",
       "      <td>0.0</td>\n",
       "      <td>3.528567</td>\n",
       "      <td>0.000000</td>\n",
       "      <td>0.0</td>\n",
       "      <td>2.077788</td>\n",
       "      <td>0.000000</td>\n",
       "      <td>0.000000</td>\n",
       "      <td>2.875364</td>\n",
       "    </tr>\n",
       "  </tbody>\n",
       "</table>\n",
       "<p>5 rows × 255 columns</p>\n",
       "</div>"
      ],
      "text/plain": [
       "id                AV13O1A8GV-KLJ3akUyj  AV14LG0R-jtxr-f38QfS  \\\n",
       "reviews_username                                               \n",
       "00sab00                            0.0                   0.0   \n",
       "01impala                           0.0                   0.0   \n",
       "02dakota                           0.0                   0.0   \n",
       "02deuce                            0.0                   0.0   \n",
       "06stidriver                        0.0                   0.0   \n",
       "\n",
       "id                AV16khLE-jtxr-f38VFn  AV1YGDqsGV-KLJ3adc-O  \\\n",
       "reviews_username                                               \n",
       "00sab00                       0.000000             12.613258   \n",
       "01impala                      5.475113             26.105455   \n",
       "02dakota                      5.475113             26.105455   \n",
       "02deuce                       5.475113             26.105455   \n",
       "06stidriver                   0.441883             14.576143   \n",
       "\n",
       "id                AV1YIch7GV-KLJ3addeG  AV1YlENIglJLPUi8IHsX  \\\n",
       "reviews_username                                               \n",
       "00sab00                            0.0                   0.0   \n",
       "01impala                           0.0                   0.0   \n",
       "02dakota                           0.0                   0.0   \n",
       "02deuce                            0.0                   0.0   \n",
       "06stidriver                        0.0                   0.0   \n",
       "\n",
       "id                AV1YmBrdGV-KLJ3adewb  AV1YmDL9vKc47QAVgr7_  \\\n",
       "reviews_username                                               \n",
       "00sab00                            0.0              2.542013   \n",
       "01impala                           0.0              0.000000   \n",
       "02dakota                           0.0              0.000000   \n",
       "02deuce                            0.0              0.000000   \n",
       "06stidriver                        0.0              6.648202   \n",
       "\n",
       "id                AV1Ymf_rglJLPUi8II2v  AV1Yn94nvKc47QAVgtst  ...  \\\n",
       "reviews_username                                              ...   \n",
       "00sab00                       0.000000               0.00000  ...   \n",
       "01impala                      0.000000               1.75277  ...   \n",
       "02dakota                      0.000000               1.75277  ...   \n",
       "02deuce                       0.000000               1.75277  ...   \n",
       "06stidriver                   3.528567               0.00000  ...   \n",
       "\n",
       "id                AVpfr5cb1cnluZ0-pZFp  AVpfrFDZLJeJML43Bmv0  \\\n",
       "reviews_username                                               \n",
       "00sab00                       2.253035              0.485434   \n",
       "01impala                      5.895157              3.805217   \n",
       "02dakota                      5.895157              3.805217   \n",
       "02deuce                       5.895157              3.805217   \n",
       "06stidriver                   0.000000              0.000000   \n",
       "\n",
       "id                AVpfrTyiLJeJML43BrSI  AVpfrfHF1cnluZ0-pRai  \\\n",
       "reviews_username                                               \n",
       "00sab00                            0.0              2.347911   \n",
       "01impala                           0.0              0.000000   \n",
       "02dakota                           0.0              0.000000   \n",
       "02deuce                            0.0              0.000000   \n",
       "06stidriver                        0.0              3.528567   \n",
       "\n",
       "id                AVpfrgjFLJeJML43BvCc  AVpfshNsLJeJML43CB8q  \\\n",
       "reviews_username                                               \n",
       "00sab00                       0.000000                   0.0   \n",
       "01impala                      1.529997                   0.0   \n",
       "02dakota                      1.529997                   0.0   \n",
       "02deuce                       1.529997                   0.0   \n",
       "06stidriver                   0.000000                   0.0   \n",
       "\n",
       "id                AVpfthSailAPnD_xg3ON  AVpftikC1cnluZ0-p31V  \\\n",
       "reviews_username                                               \n",
       "00sab00                       3.135863              2.235665   \n",
       "01impala                      0.000000              1.593741   \n",
       "02dakota                      0.000000              1.593741   \n",
       "02deuce                       0.000000              1.593741   \n",
       "06stidriver                   2.077788              0.000000   \n",
       "\n",
       "id                AVpfv4TlilAPnD_xhjNS  AVpfvieo1cnluZ0-qdnu  \n",
       "reviews_username                                              \n",
       "00sab00                       2.653235              0.000000  \n",
       "01impala                      0.000000              0.000000  \n",
       "02dakota                      0.000000              0.000000  \n",
       "02deuce                       0.000000              0.000000  \n",
       "06stidriver                   0.000000              2.875364  \n",
       "\n",
       "[5 rows x 255 columns]"
      ]
     },
     "execution_count": 151,
     "metadata": {},
     "output_type": "execute_result"
    }
   ],
   "source": [
    "user_final_rating.head()"
   ]
  },
  {
   "cell_type": "code",
   "execution_count": 154,
   "metadata": {
    "execution": {
     "iopub.execute_input": "2025-04-27T14:22:06.406925Z",
     "iopub.status.busy": "2025-04-27T14:22:06.406320Z",
     "iopub.status.idle": "2025-04-27T14:22:06.413186Z",
     "shell.execute_reply": "2025-04-27T14:22:06.412533Z",
     "shell.execute_reply.started": "2025-04-27T14:22:06.406903Z"
    },
    "trusted": true
   },
   "outputs": [],
   "source": [
    "# Combining both the pipelines- logistic regression and user based product recommendation pipeline\n",
    "def final_sentiment_based_recommendation(user_id):\n",
    "    \n",
    "    # Step 1: Recommend Top 20 Products\n",
    "    \n",
    "    user_input = user_id\n",
    "    search = user_final_rating.loc[user_input].sort_values(ascending=False)[0:20]\n",
    "    search = search.reset_index()\n",
    "    search.columns = ['id', 'Predicted_Score']\n",
    "    \n",
    "    main_df_unique = reco_df.drop_duplicates(subset='id')\n",
    "    merged_df = pd.merge(search, main_df_unique[['id', 'name', 'reviews_rating', 'reviews_username', 'reviews_text']], on='id', how='left')\n",
    "    \n",
    "    # Step 2: Analyze Sentiments for each product\n",
    "    \n",
    "    sentiment_scores = []\n",
    "    \n",
    "    for idx, row in merged_df.iterrows():\n",
    "        review_text = str(row['reviews_text'])\n",
    "        \n",
    "        # Preprocess the review\n",
    "        cleaned_review = preprocess(review_text, stem=False)\n",
    "        \n",
    "        # Vectorize\n",
    "        X_review = vectorizer.transform([cleaned_review])\n",
    "        \n",
    "        # Predict sentiment\n",
    "        predicted_sentiment = Logistic_regression_model.predict(X_review)[0]\n",
    "        \n",
    "        # Optionally, you can assign 1 for Positive, 0 for Negative\n",
    "        sentiment_score = 1 if predicted_sentiment == 'Positive' else 0\n",
    "        sentiment_scores.append(sentiment_score)\n",
    "    \n",
    "    # Add sentiment score to merged_df\n",
    "    merged_df['Sentiment_Score'] = sentiment_scores\n",
    "\n",
    "    # Step 3: Select top 5 Products with best sentiment ---\n",
    "    \n",
    "    final_recommendations = merged_df.sort_values(by=['Sentiment_Score', 'Predicted_Score'], ascending=[False, False]).head(5)\n",
    "    \n",
    "    return final_recommendations[['id', 'name', 'Predicted_Score', 'Sentiment_Score']]\n"
   ]
  },
  {
   "cell_type": "code",
   "execution_count": 159,
   "metadata": {
    "execution": {
     "iopub.execute_input": "2025-04-27T14:28:24.111314Z",
     "iopub.status.busy": "2025-04-27T14:28:24.111007Z",
     "iopub.status.idle": "2025-04-27T14:28:24.232472Z",
     "shell.execute_reply": "2025-04-27T14:28:24.231674Z",
     "shell.execute_reply.started": "2025-04-27T14:28:24.111295Z"
    },
    "trusted": true
   },
   "outputs": [
    {
     "data": {
      "text/html": [
       "<div>\n",
       "<style scoped>\n",
       "    .dataframe tbody tr th:only-of-type {\n",
       "        vertical-align: middle;\n",
       "    }\n",
       "\n",
       "    .dataframe tbody tr th {\n",
       "        vertical-align: top;\n",
       "    }\n",
       "\n",
       "    .dataframe thead th {\n",
       "        text-align: right;\n",
       "    }\n",
       "</style>\n",
       "<table border=\"1\" class=\"dataframe\">\n",
       "  <thead>\n",
       "    <tr style=\"text-align: right;\">\n",
       "      <th></th>\n",
       "      <th>id</th>\n",
       "      <th>name</th>\n",
       "      <th>Predicted_Score</th>\n",
       "      <th>Sentiment_Score</th>\n",
       "    </tr>\n",
       "  </thead>\n",
       "  <tbody>\n",
       "    <tr>\n",
       "      <th>3</th>\n",
       "      <td>AVpe59io1cnluZ0-ZgDU</td>\n",
       "      <td>My Big Fat Greek Wedding 2 (blu-Ray + Dvd + Di...</td>\n",
       "      <td>70.108484</td>\n",
       "      <td>1</td>\n",
       "    </tr>\n",
       "    <tr>\n",
       "      <th>5</th>\n",
       "      <td>AVpf3VOfilAPnD_xjpun</td>\n",
       "      <td>Clorox Disinfecting Wipes Value Pack Scented 1...</td>\n",
       "      <td>63.208355</td>\n",
       "      <td>1</td>\n",
       "    </tr>\n",
       "    <tr>\n",
       "      <th>7</th>\n",
       "      <td>AV1YGDqsGV-KLJ3adc-O</td>\n",
       "      <td>Windex Original Glass Cleaner Refill 67.6oz (2...</td>\n",
       "      <td>26.105455</td>\n",
       "      <td>1</td>\n",
       "    </tr>\n",
       "    <tr>\n",
       "      <th>8</th>\n",
       "      <td>AVpf0thK1cnluZ0-r8vR</td>\n",
       "      <td>100:Complete First Season (blu-Ray)</td>\n",
       "      <td>24.782112</td>\n",
       "      <td>1</td>\n",
       "    </tr>\n",
       "    <tr>\n",
       "      <th>11</th>\n",
       "      <td>AVpf5olc1cnluZ0-tPrO</td>\n",
       "      <td>Chester's Cheese Flavored Puffcorn Snacks</td>\n",
       "      <td>20.095138</td>\n",
       "      <td>1</td>\n",
       "    </tr>\n",
       "  </tbody>\n",
       "</table>\n",
       "</div>"
      ],
      "text/plain": [
       "                      id                                               name  \\\n",
       "3   AVpe59io1cnluZ0-ZgDU  My Big Fat Greek Wedding 2 (blu-Ray + Dvd + Di...   \n",
       "5   AVpf3VOfilAPnD_xjpun  Clorox Disinfecting Wipes Value Pack Scented 1...   \n",
       "7   AV1YGDqsGV-KLJ3adc-O  Windex Original Glass Cleaner Refill 67.6oz (2...   \n",
       "8   AVpf0thK1cnluZ0-r8vR                100:Complete First Season (blu-Ray)   \n",
       "11  AVpf5olc1cnluZ0-tPrO          Chester's Cheese Flavored Puffcorn Snacks   \n",
       "\n",
       "    Predicted_Score  Sentiment_Score  \n",
       "3         70.108484                1  \n",
       "5         63.208355                1  \n",
       "7         26.105455                1  \n",
       "8         24.782112                1  \n",
       "11        20.095138                1  "
      ]
     },
     "execution_count": 159,
     "metadata": {},
     "output_type": "execute_result"
    }
   ],
   "source": [
    "final_recommendations= final_sentiment_based_recommendation(\"02dakota\")\n",
    "final_recommendations"
   ]
  },
  {
   "cell_type": "code",
   "execution_count": 162,
   "metadata": {
    "execution": {
     "iopub.execute_input": "2025-04-27T14:31:22.717402Z",
     "iopub.status.busy": "2025-04-27T14:31:22.717061Z",
     "iopub.status.idle": "2025-04-27T14:31:22.722855Z",
     "shell.execute_reply": "2025-04-27T14:31:22.722284Z",
     "shell.execute_reply.started": "2025-04-27T14:31:22.717380Z"
    },
    "trusted": true
   },
   "outputs": [
    {
     "name": "stdout",
     "output_type": "stream",
     "text": [
      "\n",
      "The top 5 products to recommend based on sentiment and predicted score are:\n",
      "\n",
      "Product Name: My Big Fat Greek Wedding 2 (blu-Ray + Dvd + Digital)\n",
      "Product Name: Clorox Disinfecting Wipes Value Pack Scented 150 Ct Total\n",
      "Product Name: Windex Original Glass Cleaner Refill 67.6oz (2 Liter)\n",
      "Product Name: 100:Complete First Season (blu-Ray)\n",
      "Product Name: Chester's Cheese Flavored Puffcorn Snacks\n"
     ]
    }
   ],
   "source": [
    "print(f\"\\nThe top 5 products to recommend based on sentiment and predicted score are:\\n\")\n",
    "for index, row in final_recommendations.iterrows():\n",
    "    print(f\"Product Name: {row['name']}\")"
   ]
  },
  {
   "cell_type": "markdown",
   "metadata": {},
   "source": [
    "Therefore, we can reccomend the following products to user- 02dakota"
   ]
  }
 ],
 "metadata": {
  "kaggle": {
   "accelerator": "nvidiaTeslaT4",
   "dataSources": [
    {
     "datasetId": 7227236,
     "sourceId": 11523693,
     "sourceType": "datasetVersion"
    }
   ],
   "dockerImageVersionId": 31012,
   "isGpuEnabled": true,
   "isInternetEnabled": true,
   "language": "python",
   "sourceType": "notebook"
  },
  "kernelspec": {
   "display_name": "Python 3",
   "language": "python",
   "name": "python3"
  },
  "language_info": {
   "codemirror_mode": {
    "name": "ipython",
    "version": 3
   },
   "file_extension": ".py",
   "mimetype": "text/x-python",
   "name": "python",
   "nbconvert_exporter": "python",
   "pygments_lexer": "ipython3",
   "version": "3.10.16"
  }
 },
 "nbformat": 4,
 "nbformat_minor": 4
}
